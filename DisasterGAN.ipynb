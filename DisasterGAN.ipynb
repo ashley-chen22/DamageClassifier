{
 "cells": [
  {
   "cell_type": "code",
   "execution_count": 1,
   "id": "19a86d58-bc7c-42e4-ad22-7920b5545649",
   "metadata": {},
   "outputs": [],
   "source": [
    "import os\n",
    "import numpy as np\n",
    "import tifffile as tiff\n",
    "from torchvision import transforms, datasets\n",
    "from torch.utils.data import Dataset, DataLoader\n",
    "import torch\n",
    "import torch.nn as nn\n",
    "import torch.optim as optim\n",
    "import pandas as pd\n",
    "import argparse\n",
    "from types import SimpleNamespace\n",
    "from tqdm import tqdm"
   ]
  },
  {
   "cell_type": "code",
   "execution_count": 2,
   "id": "0eb5d448-213a-4870-8a18-9e5af476013f",
   "metadata": {},
   "outputs": [],
   "source": [
    "class DisasterDataset(Dataset):\n",
    "    def __init__(self, dataframe, img_dir, transform=None):\n",
    "        \"\"\"\n",
    "            dataframe: Pandas DataFrame containing image information (collected in xbd_to_df.ipynb)\n",
    "            img_dir: directory containing the images\n",
    "            transform: optional transform for future use\n",
    "        \"\"\"\n",
    "        self.img_dir = img_dir\n",
    "        self.transform = transform or transforms.Compose([\n",
    "            transforms.Resize((256, 256)),\n",
    "        ])\n",
    "        \n",
    "        # Collapse disaster_type to uniform (taken from image file path)\n",
    "        dataframe[\"disaster_type\"] = dataframe[\"disaster_type\"].replace({\n",
    "            \"michael\": \"hurricane\",\n",
    "            \"harvey\": \"hurricane\",\n",
    "            \"florence\": \"hurricane\",\n",
    "            \"matthew\": \"hurricane\",\n",
    "            \"flooding\": \"hurricane\",\n",
    "            \"wildfire\": \"fire\"\n",
    "        })\n",
    "        \n",
    "        \n",
    "        # Integers mapping for labels\n",
    "        self.disaster_to_idx = {\n",
    "            'pre': 0,\n",
    "            'hurricane': 1,\n",
    "            'fire': 2,\n",
    "            'earthquake': 3,\n",
    "            'tsunami': 4,\n",
    "            'volcano': 5\n",
    "        }\n",
    "        \n",
    "        # Find image pairs of pre and post images with same id\n",
    "        self.pairs = []\n",
    "        processed_ids = set()\n",
    "        \n",
    "        for _, row in dataframe.iterrows():\n",
    "            img_id = row[\"image_id\"]\n",
    "            if img_id in processed_ids:\n",
    "                continue\n",
    "                \n",
    "            pre_img = dataframe[(dataframe[\"image_id\"] == img_id) & (dataframe[\"stage\"] == \"pre\")]\n",
    "            post_img = dataframe[(dataframe[\"image_id\"] == img_id) & (dataframe[\"stage\"] == \"post\")]\n",
    "            \n",
    "            if len(pre_img) > 0 and len(post_img) > 0:\n",
    "                disaster_type = post_img.iloc[0][\"disaster_type\"]\n",
    "                if disaster_type in self.disaster_to_idx:\n",
    "                    self.pairs.append({\n",
    "                        'id': img_id,\n",
    "                        'pre_path': f\"{img_id}_pre_disaster.tif\",\n",
    "                        'post_path': f\"{img_id}_post_disaster.tif\",\n",
    "                        'disaster_type': disaster_type\n",
    "                    })\n",
    "            processed_ids.add(img_id)\n",
    "        \n",
    "        # Total number of disaster types for one-hot encoding\n",
    "        self.num_disaster_types = len(self.disaster_to_idx)\n",
    "    \n",
    "    def __len__(self):\n",
    "        return len(self.pairs)\n",
    "    \n",
    "    def __getitem__(self, idx):\n",
    "        pair = self.pairs[idx]\n",
    "        \n",
    "        pre_path = os.path.join(self.img_dir, pair['pre_path'])\n",
    "        post_path = os.path.join(self.img_dir, pair['post_path'])\n",
    "\n",
    "        pre_img = tiff.imread(pre_path)\n",
    "        post_img = tiff.imread(post_path)\n",
    "        \n",
    "        # Ensure images are HxWxC\n",
    "        pre_img = np.expand_dims(pre_img, axis=-1) if pre_img.ndim == 2 else pre_img\n",
    "        post_img = np.expand_dims(post_img, axis=-1) if post_img.ndim == 2 else post_img\n",
    "        \n",
    "        # Normalize to [0, 1]\n",
    "        pre_img = pre_img.astype(np.float32) / 255.0\n",
    "        post_img = post_img.astype(np.float32) / 255.0\n",
    "        \n",
    "        # torch tensors with CxHxW\n",
    "        pre_img = torch.from_numpy(pre_img).permute(2, 0, 1)\n",
    "        post_img = torch.from_numpy(post_img).permute(2, 0, 1)\n",
    "        \n",
    "        # Apply transforms\n",
    "        if self.transform:\n",
    "            pre_img = self.transform(pre_img)\n",
    "            post_img = self.transform(post_img)\n",
    "        \n",
    "        # one-hot encode label\n",
    "        disaster_idx = self.disaster_to_idx[pair['disaster_type']]\n",
    "        disaster_label = torch.zeros(self.num_disaster_types)\n",
    "        disaster_label[disaster_idx] = 1.0\n",
    "        \n",
    "        return {\n",
    "            'pre_image': pre_img,\n",
    "            'post_image': post_img,\n",
    "            'disaster_type': disaster_label,  # one-hot encoded\n",
    "            'disaster_idx': disaster_idx,     # index\n",
    "            'image_id': pair['id']\n",
    "        } "
   ]
  },
  {
   "cell_type": "code",
   "execution_count": 3,
   "id": "5483b809-ba98-4cdb-9e02-11c8807702d5",
   "metadata": {},
   "outputs": [],
   "source": [
    "class ResidualBlock(nn.Module):\n",
    "    def __init__(self, channels):\n",
    "        super(ResidualBlock, self).__init__()\n",
    "        self.conv_block = nn.Sequential(\n",
    "            nn.Conv2d(channels, channels, kernel_size=3, padding=1, stride=1),\n",
    "            nn.InstanceNorm2d(channels),\n",
    "            nn.ReLU(inplace=True),\n",
    "            nn.Conv2d(channels, channels, kernel_size=3, padding=1, stride=1),\n",
    "            nn.InstanceNorm2d(channels)\n",
    "        )\n",
    "\n",
    "    def forward(self, x):\n",
    "        return x + self.conv_block(x)\n",
    "\n",
    "class Generator(nn.Module):\n",
    "    def __init__(self, input_channels=8):  # 3 for RGB + 5 for disaster label ## CHANGE FOR DIFFERENT LABELING TECHNIQUE\n",
    "        super(Generator, self).__init__()\n",
    "        \n",
    "        # Layer 1\n",
    "        self.layer1 = nn.Sequential(\n",
    "            nn.Conv2d(input_channels, 64, kernel_size=7, padding=3, stride=1),\n",
    "            nn.InstanceNorm2d(64),\n",
    "            nn.ReLU(inplace=True)\n",
    "        )\n",
    "        \n",
    "        # Layer 2\n",
    "        self.layer2 = nn.Sequential(\n",
    "            nn.Conv2d(64, 128, kernel_size=4, padding=1, stride=2),\n",
    "            nn.InstanceNorm2d(128),\n",
    "            nn.ReLU(inplace=True)\n",
    "        )\n",
    "        \n",
    "        # Layer 3\n",
    "        self.layer3 = nn.Sequential(\n",
    "            nn.Conv2d(128, 256, kernel_size=4, padding=1, stride=2),\n",
    "            nn.InstanceNorm2d(256),\n",
    "            nn.ReLU(inplace=True)\n",
    "        )\n",
    "        \n",
    "        # Layers 4-9: Residual blocks\n",
    "        self.residual_blocks = nn.Sequential(\n",
    "            *[ResidualBlock(256) for _ in range(6)]\n",
    "        )\n",
    "        \n",
    "        # Layer 10: Deconv\n",
    "        self.layer10 = nn.Sequential(\n",
    "            nn.ConvTranspose2d(256, 128, kernel_size=4, stride=2, padding=1),\n",
    "            nn.InstanceNorm2d(128),\n",
    "            nn.ReLU(inplace=True)\n",
    "        )\n",
    "        \n",
    "        # Layer 11: Deconv\n",
    "        self.layer11 = nn.Sequential(\n",
    "            nn.ConvTranspose2d(128, 64, kernel_size=4, stride=2, padding=1),\n",
    "            nn.InstanceNorm2d(64),\n",
    "            nn.ReLU(inplace=True)\n",
    "        )\n",
    "        \n",
    "        # Layer 12: Output layer\n",
    "        self.layer12 = nn.Sequential(\n",
    "            nn.Conv2d(64, 3, kernel_size=7, padding=3, stride=1),\n",
    "            nn.Tanh()\n",
    "        )\n",
    "        \n",
    "    def forward(self, x, disaster_label):\n",
    "        # Concatenate the input image with the disaster label\n",
    "        disaster_label = disaster_label.view(disaster_label.size(0), -1, 1, 1)\n",
    "        disaster_label = disaster_label.repeat(1, 1, x.size(2), x.size(3))\n",
    "        x = torch.cat([x, disaster_label], dim=1)\n",
    "\n",
    "        x = self.layer1(x)\n",
    "        x = self.layer2(x)\n",
    "        x = self.layer3(x)\n",
    "        x = self.residual_blocks(x)\n",
    "        x = self.layer10(x)\n",
    "        x = self.layer11(x)\n",
    "        x = self.layer12(x)\n",
    "        \n",
    "        return x \n",
    "\n",
    "class Discriminator(nn.Module):\n",
    "    def __init__(self, num_disaster_types=5): ## CHANGE FOR DIFFERENT LABELING TECHNIQUE\n",
    "        super(Discriminator, self).__init__()\n",
    "        \n",
    "        # Layer 1\n",
    "        self.layer1 = nn.Sequential(\n",
    "            nn.Conv2d(3, 64, kernel_size=4, stride=2, padding=1),\n",
    "            nn.LeakyReLU(0.2, inplace=True)\n",
    "        )\n",
    "        \n",
    "        # Layer 2\n",
    "        self.layer2 = nn.Sequential(\n",
    "            nn.Conv2d(64, 128, kernel_size=4, stride=2, padding=1),\n",
    "            nn.LeakyReLU(0.2, inplace=True)\n",
    "        )\n",
    "        \n",
    "        # Layer 3\n",
    "        self.layer3 = nn.Sequential(\n",
    "            nn.Conv2d(128, 256, kernel_size=4, stride=2, padding=1),\n",
    "            nn.LeakyReLU(0.2, inplace=True)\n",
    "        )\n",
    "        \n",
    "        # Layer 4\n",
    "        self.layer4 = nn.Sequential(\n",
    "            nn.Conv2d(256, 512, kernel_size=4, stride=2, padding=1),\n",
    "            nn.LeakyReLU(0.2, inplace=True)\n",
    "        )\n",
    "        \n",
    "        # Layer 5a - Source prediction (real/fake)\n",
    "        self.source_layer = nn.Sequential(\n",
    "            nn.Conv2d(512, 1, kernel_size=3, stride=1, padding=1)\n",
    "        )\n",
    "        \n",
    "        # Layer 5b - Disaster type classification\n",
    "        self.classification_layer = nn.Sequential(\n",
    "            nn.Conv2d(512, num_disaster_types, kernel_size=4)\n",
    "        )\n",
    "        \n",
    "    def forward(self, x):\n",
    "        x = self.layer1(x)\n",
    "        x = self.layer2(x)\n",
    "        x = self.layer3(x)\n",
    "        features = self.layer4(x)\n",
    "        \n",
    "        # Source prediction\n",
    "        source_pred = self.source_layer(features)\n",
    "        \n",
    "        # Disaster type classification\n",
    "        class_pred = self.classification_layer(features)\n",
    "        class_pred = class_pred.view(class_pred.size(0), -1)\n",
    "        \n",
    "        return source_pred, class_pred "
   ]
  },
  {
   "cell_type": "code",
   "execution_count": 4,
   "id": "612462f0-ac3b-428b-b334-3b69920a4045",
   "metadata": {},
   "outputs": [],
   "source": [
    "class GANLoss(nn.Module):\n",
    "    def __init__(self):\n",
    "        super(GANLoss, self).__init__()\n",
    "        self.register_buffer('real_label', torch.tensor(1.0))\n",
    "        self.register_buffer('fake_label', torch.tensor(0.0))\n",
    "        self.loss = nn.BCEWithLogitsLoss()\n",
    "\n",
    "    def __call__(self, prediction, target_is_real):\n",
    "        target = self.real_label if target_is_real else self.fake_label\n",
    "        target = target.expand_as(prediction)\n",
    "        return self.loss(prediction, target)"
   ]
  },
  {
   "cell_type": "code",
   "execution_count": 5,
   "id": "783fbc35-2160-4aae-a1a3-3b12ff53c1ec",
   "metadata": {},
   "outputs": [],
   "source": [
    "def train(args):\n",
    "    device = torch.device('cuda' if torch.cuda.is_available() else 'cpu')\n",
    "\n",
    "    df = pd.read_csv(args.csv_file)\n",
    "\n",
    "    dataset = DisasterDataset(df, args.img_dir)\n",
    "    dataloader = DataLoader(dataset,\n",
    "                            batch_size=args.batch_size,\n",
    "                            shuffle=True,\n",
    "                            num_workers=4)\n",
    "\n",
    "    # Initialize models\n",
    "    generator = Generator()\n",
    "    discriminator = Discriminator(num_disaster_types=dataset.num_disaster_types)\n",
    "\n",
    "    if torch.cuda.device_count() > 1:\n",
    "        print(f\"Using {torch.cuda.device_count()} GPUs with DataParallel.\")\n",
    "        generator = nn.DataParallel(generator)\n",
    "        discriminator = nn.DataParallel(discriminator)\n",
    "\n",
    "    generator = generator.to(device)\n",
    "    discriminator = discriminator.to(device)\n",
    "\n",
    "    g_optimizer = optim.Adam(generator.parameters(), lr=args.lr, betas=(0.5, 0.999))\n",
    "    d_optimizer = optim.Adam(discriminator.parameters(), lr=args.lr, betas=(0.5, 0.999))\n",
    "\n",
    "    gan_loss = GANLoss().to(device)\n",
    "    cls_loss = nn.CrossEntropyLoss()\n",
    "    rec_loss = nn.L1Loss()\n",
    "\n",
    "    lambda_cls = 1\n",
    "    lambda_rec = 10\n",
    "\n",
    "    # Resume from latest checkpoint if it exists\n",
    "    checkpoint_path = 'checkpoints/DisasterGAN_latest.pth'\n",
    "    start_epoch = 0\n",
    "    if os.path.exists(checkpoint_path):\n",
    "        print(f\"Resuming from {checkpoint_path}...\")\n",
    "        checkpoint = torch.load(checkpoint_path, map_location=device)\n",
    "\n",
    "        if isinstance(generator, nn.DataParallel):\n",
    "            generator.module.load_state_dict(checkpoint['generator_state_dict'])\n",
    "            discriminator.module.load_state_dict(checkpoint['discriminator_state_dict'])\n",
    "        else:\n",
    "            generator.load_state_dict(checkpoint['generator_state_dict'])\n",
    "            discriminator.load_state_dict(checkpoint['discriminator_state_dict'])\n",
    "\n",
    "        g_optimizer.load_state_dict(checkpoint['g_optimizer_state_dict'])\n",
    "        d_optimizer.load_state_dict(checkpoint['d_optimizer_state_dict'])\n",
    "        start_epoch = checkpoint['epoch']\n",
    "        print(f\"Resumed from epoch {start_epoch}\")\n",
    "\n",
    "    for epoch in range(start_epoch, args.epochs):\n",
    "        progress_bar = tqdm(dataloader, desc=f'Epoch {epoch+1}/{args.epochs}')\n",
    "        for batch in progress_bar:\n",
    "            real_images     = batch['post_image'].to(device)\n",
    "            pre_images      = batch['pre_image'].to(device)\n",
    "            disaster_onehot = batch['disaster_type'].to(device)\n",
    "            disaster_idx    = batch['disaster_idx'].to(device)\n",
    "\n",
    "            d_optimizer.zero_grad()\n",
    "            real_src_pred, real_cls_pred = discriminator(real_images)\n",
    "            d_real_src_loss = gan_loss(real_src_pred, True)\n",
    "            d_real_cls_loss = cls_loss(real_cls_pred, disaster_idx)\n",
    "\n",
    "            fake_images = generator(pre_images, disaster_onehot)\n",
    "            fake_src_pred, _ = discriminator(fake_images.detach())\n",
    "            d_fake_src_loss = gan_loss(fake_src_pred, False)\n",
    "\n",
    "            d_loss = -(-d_real_src_loss - d_fake_src_loss) + lambda_cls * d_real_cls_loss\n",
    "            d_loss.backward()\n",
    "            d_optimizer.step()\n",
    "\n",
    "            g_optimizer.zero_grad()\n",
    "            fake_src_pred, fake_cls_pred = discriminator(fake_images)\n",
    "            g_adv_loss = gan_loss(fake_src_pred, True)\n",
    "            g_cls_loss = cls_loss(fake_cls_pred, disaster_idx)\n",
    "\n",
    "            rec_images = generator(fake_images, disaster_onehot)\n",
    "            g_rec_loss = rec_loss(rec_images, real_images)\n",
    "\n",
    "            g_loss = g_adv_loss + lambda_cls * g_cls_loss + lambda_rec * g_rec_loss\n",
    "            g_loss.backward()\n",
    "            g_optimizer.step()\n",
    "\n",
    "            progress_bar.set_postfix({\n",
    "                'D Loss': f'{d_loss.item():.4f}',\n",
    "                'G Loss': f'{g_loss.item():.4f}',\n",
    "                'Rec Loss': f'{g_rec_loss.item():.4f}'\n",
    "            })\n",
    "\n",
    "        # Save model checkpoint\n",
    "        os.makedirs('checkpoints', exist_ok=True)\n",
    "        torch.save({\n",
    "            'epoch': epoch + 1,\n",
    "            'generator_state_dict': generator.module.state_dict() if isinstance(generator, nn.DataParallel) else generator.state_dict(),\n",
    "            'discriminator_state_dict': discriminator.module.state_dict() if isinstance(discriminator, nn.DataParallel) else discriminator.state_dict(),\n",
    "            'g_optimizer_state_dict': g_optimizer.state_dict(),\n",
    "            'd_optimizer_state_dict': d_optimizer.state_dict(),\n",
    "        }, checkpoint_path)\n",
    "\n",
    "        # Save every 15 epoch model checkpoint\n",
    "        if (epoch + 1) % 15 == 0:\n",
    "            extra_path = f'checkpoints/DisasterGAN_epoch{epoch + 1}.pth'\n",
    "            torch.save({\n",
    "                'epoch': epoch + 1,\n",
    "                'generator_state_dict': generator.module.state_dict() if isinstance(generator, nn.DataParallel) else generator.state_dict(),\n",
    "                'discriminator_state_dict': discriminator.module.state_dict() if isinstance(discriminator, nn.DataParallel) else discriminator.state_dict(),\n",
    "                'g_optimizer_state_dict': g_optimizer.state_dict(),\n",
    "                'd_optimizer_state_dict': d_optimizer.state_dict(),\n",
    "            }, extra_path)\n",
    "            print(f\"Additional checkpoint saved at {extra_path}\")\n",
    "\n",
    "        print(f\"Checkpoint saved at epoch {epoch+1}\")"
   ]
  },
  {
   "cell_type": "code",
   "execution_count": 6,
   "id": "f9fa47b9-fdfd-40c0-9a8d-3f675ecbb447",
   "metadata": {
    "scrolled": true
   },
   "outputs": [
    {
     "name": "stdout",
     "output_type": "stream",
     "text": [
      "Using 2 GPUs with DataParallel.\n"
     ]
    },
    {
     "name": "stderr",
     "output_type": "stream",
     "text": [
      "Epoch 1/1000: 100%|██████████████████████████████████████████████████████████████████████████████████████████████████████████████| 88/88 [00:31<00:00,  2.76it/s, D Loss=2.8992, G Loss=2.3349, Rec Loss=0.0951]\n"
     ]
    },
    {
     "name": "stdout",
     "output_type": "stream",
     "text": [
      "Checkpoint saved at epoch 1\n"
     ]
    },
    {
     "name": "stderr",
     "output_type": "stream",
     "text": [
      "Epoch 2/1000: 100%|██████████████████████████████████████████████████████████████████████████████████████████████████████████████| 88/88 [00:31<00:00,  2.80it/s, D Loss=2.7195, G Loss=3.6269, Rec Loss=0.1481]\n"
     ]
    },
    {
     "name": "stdout",
     "output_type": "stream",
     "text": [
      "Checkpoint saved at epoch 2\n"
     ]
    },
    {
     "name": "stderr",
     "output_type": "stream",
     "text": [
      "Epoch 3/1000: 100%|██████████████████████████████████████████████████████████████████████████████████████████████████████████████| 88/88 [00:30<00:00,  2.89it/s, D Loss=3.0437, G Loss=2.2273, Rec Loss=0.1310]\n"
     ]
    },
    {
     "name": "stdout",
     "output_type": "stream",
     "text": [
      "Checkpoint saved at epoch 3\n"
     ]
    },
    {
     "name": "stderr",
     "output_type": "stream",
     "text": [
      "Epoch 4/1000: 100%|██████████████████████████████████████████████████████████████████████████████████████████████████████████████| 88/88 [00:31<00:00,  2.80it/s, D Loss=2.6510, G Loss=2.8548, Rec Loss=0.1205]\n"
     ]
    },
    {
     "name": "stdout",
     "output_type": "stream",
     "text": [
      "Checkpoint saved at epoch 4\n"
     ]
    },
    {
     "name": "stderr",
     "output_type": "stream",
     "text": [
      "Epoch 5/1000: 100%|██████████████████████████████████████████████████████████████████████████████████████████████████████████████| 88/88 [00:34<00:00,  2.58it/s, D Loss=2.8857, G Loss=3.0555, Rec Loss=0.1162]\n"
     ]
    },
    {
     "name": "stdout",
     "output_type": "stream",
     "text": [
      "Checkpoint saved at epoch 5\n"
     ]
    },
    {
     "name": "stderr",
     "output_type": "stream",
     "text": [
      "Epoch 6/1000: 100%|██████████████████████████████████████████████████████████████████████████████████████████████████████████████| 88/88 [00:34<00:00,  2.52it/s, D Loss=2.7291, G Loss=2.6453, Rec Loss=0.1214]\n"
     ]
    },
    {
     "name": "stdout",
     "output_type": "stream",
     "text": [
      "Checkpoint saved at epoch 6\n"
     ]
    },
    {
     "name": "stderr",
     "output_type": "stream",
     "text": [
      "Epoch 7/1000: 100%|██████████████████████████████████████████████████████████████████████████████████████████████████████████████| 88/88 [00:30<00:00,  2.84it/s, D Loss=2.2043, G Loss=8.4532, Rec Loss=0.2762]\n"
     ]
    },
    {
     "name": "stdout",
     "output_type": "stream",
     "text": [
      "Checkpoint saved at epoch 7\n"
     ]
    },
    {
     "name": "stderr",
     "output_type": "stream",
     "text": [
      "Epoch 8/1000: 100%|██████████████████████████████████████████████████████████████████████████████████████████████████████████████| 88/88 [00:31<00:00,  2.84it/s, D Loss=2.2939, G Loss=2.8861, Rec Loss=0.1178]\n"
     ]
    },
    {
     "name": "stdout",
     "output_type": "stream",
     "text": [
      "Checkpoint saved at epoch 8\n"
     ]
    },
    {
     "name": "stderr",
     "output_type": "stream",
     "text": [
      "Epoch 9/1000: 100%|██████████████████████████████████████████████████████████████████████████████████████████████████████████████| 88/88 [00:31<00:00,  2.84it/s, D Loss=3.0839, G Loss=2.5641, Rec Loss=0.1177]\n"
     ]
    },
    {
     "name": "stdout",
     "output_type": "stream",
     "text": [
      "Checkpoint saved at epoch 9\n"
     ]
    },
    {
     "name": "stderr",
     "output_type": "stream",
     "text": [
      "Epoch 10/1000: 100%|█████████████████████████████████████████████████████████████████████████████████████████████████████████████| 88/88 [00:31<00:00,  2.79it/s, D Loss=2.8095, G Loss=1.6314, Rec Loss=0.0949]\n"
     ]
    },
    {
     "name": "stdout",
     "output_type": "stream",
     "text": [
      "Checkpoint saved at epoch 10\n"
     ]
    },
    {
     "name": "stderr",
     "output_type": "stream",
     "text": [
      "Epoch 11/1000: 100%|█████████████████████████████████████████████████████████████████████████████████████████████████████████████| 88/88 [00:31<00:00,  2.80it/s, D Loss=3.0417, G Loss=1.7761, Rec Loss=0.0922]\n"
     ]
    },
    {
     "name": "stdout",
     "output_type": "stream",
     "text": [
      "Checkpoint saved at epoch 11\n"
     ]
    },
    {
     "name": "stderr",
     "output_type": "stream",
     "text": [
      "Epoch 12/1000: 100%|█████████████████████████████████████████████████████████████████████████████████████████████████████████████| 88/88 [00:30<00:00,  2.88it/s, D Loss=3.0007, G Loss=1.6485, Rec Loss=0.0747]\n"
     ]
    },
    {
     "name": "stdout",
     "output_type": "stream",
     "text": [
      "Checkpoint saved at epoch 12\n"
     ]
    },
    {
     "name": "stderr",
     "output_type": "stream",
     "text": [
      "Epoch 13/1000: 100%|█████████████████████████████████████████████████████████████████████████████████████████████████████████████| 88/88 [00:35<00:00,  2.47it/s, D Loss=2.8110, G Loss=1.4090, Rec Loss=0.0721]\n"
     ]
    },
    {
     "name": "stdout",
     "output_type": "stream",
     "text": [
      "Checkpoint saved at epoch 13\n"
     ]
    },
    {
     "name": "stderr",
     "output_type": "stream",
     "text": [
      "Epoch 14/1000: 100%|█████████████████████████████████████████████████████████████████████████████████████████████████████████████| 88/88 [00:30<00:00,  2.90it/s, D Loss=3.1936, G Loss=2.0080, Rec Loss=0.0892]\n"
     ]
    },
    {
     "name": "stdout",
     "output_type": "stream",
     "text": [
      "Checkpoint saved at epoch 14\n"
     ]
    },
    {
     "name": "stderr",
     "output_type": "stream",
     "text": [
      "Epoch 15/1000: 100%|█████████████████████████████████████████████████████████████████████████████████████████████████████████████| 88/88 [00:31<00:00,  2.78it/s, D Loss=3.0899, G Loss=1.6229, Rec Loss=0.0839]\n"
     ]
    },
    {
     "name": "stdout",
     "output_type": "stream",
     "text": [
      "Additional checkpoint saved at checkpoints/DisasterGAN_epoch15.pth\n",
      "Checkpoint saved at epoch 15\n"
     ]
    },
    {
     "name": "stderr",
     "output_type": "stream",
     "text": [
      "Epoch 16/1000: 100%|█████████████████████████████████████████████████████████████████████████████████████████████████████████████| 88/88 [00:31<00:00,  2.79it/s, D Loss=3.0998, G Loss=2.0595, Rec Loss=0.0882]\n"
     ]
    },
    {
     "name": "stdout",
     "output_type": "stream",
     "text": [
      "Checkpoint saved at epoch 16\n"
     ]
    },
    {
     "name": "stderr",
     "output_type": "stream",
     "text": [
      "Epoch 17/1000: 100%|█████████████████████████████████████████████████████████████████████████████████████████████████████████████| 88/88 [00:31<00:00,  2.79it/s, D Loss=3.2182, G Loss=1.7458, Rec Loss=0.0804]\n"
     ]
    },
    {
     "name": "stdout",
     "output_type": "stream",
     "text": [
      "Checkpoint saved at epoch 17\n"
     ]
    },
    {
     "name": "stderr",
     "output_type": "stream",
     "text": [
      "Epoch 18/1000: 100%|█████████████████████████████████████████████████████████████████████████████████████████████████████████████| 88/88 [00:31<00:00,  2.82it/s, D Loss=2.4295, G Loss=1.4061, Rec Loss=0.0675]\n"
     ]
    },
    {
     "name": "stdout",
     "output_type": "stream",
     "text": [
      "Checkpoint saved at epoch 18\n"
     ]
    },
    {
     "name": "stderr",
     "output_type": "stream",
     "text": [
      "Epoch 19/1000: 100%|█████████████████████████████████████████████████████████████████████████████████████████████████████████████| 88/88 [00:30<00:00,  2.87it/s, D Loss=2.4722, G Loss=1.4575, Rec Loss=0.0844]\n"
     ]
    },
    {
     "name": "stdout",
     "output_type": "stream",
     "text": [
      "Checkpoint saved at epoch 19\n"
     ]
    },
    {
     "name": "stderr",
     "output_type": "stream",
     "text": [
      "Epoch 20/1000: 100%|█████████████████████████████████████████████████████████████████████████████████████████████████████████████| 88/88 [00:33<00:00,  2.62it/s, D Loss=3.1709, G Loss=1.5092, Rec Loss=0.0684]\n"
     ]
    },
    {
     "name": "stdout",
     "output_type": "stream",
     "text": [
      "Checkpoint saved at epoch 20\n"
     ]
    },
    {
     "name": "stderr",
     "output_type": "stream",
     "text": [
      "Epoch 21/1000: 100%|█████████████████████████████████████████████████████████████████████████████████████████████████████████████| 88/88 [00:32<00:00,  2.72it/s, D Loss=2.6839, G Loss=1.3794, Rec Loss=0.0726]\n"
     ]
    },
    {
     "name": "stdout",
     "output_type": "stream",
     "text": [
      "Checkpoint saved at epoch 21\n"
     ]
    },
    {
     "name": "stderr",
     "output_type": "stream",
     "text": [
      "Epoch 22/1000: 100%|█████████████████████████████████████████████████████████████████████████████████████████████████████████████| 88/88 [00:32<00:00,  2.68it/s, D Loss=2.3085, G Loss=1.6294, Rec Loss=0.0752]\n"
     ]
    },
    {
     "name": "stdout",
     "output_type": "stream",
     "text": [
      "Checkpoint saved at epoch 22\n"
     ]
    },
    {
     "name": "stderr",
     "output_type": "stream",
     "text": [
      "Epoch 23/1000: 100%|█████████████████████████████████████████████████████████████████████████████████████████████████████████████| 88/88 [00:31<00:00,  2.76it/s, D Loss=2.7074, G Loss=1.5153, Rec Loss=0.0751]\n"
     ]
    },
    {
     "name": "stdout",
     "output_type": "stream",
     "text": [
      "Checkpoint saved at epoch 23\n"
     ]
    },
    {
     "name": "stderr",
     "output_type": "stream",
     "text": [
      "Epoch 24/1000: 100%|█████████████████████████████████████████████████████████████████████████████████████████████████████████████| 88/88 [00:31<00:00,  2.79it/s, D Loss=2.1136, G Loss=3.6698, Rec Loss=0.1178]\n"
     ]
    },
    {
     "name": "stdout",
     "output_type": "stream",
     "text": [
      "Checkpoint saved at epoch 24\n"
     ]
    },
    {
     "name": "stderr",
     "output_type": "stream",
     "text": [
      "Epoch 25/1000: 100%|█████████████████████████████████████████████████████████████████████████████████████████████████████████████| 88/88 [00:31<00:00,  2.79it/s, D Loss=2.4175, G Loss=1.8799, Rec Loss=0.0830]\n"
     ]
    },
    {
     "name": "stdout",
     "output_type": "stream",
     "text": [
      "Checkpoint saved at epoch 25\n"
     ]
    },
    {
     "name": "stderr",
     "output_type": "stream",
     "text": [
      "Epoch 26/1000: 100%|█████████████████████████████████████████████████████████████████████████████████████████████████████████████| 88/88 [00:30<00:00,  2.86it/s, D Loss=2.4307, G Loss=1.4688, Rec Loss=0.0739]\n"
     ]
    },
    {
     "name": "stdout",
     "output_type": "stream",
     "text": [
      "Checkpoint saved at epoch 26\n"
     ]
    },
    {
     "name": "stderr",
     "output_type": "stream",
     "text": [
      "Epoch 27/1000: 100%|█████████████████████████████████████████████████████████████████████████████████████████████████████████████| 88/88 [00:32<00:00,  2.71it/s, D Loss=2.2026, G Loss=1.6683, Rec Loss=0.0724]\n"
     ]
    },
    {
     "name": "stdout",
     "output_type": "stream",
     "text": [
      "Checkpoint saved at epoch 27\n"
     ]
    },
    {
     "name": "stderr",
     "output_type": "stream",
     "text": [
      "Epoch 28/1000: 100%|█████████████████████████████████████████████████████████████████████████████████████████████████████████████| 88/88 [00:30<00:00,  2.88it/s, D Loss=2.6042, G Loss=1.4174, Rec Loss=0.0670]\n"
     ]
    },
    {
     "name": "stdout",
     "output_type": "stream",
     "text": [
      "Checkpoint saved at epoch 28\n"
     ]
    },
    {
     "name": "stderr",
     "output_type": "stream",
     "text": [
      "Epoch 29/1000: 100%|█████████████████████████████████████████████████████████████████████████████████████████████████████████████| 88/88 [00:33<00:00,  2.60it/s, D Loss=2.0882, G Loss=1.4205, Rec Loss=0.0739]\n"
     ]
    },
    {
     "name": "stdout",
     "output_type": "stream",
     "text": [
      "Checkpoint saved at epoch 29\n"
     ]
    },
    {
     "name": "stderr",
     "output_type": "stream",
     "text": [
      "Epoch 30/1000: 100%|█████████████████████████████████████████████████████████████████████████████████████████████████████████████| 88/88 [00:30<00:00,  2.87it/s, D Loss=2.0432, G Loss=1.3435, Rec Loss=0.0591]\n"
     ]
    },
    {
     "name": "stdout",
     "output_type": "stream",
     "text": [
      "Additional checkpoint saved at checkpoints/DisasterGAN_epoch30.pth\n",
      "Checkpoint saved at epoch 30\n"
     ]
    },
    {
     "name": "stderr",
     "output_type": "stream",
     "text": [
      "Epoch 31/1000: 100%|█████████████████████████████████████████████████████████████████████████████████████████████████████████████| 88/88 [00:31<00:00,  2.81it/s, D Loss=1.6878, G Loss=1.3639, Rec Loss=0.0671]\n"
     ]
    },
    {
     "name": "stdout",
     "output_type": "stream",
     "text": [
      "Checkpoint saved at epoch 31\n"
     ]
    },
    {
     "name": "stderr",
     "output_type": "stream",
     "text": [
      "Epoch 32/1000: 100%|█████████████████████████████████████████████████████████████████████████████████████████████████████████████| 88/88 [00:31<00:00,  2.76it/s, D Loss=1.5939, G Loss=1.4310, Rec Loss=0.0685]\n"
     ]
    },
    {
     "name": "stdout",
     "output_type": "stream",
     "text": [
      "Checkpoint saved at epoch 32\n"
     ]
    },
    {
     "name": "stderr",
     "output_type": "stream",
     "text": [
      "Epoch 33/1000: 100%|█████████████████████████████████████████████████████████████████████████████████████████████████████████████| 88/88 [00:33<00:00,  2.63it/s, D Loss=1.7275, G Loss=1.5677, Rec Loss=0.0792]\n"
     ]
    },
    {
     "name": "stdout",
     "output_type": "stream",
     "text": [
      "Checkpoint saved at epoch 33\n"
     ]
    },
    {
     "name": "stderr",
     "output_type": "stream",
     "text": [
      "Epoch 34/1000: 100%|█████████████████████████████████████████████████████████████████████████████████████████████████████████████| 88/88 [00:30<00:00,  2.86it/s, D Loss=1.5672, G Loss=1.6814, Rec Loss=0.0798]\n"
     ]
    },
    {
     "name": "stdout",
     "output_type": "stream",
     "text": [
      "Checkpoint saved at epoch 34\n"
     ]
    },
    {
     "name": "stderr",
     "output_type": "stream",
     "text": [
      "Epoch 35/1000: 100%|█████████████████████████████████████████████████████████████████████████████████████████████████████████████| 88/88 [00:31<00:00,  2.83it/s, D Loss=1.6935, G Loss=1.9170, Rec Loss=0.1021]\n"
     ]
    },
    {
     "name": "stdout",
     "output_type": "stream",
     "text": [
      "Checkpoint saved at epoch 35\n"
     ]
    },
    {
     "name": "stderr",
     "output_type": "stream",
     "text": [
      "Epoch 36/1000: 100%|█████████████████████████████████████████████████████████████████████████████████████████████████████████████| 88/88 [00:31<00:00,  2.83it/s, D Loss=1.5444, G Loss=1.5008, Rec Loss=0.0719]\n"
     ]
    },
    {
     "name": "stdout",
     "output_type": "stream",
     "text": [
      "Checkpoint saved at epoch 36\n"
     ]
    },
    {
     "name": "stderr",
     "output_type": "stream",
     "text": [
      "Epoch 37/1000: 100%|█████████████████████████████████████████████████████████████████████████████████████████████████████████████| 88/88 [00:32<00:00,  2.70it/s, D Loss=1.5643, G Loss=1.5132, Rec Loss=0.0703]\n"
     ]
    },
    {
     "name": "stdout",
     "output_type": "stream",
     "text": [
      "Checkpoint saved at epoch 37\n"
     ]
    },
    {
     "name": "stderr",
     "output_type": "stream",
     "text": [
      "Epoch 38/1000: 100%|█████████████████████████████████████████████████████████████████████████████████████████████████████████████| 88/88 [00:30<00:00,  2.84it/s, D Loss=1.6168, G Loss=1.6836, Rec Loss=0.0782]\n"
     ]
    },
    {
     "name": "stdout",
     "output_type": "stream",
     "text": [
      "Checkpoint saved at epoch 38\n"
     ]
    },
    {
     "name": "stderr",
     "output_type": "stream",
     "text": [
      "Epoch 39/1000: 100%|█████████████████████████████████████████████████████████████████████████████████████████████████████████████| 88/88 [00:31<00:00,  2.79it/s, D Loss=1.4205, G Loss=1.5132, Rec Loss=0.0614]\n"
     ]
    },
    {
     "name": "stdout",
     "output_type": "stream",
     "text": [
      "Checkpoint saved at epoch 39\n"
     ]
    },
    {
     "name": "stderr",
     "output_type": "stream",
     "text": [
      "Epoch 40/1000: 100%|█████████████████████████████████████████████████████████████████████████████████████████████████████████████| 88/88 [00:31<00:00,  2.83it/s, D Loss=1.3410, G Loss=1.6987, Rec Loss=0.0664]\n"
     ]
    },
    {
     "name": "stdout",
     "output_type": "stream",
     "text": [
      "Checkpoint saved at epoch 40\n"
     ]
    },
    {
     "name": "stderr",
     "output_type": "stream",
     "text": [
      "Epoch 41/1000: 100%|█████████████████████████████████████████████████████████████████████████████████████████████████████████████| 88/88 [00:34<00:00,  2.52it/s, D Loss=1.4072, G Loss=1.5535, Rec Loss=0.0788]\n"
     ]
    },
    {
     "name": "stdout",
     "output_type": "stream",
     "text": [
      "Checkpoint saved at epoch 41\n"
     ]
    },
    {
     "name": "stderr",
     "output_type": "stream",
     "text": [
      "Epoch 42/1000: 100%|█████████████████████████████████████████████████████████████████████████████████████████████████████████████| 88/88 [00:31<00:00,  2.82it/s, D Loss=1.2560, G Loss=1.5618, Rec Loss=0.0688]\n"
     ]
    },
    {
     "name": "stdout",
     "output_type": "stream",
     "text": [
      "Checkpoint saved at epoch 42\n"
     ]
    },
    {
     "name": "stderr",
     "output_type": "stream",
     "text": [
      "Epoch 43/1000: 100%|█████████████████████████████████████████████████████████████████████████████████████████████████████████████| 88/88 [00:33<00:00,  2.61it/s, D Loss=1.4745, G Loss=1.5531, Rec Loss=0.0675]\n"
     ]
    },
    {
     "name": "stdout",
     "output_type": "stream",
     "text": [
      "Checkpoint saved at epoch 43\n"
     ]
    },
    {
     "name": "stderr",
     "output_type": "stream",
     "text": [
      "Epoch 44/1000: 100%|█████████████████████████████████████████████████████████████████████████████████████████████████████████████| 88/88 [00:30<00:00,  2.86it/s, D Loss=1.4577, G Loss=1.3777, Rec Loss=0.0664]\n"
     ]
    },
    {
     "name": "stdout",
     "output_type": "stream",
     "text": [
      "Checkpoint saved at epoch 44\n"
     ]
    },
    {
     "name": "stderr",
     "output_type": "stream",
     "text": [
      "Epoch 45/1000: 100%|█████████████████████████████████████████████████████████████████████████████████████████████████████████████| 88/88 [00:30<00:00,  2.87it/s, D Loss=1.4062, G Loss=1.4858, Rec Loss=0.0645]\n"
     ]
    },
    {
     "name": "stdout",
     "output_type": "stream",
     "text": [
      "Additional checkpoint saved at checkpoints/DisasterGAN_epoch45.pth\n",
      "Checkpoint saved at epoch 45\n"
     ]
    },
    {
     "name": "stderr",
     "output_type": "stream",
     "text": [
      "Epoch 46/1000: 100%|█████████████████████████████████████████████████████████████████████████████████████████████████████████████| 88/88 [00:34<00:00,  2.56it/s, D Loss=1.4603, G Loss=1.6522, Rec Loss=0.0725]\n"
     ]
    },
    {
     "name": "stdout",
     "output_type": "stream",
     "text": [
      "Checkpoint saved at epoch 46\n"
     ]
    },
    {
     "name": "stderr",
     "output_type": "stream",
     "text": [
      "Epoch 47/1000: 100%|█████████████████████████████████████████████████████████████████████████████████████████████████████████████| 88/88 [00:32<00:00,  2.72it/s, D Loss=1.5005, G Loss=1.4793, Rec Loss=0.0649]\n"
     ]
    },
    {
     "name": "stdout",
     "output_type": "stream",
     "text": [
      "Checkpoint saved at epoch 47\n"
     ]
    },
    {
     "name": "stderr",
     "output_type": "stream",
     "text": [
      "Epoch 48/1000: 100%|█████████████████████████████████████████████████████████████████████████████████████████████████████████████| 88/88 [00:31<00:00,  2.79it/s, D Loss=1.3049, G Loss=1.4082, Rec Loss=0.0684]\n"
     ]
    },
    {
     "name": "stdout",
     "output_type": "stream",
     "text": [
      "Checkpoint saved at epoch 48\n"
     ]
    },
    {
     "name": "stderr",
     "output_type": "stream",
     "text": [
      "Epoch 49/1000: 100%|█████████████████████████████████████████████████████████████████████████████████████████████████████████████| 88/88 [00:32<00:00,  2.71it/s, D Loss=1.4584, G Loss=1.5971, Rec Loss=0.0822]\n"
     ]
    },
    {
     "name": "stdout",
     "output_type": "stream",
     "text": [
      "Checkpoint saved at epoch 49\n"
     ]
    },
    {
     "name": "stderr",
     "output_type": "stream",
     "text": [
      "Epoch 50/1000: 100%|█████████████████████████████████████████████████████████████████████████████████████████████████████████████| 88/88 [00:33<00:00,  2.66it/s, D Loss=1.4101, G Loss=1.5358, Rec Loss=0.0648]\n"
     ]
    },
    {
     "name": "stdout",
     "output_type": "stream",
     "text": [
      "Checkpoint saved at epoch 50\n"
     ]
    },
    {
     "name": "stderr",
     "output_type": "stream",
     "text": [
      "Epoch 51/1000: 100%|█████████████████████████████████████████████████████████████████████████████████████████████████████████████| 88/88 [00:33<00:00,  2.64it/s, D Loss=1.3792, G Loss=2.0323, Rec Loss=0.1096]\n"
     ]
    },
    {
     "name": "stdout",
     "output_type": "stream",
     "text": [
      "Checkpoint saved at epoch 51\n"
     ]
    },
    {
     "name": "stderr",
     "output_type": "stream",
     "text": [
      "Epoch 52/1000: 100%|█████████████████████████████████████████████████████████████████████████████████████████████████████████████| 88/88 [00:31<00:00,  2.77it/s, D Loss=1.3438, G Loss=1.4681, Rec Loss=0.0652]\n"
     ]
    },
    {
     "name": "stdout",
     "output_type": "stream",
     "text": [
      "Checkpoint saved at epoch 52\n"
     ]
    },
    {
     "name": "stderr",
     "output_type": "stream",
     "text": [
      "Epoch 53/1000: 100%|█████████████████████████████████████████████████████████████████████████████████████████████████████████████| 88/88 [00:33<00:00,  2.63it/s, D Loss=1.5248, G Loss=1.7185, Rec Loss=0.0657]\n"
     ]
    },
    {
     "name": "stdout",
     "output_type": "stream",
     "text": [
      "Checkpoint saved at epoch 53\n"
     ]
    },
    {
     "name": "stderr",
     "output_type": "stream",
     "text": [
      "Epoch 54/1000: 100%|█████████████████████████████████████████████████████████████████████████████████████████████████████████████| 88/88 [00:32<00:00,  2.73it/s, D Loss=1.3704, G Loss=1.6855, Rec Loss=0.0808]\n"
     ]
    },
    {
     "name": "stdout",
     "output_type": "stream",
     "text": [
      "Checkpoint saved at epoch 54\n"
     ]
    },
    {
     "name": "stderr",
     "output_type": "stream",
     "text": [
      "Epoch 55/1000: 100%|█████████████████████████████████████████████████████████████████████████████████████████████████████████████| 88/88 [00:31<00:00,  2.77it/s, D Loss=1.9047, G Loss=1.5048, Rec Loss=0.0754]\n"
     ]
    },
    {
     "name": "stdout",
     "output_type": "stream",
     "text": [
      "Checkpoint saved at epoch 55\n"
     ]
    },
    {
     "name": "stderr",
     "output_type": "stream",
     "text": [
      "Epoch 56/1000: 100%|█████████████████████████████████████████████████████████████████████████████████████████████████████████████| 88/88 [00:32<00:00,  2.74it/s, D Loss=1.9421, G Loss=5.8931, Rec Loss=0.1385]\n"
     ]
    },
    {
     "name": "stdout",
     "output_type": "stream",
     "text": [
      "Checkpoint saved at epoch 56\n"
     ]
    },
    {
     "name": "stderr",
     "output_type": "stream",
     "text": [
      "Epoch 57/1000: 100%|█████████████████████████████████████████████████████████████████████████████████████████████████████████████| 88/88 [00:30<00:00,  2.90it/s, D Loss=1.0728, G Loss=2.7310, Rec Loss=0.1152]\n"
     ]
    },
    {
     "name": "stdout",
     "output_type": "stream",
     "text": [
      "Checkpoint saved at epoch 57\n"
     ]
    },
    {
     "name": "stderr",
     "output_type": "stream",
     "text": [
      "Epoch 58/1000: 100%|█████████████████████████████████████████████████████████████████████████████████████████████████████████████| 88/88 [00:30<00:00,  2.90it/s, D Loss=1.1916, G Loss=3.7377, Rec Loss=0.1180]\n"
     ]
    },
    {
     "name": "stdout",
     "output_type": "stream",
     "text": [
      "Checkpoint saved at epoch 58\n"
     ]
    },
    {
     "name": "stderr",
     "output_type": "stream",
     "text": [
      "Epoch 59/1000: 100%|█████████████████████████████████████████████████████████████████████████████████████████████████████████████| 88/88 [00:30<00:00,  2.86it/s, D Loss=0.7723, G Loss=3.3684, Rec Loss=0.1050]\n"
     ]
    },
    {
     "name": "stdout",
     "output_type": "stream",
     "text": [
      "Checkpoint saved at epoch 59\n"
     ]
    },
    {
     "name": "stderr",
     "output_type": "stream",
     "text": [
      "Epoch 60/1000: 100%|█████████████████████████████████████████████████████████████████████████████████████████████████████████████| 88/88 [00:31<00:00,  2.84it/s, D Loss=1.0743, G Loss=3.0190, Rec Loss=0.1203]\n"
     ]
    },
    {
     "name": "stdout",
     "output_type": "stream",
     "text": [
      "Additional checkpoint saved at checkpoints/DisasterGAN_epoch60.pth\n",
      "Checkpoint saved at epoch 60\n"
     ]
    },
    {
     "name": "stderr",
     "output_type": "stream",
     "text": [
      "Epoch 61/1000: 100%|█████████████████████████████████████████████████████████████████████████████████████████████████████████████| 88/88 [00:30<00:00,  2.90it/s, D Loss=0.8490, G Loss=3.1378, Rec Loss=0.1199]\n"
     ]
    },
    {
     "name": "stdout",
     "output_type": "stream",
     "text": [
      "Checkpoint saved at epoch 61\n"
     ]
    },
    {
     "name": "stderr",
     "output_type": "stream",
     "text": [
      "Epoch 62/1000: 100%|█████████████████████████████████████████████████████████████████████████████████████████████████████████████| 88/88 [00:32<00:00,  2.73it/s, D Loss=1.1080, G Loss=3.8054, Rec Loss=0.1312]\n"
     ]
    },
    {
     "name": "stdout",
     "output_type": "stream",
     "text": [
      "Checkpoint saved at epoch 62\n"
     ]
    },
    {
     "name": "stderr",
     "output_type": "stream",
     "text": [
      "Epoch 63/1000: 100%|█████████████████████████████████████████████████████████████████████████████████████████████████████████████| 88/88 [00:31<00:00,  2.78it/s, D Loss=1.0050, G Loss=3.8657, Rec Loss=0.1155]\n"
     ]
    },
    {
     "name": "stdout",
     "output_type": "stream",
     "text": [
      "Checkpoint saved at epoch 63\n"
     ]
    },
    {
     "name": "stderr",
     "output_type": "stream",
     "text": [
      "Epoch 64/1000: 100%|█████████████████████████████████████████████████████████████████████████████████████████████████████████████| 88/88 [00:33<00:00,  2.65it/s, D Loss=1.0748, G Loss=3.5911, Rec Loss=0.1249]\n"
     ]
    },
    {
     "name": "stdout",
     "output_type": "stream",
     "text": [
      "Checkpoint saved at epoch 64\n"
     ]
    },
    {
     "name": "stderr",
     "output_type": "stream",
     "text": [
      "Epoch 65/1000: 100%|█████████████████████████████████████████████████████████████████████████████████████████████████████████████| 88/88 [00:30<00:00,  2.86it/s, D Loss=0.9560, G Loss=3.1198, Rec Loss=0.1107]\n"
     ]
    },
    {
     "name": "stdout",
     "output_type": "stream",
     "text": [
      "Checkpoint saved at epoch 65\n"
     ]
    },
    {
     "name": "stderr",
     "output_type": "stream",
     "text": [
      "Epoch 66/1000: 100%|█████████████████████████████████████████████████████████████████████████████████████████████████████████████| 88/88 [00:33<00:00,  2.64it/s, D Loss=1.0492, G Loss=3.8029, Rec Loss=0.1031]\n"
     ]
    },
    {
     "name": "stdout",
     "output_type": "stream",
     "text": [
      "Checkpoint saved at epoch 66\n"
     ]
    },
    {
     "name": "stderr",
     "output_type": "stream",
     "text": [
      "Epoch 67/1000: 100%|█████████████████████████████████████████████████████████████████████████████████████████████████████████████| 88/88 [00:32<00:00,  2.67it/s, D Loss=1.4066, G Loss=2.3364, Rec Loss=0.1031]\n"
     ]
    },
    {
     "name": "stdout",
     "output_type": "stream",
     "text": [
      "Checkpoint saved at epoch 67\n"
     ]
    },
    {
     "name": "stderr",
     "output_type": "stream",
     "text": [
      "Epoch 68/1000: 100%|█████████████████████████████████████████████████████████████████████████████████████████████████████████████| 88/88 [00:32<00:00,  2.70it/s, D Loss=1.0734, G Loss=1.8472, Rec Loss=0.0854]\n"
     ]
    },
    {
     "name": "stdout",
     "output_type": "stream",
     "text": [
      "Checkpoint saved at epoch 68\n"
     ]
    },
    {
     "name": "stderr",
     "output_type": "stream",
     "text": [
      "Epoch 69/1000: 100%|█████████████████████████████████████████████████████████████████████████████████████████████████████████████| 88/88 [00:32<00:00,  2.67it/s, D Loss=1.1498, G Loss=2.1024, Rec Loss=0.0886]\n"
     ]
    },
    {
     "name": "stdout",
     "output_type": "stream",
     "text": [
      "Checkpoint saved at epoch 69\n"
     ]
    },
    {
     "name": "stderr",
     "output_type": "stream",
     "text": [
      "Epoch 70/1000: 100%|█████████████████████████████████████████████████████████████████████████████████████████████████████████████| 88/88 [00:31<00:00,  2.80it/s, D Loss=1.5382, G Loss=2.5977, Rec Loss=0.0860]\n"
     ]
    },
    {
     "name": "stdout",
     "output_type": "stream",
     "text": [
      "Checkpoint saved at epoch 70\n"
     ]
    },
    {
     "name": "stderr",
     "output_type": "stream",
     "text": [
      "Epoch 71/1000: 100%|█████████████████████████████████████████████████████████████████████████████████████████████████████████████| 88/88 [00:31<00:00,  2.76it/s, D Loss=1.5305, G Loss=2.3329, Rec Loss=0.0776]\n"
     ]
    },
    {
     "name": "stdout",
     "output_type": "stream",
     "text": [
      "Checkpoint saved at epoch 71\n"
     ]
    },
    {
     "name": "stderr",
     "output_type": "stream",
     "text": [
      "Epoch 72/1000: 100%|█████████████████████████████████████████████████████████████████████████████████████████████████████████████| 88/88 [00:32<00:00,  2.72it/s, D Loss=1.2267, G Loss=1.5752, Rec Loss=0.0677]\n"
     ]
    },
    {
     "name": "stdout",
     "output_type": "stream",
     "text": [
      "Checkpoint saved at epoch 72\n"
     ]
    },
    {
     "name": "stderr",
     "output_type": "stream",
     "text": [
      "Epoch 73/1000: 100%|█████████████████████████████████████████████████████████████████████████████████████████████████████████████| 88/88 [00:33<00:00,  2.64it/s, D Loss=1.2440, G Loss=1.6778, Rec Loss=0.0777]\n"
     ]
    },
    {
     "name": "stdout",
     "output_type": "stream",
     "text": [
      "Checkpoint saved at epoch 73\n"
     ]
    },
    {
     "name": "stderr",
     "output_type": "stream",
     "text": [
      "Epoch 74/1000: 100%|█████████████████████████████████████████████████████████████████████████████████████████████████████████████| 88/88 [00:30<00:00,  2.86it/s, D Loss=1.5293, G Loss=1.4586, Rec Loss=0.0699]\n"
     ]
    },
    {
     "name": "stdout",
     "output_type": "stream",
     "text": [
      "Checkpoint saved at epoch 74\n"
     ]
    },
    {
     "name": "stderr",
     "output_type": "stream",
     "text": [
      "Epoch 75/1000: 100%|█████████████████████████████████████████████████████████████████████████████████████████████████████████████| 88/88 [00:33<00:00,  2.62it/s, D Loss=1.2814, G Loss=1.6623, Rec Loss=0.0686]\n"
     ]
    },
    {
     "name": "stdout",
     "output_type": "stream",
     "text": [
      "Additional checkpoint saved at checkpoints/DisasterGAN_epoch75.pth\n",
      "Checkpoint saved at epoch 75\n"
     ]
    },
    {
     "name": "stderr",
     "output_type": "stream",
     "text": [
      "Epoch 76/1000: 100%|█████████████████████████████████████████████████████████████████████████████████████████████████████████████| 88/88 [00:32<00:00,  2.69it/s, D Loss=1.2155, G Loss=1.6751, Rec Loss=0.0702]\n"
     ]
    },
    {
     "name": "stdout",
     "output_type": "stream",
     "text": [
      "Checkpoint saved at epoch 76\n"
     ]
    },
    {
     "name": "stderr",
     "output_type": "stream",
     "text": [
      "Epoch 77/1000: 100%|█████████████████████████████████████████████████████████████████████████████████████████████████████████████| 88/88 [00:31<00:00,  2.82it/s, D Loss=1.3014, G Loss=1.4181, Rec Loss=0.0614]\n"
     ]
    },
    {
     "name": "stdout",
     "output_type": "stream",
     "text": [
      "Checkpoint saved at epoch 77\n"
     ]
    },
    {
     "name": "stderr",
     "output_type": "stream",
     "text": [
      "Epoch 78/1000: 100%|█████████████████████████████████████████████████████████████████████████████████████████████████████████████| 88/88 [00:31<00:00,  2.78it/s, D Loss=1.3018, G Loss=1.4387, Rec Loss=0.0680]\n"
     ]
    },
    {
     "name": "stdout",
     "output_type": "stream",
     "text": [
      "Checkpoint saved at epoch 78\n"
     ]
    },
    {
     "name": "stderr",
     "output_type": "stream",
     "text": [
      "Epoch 79/1000: 100%|█████████████████████████████████████████████████████████████████████████████████████████████████████████████| 88/88 [00:35<00:00,  2.51it/s, D Loss=1.3209, G Loss=1.6263, Rec Loss=0.0783]\n"
     ]
    },
    {
     "name": "stdout",
     "output_type": "stream",
     "text": [
      "Checkpoint saved at epoch 79\n"
     ]
    },
    {
     "name": "stderr",
     "output_type": "stream",
     "text": [
      "Epoch 80/1000: 100%|█████████████████████████████████████████████████████████████████████████████████████████████████████████████| 88/88 [00:33<00:00,  2.66it/s, D Loss=1.2914, G Loss=1.3985, Rec Loss=0.0636]\n"
     ]
    },
    {
     "name": "stdout",
     "output_type": "stream",
     "text": [
      "Checkpoint saved at epoch 80\n"
     ]
    },
    {
     "name": "stderr",
     "output_type": "stream",
     "text": [
      "Epoch 81/1000: 100%|█████████████████████████████████████████████████████████████████████████████████████████████████████████████| 88/88 [00:29<00:00,  2.94it/s, D Loss=1.2504, G Loss=1.6750, Rec Loss=0.0738]\n"
     ]
    },
    {
     "name": "stdout",
     "output_type": "stream",
     "text": [
      "Checkpoint saved at epoch 81\n"
     ]
    },
    {
     "name": "stderr",
     "output_type": "stream",
     "text": [
      "Epoch 82/1000: 100%|█████████████████████████████████████████████████████████████████████████████████████████████████████████████| 88/88 [00:31<00:00,  2.78it/s, D Loss=1.2582, G Loss=1.5268, Rec Loss=0.0714]\n"
     ]
    },
    {
     "name": "stdout",
     "output_type": "stream",
     "text": [
      "Checkpoint saved at epoch 82\n"
     ]
    },
    {
     "name": "stderr",
     "output_type": "stream",
     "text": [
      "Epoch 83/1000: 100%|█████████████████████████████████████████████████████████████████████████████████████████████████████████████| 88/88 [00:30<00:00,  2.88it/s, D Loss=1.4507, G Loss=1.5440, Rec Loss=0.0721]\n"
     ]
    },
    {
     "name": "stdout",
     "output_type": "stream",
     "text": [
      "Checkpoint saved at epoch 83\n"
     ]
    },
    {
     "name": "stderr",
     "output_type": "stream",
     "text": [
      "Epoch 84/1000: 100%|█████████████████████████████████████████████████████████████████████████████████████████████████████████████| 88/88 [00:32<00:00,  2.71it/s, D Loss=1.1914, G Loss=1.6180, Rec Loss=0.0728]\n"
     ]
    },
    {
     "name": "stdout",
     "output_type": "stream",
     "text": [
      "Checkpoint saved at epoch 84\n"
     ]
    },
    {
     "name": "stderr",
     "output_type": "stream",
     "text": [
      "Epoch 85/1000: 100%|█████████████████████████████████████████████████████████████████████████████████████████████████████████████| 88/88 [00:32<00:00,  2.70it/s, D Loss=1.2297, G Loss=1.4704, Rec Loss=0.0717]\n"
     ]
    },
    {
     "name": "stdout",
     "output_type": "stream",
     "text": [
      "Checkpoint saved at epoch 85\n"
     ]
    },
    {
     "name": "stderr",
     "output_type": "stream",
     "text": [
      "Epoch 86/1000: 100%|█████████████████████████████████████████████████████████████████████████████████████████████████████████████| 88/88 [00:34<00:00,  2.56it/s, D Loss=1.3962, G Loss=1.4541, Rec Loss=0.0606]\n"
     ]
    },
    {
     "name": "stdout",
     "output_type": "stream",
     "text": [
      "Checkpoint saved at epoch 86\n"
     ]
    },
    {
     "name": "stderr",
     "output_type": "stream",
     "text": [
      "Epoch 87/1000: 100%|█████████████████████████████████████████████████████████████████████████████████████████████████████████████| 88/88 [00:32<00:00,  2.71it/s, D Loss=1.3033, G Loss=1.7440, Rec Loss=0.0816]\n"
     ]
    },
    {
     "name": "stdout",
     "output_type": "stream",
     "text": [
      "Checkpoint saved at epoch 87\n"
     ]
    },
    {
     "name": "stderr",
     "output_type": "stream",
     "text": [
      "Epoch 88/1000: 100%|█████████████████████████████████████████████████████████████████████████████████████████████████████████████| 88/88 [00:31<00:00,  2.78it/s, D Loss=1.3476, G Loss=1.5015, Rec Loss=0.0659]\n"
     ]
    },
    {
     "name": "stdout",
     "output_type": "stream",
     "text": [
      "Checkpoint saved at epoch 88\n"
     ]
    },
    {
     "name": "stderr",
     "output_type": "stream",
     "text": [
      "Epoch 89/1000: 100%|█████████████████████████████████████████████████████████████████████████████████████████████████████████████| 88/88 [00:31<00:00,  2.83it/s, D Loss=1.3715, G Loss=1.4704, Rec Loss=0.0646]\n"
     ]
    },
    {
     "name": "stdout",
     "output_type": "stream",
     "text": [
      "Checkpoint saved at epoch 89\n"
     ]
    },
    {
     "name": "stderr",
     "output_type": "stream",
     "text": [
      "Epoch 90/1000: 100%|█████████████████████████████████████████████████████████████████████████████████████████████████████████████| 88/88 [00:30<00:00,  2.86it/s, D Loss=1.3641, G Loss=1.4879, Rec Loss=0.0643]\n"
     ]
    },
    {
     "name": "stdout",
     "output_type": "stream",
     "text": [
      "Additional checkpoint saved at checkpoints/DisasterGAN_epoch90.pth\n",
      "Checkpoint saved at epoch 90\n"
     ]
    },
    {
     "name": "stderr",
     "output_type": "stream",
     "text": [
      "Epoch 91/1000: 100%|█████████████████████████████████████████████████████████████████████████████████████████████████████████████| 88/88 [00:31<00:00,  2.76it/s, D Loss=1.2637, G Loss=1.6609, Rec Loss=0.0684]\n"
     ]
    },
    {
     "name": "stdout",
     "output_type": "stream",
     "text": [
      "Checkpoint saved at epoch 91\n"
     ]
    },
    {
     "name": "stderr",
     "output_type": "stream",
     "text": [
      "Epoch 92/1000: 100%|█████████████████████████████████████████████████████████████████████████████████████████████████████████████| 88/88 [00:30<00:00,  2.87it/s, D Loss=1.3006, G Loss=1.5214, Rec Loss=0.0762]\n"
     ]
    },
    {
     "name": "stdout",
     "output_type": "stream",
     "text": [
      "Checkpoint saved at epoch 92\n"
     ]
    },
    {
     "name": "stderr",
     "output_type": "stream",
     "text": [
      "Epoch 93/1000: 100%|█████████████████████████████████████████████████████████████████████████████████████████████████████████████| 88/88 [00:30<00:00,  2.87it/s, D Loss=1.2427, G Loss=1.5938, Rec Loss=0.0734]\n"
     ]
    },
    {
     "name": "stdout",
     "output_type": "stream",
     "text": [
      "Checkpoint saved at epoch 93\n"
     ]
    },
    {
     "name": "stderr",
     "output_type": "stream",
     "text": [
      "Epoch 94/1000: 100%|█████████████████████████████████████████████████████████████████████████████████████████████████████████████| 88/88 [00:31<00:00,  2.78it/s, D Loss=1.3742, G Loss=1.5431, Rec Loss=0.0737]\n"
     ]
    },
    {
     "name": "stdout",
     "output_type": "stream",
     "text": [
      "Checkpoint saved at epoch 94\n"
     ]
    },
    {
     "name": "stderr",
     "output_type": "stream",
     "text": [
      "Epoch 95/1000: 100%|█████████████████████████████████████████████████████████████████████████████████████████████████████████████| 88/88 [00:32<00:00,  2.75it/s, D Loss=1.3295, G Loss=1.7524, Rec Loss=0.0662]\n"
     ]
    },
    {
     "name": "stdout",
     "output_type": "stream",
     "text": [
      "Checkpoint saved at epoch 95\n"
     ]
    },
    {
     "name": "stderr",
     "output_type": "stream",
     "text": [
      "Epoch 96/1000: 100%|█████████████████████████████████████████████████████████████████████████████████████████████████████████████| 88/88 [00:34<00:00,  2.52it/s, D Loss=1.3372, G Loss=1.8165, Rec Loss=0.0831]\n"
     ]
    },
    {
     "name": "stdout",
     "output_type": "stream",
     "text": [
      "Checkpoint saved at epoch 96\n"
     ]
    },
    {
     "name": "stderr",
     "output_type": "stream",
     "text": [
      "Epoch 97/1000: 100%|█████████████████████████████████████████████████████████████████████████████████████████████████████████████| 88/88 [00:32<00:00,  2.69it/s, D Loss=1.2705, G Loss=1.6618, Rec Loss=0.0724]\n"
     ]
    },
    {
     "name": "stdout",
     "output_type": "stream",
     "text": [
      "Checkpoint saved at epoch 97\n"
     ]
    },
    {
     "name": "stderr",
     "output_type": "stream",
     "text": [
      "Epoch 98/1000: 100%|█████████████████████████████████████████████████████████████████████████████████████████████████████████████| 88/88 [00:30<00:00,  2.87it/s, D Loss=1.2279, G Loss=1.5725, Rec Loss=0.0654]\n"
     ]
    },
    {
     "name": "stdout",
     "output_type": "stream",
     "text": [
      "Checkpoint saved at epoch 98\n"
     ]
    },
    {
     "name": "stderr",
     "output_type": "stream",
     "text": [
      "Epoch 99/1000: 100%|█████████████████████████████████████████████████████████████████████████████████████████████████████████████| 88/88 [00:31<00:00,  2.81it/s, D Loss=1.2956, G Loss=1.7752, Rec Loss=0.0870]\n"
     ]
    },
    {
     "name": "stdout",
     "output_type": "stream",
     "text": [
      "Checkpoint saved at epoch 99\n"
     ]
    },
    {
     "name": "stderr",
     "output_type": "stream",
     "text": [
      "Epoch 100/1000: 100%|████████████████████████████████████████████████████████████████████████████████████████████████████████████| 88/88 [00:30<00:00,  2.85it/s, D Loss=1.2641, G Loss=1.6295, Rec Loss=0.0724]\n"
     ]
    },
    {
     "name": "stdout",
     "output_type": "stream",
     "text": [
      "Checkpoint saved at epoch 100\n"
     ]
    },
    {
     "name": "stderr",
     "output_type": "stream",
     "text": [
      "Epoch 101/1000: 100%|████████████████████████████████████████████████████████████████████████████████████████████████████████████| 88/88 [00:32<00:00,  2.75it/s, D Loss=1.3510, G Loss=1.6509, Rec Loss=0.0687]\n"
     ]
    },
    {
     "name": "stdout",
     "output_type": "stream",
     "text": [
      "Checkpoint saved at epoch 101\n"
     ]
    },
    {
     "name": "stderr",
     "output_type": "stream",
     "text": [
      "Epoch 102/1000: 100%|████████████████████████████████████████████████████████████████████████████████████████████████████████████| 88/88 [00:32<00:00,  2.75it/s, D Loss=1.4167, G Loss=2.1123, Rec Loss=0.0841]\n"
     ]
    },
    {
     "name": "stdout",
     "output_type": "stream",
     "text": [
      "Checkpoint saved at epoch 102\n"
     ]
    },
    {
     "name": "stderr",
     "output_type": "stream",
     "text": [
      "Epoch 103/1000: 100%|████████████████████████████████████████████████████████████████████████████████████████████████████████████| 88/88 [00:30<00:00,  2.86it/s, D Loss=1.3238, G Loss=1.4342, Rec Loss=0.0582]\n"
     ]
    },
    {
     "name": "stdout",
     "output_type": "stream",
     "text": [
      "Checkpoint saved at epoch 103\n"
     ]
    },
    {
     "name": "stderr",
     "output_type": "stream",
     "text": [
      "Epoch 104/1000: 100%|████████████████████████████████████████████████████████████████████████████████████████████████████████████| 88/88 [00:33<00:00,  2.64it/s, D Loss=1.2824, G Loss=1.8046, Rec Loss=0.0814]\n"
     ]
    },
    {
     "name": "stdout",
     "output_type": "stream",
     "text": [
      "Checkpoint saved at epoch 104\n"
     ]
    },
    {
     "name": "stderr",
     "output_type": "stream",
     "text": [
      "Epoch 105/1000: 100%|████████████████████████████████████████████████████████████████████████████████████████████████████████████| 88/88 [00:32<00:00,  2.72it/s, D Loss=1.2347, G Loss=1.4701, Rec Loss=0.0560]\n"
     ]
    },
    {
     "name": "stdout",
     "output_type": "stream",
     "text": [
      "Additional checkpoint saved at checkpoints/DisasterGAN_epoch105.pth\n",
      "Checkpoint saved at epoch 105\n"
     ]
    },
    {
     "name": "stderr",
     "output_type": "stream",
     "text": [
      "Epoch 106/1000: 100%|████████████████████████████████████████████████████████████████████████████████████████████████████████████| 88/88 [00:32<00:00,  2.70it/s, D Loss=1.2803, G Loss=1.6677, Rec Loss=0.0694]\n"
     ]
    },
    {
     "name": "stdout",
     "output_type": "stream",
     "text": [
      "Checkpoint saved at epoch 106\n"
     ]
    },
    {
     "name": "stderr",
     "output_type": "stream",
     "text": [
      "Epoch 107/1000: 100%|████████████████████████████████████████████████████████████████████████████████████████████████████████████| 88/88 [00:30<00:00,  2.92it/s, D Loss=1.2836, G Loss=1.6149, Rec Loss=0.0811]\n"
     ]
    },
    {
     "name": "stdout",
     "output_type": "stream",
     "text": [
      "Checkpoint saved at epoch 107\n"
     ]
    },
    {
     "name": "stderr",
     "output_type": "stream",
     "text": [
      "Epoch 108/1000: 100%|████████████████████████████████████████████████████████████████████████████████████████████████████████████| 88/88 [00:32<00:00,  2.72it/s, D Loss=1.2977, G Loss=1.6809, Rec Loss=0.0763]\n"
     ]
    },
    {
     "name": "stdout",
     "output_type": "stream",
     "text": [
      "Checkpoint saved at epoch 108\n"
     ]
    },
    {
     "name": "stderr",
     "output_type": "stream",
     "text": [
      "Epoch 109/1000: 100%|████████████████████████████████████████████████████████████████████████████████████████████████████████████| 88/88 [00:31<00:00,  2.79it/s, D Loss=1.2824, G Loss=1.7129, Rec Loss=0.0740]\n"
     ]
    },
    {
     "name": "stdout",
     "output_type": "stream",
     "text": [
      "Checkpoint saved at epoch 109\n"
     ]
    },
    {
     "name": "stderr",
     "output_type": "stream",
     "text": [
      "Epoch 110/1000: 100%|████████████████████████████████████████████████████████████████████████████████████████████████████████████| 88/88 [00:31<00:00,  2.77it/s, D Loss=1.2145, G Loss=1.6214, Rec Loss=0.0689]\n"
     ]
    },
    {
     "name": "stdout",
     "output_type": "stream",
     "text": [
      "Checkpoint saved at epoch 110\n"
     ]
    },
    {
     "name": "stderr",
     "output_type": "stream",
     "text": [
      "Epoch 111/1000: 100%|████████████████████████████████████████████████████████████████████████████████████████████████████████████| 88/88 [00:33<00:00,  2.59it/s, D Loss=1.3103, G Loss=1.5067, Rec Loss=0.0703]\n"
     ]
    },
    {
     "name": "stdout",
     "output_type": "stream",
     "text": [
      "Checkpoint saved at epoch 111\n"
     ]
    },
    {
     "name": "stderr",
     "output_type": "stream",
     "text": [
      "Epoch 112/1000: 100%|████████████████████████████████████████████████████████████████████████████████████████████████████████████| 88/88 [00:31<00:00,  2.79it/s, D Loss=1.2999, G Loss=1.6142, Rec Loss=0.0690]\n"
     ]
    },
    {
     "name": "stdout",
     "output_type": "stream",
     "text": [
      "Checkpoint saved at epoch 112\n"
     ]
    },
    {
     "name": "stderr",
     "output_type": "stream",
     "text": [
      "Epoch 113/1000: 100%|████████████████████████████████████████████████████████████████████████████████████████████████████████████| 88/88 [00:31<00:00,  2.77it/s, D Loss=1.2310, G Loss=1.5965, Rec Loss=0.0649]\n"
     ]
    },
    {
     "name": "stdout",
     "output_type": "stream",
     "text": [
      "Checkpoint saved at epoch 113\n"
     ]
    },
    {
     "name": "stderr",
     "output_type": "stream",
     "text": [
      "Epoch 114/1000: 100%|████████████████████████████████████████████████████████████████████████████████████████████████████████████| 88/88 [00:30<00:00,  2.93it/s, D Loss=1.3848, G Loss=1.4943, Rec Loss=0.0756]\n"
     ]
    },
    {
     "name": "stdout",
     "output_type": "stream",
     "text": [
      "Checkpoint saved at epoch 114\n"
     ]
    },
    {
     "name": "stderr",
     "output_type": "stream",
     "text": [
      "Epoch 115/1000: 100%|████████████████████████████████████████████████████████████████████████████████████████████████████████████| 88/88 [00:33<00:00,  2.62it/s, D Loss=1.1923, G Loss=1.6555, Rec Loss=0.0590]\n"
     ]
    },
    {
     "name": "stdout",
     "output_type": "stream",
     "text": [
      "Checkpoint saved at epoch 115\n"
     ]
    },
    {
     "name": "stderr",
     "output_type": "stream",
     "text": [
      "Epoch 116/1000: 100%|████████████████████████████████████████████████████████████████████████████████████████████████████████████| 88/88 [00:30<00:00,  2.86it/s, D Loss=1.2694, G Loss=1.7085, Rec Loss=0.0758]\n"
     ]
    },
    {
     "name": "stdout",
     "output_type": "stream",
     "text": [
      "Checkpoint saved at epoch 116\n"
     ]
    },
    {
     "name": "stderr",
     "output_type": "stream",
     "text": [
      "Epoch 117/1000: 100%|████████████████████████████████████████████████████████████████████████████████████████████████████████████| 88/88 [00:31<00:00,  2.84it/s, D Loss=1.3899, G Loss=1.7777, Rec Loss=0.0698]\n"
     ]
    },
    {
     "name": "stdout",
     "output_type": "stream",
     "text": [
      "Checkpoint saved at epoch 117\n"
     ]
    },
    {
     "name": "stderr",
     "output_type": "stream",
     "text": [
      "Epoch 118/1000: 100%|████████████████████████████████████████████████████████████████████████████████████████████████████████████| 88/88 [00:32<00:00,  2.71it/s, D Loss=1.2019, G Loss=1.8376, Rec Loss=0.0742]\n"
     ]
    },
    {
     "name": "stdout",
     "output_type": "stream",
     "text": [
      "Checkpoint saved at epoch 118\n"
     ]
    },
    {
     "name": "stderr",
     "output_type": "stream",
     "text": [
      "Epoch 119/1000: 100%|████████████████████████████████████████████████████████████████████████████████████████████████████████████| 88/88 [00:31<00:00,  2.82it/s, D Loss=1.2443, G Loss=1.9663, Rec Loss=0.0770]\n"
     ]
    },
    {
     "name": "stdout",
     "output_type": "stream",
     "text": [
      "Checkpoint saved at epoch 119\n"
     ]
    },
    {
     "name": "stderr",
     "output_type": "stream",
     "text": [
      "Epoch 120/1000: 100%|████████████████████████████████████████████████████████████████████████████████████████████████████████████| 88/88 [00:32<00:00,  2.75it/s, D Loss=1.2904, G Loss=1.5506, Rec Loss=0.0670]\n"
     ]
    },
    {
     "name": "stdout",
     "output_type": "stream",
     "text": [
      "Additional checkpoint saved at checkpoints/DisasterGAN_epoch120.pth\n",
      "Checkpoint saved at epoch 120\n"
     ]
    },
    {
     "name": "stderr",
     "output_type": "stream",
     "text": [
      "Epoch 121/1000: 100%|████████████████████████████████████████████████████████████████████████████████████████████████████████████| 88/88 [00:30<00:00,  2.85it/s, D Loss=1.2911, G Loss=1.5224, Rec Loss=0.0622]\n"
     ]
    },
    {
     "name": "stdout",
     "output_type": "stream",
     "text": [
      "Checkpoint saved at epoch 121\n"
     ]
    },
    {
     "name": "stderr",
     "output_type": "stream",
     "text": [
      "Epoch 122/1000: 100%|████████████████████████████████████████████████████████████████████████████████████████████████████████████| 88/88 [00:32<00:00,  2.71it/s, D Loss=1.3081, G Loss=1.4753, Rec Loss=0.0584]\n"
     ]
    },
    {
     "name": "stdout",
     "output_type": "stream",
     "text": [
      "Checkpoint saved at epoch 122\n"
     ]
    },
    {
     "name": "stderr",
     "output_type": "stream",
     "text": [
      "Epoch 123/1000: 100%|████████████████████████████████████████████████████████████████████████████████████████████████████████████| 88/88 [00:31<00:00,  2.82it/s, D Loss=1.2382, G Loss=1.6885, Rec Loss=0.0671]\n"
     ]
    },
    {
     "name": "stdout",
     "output_type": "stream",
     "text": [
      "Checkpoint saved at epoch 123\n"
     ]
    },
    {
     "name": "stderr",
     "output_type": "stream",
     "text": [
      "Epoch 124/1000: 100%|████████████████████████████████████████████████████████████████████████████████████████████████████████████| 88/88 [00:32<00:00,  2.73it/s, D Loss=1.3946, G Loss=1.7024, Rec Loss=0.0818]\n"
     ]
    },
    {
     "name": "stdout",
     "output_type": "stream",
     "text": [
      "Checkpoint saved at epoch 124\n"
     ]
    },
    {
     "name": "stderr",
     "output_type": "stream",
     "text": [
      "Epoch 125/1000: 100%|████████████████████████████████████████████████████████████████████████████████████████████████████████████| 88/88 [00:33<00:00,  2.62it/s, D Loss=1.3413, G Loss=1.8026, Rec Loss=0.0785]\n"
     ]
    },
    {
     "name": "stdout",
     "output_type": "stream",
     "text": [
      "Checkpoint saved at epoch 125\n"
     ]
    },
    {
     "name": "stderr",
     "output_type": "stream",
     "text": [
      "Epoch 126/1000: 100%|████████████████████████████████████████████████████████████████████████████████████████████████████████████| 88/88 [00:31<00:00,  2.77it/s, D Loss=1.1735, G Loss=1.7484, Rec Loss=0.0643]\n"
     ]
    },
    {
     "name": "stdout",
     "output_type": "stream",
     "text": [
      "Checkpoint saved at epoch 126\n"
     ]
    },
    {
     "name": "stderr",
     "output_type": "stream",
     "text": [
      "Epoch 127/1000: 100%|████████████████████████████████████████████████████████████████████████████████████████████████████████████| 88/88 [00:31<00:00,  2.84it/s, D Loss=1.2782, G Loss=1.5372, Rec Loss=0.0693]\n"
     ]
    },
    {
     "name": "stdout",
     "output_type": "stream",
     "text": [
      "Checkpoint saved at epoch 127\n"
     ]
    },
    {
     "name": "stderr",
     "output_type": "stream",
     "text": [
      "Epoch 128/1000: 100%|████████████████████████████████████████████████████████████████████████████████████████████████████████████| 88/88 [00:31<00:00,  2.82it/s, D Loss=1.3493, G Loss=1.5030, Rec Loss=0.0635]\n"
     ]
    },
    {
     "name": "stdout",
     "output_type": "stream",
     "text": [
      "Checkpoint saved at epoch 128\n"
     ]
    },
    {
     "name": "stderr",
     "output_type": "stream",
     "text": [
      "Epoch 129/1000: 100%|████████████████████████████████████████████████████████████████████████████████████████████████████████████| 88/88 [00:33<00:00,  2.62it/s, D Loss=1.3548, G Loss=1.9220, Rec Loss=0.0722]\n"
     ]
    },
    {
     "name": "stdout",
     "output_type": "stream",
     "text": [
      "Checkpoint saved at epoch 129\n"
     ]
    },
    {
     "name": "stderr",
     "output_type": "stream",
     "text": [
      "Epoch 130/1000: 100%|████████████████████████████████████████████████████████████████████████████████████████████████████████████| 88/88 [00:31<00:00,  2.83it/s, D Loss=1.3536, G Loss=1.8359, Rec Loss=0.0880]\n"
     ]
    },
    {
     "name": "stdout",
     "output_type": "stream",
     "text": [
      "Checkpoint saved at epoch 130\n"
     ]
    },
    {
     "name": "stderr",
     "output_type": "stream",
     "text": [
      "Epoch 131/1000: 100%|████████████████████████████████████████████████████████████████████████████████████████████████████████████| 88/88 [00:32<00:00,  2.70it/s, D Loss=1.4965, G Loss=1.8180, Rec Loss=0.0725]\n"
     ]
    },
    {
     "name": "stdout",
     "output_type": "stream",
     "text": [
      "Checkpoint saved at epoch 131\n"
     ]
    },
    {
     "name": "stderr",
     "output_type": "stream",
     "text": [
      "Epoch 132/1000: 100%|████████████████████████████████████████████████████████████████████████████████████████████████████████████| 88/88 [00:34<00:00,  2.54it/s, D Loss=1.2779, G Loss=1.5553, Rec Loss=0.0668]\n"
     ]
    },
    {
     "name": "stdout",
     "output_type": "stream",
     "text": [
      "Checkpoint saved at epoch 132\n"
     ]
    },
    {
     "name": "stderr",
     "output_type": "stream",
     "text": [
      "Epoch 133/1000: 100%|████████████████████████████████████████████████████████████████████████████████████████████████████████████| 88/88 [00:32<00:00,  2.71it/s, D Loss=1.3139, G Loss=1.6508, Rec Loss=0.0660]\n"
     ]
    },
    {
     "name": "stdout",
     "output_type": "stream",
     "text": [
      "Checkpoint saved at epoch 133\n"
     ]
    },
    {
     "name": "stderr",
     "output_type": "stream",
     "text": [
      "Epoch 134/1000: 100%|████████████████████████████████████████████████████████████████████████████████████████████████████████████| 88/88 [00:33<00:00,  2.62it/s, D Loss=1.1794, G Loss=1.8545, Rec Loss=0.0555]\n"
     ]
    },
    {
     "name": "stdout",
     "output_type": "stream",
     "text": [
      "Checkpoint saved at epoch 134\n"
     ]
    },
    {
     "name": "stderr",
     "output_type": "stream",
     "text": [
      "Epoch 135/1000: 100%|████████████████████████████████████████████████████████████████████████████████████████████████████████████| 88/88 [00:30<00:00,  2.85it/s, D Loss=1.2449, G Loss=1.5361, Rec Loss=0.0614]\n"
     ]
    },
    {
     "name": "stdout",
     "output_type": "stream",
     "text": [
      "Additional checkpoint saved at checkpoints/DisasterGAN_epoch135.pth\n",
      "Checkpoint saved at epoch 135\n"
     ]
    },
    {
     "name": "stderr",
     "output_type": "stream",
     "text": [
      "Epoch 136/1000: 100%|████████████████████████████████████████████████████████████████████████████████████████████████████████████| 88/88 [00:31<00:00,  2.76it/s, D Loss=1.2177, G Loss=1.6290, Rec Loss=0.0619]\n"
     ]
    },
    {
     "name": "stdout",
     "output_type": "stream",
     "text": [
      "Checkpoint saved at epoch 136\n"
     ]
    },
    {
     "name": "stderr",
     "output_type": "stream",
     "text": [
      "Epoch 137/1000: 100%|████████████████████████████████████████████████████████████████████████████████████████████████████████████| 88/88 [00:31<00:00,  2.75it/s, D Loss=1.3024, G Loss=1.5299, Rec Loss=0.0559]\n"
     ]
    },
    {
     "name": "stdout",
     "output_type": "stream",
     "text": [
      "Checkpoint saved at epoch 137\n"
     ]
    },
    {
     "name": "stderr",
     "output_type": "stream",
     "text": [
      "Epoch 138/1000: 100%|████████████████████████████████████████████████████████████████████████████████████████████████████████████| 88/88 [00:31<00:00,  2.78it/s, D Loss=1.3085, G Loss=1.6812, Rec Loss=0.0690]\n"
     ]
    },
    {
     "name": "stdout",
     "output_type": "stream",
     "text": [
      "Checkpoint saved at epoch 138\n"
     ]
    },
    {
     "name": "stderr",
     "output_type": "stream",
     "text": [
      "Epoch 139/1000: 100%|████████████████████████████████████████████████████████████████████████████████████████████████████████████| 88/88 [00:31<00:00,  2.80it/s, D Loss=1.2400, G Loss=1.5209, Rec Loss=0.0647]\n"
     ]
    },
    {
     "name": "stdout",
     "output_type": "stream",
     "text": [
      "Checkpoint saved at epoch 139\n"
     ]
    },
    {
     "name": "stderr",
     "output_type": "stream",
     "text": [
      "Epoch 140/1000: 100%|████████████████████████████████████████████████████████████████████████████████████████████████████████████| 88/88 [00:31<00:00,  2.77it/s, D Loss=1.2771, G Loss=1.5978, Rec Loss=0.0645]\n"
     ]
    },
    {
     "name": "stdout",
     "output_type": "stream",
     "text": [
      "Checkpoint saved at epoch 140\n"
     ]
    },
    {
     "name": "stderr",
     "output_type": "stream",
     "text": [
      "Epoch 141/1000: 100%|████████████████████████████████████████████████████████████████████████████████████████████████████████████| 88/88 [00:31<00:00,  2.80it/s, D Loss=1.1804, G Loss=1.7663, Rec Loss=0.0718]\n"
     ]
    },
    {
     "name": "stdout",
     "output_type": "stream",
     "text": [
      "Checkpoint saved at epoch 141\n"
     ]
    },
    {
     "name": "stderr",
     "output_type": "stream",
     "text": [
      "Epoch 142/1000: 100%|████████████████████████████████████████████████████████████████████████████████████████████████████████████| 88/88 [00:31<00:00,  2.81it/s, D Loss=1.2352, G Loss=1.7948, Rec Loss=0.0716]\n"
     ]
    },
    {
     "name": "stdout",
     "output_type": "stream",
     "text": [
      "Checkpoint saved at epoch 142\n"
     ]
    },
    {
     "name": "stderr",
     "output_type": "stream",
     "text": [
      "Epoch 143/1000: 100%|████████████████████████████████████████████████████████████████████████████████████████████████████████████| 88/88 [00:30<00:00,  2.88it/s, D Loss=1.2315, G Loss=1.7519, Rec Loss=0.0744]\n"
     ]
    },
    {
     "name": "stdout",
     "output_type": "stream",
     "text": [
      "Checkpoint saved at epoch 143\n"
     ]
    },
    {
     "name": "stderr",
     "output_type": "stream",
     "text": [
      "Epoch 144/1000: 100%|████████████████████████████████████████████████████████████████████████████████████████████████████████████| 88/88 [00:33<00:00,  2.62it/s, D Loss=1.3022, G Loss=1.5906, Rec Loss=0.0731]\n"
     ]
    },
    {
     "name": "stdout",
     "output_type": "stream",
     "text": [
      "Checkpoint saved at epoch 144\n"
     ]
    },
    {
     "name": "stderr",
     "output_type": "stream",
     "text": [
      "Epoch 145/1000: 100%|████████████████████████████████████████████████████████████████████████████████████████████████████████████| 88/88 [00:31<00:00,  2.83it/s, D Loss=1.3881, G Loss=1.5239, Rec Loss=0.0660]\n"
     ]
    },
    {
     "name": "stdout",
     "output_type": "stream",
     "text": [
      "Checkpoint saved at epoch 145\n"
     ]
    },
    {
     "name": "stderr",
     "output_type": "stream",
     "text": [
      "Epoch 146/1000: 100%|████████████████████████████████████████████████████████████████████████████████████████████████████████████| 88/88 [00:31<00:00,  2.83it/s, D Loss=1.2167, G Loss=1.6912, Rec Loss=0.0652]\n"
     ]
    },
    {
     "name": "stdout",
     "output_type": "stream",
     "text": [
      "Checkpoint saved at epoch 146\n"
     ]
    },
    {
     "name": "stderr",
     "output_type": "stream",
     "text": [
      "Epoch 147/1000: 100%|████████████████████████████████████████████████████████████████████████████████████████████████████████████| 88/88 [00:32<00:00,  2.70it/s, D Loss=1.4653, G Loss=1.7475, Rec Loss=0.0593]\n"
     ]
    },
    {
     "name": "stdout",
     "output_type": "stream",
     "text": [
      "Checkpoint saved at epoch 147\n"
     ]
    },
    {
     "name": "stderr",
     "output_type": "stream",
     "text": [
      "Epoch 148/1000: 100%|████████████████████████████████████████████████████████████████████████████████████████████████████████████| 88/88 [00:31<00:00,  2.82it/s, D Loss=1.2587, G Loss=1.9636, Rec Loss=0.0605]\n"
     ]
    },
    {
     "name": "stdout",
     "output_type": "stream",
     "text": [
      "Checkpoint saved at epoch 148\n"
     ]
    },
    {
     "name": "stderr",
     "output_type": "stream",
     "text": [
      "Epoch 149/1000: 100%|████████████████████████████████████████████████████████████████████████████████████████████████████████████| 88/88 [00:30<00:00,  2.89it/s, D Loss=1.2729, G Loss=1.7581, Rec Loss=0.0718]\n"
     ]
    },
    {
     "name": "stdout",
     "output_type": "stream",
     "text": [
      "Checkpoint saved at epoch 149\n"
     ]
    },
    {
     "name": "stderr",
     "output_type": "stream",
     "text": [
      "Epoch 150/1000: 100%|████████████████████████████████████████████████████████████████████████████████████████████████████████████| 88/88 [00:31<00:00,  2.80it/s, D Loss=1.1753, G Loss=1.6409, Rec Loss=0.0690]\n"
     ]
    },
    {
     "name": "stdout",
     "output_type": "stream",
     "text": [
      "Additional checkpoint saved at checkpoints/DisasterGAN_epoch150.pth\n",
      "Checkpoint saved at epoch 150\n"
     ]
    },
    {
     "name": "stderr",
     "output_type": "stream",
     "text": [
      "Epoch 151/1000: 100%|████████████████████████████████████████████████████████████████████████████████████████████████████████████| 88/88 [00:33<00:00,  2.64it/s, D Loss=1.2304, G Loss=1.7172, Rec Loss=0.0740]\n"
     ]
    },
    {
     "name": "stdout",
     "output_type": "stream",
     "text": [
      "Checkpoint saved at epoch 151\n"
     ]
    },
    {
     "name": "stderr",
     "output_type": "stream",
     "text": [
      "Epoch 152/1000: 100%|████████████████████████████████████████████████████████████████████████████████████████████████████████████| 88/88 [00:34<00:00,  2.58it/s, D Loss=1.2410, G Loss=1.6447, Rec Loss=0.0668]\n"
     ]
    },
    {
     "name": "stdout",
     "output_type": "stream",
     "text": [
      "Checkpoint saved at epoch 152\n"
     ]
    },
    {
     "name": "stderr",
     "output_type": "stream",
     "text": [
      "Epoch 153/1000: 100%|████████████████████████████████████████████████████████████████████████████████████████████████████████████| 88/88 [00:33<00:00,  2.59it/s, D Loss=1.3671, G Loss=1.6289, Rec Loss=0.0801]\n"
     ]
    },
    {
     "name": "stdout",
     "output_type": "stream",
     "text": [
      "Checkpoint saved at epoch 153\n"
     ]
    },
    {
     "name": "stderr",
     "output_type": "stream",
     "text": [
      "Epoch 154/1000: 100%|████████████████████████████████████████████████████████████████████████████████████████████████████████████| 88/88 [00:33<00:00,  2.63it/s, D Loss=1.2489, G Loss=1.5452, Rec Loss=0.0611]\n"
     ]
    },
    {
     "name": "stdout",
     "output_type": "stream",
     "text": [
      "Checkpoint saved at epoch 154\n"
     ]
    },
    {
     "name": "stderr",
     "output_type": "stream",
     "text": [
      "Epoch 155/1000: 100%|████████████████████████████████████████████████████████████████████████████████████████████████████████████| 88/88 [00:33<00:00,  2.66it/s, D Loss=1.3615, G Loss=1.5687, Rec Loss=0.0608]\n"
     ]
    },
    {
     "name": "stdout",
     "output_type": "stream",
     "text": [
      "Checkpoint saved at epoch 155\n"
     ]
    },
    {
     "name": "stderr",
     "output_type": "stream",
     "text": [
      "Epoch 156/1000: 100%|████████████████████████████████████████████████████████████████████████████████████████████████████████████| 88/88 [00:32<00:00,  2.72it/s, D Loss=1.2507, G Loss=1.5783, Rec Loss=0.0671]\n"
     ]
    },
    {
     "name": "stdout",
     "output_type": "stream",
     "text": [
      "Checkpoint saved at epoch 156\n"
     ]
    },
    {
     "name": "stderr",
     "output_type": "stream",
     "text": [
      "Epoch 157/1000: 100%|████████████████████████████████████████████████████████████████████████████████████████████████████████████| 88/88 [00:31<00:00,  2.78it/s, D Loss=1.2153, G Loss=1.6143, Rec Loss=0.0691]\n"
     ]
    },
    {
     "name": "stdout",
     "output_type": "stream",
     "text": [
      "Checkpoint saved at epoch 157\n"
     ]
    },
    {
     "name": "stderr",
     "output_type": "stream",
     "text": [
      "Epoch 158/1000: 100%|████████████████████████████████████████████████████████████████████████████████████████████████████████████| 88/88 [00:34<00:00,  2.54it/s, D Loss=1.2605, G Loss=1.4735, Rec Loss=0.0642]\n"
     ]
    },
    {
     "name": "stdout",
     "output_type": "stream",
     "text": [
      "Checkpoint saved at epoch 158\n"
     ]
    },
    {
     "name": "stderr",
     "output_type": "stream",
     "text": [
      "Epoch 159/1000: 100%|████████████████████████████████████████████████████████████████████████████████████████████████████████████| 88/88 [00:32<00:00,  2.75it/s, D Loss=1.2343, G Loss=1.7371, Rec Loss=0.0683]\n"
     ]
    },
    {
     "name": "stdout",
     "output_type": "stream",
     "text": [
      "Checkpoint saved at epoch 159\n"
     ]
    },
    {
     "name": "stderr",
     "output_type": "stream",
     "text": [
      "Epoch 160/1000: 100%|████████████████████████████████████████████████████████████████████████████████████████████████████████████| 88/88 [00:32<00:00,  2.70it/s, D Loss=1.1014, G Loss=1.7601, Rec Loss=0.0721]\n"
     ]
    },
    {
     "name": "stdout",
     "output_type": "stream",
     "text": [
      "Checkpoint saved at epoch 160\n"
     ]
    },
    {
     "name": "stderr",
     "output_type": "stream",
     "text": [
      "Epoch 161/1000: 100%|████████████████████████████████████████████████████████████████████████████████████████████████████████████| 88/88 [00:31<00:00,  2.82it/s, D Loss=1.2874, G Loss=1.6781, Rec Loss=0.0683]\n"
     ]
    },
    {
     "name": "stdout",
     "output_type": "stream",
     "text": [
      "Checkpoint saved at epoch 161\n"
     ]
    },
    {
     "name": "stderr",
     "output_type": "stream",
     "text": [
      "Epoch 162/1000: 100%|████████████████████████████████████████████████████████████████████████████████████████████████████████████| 88/88 [00:32<00:00,  2.67it/s, D Loss=1.2744, G Loss=1.8502, Rec Loss=0.0786]\n"
     ]
    },
    {
     "name": "stdout",
     "output_type": "stream",
     "text": [
      "Checkpoint saved at epoch 162\n"
     ]
    },
    {
     "name": "stderr",
     "output_type": "stream",
     "text": [
      "Epoch 163/1000: 100%|████████████████████████████████████████████████████████████████████████████████████████████████████████████| 88/88 [00:33<00:00,  2.63it/s, D Loss=1.5254, G Loss=1.6788, Rec Loss=0.0653]\n"
     ]
    },
    {
     "name": "stdout",
     "output_type": "stream",
     "text": [
      "Checkpoint saved at epoch 163\n"
     ]
    },
    {
     "name": "stderr",
     "output_type": "stream",
     "text": [
      "Epoch 164/1000: 100%|████████████████████████████████████████████████████████████████████████████████████████████████████████████| 88/88 [00:31<00:00,  2.80it/s, D Loss=1.4320, G Loss=1.6149, Rec Loss=0.0706]\n"
     ]
    },
    {
     "name": "stdout",
     "output_type": "stream",
     "text": [
      "Checkpoint saved at epoch 164\n"
     ]
    },
    {
     "name": "stderr",
     "output_type": "stream",
     "text": [
      "Epoch 165/1000: 100%|████████████████████████████████████████████████████████████████████████████████████████████████████████████| 88/88 [00:30<00:00,  2.87it/s, D Loss=1.2535, G Loss=1.5991, Rec Loss=0.0656]\n"
     ]
    },
    {
     "name": "stdout",
     "output_type": "stream",
     "text": [
      "Additional checkpoint saved at checkpoints/DisasterGAN_epoch165.pth\n",
      "Checkpoint saved at epoch 165\n"
     ]
    },
    {
     "name": "stderr",
     "output_type": "stream",
     "text": [
      "Epoch 166/1000: 100%|████████████████████████████████████████████████████████████████████████████████████████████████████████████| 88/88 [00:32<00:00,  2.70it/s, D Loss=1.2017, G Loss=1.7177, Rec Loss=0.0690]\n"
     ]
    },
    {
     "name": "stdout",
     "output_type": "stream",
     "text": [
      "Checkpoint saved at epoch 166\n"
     ]
    },
    {
     "name": "stderr",
     "output_type": "stream",
     "text": [
      "Epoch 167/1000: 100%|████████████████████████████████████████████████████████████████████████████████████████████████████████████| 88/88 [00:32<00:00,  2.71it/s, D Loss=1.2481, G Loss=1.6590, Rec Loss=0.0736]\n"
     ]
    },
    {
     "name": "stdout",
     "output_type": "stream",
     "text": [
      "Checkpoint saved at epoch 167\n"
     ]
    },
    {
     "name": "stderr",
     "output_type": "stream",
     "text": [
      "Epoch 168/1000: 100%|████████████████████████████████████████████████████████████████████████████████████████████████████████████| 88/88 [00:31<00:00,  2.79it/s, D Loss=1.2355, G Loss=1.7920, Rec Loss=0.0635]\n"
     ]
    },
    {
     "name": "stdout",
     "output_type": "stream",
     "text": [
      "Checkpoint saved at epoch 168\n"
     ]
    },
    {
     "name": "stderr",
     "output_type": "stream",
     "text": [
      "Epoch 169/1000: 100%|████████████████████████████████████████████████████████████████████████████████████████████████████████████| 88/88 [00:31<00:00,  2.83it/s, D Loss=1.2830, G Loss=1.7710, Rec Loss=0.0707]\n"
     ]
    },
    {
     "name": "stdout",
     "output_type": "stream",
     "text": [
      "Checkpoint saved at epoch 169\n"
     ]
    },
    {
     "name": "stderr",
     "output_type": "stream",
     "text": [
      "Epoch 170/1000: 100%|████████████████████████████████████████████████████████████████████████████████████████████████████████████| 88/88 [00:30<00:00,  2.86it/s, D Loss=1.2074, G Loss=1.4286, Rec Loss=0.0619]\n"
     ]
    },
    {
     "name": "stdout",
     "output_type": "stream",
     "text": [
      "Checkpoint saved at epoch 170\n"
     ]
    },
    {
     "name": "stderr",
     "output_type": "stream",
     "text": [
      "Epoch 171/1000: 100%|████████████████████████████████████████████████████████████████████████████████████████████████████████████| 88/88 [00:31<00:00,  2.75it/s, D Loss=1.3543, G Loss=1.8169, Rec Loss=0.0640]\n"
     ]
    },
    {
     "name": "stdout",
     "output_type": "stream",
     "text": [
      "Checkpoint saved at epoch 171\n"
     ]
    },
    {
     "name": "stderr",
     "output_type": "stream",
     "text": [
      "Epoch 172/1000: 100%|████████████████████████████████████████████████████████████████████████████████████████████████████████████| 88/88 [00:30<00:00,  2.88it/s, D Loss=1.1682, G Loss=1.7810, Rec Loss=0.0679]\n"
     ]
    },
    {
     "name": "stdout",
     "output_type": "stream",
     "text": [
      "Checkpoint saved at epoch 172\n"
     ]
    },
    {
     "name": "stderr",
     "output_type": "stream",
     "text": [
      "Epoch 173/1000: 100%|████████████████████████████████████████████████████████████████████████████████████████████████████████████| 88/88 [00:31<00:00,  2.81it/s, D Loss=1.3277, G Loss=1.6035, Rec Loss=0.0646]\n"
     ]
    },
    {
     "name": "stdout",
     "output_type": "stream",
     "text": [
      "Checkpoint saved at epoch 173\n"
     ]
    },
    {
     "name": "stderr",
     "output_type": "stream",
     "text": [
      "Epoch 174/1000: 100%|████████████████████████████████████████████████████████████████████████████████████████████████████████████| 88/88 [00:33<00:00,  2.61it/s, D Loss=1.3259, G Loss=1.8724, Rec Loss=0.0657]\n"
     ]
    },
    {
     "name": "stdout",
     "output_type": "stream",
     "text": [
      "Checkpoint saved at epoch 174\n"
     ]
    },
    {
     "name": "stderr",
     "output_type": "stream",
     "text": [
      "Epoch 175/1000: 100%|████████████████████████████████████████████████████████████████████████████████████████████████████████████| 88/88 [00:31<00:00,  2.82it/s, D Loss=1.2521, G Loss=1.5639, Rec Loss=0.0633]\n"
     ]
    },
    {
     "name": "stdout",
     "output_type": "stream",
     "text": [
      "Checkpoint saved at epoch 175\n"
     ]
    },
    {
     "name": "stderr",
     "output_type": "stream",
     "text": [
      "Epoch 176/1000: 100%|████████████████████████████████████████████████████████████████████████████████████████████████████████████| 88/88 [00:30<00:00,  2.89it/s, D Loss=1.2599, G Loss=1.6828, Rec Loss=0.0688]\n"
     ]
    },
    {
     "name": "stdout",
     "output_type": "stream",
     "text": [
      "Checkpoint saved at epoch 176\n"
     ]
    },
    {
     "name": "stderr",
     "output_type": "stream",
     "text": [
      "Epoch 177/1000: 100%|████████████████████████████████████████████████████████████████████████████████████████████████████████████| 88/88 [00:30<00:00,  2.87it/s, D Loss=1.3309, G Loss=1.6451, Rec Loss=0.0734]\n"
     ]
    },
    {
     "name": "stdout",
     "output_type": "stream",
     "text": [
      "Checkpoint saved at epoch 177\n"
     ]
    },
    {
     "name": "stderr",
     "output_type": "stream",
     "text": [
      "Epoch 178/1000: 100%|████████████████████████████████████████████████████████████████████████████████████████████████████████████| 88/88 [00:33<00:00,  2.66it/s, D Loss=1.2644, G Loss=1.4641, Rec Loss=0.0588]\n"
     ]
    },
    {
     "name": "stdout",
     "output_type": "stream",
     "text": [
      "Checkpoint saved at epoch 178\n"
     ]
    },
    {
     "name": "stderr",
     "output_type": "stream",
     "text": [
      "Epoch 179/1000: 100%|████████████████████████████████████████████████████████████████████████████████████████████████████████████| 88/88 [00:31<00:00,  2.76it/s, D Loss=1.2729, G Loss=1.6984, Rec Loss=0.0665]\n"
     ]
    },
    {
     "name": "stdout",
     "output_type": "stream",
     "text": [
      "Checkpoint saved at epoch 179\n"
     ]
    },
    {
     "name": "stderr",
     "output_type": "stream",
     "text": [
      "Epoch 180/1000: 100%|████████████████████████████████████████████████████████████████████████████████████████████████████████████| 88/88 [00:31<00:00,  2.77it/s, D Loss=1.1931, G Loss=1.7190, Rec Loss=0.0668]\n"
     ]
    },
    {
     "name": "stdout",
     "output_type": "stream",
     "text": [
      "Additional checkpoint saved at checkpoints/DisasterGAN_epoch180.pth\n",
      "Checkpoint saved at epoch 180\n"
     ]
    },
    {
     "name": "stderr",
     "output_type": "stream",
     "text": [
      "Epoch 181/1000: 100%|████████████████████████████████████████████████████████████████████████████████████████████████████████████| 88/88 [00:31<00:00,  2.77it/s, D Loss=1.0708, G Loss=1.8472, Rec Loss=0.0688]\n"
     ]
    },
    {
     "name": "stdout",
     "output_type": "stream",
     "text": [
      "Checkpoint saved at epoch 181\n"
     ]
    },
    {
     "name": "stderr",
     "output_type": "stream",
     "text": [
      "Epoch 182/1000: 100%|████████████████████████████████████████████████████████████████████████████████████████████████████████████| 88/88 [00:31<00:00,  2.82it/s, D Loss=1.2526, G Loss=1.9989, Rec Loss=0.0807]\n"
     ]
    },
    {
     "name": "stdout",
     "output_type": "stream",
     "text": [
      "Checkpoint saved at epoch 182\n"
     ]
    },
    {
     "name": "stderr",
     "output_type": "stream",
     "text": [
      "Epoch 183/1000: 100%|████████████████████████████████████████████████████████████████████████████████████████████████████████████| 88/88 [00:32<00:00,  2.68it/s, D Loss=1.4112, G Loss=1.7570, Rec Loss=0.0665]\n"
     ]
    },
    {
     "name": "stdout",
     "output_type": "stream",
     "text": [
      "Checkpoint saved at epoch 183\n"
     ]
    },
    {
     "name": "stderr",
     "output_type": "stream",
     "text": [
      "Epoch 184/1000: 100%|████████████████████████████████████████████████████████████████████████████████████████████████████████████| 88/88 [00:30<00:00,  2.85it/s, D Loss=1.2503, G Loss=1.7062, Rec Loss=0.0653]\n"
     ]
    },
    {
     "name": "stdout",
     "output_type": "stream",
     "text": [
      "Checkpoint saved at epoch 184\n"
     ]
    },
    {
     "name": "stderr",
     "output_type": "stream",
     "text": [
      "Epoch 185/1000: 100%|████████████████████████████████████████████████████████████████████████████████████████████████████████████| 88/88 [00:30<00:00,  2.85it/s, D Loss=1.2159, G Loss=1.7828, Rec Loss=0.0827]\n"
     ]
    },
    {
     "name": "stdout",
     "output_type": "stream",
     "text": [
      "Checkpoint saved at epoch 185\n"
     ]
    },
    {
     "name": "stderr",
     "output_type": "stream",
     "text": [
      "Epoch 186/1000: 100%|████████████████████████████████████████████████████████████████████████████████████████████████████████████| 88/88 [00:32<00:00,  2.71it/s, D Loss=1.1906, G Loss=1.7855, Rec Loss=0.0777]\n"
     ]
    },
    {
     "name": "stdout",
     "output_type": "stream",
     "text": [
      "Checkpoint saved at epoch 186\n"
     ]
    },
    {
     "name": "stderr",
     "output_type": "stream",
     "text": [
      "Epoch 187/1000: 100%|████████████████████████████████████████████████████████████████████████████████████████████████████████████| 88/88 [00:31<00:00,  2.77it/s, D Loss=1.1846, G Loss=1.8858, Rec Loss=0.0690]\n"
     ]
    },
    {
     "name": "stdout",
     "output_type": "stream",
     "text": [
      "Checkpoint saved at epoch 187\n"
     ]
    },
    {
     "name": "stderr",
     "output_type": "stream",
     "text": [
      "Epoch 188/1000: 100%|████████████████████████████████████████████████████████████████████████████████████████████████████████████| 88/88 [00:32<00:00,  2.70it/s, D Loss=1.2112, G Loss=1.5663, Rec Loss=0.0600]\n"
     ]
    },
    {
     "name": "stdout",
     "output_type": "stream",
     "text": [
      "Checkpoint saved at epoch 188\n"
     ]
    },
    {
     "name": "stderr",
     "output_type": "stream",
     "text": [
      "Epoch 189/1000: 100%|████████████████████████████████████████████████████████████████████████████████████████████████████████████| 88/88 [00:32<00:00,  2.69it/s, D Loss=1.4099, G Loss=1.6197, Rec Loss=0.0581]\n"
     ]
    },
    {
     "name": "stdout",
     "output_type": "stream",
     "text": [
      "Checkpoint saved at epoch 189\n"
     ]
    },
    {
     "name": "stderr",
     "output_type": "stream",
     "text": [
      "Epoch 190/1000: 100%|████████████████████████████████████████████████████████████████████████████████████████████████████████████| 88/88 [00:30<00:00,  2.90it/s, D Loss=1.2110, G Loss=1.7289, Rec Loss=0.0735]\n"
     ]
    },
    {
     "name": "stdout",
     "output_type": "stream",
     "text": [
      "Checkpoint saved at epoch 190\n"
     ]
    },
    {
     "name": "stderr",
     "output_type": "stream",
     "text": [
      "Epoch 191/1000: 100%|████████████████████████████████████████████████████████████████████████████████████████████████████████████| 88/88 [00:31<00:00,  2.82it/s, D Loss=1.2163, G Loss=1.6975, Rec Loss=0.0647]\n"
     ]
    },
    {
     "name": "stdout",
     "output_type": "stream",
     "text": [
      "Checkpoint saved at epoch 191\n"
     ]
    },
    {
     "name": "stderr",
     "output_type": "stream",
     "text": [
      "Epoch 192/1000: 100%|████████████████████████████████████████████████████████████████████████████████████████████████████████████| 88/88 [00:31<00:00,  2.81it/s, D Loss=1.2653, G Loss=1.5800, Rec Loss=0.0606]\n"
     ]
    },
    {
     "name": "stdout",
     "output_type": "stream",
     "text": [
      "Checkpoint saved at epoch 192\n"
     ]
    },
    {
     "name": "stderr",
     "output_type": "stream",
     "text": [
      "Epoch 193/1000: 100%|████████████████████████████████████████████████████████████████████████████████████████████████████████████| 88/88 [00:30<00:00,  2.89it/s, D Loss=1.3065, G Loss=1.6960, Rec Loss=0.0720]\n"
     ]
    },
    {
     "name": "stdout",
     "output_type": "stream",
     "text": [
      "Checkpoint saved at epoch 193\n"
     ]
    },
    {
     "name": "stderr",
     "output_type": "stream",
     "text": [
      "Epoch 194/1000: 100%|████████████████████████████████████████████████████████████████████████████████████████████████████████████| 88/88 [00:32<00:00,  2.71it/s, D Loss=1.2565, G Loss=1.7449, Rec Loss=0.0714]\n"
     ]
    },
    {
     "name": "stdout",
     "output_type": "stream",
     "text": [
      "Checkpoint saved at epoch 194\n"
     ]
    },
    {
     "name": "stderr",
     "output_type": "stream",
     "text": [
      "Epoch 195/1000: 100%|████████████████████████████████████████████████████████████████████████████████████████████████████████████| 88/88 [00:31<00:00,  2.82it/s, D Loss=1.1548, G Loss=1.7506, Rec Loss=0.0694]\n"
     ]
    },
    {
     "name": "stdout",
     "output_type": "stream",
     "text": [
      "Additional checkpoint saved at checkpoints/DisasterGAN_epoch195.pth\n",
      "Checkpoint saved at epoch 195\n"
     ]
    },
    {
     "name": "stderr",
     "output_type": "stream",
     "text": [
      "Epoch 196/1000: 100%|████████████████████████████████████████████████████████████████████████████████████████████████████████████| 88/88 [00:31<00:00,  2.81it/s, D Loss=1.3439, G Loss=1.8165, Rec Loss=0.0620]\n"
     ]
    },
    {
     "name": "stdout",
     "output_type": "stream",
     "text": [
      "Checkpoint saved at epoch 196\n"
     ]
    },
    {
     "name": "stderr",
     "output_type": "stream",
     "text": [
      "Epoch 197/1000: 100%|████████████████████████████████████████████████████████████████████████████████████████████████████████████| 88/88 [00:30<00:00,  2.85it/s, D Loss=1.2398, G Loss=1.9480, Rec Loss=0.0688]\n"
     ]
    },
    {
     "name": "stdout",
     "output_type": "stream",
     "text": [
      "Checkpoint saved at epoch 197\n"
     ]
    },
    {
     "name": "stderr",
     "output_type": "stream",
     "text": [
      "Epoch 198/1000: 100%|████████████████████████████████████████████████████████████████████████████████████████████████████████████| 88/88 [00:32<00:00,  2.67it/s, D Loss=1.2069, G Loss=2.0801, Rec Loss=0.0715]\n"
     ]
    },
    {
     "name": "stdout",
     "output_type": "stream",
     "text": [
      "Checkpoint saved at epoch 198\n"
     ]
    },
    {
     "name": "stderr",
     "output_type": "stream",
     "text": [
      "Epoch 199/1000: 100%|████████████████████████████████████████████████████████████████████████████████████████████████████████████| 88/88 [00:30<00:00,  2.87it/s, D Loss=1.2503, G Loss=1.6679, Rec Loss=0.0654]\n"
     ]
    },
    {
     "name": "stdout",
     "output_type": "stream",
     "text": [
      "Checkpoint saved at epoch 199\n"
     ]
    },
    {
     "name": "stderr",
     "output_type": "stream",
     "text": [
      "Epoch 200/1000: 100%|████████████████████████████████████████████████████████████████████████████████████████████████████████████| 88/88 [00:32<00:00,  2.74it/s, D Loss=1.4289, G Loss=2.4850, Rec Loss=0.0640]\n"
     ]
    },
    {
     "name": "stdout",
     "output_type": "stream",
     "text": [
      "Checkpoint saved at epoch 200\n"
     ]
    },
    {
     "name": "stderr",
     "output_type": "stream",
     "text": [
      "Epoch 201/1000: 100%|████████████████████████████████████████████████████████████████████████████████████████████████████████████| 88/88 [00:32<00:00,  2.69it/s, D Loss=1.2051, G Loss=1.6287, Rec Loss=0.0611]\n"
     ]
    },
    {
     "name": "stdout",
     "output_type": "stream",
     "text": [
      "Checkpoint saved at epoch 201\n"
     ]
    },
    {
     "name": "stderr",
     "output_type": "stream",
     "text": [
      "Epoch 202/1000: 100%|████████████████████████████████████████████████████████████████████████████████████████████████████████████| 88/88 [00:30<00:00,  2.85it/s, D Loss=1.1709, G Loss=1.9875, Rec Loss=0.0917]\n"
     ]
    },
    {
     "name": "stdout",
     "output_type": "stream",
     "text": [
      "Checkpoint saved at epoch 202\n"
     ]
    },
    {
     "name": "stderr",
     "output_type": "stream",
     "text": [
      "Epoch 203/1000: 100%|████████████████████████████████████████████████████████████████████████████████████████████████████████████| 88/88 [00:31<00:00,  2.80it/s, D Loss=1.4115, G Loss=1.9378, Rec Loss=0.0725]\n"
     ]
    },
    {
     "name": "stdout",
     "output_type": "stream",
     "text": [
      "Checkpoint saved at epoch 203\n"
     ]
    },
    {
     "name": "stderr",
     "output_type": "stream",
     "text": [
      "Epoch 204/1000: 100%|████████████████████████████████████████████████████████████████████████████████████████████████████████████| 88/88 [00:32<00:00,  2.67it/s, D Loss=1.3439, G Loss=1.8661, Rec Loss=0.0676]\n"
     ]
    },
    {
     "name": "stdout",
     "output_type": "stream",
     "text": [
      "Checkpoint saved at epoch 204\n"
     ]
    },
    {
     "name": "stderr",
     "output_type": "stream",
     "text": [
      "Epoch 205/1000: 100%|████████████████████████████████████████████████████████████████████████████████████████████████████████████| 88/88 [00:33<00:00,  2.65it/s, D Loss=1.2034, G Loss=1.5834, Rec Loss=0.0605]\n"
     ]
    },
    {
     "name": "stdout",
     "output_type": "stream",
     "text": [
      "Checkpoint saved at epoch 205\n"
     ]
    },
    {
     "name": "stderr",
     "output_type": "stream",
     "text": [
      "Epoch 206/1000: 100%|████████████████████████████████████████████████████████████████████████████████████████████████████████████| 88/88 [00:31<00:00,  2.75it/s, D Loss=1.2273, G Loss=1.8183, Rec Loss=0.0712]\n"
     ]
    },
    {
     "name": "stdout",
     "output_type": "stream",
     "text": [
      "Checkpoint saved at epoch 206\n"
     ]
    },
    {
     "name": "stderr",
     "output_type": "stream",
     "text": [
      "Epoch 207/1000: 100%|████████████████████████████████████████████████████████████████████████████████████████████████████████████| 88/88 [00:30<00:00,  2.88it/s, D Loss=1.1817, G Loss=1.7684, Rec Loss=0.0673]\n"
     ]
    },
    {
     "name": "stdout",
     "output_type": "stream",
     "text": [
      "Checkpoint saved at epoch 207\n"
     ]
    },
    {
     "name": "stderr",
     "output_type": "stream",
     "text": [
      "Epoch 208/1000: 100%|████████████████████████████████████████████████████████████████████████████████████████████████████████████| 88/88 [00:31<00:00,  2.78it/s, D Loss=1.2284, G Loss=1.6662, Rec Loss=0.0666]\n"
     ]
    },
    {
     "name": "stdout",
     "output_type": "stream",
     "text": [
      "Checkpoint saved at epoch 208\n"
     ]
    },
    {
     "name": "stderr",
     "output_type": "stream",
     "text": [
      "Epoch 209/1000: 100%|████████████████████████████████████████████████████████████████████████████████████████████████████████████| 88/88 [00:35<00:00,  2.51it/s, D Loss=1.0918, G Loss=1.7435, Rec Loss=0.0624]\n"
     ]
    },
    {
     "name": "stdout",
     "output_type": "stream",
     "text": [
      "Checkpoint saved at epoch 209\n"
     ]
    },
    {
     "name": "stderr",
     "output_type": "stream",
     "text": [
      "Epoch 210/1000: 100%|████████████████████████████████████████████████████████████████████████████████████████████████████████████| 88/88 [00:32<00:00,  2.73it/s, D Loss=1.3042, G Loss=1.6929, Rec Loss=0.0552]\n"
     ]
    },
    {
     "name": "stdout",
     "output_type": "stream",
     "text": [
      "Additional checkpoint saved at checkpoints/DisasterGAN_epoch210.pth\n",
      "Checkpoint saved at epoch 210\n"
     ]
    },
    {
     "name": "stderr",
     "output_type": "stream",
     "text": [
      "Epoch 211/1000: 100%|████████████████████████████████████████████████████████████████████████████████████████████████████████████| 88/88 [00:31<00:00,  2.79it/s, D Loss=1.2766, G Loss=1.6587, Rec Loss=0.0603]\n"
     ]
    },
    {
     "name": "stdout",
     "output_type": "stream",
     "text": [
      "Checkpoint saved at epoch 211\n"
     ]
    },
    {
     "name": "stderr",
     "output_type": "stream",
     "text": [
      "Epoch 212/1000: 100%|████████████████████████████████████████████████████████████████████████████████████████████████████████████| 88/88 [00:31<00:00,  2.80it/s, D Loss=1.1398, G Loss=1.7684, Rec Loss=0.0629]\n"
     ]
    },
    {
     "name": "stdout",
     "output_type": "stream",
     "text": [
      "Checkpoint saved at epoch 212\n"
     ]
    },
    {
     "name": "stderr",
     "output_type": "stream",
     "text": [
      "Epoch 213/1000: 100%|████████████████████████████████████████████████████████████████████████████████████████████████████████████| 88/88 [00:33<00:00,  2.66it/s, D Loss=1.3079, G Loss=1.7057, Rec Loss=0.0764]\n"
     ]
    },
    {
     "name": "stdout",
     "output_type": "stream",
     "text": [
      "Checkpoint saved at epoch 213\n"
     ]
    },
    {
     "name": "stderr",
     "output_type": "stream",
     "text": [
      "Epoch 214/1000: 100%|████████████████████████████████████████████████████████████████████████████████████████████████████████████| 88/88 [00:31<00:00,  2.83it/s, D Loss=1.1986, G Loss=1.6800, Rec Loss=0.0677]\n"
     ]
    },
    {
     "name": "stdout",
     "output_type": "stream",
     "text": [
      "Checkpoint saved at epoch 214\n"
     ]
    },
    {
     "name": "stderr",
     "output_type": "stream",
     "text": [
      "Epoch 215/1000: 100%|████████████████████████████████████████████████████████████████████████████████████████████████████████████| 88/88 [00:33<00:00,  2.66it/s, D Loss=0.9525, G Loss=2.0352, Rec Loss=0.0681]\n"
     ]
    },
    {
     "name": "stdout",
     "output_type": "stream",
     "text": [
      "Checkpoint saved at epoch 215\n"
     ]
    },
    {
     "name": "stderr",
     "output_type": "stream",
     "text": [
      "Epoch 216/1000: 100%|████████████████████████████████████████████████████████████████████████████████████████████████████████████| 88/88 [00:35<00:00,  2.50it/s, D Loss=1.2459, G Loss=1.7543, Rec Loss=0.0617]\n"
     ]
    },
    {
     "name": "stdout",
     "output_type": "stream",
     "text": [
      "Checkpoint saved at epoch 216\n"
     ]
    },
    {
     "name": "stderr",
     "output_type": "stream",
     "text": [
      "Epoch 217/1000: 100%|████████████████████████████████████████████████████████████████████████████████████████████████████████████| 88/88 [00:30<00:00,  2.90it/s, D Loss=1.3066, G Loss=1.7814, Rec Loss=0.0600]\n"
     ]
    },
    {
     "name": "stdout",
     "output_type": "stream",
     "text": [
      "Checkpoint saved at epoch 217\n"
     ]
    },
    {
     "name": "stderr",
     "output_type": "stream",
     "text": [
      "Epoch 218/1000: 100%|████████████████████████████████████████████████████████████████████████████████████████████████████████████| 88/88 [00:32<00:00,  2.70it/s, D Loss=1.0662, G Loss=2.0907, Rec Loss=0.0702]\n"
     ]
    },
    {
     "name": "stdout",
     "output_type": "stream",
     "text": [
      "Checkpoint saved at epoch 218\n"
     ]
    },
    {
     "name": "stderr",
     "output_type": "stream",
     "text": [
      "Epoch 219/1000: 100%|████████████████████████████████████████████████████████████████████████████████████████████████████████████| 88/88 [00:31<00:00,  2.83it/s, D Loss=1.2067, G Loss=1.8995, Rec Loss=0.0676]\n"
     ]
    },
    {
     "name": "stdout",
     "output_type": "stream",
     "text": [
      "Checkpoint saved at epoch 219\n"
     ]
    },
    {
     "name": "stderr",
     "output_type": "stream",
     "text": [
      "Epoch 220/1000: 100%|████████████████████████████████████████████████████████████████████████████████████████████████████████████| 88/88 [00:30<00:00,  2.92it/s, D Loss=1.2499, G Loss=1.5040, Rec Loss=0.0606]\n"
     ]
    },
    {
     "name": "stdout",
     "output_type": "stream",
     "text": [
      "Checkpoint saved at epoch 220\n"
     ]
    },
    {
     "name": "stderr",
     "output_type": "stream",
     "text": [
      "Epoch 221/1000: 100%|████████████████████████████████████████████████████████████████████████████████████████████████████████████| 88/88 [00:31<00:00,  2.80it/s, D Loss=1.2458, G Loss=1.8084, Rec Loss=0.0739]\n"
     ]
    },
    {
     "name": "stdout",
     "output_type": "stream",
     "text": [
      "Checkpoint saved at epoch 221\n"
     ]
    },
    {
     "name": "stderr",
     "output_type": "stream",
     "text": [
      "Epoch 222/1000: 100%|████████████████████████████████████████████████████████████████████████████████████████████████████████████| 88/88 [00:32<00:00,  2.72it/s, D Loss=1.2065, G Loss=1.7631, Rec Loss=0.0755]\n"
     ]
    },
    {
     "name": "stdout",
     "output_type": "stream",
     "text": [
      "Checkpoint saved at epoch 222\n"
     ]
    },
    {
     "name": "stderr",
     "output_type": "stream",
     "text": [
      "Epoch 223/1000: 100%|████████████████████████████████████████████████████████████████████████████████████████████████████████████| 88/88 [00:32<00:00,  2.71it/s, D Loss=1.1616, G Loss=1.7053, Rec Loss=0.0729]\n"
     ]
    },
    {
     "name": "stdout",
     "output_type": "stream",
     "text": [
      "Checkpoint saved at epoch 223\n"
     ]
    },
    {
     "name": "stderr",
     "output_type": "stream",
     "text": [
      "Epoch 224/1000: 100%|████████████████████████████████████████████████████████████████████████████████████████████████████████████| 88/88 [00:31<00:00,  2.76it/s, D Loss=1.2074, G Loss=1.8793, Rec Loss=0.0634]\n"
     ]
    },
    {
     "name": "stdout",
     "output_type": "stream",
     "text": [
      "Checkpoint saved at epoch 224\n"
     ]
    },
    {
     "name": "stderr",
     "output_type": "stream",
     "text": [
      "Epoch 225/1000: 100%|████████████████████████████████████████████████████████████████████████████████████████████████████████████| 88/88 [00:33<00:00,  2.63it/s, D Loss=1.2073, G Loss=1.7957, Rec Loss=0.0618]\n"
     ]
    },
    {
     "name": "stdout",
     "output_type": "stream",
     "text": [
      "Additional checkpoint saved at checkpoints/DisasterGAN_epoch225.pth\n",
      "Checkpoint saved at epoch 225\n"
     ]
    },
    {
     "name": "stderr",
     "output_type": "stream",
     "text": [
      "Epoch 226/1000: 100%|████████████████████████████████████████████████████████████████████████████████████████████████████████████| 88/88 [00:31<00:00,  2.76it/s, D Loss=1.2957, G Loss=1.7004, Rec Loss=0.0620]\n"
     ]
    },
    {
     "name": "stdout",
     "output_type": "stream",
     "text": [
      "Checkpoint saved at epoch 226\n"
     ]
    },
    {
     "name": "stderr",
     "output_type": "stream",
     "text": [
      "Epoch 227/1000: 100%|████████████████████████████████████████████████████████████████████████████████████████████████████████████| 88/88 [00:31<00:00,  2.83it/s, D Loss=1.1568, G Loss=1.8210, Rec Loss=0.0753]\n"
     ]
    },
    {
     "name": "stdout",
     "output_type": "stream",
     "text": [
      "Checkpoint saved at epoch 227\n"
     ]
    },
    {
     "name": "stderr",
     "output_type": "stream",
     "text": [
      "Epoch 228/1000: 100%|████████████████████████████████████████████████████████████████████████████████████████████████████████████| 88/88 [00:32<00:00,  2.69it/s, D Loss=1.3356, G Loss=1.8545, Rec Loss=0.0649]\n"
     ]
    },
    {
     "name": "stdout",
     "output_type": "stream",
     "text": [
      "Checkpoint saved at epoch 228\n"
     ]
    },
    {
     "name": "stderr",
     "output_type": "stream",
     "text": [
      "Epoch 229/1000: 100%|████████████████████████████████████████████████████████████████████████████████████████████████████████████| 88/88 [00:32<00:00,  2.73it/s, D Loss=1.2973, G Loss=2.6191, Rec Loss=0.0592]\n"
     ]
    },
    {
     "name": "stdout",
     "output_type": "stream",
     "text": [
      "Checkpoint saved at epoch 229\n"
     ]
    },
    {
     "name": "stderr",
     "output_type": "stream",
     "text": [
      "Epoch 230/1000: 100%|████████████████████████████████████████████████████████████████████████████████████████████████████████████| 88/88 [00:32<00:00,  2.71it/s, D Loss=1.3693, G Loss=1.7344, Rec Loss=0.0641]\n"
     ]
    },
    {
     "name": "stdout",
     "output_type": "stream",
     "text": [
      "Checkpoint saved at epoch 230\n"
     ]
    },
    {
     "name": "stderr",
     "output_type": "stream",
     "text": [
      "Epoch 231/1000: 100%|████████████████████████████████████████████████████████████████████████████████████████████████████████████| 88/88 [00:30<00:00,  2.87it/s, D Loss=1.1325, G Loss=1.9885, Rec Loss=0.0594]\n"
     ]
    },
    {
     "name": "stdout",
     "output_type": "stream",
     "text": [
      "Checkpoint saved at epoch 231\n"
     ]
    },
    {
     "name": "stderr",
     "output_type": "stream",
     "text": [
      "Epoch 232/1000: 100%|████████████████████████████████████████████████████████████████████████████████████████████████████████████| 88/88 [00:29<00:00,  2.94it/s, D Loss=1.2304, G Loss=1.8580, Rec Loss=0.0742]\n"
     ]
    },
    {
     "name": "stdout",
     "output_type": "stream",
     "text": [
      "Checkpoint saved at epoch 232\n"
     ]
    },
    {
     "name": "stderr",
     "output_type": "stream",
     "text": [
      "Epoch 233/1000: 100%|████████████████████████████████████████████████████████████████████████████████████████████████████████████| 88/88 [00:32<00:00,  2.71it/s, D Loss=1.0375, G Loss=1.8664, Rec Loss=0.0710]\n"
     ]
    },
    {
     "name": "stdout",
     "output_type": "stream",
     "text": [
      "Checkpoint saved at epoch 233\n"
     ]
    },
    {
     "name": "stderr",
     "output_type": "stream",
     "text": [
      "Epoch 234/1000: 100%|████████████████████████████████████████████████████████████████████████████████████████████████████████████| 88/88 [00:30<00:00,  2.86it/s, D Loss=1.2555, G Loss=2.0744, Rec Loss=0.0839]\n"
     ]
    },
    {
     "name": "stdout",
     "output_type": "stream",
     "text": [
      "Checkpoint saved at epoch 234\n"
     ]
    },
    {
     "name": "stderr",
     "output_type": "stream",
     "text": [
      "Epoch 235/1000: 100%|████████████████████████████████████████████████████████████████████████████████████████████████████████████| 88/88 [00:30<00:00,  2.84it/s, D Loss=1.2277, G Loss=1.6585, Rec Loss=0.0619]\n"
     ]
    },
    {
     "name": "stdout",
     "output_type": "stream",
     "text": [
      "Checkpoint saved at epoch 235\n"
     ]
    },
    {
     "name": "stderr",
     "output_type": "stream",
     "text": [
      "Epoch 236/1000: 100%|████████████████████████████████████████████████████████████████████████████████████████████████████████████| 88/88 [00:30<00:00,  2.90it/s, D Loss=1.2249, G Loss=1.8060, Rec Loss=0.0558]\n"
     ]
    },
    {
     "name": "stdout",
     "output_type": "stream",
     "text": [
      "Checkpoint saved at epoch 236\n"
     ]
    },
    {
     "name": "stderr",
     "output_type": "stream",
     "text": [
      "Epoch 237/1000: 100%|████████████████████████████████████████████████████████████████████████████████████████████████████████████| 88/88 [00:31<00:00,  2.80it/s, D Loss=1.2976, G Loss=1.8970, Rec Loss=0.0748]\n"
     ]
    },
    {
     "name": "stdout",
     "output_type": "stream",
     "text": [
      "Checkpoint saved at epoch 237\n"
     ]
    },
    {
     "name": "stderr",
     "output_type": "stream",
     "text": [
      "Epoch 238/1000: 100%|████████████████████████████████████████████████████████████████████████████████████████████████████████████| 88/88 [00:30<00:00,  2.91it/s, D Loss=1.2280, G Loss=1.6036, Rec Loss=0.0552]\n"
     ]
    },
    {
     "name": "stdout",
     "output_type": "stream",
     "text": [
      "Checkpoint saved at epoch 238\n"
     ]
    },
    {
     "name": "stderr",
     "output_type": "stream",
     "text": [
      "Epoch 239/1000: 100%|████████████████████████████████████████████████████████████████████████████████████████████████████████████| 88/88 [00:30<00:00,  2.84it/s, D Loss=1.2264, G Loss=1.6919, Rec Loss=0.0695]\n"
     ]
    },
    {
     "name": "stdout",
     "output_type": "stream",
     "text": [
      "Checkpoint saved at epoch 239\n"
     ]
    },
    {
     "name": "stderr",
     "output_type": "stream",
     "text": [
      "Epoch 240/1000: 100%|████████████████████████████████████████████████████████████████████████████████████████████████████████████| 88/88 [00:33<00:00,  2.62it/s, D Loss=1.2473, G Loss=1.7574, Rec Loss=0.0679]\n"
     ]
    },
    {
     "name": "stdout",
     "output_type": "stream",
     "text": [
      "Additional checkpoint saved at checkpoints/DisasterGAN_epoch240.pth\n",
      "Checkpoint saved at epoch 240\n"
     ]
    },
    {
     "name": "stderr",
     "output_type": "stream",
     "text": [
      "Epoch 241/1000: 100%|████████████████████████████████████████████████████████████████████████████████████████████████████████████| 88/88 [00:34<00:00,  2.55it/s, D Loss=1.1991, G Loss=1.6730, Rec Loss=0.0595]\n"
     ]
    },
    {
     "name": "stdout",
     "output_type": "stream",
     "text": [
      "Checkpoint saved at epoch 241\n"
     ]
    },
    {
     "name": "stderr",
     "output_type": "stream",
     "text": [
      "Epoch 242/1000: 100%|████████████████████████████████████████████████████████████████████████████████████████████████████████████| 88/88 [00:30<00:00,  2.88it/s, D Loss=1.1479, G Loss=1.8865, Rec Loss=0.0674]\n"
     ]
    },
    {
     "name": "stdout",
     "output_type": "stream",
     "text": [
      "Checkpoint saved at epoch 242\n"
     ]
    },
    {
     "name": "stderr",
     "output_type": "stream",
     "text": [
      "Epoch 243/1000: 100%|████████████████████████████████████████████████████████████████████████████████████████████████████████████| 88/88 [00:30<00:00,  2.84it/s, D Loss=1.1755, G Loss=1.9869, Rec Loss=0.0746]\n"
     ]
    },
    {
     "name": "stdout",
     "output_type": "stream",
     "text": [
      "Checkpoint saved at epoch 243\n"
     ]
    },
    {
     "name": "stderr",
     "output_type": "stream",
     "text": [
      "Epoch 244/1000: 100%|████████████████████████████████████████████████████████████████████████████████████████████████████████████| 88/88 [00:31<00:00,  2.77it/s, D Loss=1.2230, G Loss=1.6615, Rec Loss=0.0697]\n"
     ]
    },
    {
     "name": "stdout",
     "output_type": "stream",
     "text": [
      "Checkpoint saved at epoch 244\n"
     ]
    },
    {
     "name": "stderr",
     "output_type": "stream",
     "text": [
      "Epoch 245/1000: 100%|████████████████████████████████████████████████████████████████████████████████████████████████████████████| 88/88 [00:31<00:00,  2.76it/s, D Loss=1.1806, G Loss=1.9142, Rec Loss=0.0737]\n"
     ]
    },
    {
     "name": "stdout",
     "output_type": "stream",
     "text": [
      "Checkpoint saved at epoch 245\n"
     ]
    },
    {
     "name": "stderr",
     "output_type": "stream",
     "text": [
      "Epoch 246/1000: 100%|████████████████████████████████████████████████████████████████████████████████████████████████████████████| 88/88 [00:32<00:00,  2.70it/s, D Loss=1.1530, G Loss=1.7702, Rec Loss=0.0656]\n"
     ]
    },
    {
     "name": "stdout",
     "output_type": "stream",
     "text": [
      "Checkpoint saved at epoch 246\n"
     ]
    },
    {
     "name": "stderr",
     "output_type": "stream",
     "text": [
      "Epoch 247/1000: 100%|████████████████████████████████████████████████████████████████████████████████████████████████████████████| 88/88 [00:30<00:00,  2.85it/s, D Loss=1.1782, G Loss=1.8396, Rec Loss=0.0569]\n"
     ]
    },
    {
     "name": "stdout",
     "output_type": "stream",
     "text": [
      "Checkpoint saved at epoch 247\n"
     ]
    },
    {
     "name": "stderr",
     "output_type": "stream",
     "text": [
      "Epoch 248/1000: 100%|████████████████████████████████████████████████████████████████████████████████████████████████████████████| 88/88 [00:32<00:00,  2.72it/s, D Loss=1.2609, G Loss=1.6165, Rec Loss=0.0569]\n"
     ]
    },
    {
     "name": "stdout",
     "output_type": "stream",
     "text": [
      "Checkpoint saved at epoch 248\n"
     ]
    },
    {
     "name": "stderr",
     "output_type": "stream",
     "text": [
      "Epoch 249/1000: 100%|████████████████████████████████████████████████████████████████████████████████████████████████████████████| 88/88 [00:31<00:00,  2.76it/s, D Loss=1.2353, G Loss=1.7268, Rec Loss=0.0542]\n"
     ]
    },
    {
     "name": "stdout",
     "output_type": "stream",
     "text": [
      "Checkpoint saved at epoch 249\n"
     ]
    },
    {
     "name": "stderr",
     "output_type": "stream",
     "text": [
      "Epoch 250/1000: 100%|████████████████████████████████████████████████████████████████████████████████████████████████████████████| 88/88 [00:33<00:00,  2.60it/s, D Loss=1.1240, G Loss=1.6850, Rec Loss=0.0648]\n"
     ]
    },
    {
     "name": "stdout",
     "output_type": "stream",
     "text": [
      "Checkpoint saved at epoch 250\n"
     ]
    },
    {
     "name": "stderr",
     "output_type": "stream",
     "text": [
      "Epoch 251/1000: 100%|████████████████████████████████████████████████████████████████████████████████████████████████████████████| 88/88 [00:33<00:00,  2.62it/s, D Loss=1.3846, G Loss=1.9038, Rec Loss=0.0734]\n"
     ]
    },
    {
     "name": "stdout",
     "output_type": "stream",
     "text": [
      "Checkpoint saved at epoch 251\n"
     ]
    },
    {
     "name": "stderr",
     "output_type": "stream",
     "text": [
      "Epoch 252/1000: 100%|████████████████████████████████████████████████████████████████████████████████████████████████████████████| 88/88 [00:30<00:00,  2.88it/s, D Loss=1.1691, G Loss=1.9547, Rec Loss=0.0697]\n"
     ]
    },
    {
     "name": "stdout",
     "output_type": "stream",
     "text": [
      "Checkpoint saved at epoch 252\n"
     ]
    },
    {
     "name": "stderr",
     "output_type": "stream",
     "text": [
      "Epoch 253/1000: 100%|████████████████████████████████████████████████████████████████████████████████████████████████████████████| 88/88 [00:32<00:00,  2.67it/s, D Loss=1.2609, G Loss=1.7635, Rec Loss=0.0671]\n"
     ]
    },
    {
     "name": "stdout",
     "output_type": "stream",
     "text": [
      "Checkpoint saved at epoch 253\n"
     ]
    },
    {
     "name": "stderr",
     "output_type": "stream",
     "text": [
      "Epoch 254/1000: 100%|████████████████████████████████████████████████████████████████████████████████████████████████████████████| 88/88 [00:34<00:00,  2.57it/s, D Loss=1.3205, G Loss=1.6554, Rec Loss=0.0619]\n"
     ]
    },
    {
     "name": "stdout",
     "output_type": "stream",
     "text": [
      "Checkpoint saved at epoch 254\n"
     ]
    },
    {
     "name": "stderr",
     "output_type": "stream",
     "text": [
      "Epoch 255/1000: 100%|████████████████████████████████████████████████████████████████████████████████████████████████████████████| 88/88 [00:31<00:00,  2.76it/s, D Loss=1.2073, G Loss=1.7618, Rec Loss=0.0617]\n"
     ]
    },
    {
     "name": "stdout",
     "output_type": "stream",
     "text": [
      "Additional checkpoint saved at checkpoints/DisasterGAN_epoch255.pth\n",
      "Checkpoint saved at epoch 255\n"
     ]
    },
    {
     "name": "stderr",
     "output_type": "stream",
     "text": [
      "Epoch 256/1000: 100%|████████████████████████████████████████████████████████████████████████████████████████████████████████████| 88/88 [00:31<00:00,  2.79it/s, D Loss=1.1096, G Loss=1.8799, Rec Loss=0.0681]\n"
     ]
    },
    {
     "name": "stdout",
     "output_type": "stream",
     "text": [
      "Checkpoint saved at epoch 256\n"
     ]
    },
    {
     "name": "stderr",
     "output_type": "stream",
     "text": [
      "Epoch 257/1000: 100%|████████████████████████████████████████████████████████████████████████████████████████████████████████████| 88/88 [00:32<00:00,  2.75it/s, D Loss=1.1352, G Loss=1.7751, Rec Loss=0.0607]\n"
     ]
    },
    {
     "name": "stdout",
     "output_type": "stream",
     "text": [
      "Checkpoint saved at epoch 257\n"
     ]
    },
    {
     "name": "stderr",
     "output_type": "stream",
     "text": [
      "Epoch 258/1000: 100%|████████████████████████████████████████████████████████████████████████████████████████████████████████████| 88/88 [00:32<00:00,  2.68it/s, D Loss=1.3590, G Loss=2.2333, Rec Loss=0.0689]\n"
     ]
    },
    {
     "name": "stdout",
     "output_type": "stream",
     "text": [
      "Checkpoint saved at epoch 258\n"
     ]
    },
    {
     "name": "stderr",
     "output_type": "stream",
     "text": [
      "Epoch 259/1000: 100%|████████████████████████████████████████████████████████████████████████████████████████████████████████████| 88/88 [00:31<00:00,  2.79it/s, D Loss=1.1540, G Loss=1.9350, Rec Loss=0.0640]\n"
     ]
    },
    {
     "name": "stdout",
     "output_type": "stream",
     "text": [
      "Checkpoint saved at epoch 259\n"
     ]
    },
    {
     "name": "stderr",
     "output_type": "stream",
     "text": [
      "Epoch 260/1000: 100%|████████████████████████████████████████████████████████████████████████████████████████████████████████████| 88/88 [00:34<00:00,  2.58it/s, D Loss=1.1277, G Loss=1.9545, Rec Loss=0.0697]\n"
     ]
    },
    {
     "name": "stdout",
     "output_type": "stream",
     "text": [
      "Checkpoint saved at epoch 260\n"
     ]
    },
    {
     "name": "stderr",
     "output_type": "stream",
     "text": [
      "Epoch 261/1000: 100%|████████████████████████████████████████████████████████████████████████████████████████████████████████████| 88/88 [00:32<00:00,  2.71it/s, D Loss=1.2929, G Loss=1.9979, Rec Loss=0.0837]\n"
     ]
    },
    {
     "name": "stdout",
     "output_type": "stream",
     "text": [
      "Checkpoint saved at epoch 261\n"
     ]
    },
    {
     "name": "stderr",
     "output_type": "stream",
     "text": [
      "Epoch 262/1000: 100%|████████████████████████████████████████████████████████████████████████████████████████████████████████████| 88/88 [00:31<00:00,  2.80it/s, D Loss=1.3542, G Loss=1.7620, Rec Loss=0.0621]\n"
     ]
    },
    {
     "name": "stdout",
     "output_type": "stream",
     "text": [
      "Checkpoint saved at epoch 262\n"
     ]
    },
    {
     "name": "stderr",
     "output_type": "stream",
     "text": [
      "Epoch 263/1000: 100%|████████████████████████████████████████████████████████████████████████████████████████████████████████████| 88/88 [00:32<00:00,  2.71it/s, D Loss=1.1667, G Loss=1.9731, Rec Loss=0.0740]\n"
     ]
    },
    {
     "name": "stdout",
     "output_type": "stream",
     "text": [
      "Checkpoint saved at epoch 263\n"
     ]
    },
    {
     "name": "stderr",
     "output_type": "stream",
     "text": [
      "Epoch 264/1000: 100%|████████████████████████████████████████████████████████████████████████████████████████████████████████████| 88/88 [00:33<00:00,  2.62it/s, D Loss=1.1562, G Loss=2.6121, Rec Loss=0.0741]\n"
     ]
    },
    {
     "name": "stdout",
     "output_type": "stream",
     "text": [
      "Checkpoint saved at epoch 264\n"
     ]
    },
    {
     "name": "stderr",
     "output_type": "stream",
     "text": [
      "Epoch 265/1000: 100%|████████████████████████████████████████████████████████████████████████████████████████████████████████████| 88/88 [00:30<00:00,  2.86it/s, D Loss=1.2690, G Loss=1.8886, Rec Loss=0.0598]\n"
     ]
    },
    {
     "name": "stdout",
     "output_type": "stream",
     "text": [
      "Checkpoint saved at epoch 265\n"
     ]
    },
    {
     "name": "stderr",
     "output_type": "stream",
     "text": [
      "Epoch 266/1000: 100%|████████████████████████████████████████████████████████████████████████████████████████████████████████████| 88/88 [00:33<00:00,  2.64it/s, D Loss=1.1259, G Loss=1.7024, Rec Loss=0.0650]\n"
     ]
    },
    {
     "name": "stdout",
     "output_type": "stream",
     "text": [
      "Checkpoint saved at epoch 266\n"
     ]
    },
    {
     "name": "stderr",
     "output_type": "stream",
     "text": [
      "Epoch 267/1000: 100%|████████████████████████████████████████████████████████████████████████████████████████████████████████████| 88/88 [00:33<00:00,  2.64it/s, D Loss=1.1219, G Loss=1.9985, Rec Loss=0.0635]\n"
     ]
    },
    {
     "name": "stdout",
     "output_type": "stream",
     "text": [
      "Checkpoint saved at epoch 267\n"
     ]
    },
    {
     "name": "stderr",
     "output_type": "stream",
     "text": [
      "Epoch 268/1000: 100%|████████████████████████████████████████████████████████████████████████████████████████████████████████████| 88/88 [00:30<00:00,  2.85it/s, D Loss=1.0523, G Loss=2.0059, Rec Loss=0.0677]\n"
     ]
    },
    {
     "name": "stdout",
     "output_type": "stream",
     "text": [
      "Checkpoint saved at epoch 268\n"
     ]
    },
    {
     "name": "stderr",
     "output_type": "stream",
     "text": [
      "Epoch 269/1000: 100%|████████████████████████████████████████████████████████████████████████████████████████████████████████████| 88/88 [00:31<00:00,  2.78it/s, D Loss=1.3210, G Loss=1.7961, Rec Loss=0.0658]\n"
     ]
    },
    {
     "name": "stdout",
     "output_type": "stream",
     "text": [
      "Checkpoint saved at epoch 269\n"
     ]
    },
    {
     "name": "stderr",
     "output_type": "stream",
     "text": [
      "Epoch 270/1000: 100%|████████████████████████████████████████████████████████████████████████████████████████████████████████████| 88/88 [00:34<00:00,  2.58it/s, D Loss=1.1183, G Loss=2.0202, Rec Loss=0.0691]\n"
     ]
    },
    {
     "name": "stdout",
     "output_type": "stream",
     "text": [
      "Additional checkpoint saved at checkpoints/DisasterGAN_epoch270.pth\n",
      "Checkpoint saved at epoch 270\n"
     ]
    },
    {
     "name": "stderr",
     "output_type": "stream",
     "text": [
      "Epoch 271/1000: 100%|████████████████████████████████████████████████████████████████████████████████████████████████████████████| 88/88 [00:31<00:00,  2.78it/s, D Loss=1.2366, G Loss=1.9241, Rec Loss=0.0654]\n"
     ]
    },
    {
     "name": "stdout",
     "output_type": "stream",
     "text": [
      "Checkpoint saved at epoch 271\n"
     ]
    },
    {
     "name": "stderr",
     "output_type": "stream",
     "text": [
      "Epoch 272/1000: 100%|████████████████████████████████████████████████████████████████████████████████████████████████████████████| 88/88 [00:31<00:00,  2.75it/s, D Loss=1.4428, G Loss=1.7462, Rec Loss=0.0664]\n"
     ]
    },
    {
     "name": "stdout",
     "output_type": "stream",
     "text": [
      "Checkpoint saved at epoch 272\n"
     ]
    },
    {
     "name": "stderr",
     "output_type": "stream",
     "text": [
      "Epoch 273/1000: 100%|████████████████████████████████████████████████████████████████████████████████████████████████████████████| 88/88 [00:32<00:00,  2.73it/s, D Loss=1.1397, G Loss=1.8018, Rec Loss=0.0678]\n"
     ]
    },
    {
     "name": "stdout",
     "output_type": "stream",
     "text": [
      "Checkpoint saved at epoch 273\n"
     ]
    },
    {
     "name": "stderr",
     "output_type": "stream",
     "text": [
      "Epoch 274/1000: 100%|████████████████████████████████████████████████████████████████████████████████████████████████████████████| 88/88 [00:31<00:00,  2.80it/s, D Loss=1.1642, G Loss=1.9442, Rec Loss=0.0548]\n"
     ]
    },
    {
     "name": "stdout",
     "output_type": "stream",
     "text": [
      "Checkpoint saved at epoch 274\n"
     ]
    },
    {
     "name": "stderr",
     "output_type": "stream",
     "text": [
      "Epoch 275/1000: 100%|████████████████████████████████████████████████████████████████████████████████████████████████████████████| 88/88 [00:30<00:00,  2.87it/s, D Loss=1.3415, G Loss=1.6663, Rec Loss=0.0604]\n"
     ]
    },
    {
     "name": "stdout",
     "output_type": "stream",
     "text": [
      "Checkpoint saved at epoch 275\n"
     ]
    },
    {
     "name": "stderr",
     "output_type": "stream",
     "text": [
      "Epoch 276/1000: 100%|████████████████████████████████████████████████████████████████████████████████████████████████████████████| 88/88 [00:31<00:00,  2.80it/s, D Loss=1.1932, G Loss=1.8717, Rec Loss=0.0668]\n"
     ]
    },
    {
     "name": "stdout",
     "output_type": "stream",
     "text": [
      "Checkpoint saved at epoch 276\n"
     ]
    },
    {
     "name": "stderr",
     "output_type": "stream",
     "text": [
      "Epoch 277/1000: 100%|████████████████████████████████████████████████████████████████████████████████████████████████████████████| 88/88 [00:30<00:00,  2.90it/s, D Loss=1.3114, G Loss=1.8374, Rec Loss=0.0602]\n"
     ]
    },
    {
     "name": "stdout",
     "output_type": "stream",
     "text": [
      "Checkpoint saved at epoch 277\n"
     ]
    },
    {
     "name": "stderr",
     "output_type": "stream",
     "text": [
      "Epoch 278/1000: 100%|████████████████████████████████████████████████████████████████████████████████████████████████████████████| 88/88 [00:33<00:00,  2.65it/s, D Loss=1.2227, G Loss=1.9636, Rec Loss=0.0639]\n"
     ]
    },
    {
     "name": "stdout",
     "output_type": "stream",
     "text": [
      "Checkpoint saved at epoch 278\n"
     ]
    },
    {
     "name": "stderr",
     "output_type": "stream",
     "text": [
      "Epoch 279/1000: 100%|████████████████████████████████████████████████████████████████████████████████████████████████████████████| 88/88 [00:31<00:00,  2.78it/s, D Loss=1.1661, G Loss=1.6664, Rec Loss=0.0695]\n"
     ]
    },
    {
     "name": "stdout",
     "output_type": "stream",
     "text": [
      "Checkpoint saved at epoch 279\n"
     ]
    },
    {
     "name": "stderr",
     "output_type": "stream",
     "text": [
      "Epoch 280/1000: 100%|████████████████████████████████████████████████████████████████████████████████████████████████████████████| 88/88 [00:31<00:00,  2.81it/s, D Loss=1.0635, G Loss=1.9855, Rec Loss=0.0707]\n"
     ]
    },
    {
     "name": "stdout",
     "output_type": "stream",
     "text": [
      "Checkpoint saved at epoch 280\n"
     ]
    },
    {
     "name": "stderr",
     "output_type": "stream",
     "text": [
      "Epoch 281/1000: 100%|████████████████████████████████████████████████████████████████████████████████████████████████████████████| 88/88 [00:31<00:00,  2.82it/s, D Loss=1.1435, G Loss=2.0528, Rec Loss=0.0745]\n"
     ]
    },
    {
     "name": "stdout",
     "output_type": "stream",
     "text": [
      "Checkpoint saved at epoch 281\n"
     ]
    },
    {
     "name": "stderr",
     "output_type": "stream",
     "text": [
      "Epoch 282/1000: 100%|████████████████████████████████████████████████████████████████████████████████████████████████████████████| 88/88 [00:32<00:00,  2.67it/s, D Loss=1.2849, G Loss=1.8924, Rec Loss=0.0835]\n"
     ]
    },
    {
     "name": "stdout",
     "output_type": "stream",
     "text": [
      "Checkpoint saved at epoch 282\n"
     ]
    },
    {
     "name": "stderr",
     "output_type": "stream",
     "text": [
      "Epoch 283/1000: 100%|████████████████████████████████████████████████████████████████████████████████████████████████████████████| 88/88 [00:31<00:00,  2.83it/s, D Loss=1.2902, G Loss=1.7456, Rec Loss=0.0542]\n"
     ]
    },
    {
     "name": "stdout",
     "output_type": "stream",
     "text": [
      "Checkpoint saved at epoch 283\n"
     ]
    },
    {
     "name": "stderr",
     "output_type": "stream",
     "text": [
      "Epoch 284/1000: 100%|████████████████████████████████████████████████████████████████████████████████████████████████████████████| 88/88 [00:30<00:00,  2.86it/s, D Loss=1.1931, G Loss=1.8407, Rec Loss=0.0653]\n"
     ]
    },
    {
     "name": "stdout",
     "output_type": "stream",
     "text": [
      "Checkpoint saved at epoch 284\n"
     ]
    },
    {
     "name": "stderr",
     "output_type": "stream",
     "text": [
      "Epoch 285/1000: 100%|████████████████████████████████████████████████████████████████████████████████████████████████████████████| 88/88 [00:30<00:00,  2.85it/s, D Loss=1.1597, G Loss=1.6587, Rec Loss=0.0587]\n"
     ]
    },
    {
     "name": "stdout",
     "output_type": "stream",
     "text": [
      "Additional checkpoint saved at checkpoints/DisasterGAN_epoch285.pth\n",
      "Checkpoint saved at epoch 285\n"
     ]
    },
    {
     "name": "stderr",
     "output_type": "stream",
     "text": [
      "Epoch 286/1000: 100%|████████████████████████████████████████████████████████████████████████████████████████████████████████████| 88/88 [00:32<00:00,  2.75it/s, D Loss=1.1258, G Loss=1.9522, Rec Loss=0.0602]\n"
     ]
    },
    {
     "name": "stdout",
     "output_type": "stream",
     "text": [
      "Checkpoint saved at epoch 286\n"
     ]
    },
    {
     "name": "stderr",
     "output_type": "stream",
     "text": [
      "Epoch 287/1000: 100%|████████████████████████████████████████████████████████████████████████████████████████████████████████████| 88/88 [00:31<00:00,  2.83it/s, D Loss=0.9010, G Loss=2.1360, Rec Loss=0.0696]\n"
     ]
    },
    {
     "name": "stdout",
     "output_type": "stream",
     "text": [
      "Checkpoint saved at epoch 287\n"
     ]
    },
    {
     "name": "stderr",
     "output_type": "stream",
     "text": [
      "Epoch 288/1000: 100%|████████████████████████████████████████████████████████████████████████████████████████████████████████████| 88/88 [00:32<00:00,  2.69it/s, D Loss=1.1851, G Loss=1.9166, Rec Loss=0.0697]\n"
     ]
    },
    {
     "name": "stdout",
     "output_type": "stream",
     "text": [
      "Checkpoint saved at epoch 288\n"
     ]
    },
    {
     "name": "stderr",
     "output_type": "stream",
     "text": [
      "Epoch 289/1000: 100%|████████████████████████████████████████████████████████████████████████████████████████████████████████████| 88/88 [00:31<00:00,  2.81it/s, D Loss=1.0794, G Loss=1.8404, Rec Loss=0.0620]\n"
     ]
    },
    {
     "name": "stdout",
     "output_type": "stream",
     "text": [
      "Checkpoint saved at epoch 289\n"
     ]
    },
    {
     "name": "stderr",
     "output_type": "stream",
     "text": [
      "Epoch 290/1000: 100%|████████████████████████████████████████████████████████████████████████████████████████████████████████████| 88/88 [00:31<00:00,  2.84it/s, D Loss=1.0793, G Loss=1.8365, Rec Loss=0.0549]\n"
     ]
    },
    {
     "name": "stdout",
     "output_type": "stream",
     "text": [
      "Checkpoint saved at epoch 290\n"
     ]
    },
    {
     "name": "stderr",
     "output_type": "stream",
     "text": [
      "Epoch 291/1000: 100%|████████████████████████████████████████████████████████████████████████████████████████████████████████████| 88/88 [00:32<00:00,  2.70it/s, D Loss=1.2104, G Loss=1.8032, Rec Loss=0.0685]\n"
     ]
    },
    {
     "name": "stdout",
     "output_type": "stream",
     "text": [
      "Checkpoint saved at epoch 291\n"
     ]
    },
    {
     "name": "stderr",
     "output_type": "stream",
     "text": [
      "Epoch 292/1000: 100%|████████████████████████████████████████████████████████████████████████████████████████████████████████████| 88/88 [00:31<00:00,  2.77it/s, D Loss=1.2347, G Loss=1.7017, Rec Loss=0.0622]\n"
     ]
    },
    {
     "name": "stdout",
     "output_type": "stream",
     "text": [
      "Checkpoint saved at epoch 292\n"
     ]
    },
    {
     "name": "stderr",
     "output_type": "stream",
     "text": [
      "Epoch 293/1000: 100%|████████████████████████████████████████████████████████████████████████████████████████████████████████████| 88/88 [00:31<00:00,  2.77it/s, D Loss=1.2455, G Loss=1.7230, Rec Loss=0.0652]\n"
     ]
    },
    {
     "name": "stdout",
     "output_type": "stream",
     "text": [
      "Checkpoint saved at epoch 293\n"
     ]
    },
    {
     "name": "stderr",
     "output_type": "stream",
     "text": [
      "Epoch 294/1000: 100%|████████████████████████████████████████████████████████████████████████████████████████████████████████████| 88/88 [00:33<00:00,  2.61it/s, D Loss=1.0662, G Loss=2.5185, Rec Loss=0.0720]\n"
     ]
    },
    {
     "name": "stdout",
     "output_type": "stream",
     "text": [
      "Checkpoint saved at epoch 294\n"
     ]
    },
    {
     "name": "stderr",
     "output_type": "stream",
     "text": [
      "Epoch 295/1000: 100%|████████████████████████████████████████████████████████████████████████████████████████████████████████████| 88/88 [00:30<00:00,  2.91it/s, D Loss=1.1053, G Loss=1.9367, Rec Loss=0.0648]\n"
     ]
    },
    {
     "name": "stdout",
     "output_type": "stream",
     "text": [
      "Checkpoint saved at epoch 295\n"
     ]
    },
    {
     "name": "stderr",
     "output_type": "stream",
     "text": [
      "Epoch 296/1000: 100%|████████████████████████████████████████████████████████████████████████████████████████████████████████████| 88/88 [00:32<00:00,  2.67it/s, D Loss=1.1157, G Loss=2.0901, Rec Loss=0.0670]\n"
     ]
    },
    {
     "name": "stdout",
     "output_type": "stream",
     "text": [
      "Checkpoint saved at epoch 296\n"
     ]
    },
    {
     "name": "stderr",
     "output_type": "stream",
     "text": [
      "Epoch 297/1000: 100%|████████████████████████████████████████████████████████████████████████████████████████████████████████████| 88/88 [00:32<00:00,  2.71it/s, D Loss=1.2232, G Loss=1.9127, Rec Loss=0.0702]\n"
     ]
    },
    {
     "name": "stdout",
     "output_type": "stream",
     "text": [
      "Checkpoint saved at epoch 297\n"
     ]
    },
    {
     "name": "stderr",
     "output_type": "stream",
     "text": [
      "Epoch 298/1000: 100%|████████████████████████████████████████████████████████████████████████████████████████████████████████████| 88/88 [00:31<00:00,  2.78it/s, D Loss=1.2487, G Loss=1.9108, Rec Loss=0.0645]\n"
     ]
    },
    {
     "name": "stdout",
     "output_type": "stream",
     "text": [
      "Checkpoint saved at epoch 298\n"
     ]
    },
    {
     "name": "stderr",
     "output_type": "stream",
     "text": [
      "Epoch 299/1000: 100%|████████████████████████████████████████████████████████████████████████████████████████████████████████████| 88/88 [00:31<00:00,  2.76it/s, D Loss=1.1131, G Loss=1.8040, Rec Loss=0.0646]\n"
     ]
    },
    {
     "name": "stdout",
     "output_type": "stream",
     "text": [
      "Checkpoint saved at epoch 299\n"
     ]
    },
    {
     "name": "stderr",
     "output_type": "stream",
     "text": [
      "Epoch 300/1000: 100%|████████████████████████████████████████████████████████████████████████████████████████████████████████████| 88/88 [00:30<00:00,  2.90it/s, D Loss=1.0947, G Loss=1.7759, Rec Loss=0.0655]\n"
     ]
    },
    {
     "name": "stdout",
     "output_type": "stream",
     "text": [
      "Additional checkpoint saved at checkpoints/DisasterGAN_epoch300.pth\n",
      "Checkpoint saved at epoch 300\n"
     ]
    },
    {
     "name": "stderr",
     "output_type": "stream",
     "text": [
      "Epoch 301/1000: 100%|████████████████████████████████████████████████████████████████████████████████████████████████████████████| 88/88 [00:30<00:00,  2.84it/s, D Loss=1.2048, G Loss=1.4976, Rec Loss=0.0563]\n"
     ]
    },
    {
     "name": "stdout",
     "output_type": "stream",
     "text": [
      "Checkpoint saved at epoch 301\n"
     ]
    },
    {
     "name": "stderr",
     "output_type": "stream",
     "text": [
      "Epoch 302/1000: 100%|████████████████████████████████████████████████████████████████████████████████████████████████████████████| 88/88 [00:32<00:00,  2.74it/s, D Loss=1.1857, G Loss=2.2494, Rec Loss=0.0650]\n"
     ]
    },
    {
     "name": "stdout",
     "output_type": "stream",
     "text": [
      "Checkpoint saved at epoch 302\n"
     ]
    },
    {
     "name": "stderr",
     "output_type": "stream",
     "text": [
      "Epoch 303/1000: 100%|████████████████████████████████████████████████████████████████████████████████████████████████████████████| 88/88 [00:31<00:00,  2.78it/s, D Loss=1.2972, G Loss=1.8450, Rec Loss=0.0779]\n"
     ]
    },
    {
     "name": "stdout",
     "output_type": "stream",
     "text": [
      "Checkpoint saved at epoch 303\n"
     ]
    },
    {
     "name": "stderr",
     "output_type": "stream",
     "text": [
      "Epoch 304/1000: 100%|████████████████████████████████████████████████████████████████████████████████████████████████████████████| 88/88 [00:37<00:00,  2.33it/s, D Loss=1.1527, G Loss=2.3648, Rec Loss=0.0639]\n"
     ]
    },
    {
     "name": "stdout",
     "output_type": "stream",
     "text": [
      "Checkpoint saved at epoch 304\n"
     ]
    },
    {
     "name": "stderr",
     "output_type": "stream",
     "text": [
      "Epoch 305/1000: 100%|████████████████████████████████████████████████████████████████████████████████████████████████████████████| 88/88 [00:30<00:00,  2.88it/s, D Loss=1.1238, G Loss=1.7138, Rec Loss=0.0689]\n"
     ]
    },
    {
     "name": "stdout",
     "output_type": "stream",
     "text": [
      "Checkpoint saved at epoch 305\n"
     ]
    },
    {
     "name": "stderr",
     "output_type": "stream",
     "text": [
      "Epoch 306/1000: 100%|████████████████████████████████████████████████████████████████████████████████████████████████████████████| 88/88 [00:32<00:00,  2.72it/s, D Loss=1.0999, G Loss=1.6206, Rec Loss=0.0636]\n"
     ]
    },
    {
     "name": "stdout",
     "output_type": "stream",
     "text": [
      "Checkpoint saved at epoch 306\n"
     ]
    },
    {
     "name": "stderr",
     "output_type": "stream",
     "text": [
      "Epoch 307/1000: 100%|████████████████████████████████████████████████████████████████████████████████████████████████████████████| 88/88 [00:31<00:00,  2.84it/s, D Loss=1.1851, G Loss=1.7386, Rec Loss=0.0652]\n"
     ]
    },
    {
     "name": "stdout",
     "output_type": "stream",
     "text": [
      "Checkpoint saved at epoch 307\n"
     ]
    },
    {
     "name": "stderr",
     "output_type": "stream",
     "text": [
      "Epoch 308/1000: 100%|████████████████████████████████████████████████████████████████████████████████████████████████████████████| 88/88 [00:32<00:00,  2.67it/s, D Loss=1.2282, G Loss=1.9398, Rec Loss=0.0683]\n"
     ]
    },
    {
     "name": "stdout",
     "output_type": "stream",
     "text": [
      "Checkpoint saved at epoch 308\n"
     ]
    },
    {
     "name": "stderr",
     "output_type": "stream",
     "text": [
      "Epoch 309/1000: 100%|████████████████████████████████████████████████████████████████████████████████████████████████████████████| 88/88 [00:31<00:00,  2.80it/s, D Loss=1.2222, G Loss=1.8031, Rec Loss=0.0620]\n"
     ]
    },
    {
     "name": "stdout",
     "output_type": "stream",
     "text": [
      "Checkpoint saved at epoch 309\n"
     ]
    },
    {
     "name": "stderr",
     "output_type": "stream",
     "text": [
      "Epoch 310/1000: 100%|████████████████████████████████████████████████████████████████████████████████████████████████████████████| 88/88 [00:30<00:00,  2.85it/s, D Loss=1.1824, G Loss=1.8845, Rec Loss=0.0596]\n"
     ]
    },
    {
     "name": "stdout",
     "output_type": "stream",
     "text": [
      "Checkpoint saved at epoch 310\n"
     ]
    },
    {
     "name": "stderr",
     "output_type": "stream",
     "text": [
      "Epoch 311/1000: 100%|████████████████████████████████████████████████████████████████████████████████████████████████████████████| 88/88 [00:31<00:00,  2.83it/s, D Loss=1.1498, G Loss=1.7985, Rec Loss=0.0647]\n"
     ]
    },
    {
     "name": "stdout",
     "output_type": "stream",
     "text": [
      "Checkpoint saved at epoch 311\n"
     ]
    },
    {
     "name": "stderr",
     "output_type": "stream",
     "text": [
      "Epoch 312/1000: 100%|████████████████████████████████████████████████████████████████████████████████████████████████████████████| 88/88 [00:30<00:00,  2.85it/s, D Loss=1.0246, G Loss=2.0465, Rec Loss=0.0689]\n"
     ]
    },
    {
     "name": "stdout",
     "output_type": "stream",
     "text": [
      "Checkpoint saved at epoch 312\n"
     ]
    },
    {
     "name": "stderr",
     "output_type": "stream",
     "text": [
      "Epoch 313/1000: 100%|████████████████████████████████████████████████████████████████████████████████████████████████████████████| 88/88 [00:32<00:00,  2.67it/s, D Loss=1.1775, G Loss=1.7384, Rec Loss=0.0630]\n"
     ]
    },
    {
     "name": "stdout",
     "output_type": "stream",
     "text": [
      "Checkpoint saved at epoch 313\n"
     ]
    },
    {
     "name": "stderr",
     "output_type": "stream",
     "text": [
      "Epoch 314/1000: 100%|████████████████████████████████████████████████████████████████████████████████████████████████████████████| 88/88 [00:33<00:00,  2.61it/s, D Loss=1.1000, G Loss=1.8258, Rec Loss=0.0615]\n"
     ]
    },
    {
     "name": "stdout",
     "output_type": "stream",
     "text": [
      "Checkpoint saved at epoch 314\n"
     ]
    },
    {
     "name": "stderr",
     "output_type": "stream",
     "text": [
      "Epoch 315/1000: 100%|████████████████████████████████████████████████████████████████████████████████████████████████████████████| 88/88 [00:33<00:00,  2.62it/s, D Loss=1.2604, G Loss=1.6043, Rec Loss=0.0525]\n"
     ]
    },
    {
     "name": "stdout",
     "output_type": "stream",
     "text": [
      "Additional checkpoint saved at checkpoints/DisasterGAN_epoch315.pth\n",
      "Checkpoint saved at epoch 315\n"
     ]
    },
    {
     "name": "stderr",
     "output_type": "stream",
     "text": [
      "Epoch 316/1000: 100%|████████████████████████████████████████████████████████████████████████████████████████████████████████████| 88/88 [00:31<00:00,  2.83it/s, D Loss=1.0893, G Loss=1.6571, Rec Loss=0.0486]\n"
     ]
    },
    {
     "name": "stdout",
     "output_type": "stream",
     "text": [
      "Checkpoint saved at epoch 316\n"
     ]
    },
    {
     "name": "stderr",
     "output_type": "stream",
     "text": [
      "Epoch 317/1000: 100%|████████████████████████████████████████████████████████████████████████████████████████████████████████████| 88/88 [00:31<00:00,  2.79it/s, D Loss=1.2427, G Loss=2.0583, Rec Loss=0.0565]\n"
     ]
    },
    {
     "name": "stdout",
     "output_type": "stream",
     "text": [
      "Checkpoint saved at epoch 317\n"
     ]
    },
    {
     "name": "stderr",
     "output_type": "stream",
     "text": [
      "Epoch 318/1000: 100%|████████████████████████████████████████████████████████████████████████████████████████████████████████████| 88/88 [00:33<00:00,  2.66it/s, D Loss=1.1153, G Loss=2.3583, Rec Loss=0.0588]\n"
     ]
    },
    {
     "name": "stdout",
     "output_type": "stream",
     "text": [
      "Checkpoint saved at epoch 318\n"
     ]
    },
    {
     "name": "stderr",
     "output_type": "stream",
     "text": [
      "Epoch 319/1000: 100%|████████████████████████████████████████████████████████████████████████████████████████████████████████████| 88/88 [00:33<00:00,  2.66it/s, D Loss=1.2659, G Loss=1.3443, Rec Loss=0.0750]\n"
     ]
    },
    {
     "name": "stdout",
     "output_type": "stream",
     "text": [
      "Checkpoint saved at epoch 319\n"
     ]
    },
    {
     "name": "stderr",
     "output_type": "stream",
     "text": [
      "Epoch 320/1000: 100%|████████████████████████████████████████████████████████████████████████████████████████████████████████████| 88/88 [00:32<00:00,  2.72it/s, D Loss=1.1393, G Loss=1.9695, Rec Loss=0.0723]\n"
     ]
    },
    {
     "name": "stdout",
     "output_type": "stream",
     "text": [
      "Checkpoint saved at epoch 320\n"
     ]
    },
    {
     "name": "stderr",
     "output_type": "stream",
     "text": [
      "Epoch 321/1000: 100%|████████████████████████████████████████████████████████████████████████████████████████████████████████████| 88/88 [00:32<00:00,  2.69it/s, D Loss=0.9917, G Loss=2.0362, Rec Loss=0.0633]\n"
     ]
    },
    {
     "name": "stdout",
     "output_type": "stream",
     "text": [
      "Checkpoint saved at epoch 321\n"
     ]
    },
    {
     "name": "stderr",
     "output_type": "stream",
     "text": [
      "Epoch 322/1000: 100%|████████████████████████████████████████████████████████████████████████████████████████████████████████████| 88/88 [00:31<00:00,  2.75it/s, D Loss=1.0290, G Loss=1.7283, Rec Loss=0.0635]\n"
     ]
    },
    {
     "name": "stdout",
     "output_type": "stream",
     "text": [
      "Checkpoint saved at epoch 322\n"
     ]
    },
    {
     "name": "stderr",
     "output_type": "stream",
     "text": [
      "Epoch 323/1000: 100%|████████████████████████████████████████████████████████████████████████████████████████████████████████████| 88/88 [00:32<00:00,  2.73it/s, D Loss=1.1650, G Loss=1.7450, Rec Loss=0.0665]\n"
     ]
    },
    {
     "name": "stdout",
     "output_type": "stream",
     "text": [
      "Checkpoint saved at epoch 323\n"
     ]
    },
    {
     "name": "stderr",
     "output_type": "stream",
     "text": [
      "Epoch 324/1000: 100%|████████████████████████████████████████████████████████████████████████████████████████████████████████████| 88/88 [00:30<00:00,  2.84it/s, D Loss=1.1158, G Loss=1.9894, Rec Loss=0.0735]\n"
     ]
    },
    {
     "name": "stdout",
     "output_type": "stream",
     "text": [
      "Checkpoint saved at epoch 324\n"
     ]
    },
    {
     "name": "stderr",
     "output_type": "stream",
     "text": [
      "Epoch 325/1000: 100%|████████████████████████████████████████████████████████████████████████████████████████████████████████████| 88/88 [00:30<00:00,  2.88it/s, D Loss=1.0324, G Loss=2.0772, Rec Loss=0.0725]\n"
     ]
    },
    {
     "name": "stdout",
     "output_type": "stream",
     "text": [
      "Checkpoint saved at epoch 325\n"
     ]
    },
    {
     "name": "stderr",
     "output_type": "stream",
     "text": [
      "Epoch 326/1000: 100%|████████████████████████████████████████████████████████████████████████████████████████████████████████████| 88/88 [00:32<00:00,  2.71it/s, D Loss=1.1015, G Loss=1.9577, Rec Loss=0.0693]\n"
     ]
    },
    {
     "name": "stdout",
     "output_type": "stream",
     "text": [
      "Checkpoint saved at epoch 326\n"
     ]
    },
    {
     "name": "stderr",
     "output_type": "stream",
     "text": [
      "Epoch 327/1000: 100%|████████████████████████████████████████████████████████████████████████████████████████████████████████████| 88/88 [00:33<00:00,  2.65it/s, D Loss=1.2054, G Loss=1.8730, Rec Loss=0.0734]\n"
     ]
    },
    {
     "name": "stdout",
     "output_type": "stream",
     "text": [
      "Checkpoint saved at epoch 327\n"
     ]
    },
    {
     "name": "stderr",
     "output_type": "stream",
     "text": [
      "Epoch 328/1000: 100%|████████████████████████████████████████████████████████████████████████████████████████████████████████████| 88/88 [00:31<00:00,  2.79it/s, D Loss=1.1696, G Loss=2.1982, Rec Loss=0.0589]\n"
     ]
    },
    {
     "name": "stdout",
     "output_type": "stream",
     "text": [
      "Checkpoint saved at epoch 328\n"
     ]
    },
    {
     "name": "stderr",
     "output_type": "stream",
     "text": [
      "Epoch 329/1000: 100%|████████████████████████████████████████████████████████████████████████████████████████████████████████████| 88/88 [00:31<00:00,  2.78it/s, D Loss=0.9979, G Loss=2.3569, Rec Loss=0.0758]\n"
     ]
    },
    {
     "name": "stdout",
     "output_type": "stream",
     "text": [
      "Checkpoint saved at epoch 329\n"
     ]
    },
    {
     "name": "stderr",
     "output_type": "stream",
     "text": [
      "Epoch 330/1000: 100%|████████████████████████████████████████████████████████████████████████████████████████████████████████████| 88/88 [00:30<00:00,  2.87it/s, D Loss=1.0371, G Loss=2.2511, Rec Loss=0.0717]\n"
     ]
    },
    {
     "name": "stdout",
     "output_type": "stream",
     "text": [
      "Additional checkpoint saved at checkpoints/DisasterGAN_epoch330.pth\n",
      "Checkpoint saved at epoch 330\n"
     ]
    },
    {
     "name": "stderr",
     "output_type": "stream",
     "text": [
      "Epoch 331/1000: 100%|████████████████████████████████████████████████████████████████████████████████████████████████████████████| 88/88 [00:31<00:00,  2.76it/s, D Loss=1.1725, G Loss=1.9041, Rec Loss=0.0694]\n"
     ]
    },
    {
     "name": "stdout",
     "output_type": "stream",
     "text": [
      "Checkpoint saved at epoch 331\n"
     ]
    },
    {
     "name": "stderr",
     "output_type": "stream",
     "text": [
      "Epoch 332/1000: 100%|████████████████████████████████████████████████████████████████████████████████████████████████████████████| 88/88 [00:31<00:00,  2.77it/s, D Loss=1.0447, G Loss=2.1194, Rec Loss=0.0764]\n"
     ]
    },
    {
     "name": "stdout",
     "output_type": "stream",
     "text": [
      "Checkpoint saved at epoch 332\n"
     ]
    },
    {
     "name": "stderr",
     "output_type": "stream",
     "text": [
      "Epoch 333/1000: 100%|████████████████████████████████████████████████████████████████████████████████████████████████████████████| 88/88 [00:32<00:00,  2.71it/s, D Loss=0.9267, G Loss=2.3402, Rec Loss=0.0960]\n"
     ]
    },
    {
     "name": "stdout",
     "output_type": "stream",
     "text": [
      "Checkpoint saved at epoch 333\n"
     ]
    },
    {
     "name": "stderr",
     "output_type": "stream",
     "text": [
      "Epoch 334/1000: 100%|████████████████████████████████████████████████████████████████████████████████████████████████████████████| 88/88 [00:31<00:00,  2.77it/s, D Loss=1.2065, G Loss=1.6779, Rec Loss=0.0615]\n"
     ]
    },
    {
     "name": "stdout",
     "output_type": "stream",
     "text": [
      "Checkpoint saved at epoch 334\n"
     ]
    },
    {
     "name": "stderr",
     "output_type": "stream",
     "text": [
      "Epoch 335/1000: 100%|████████████████████████████████████████████████████████████████████████████████████████████████████████████| 88/88 [00:32<00:00,  2.75it/s, D Loss=1.1638, G Loss=1.7061, Rec Loss=0.0665]\n"
     ]
    },
    {
     "name": "stdout",
     "output_type": "stream",
     "text": [
      "Checkpoint saved at epoch 335\n"
     ]
    },
    {
     "name": "stderr",
     "output_type": "stream",
     "text": [
      "Epoch 336/1000: 100%|████████████████████████████████████████████████████████████████████████████████████████████████████████████| 88/88 [00:32<00:00,  2.74it/s, D Loss=1.2292, G Loss=1.8181, Rec Loss=0.0590]\n"
     ]
    },
    {
     "name": "stdout",
     "output_type": "stream",
     "text": [
      "Checkpoint saved at epoch 336\n"
     ]
    },
    {
     "name": "stderr",
     "output_type": "stream",
     "text": [
      "Epoch 337/1000: 100%|████████████████████████████████████████████████████████████████████████████████████████████████████████████| 88/88 [00:30<00:00,  2.89it/s, D Loss=1.2198, G Loss=1.6507, Rec Loss=0.0549]\n"
     ]
    },
    {
     "name": "stdout",
     "output_type": "stream",
     "text": [
      "Checkpoint saved at epoch 337\n"
     ]
    },
    {
     "name": "stderr",
     "output_type": "stream",
     "text": [
      "Epoch 338/1000: 100%|████████████████████████████████████████████████████████████████████████████████████████████████████████████| 88/88 [00:31<00:00,  2.77it/s, D Loss=1.1022, G Loss=1.8179, Rec Loss=0.0696]\n"
     ]
    },
    {
     "name": "stdout",
     "output_type": "stream",
     "text": [
      "Checkpoint saved at epoch 338\n"
     ]
    },
    {
     "name": "stderr",
     "output_type": "stream",
     "text": [
      "Epoch 339/1000: 100%|████████████████████████████████████████████████████████████████████████████████████████████████████████████| 88/88 [00:34<00:00,  2.56it/s, D Loss=1.1662, G Loss=2.1299, Rec Loss=0.0594]\n"
     ]
    },
    {
     "name": "stdout",
     "output_type": "stream",
     "text": [
      "Checkpoint saved at epoch 339\n"
     ]
    },
    {
     "name": "stderr",
     "output_type": "stream",
     "text": [
      "Epoch 340/1000: 100%|████████████████████████████████████████████████████████████████████████████████████████████████████████████| 88/88 [00:31<00:00,  2.80it/s, D Loss=1.0945, G Loss=1.8556, Rec Loss=0.0673]\n"
     ]
    },
    {
     "name": "stdout",
     "output_type": "stream",
     "text": [
      "Checkpoint saved at epoch 340\n"
     ]
    },
    {
     "name": "stderr",
     "output_type": "stream",
     "text": [
      "Epoch 341/1000: 100%|████████████████████████████████████████████████████████████████████████████████████████████████████████████| 88/88 [00:31<00:00,  2.80it/s, D Loss=1.1524, G Loss=1.9205, Rec Loss=0.0621]\n"
     ]
    },
    {
     "name": "stdout",
     "output_type": "stream",
     "text": [
      "Checkpoint saved at epoch 341\n"
     ]
    },
    {
     "name": "stderr",
     "output_type": "stream",
     "text": [
      "Epoch 342/1000: 100%|████████████████████████████████████████████████████████████████████████████████████████████████████████████| 88/88 [00:31<00:00,  2.82it/s, D Loss=1.1584, G Loss=1.9346, Rec Loss=0.0744]\n"
     ]
    },
    {
     "name": "stdout",
     "output_type": "stream",
     "text": [
      "Checkpoint saved at epoch 342\n"
     ]
    },
    {
     "name": "stderr",
     "output_type": "stream",
     "text": [
      "Epoch 343/1000: 100%|████████████████████████████████████████████████████████████████████████████████████████████████████████████| 88/88 [00:29<00:00,  2.94it/s, D Loss=0.9615, G Loss=2.1698, Rec Loss=0.0739]\n"
     ]
    },
    {
     "name": "stdout",
     "output_type": "stream",
     "text": [
      "Checkpoint saved at epoch 343\n"
     ]
    },
    {
     "name": "stderr",
     "output_type": "stream",
     "text": [
      "Epoch 344/1000: 100%|████████████████████████████████████████████████████████████████████████████████████████████████████████████| 88/88 [00:31<00:00,  2.80it/s, D Loss=1.1838, G Loss=2.0704, Rec Loss=0.0587]\n"
     ]
    },
    {
     "name": "stdout",
     "output_type": "stream",
     "text": [
      "Checkpoint saved at epoch 344\n"
     ]
    },
    {
     "name": "stderr",
     "output_type": "stream",
     "text": [
      "Epoch 345/1000: 100%|████████████████████████████████████████████████████████████████████████████████████████████████████████████| 88/88 [00:31<00:00,  2.78it/s, D Loss=1.3296, G Loss=2.4478, Rec Loss=0.0832]\n"
     ]
    },
    {
     "name": "stdout",
     "output_type": "stream",
     "text": [
      "Additional checkpoint saved at checkpoints/DisasterGAN_epoch345.pth\n",
      "Checkpoint saved at epoch 345\n"
     ]
    },
    {
     "name": "stderr",
     "output_type": "stream",
     "text": [
      "Epoch 346/1000: 100%|████████████████████████████████████████████████████████████████████████████████████████████████████████████| 88/88 [00:34<00:00,  2.54it/s, D Loss=1.1541, G Loss=2.1861, Rec Loss=0.0781]\n"
     ]
    },
    {
     "name": "stdout",
     "output_type": "stream",
     "text": [
      "Checkpoint saved at epoch 346\n"
     ]
    },
    {
     "name": "stderr",
     "output_type": "stream",
     "text": [
      "Epoch 347/1000: 100%|████████████████████████████████████████████████████████████████████████████████████████████████████████████| 88/88 [00:31<00:00,  2.81it/s, D Loss=1.2254, G Loss=1.7237, Rec Loss=0.0618]\n"
     ]
    },
    {
     "name": "stdout",
     "output_type": "stream",
     "text": [
      "Checkpoint saved at epoch 347\n"
     ]
    },
    {
     "name": "stderr",
     "output_type": "stream",
     "text": [
      "Epoch 348/1000: 100%|████████████████████████████████████████████████████████████████████████████████████████████████████████████| 88/88 [00:33<00:00,  2.62it/s, D Loss=1.0798, G Loss=2.0585, Rec Loss=0.0576]\n"
     ]
    },
    {
     "name": "stdout",
     "output_type": "stream",
     "text": [
      "Checkpoint saved at epoch 348\n"
     ]
    },
    {
     "name": "stderr",
     "output_type": "stream",
     "text": [
      "Epoch 349/1000: 100%|████████████████████████████████████████████████████████████████████████████████████████████████████████████| 88/88 [00:31<00:00,  2.81it/s, D Loss=1.0818, G Loss=1.8715, Rec Loss=0.0622]\n"
     ]
    },
    {
     "name": "stdout",
     "output_type": "stream",
     "text": [
      "Checkpoint saved at epoch 349\n"
     ]
    },
    {
     "name": "stderr",
     "output_type": "stream",
     "text": [
      "Epoch 350/1000: 100%|████████████████████████████████████████████████████████████████████████████████████████████████████████████| 88/88 [00:30<00:00,  2.91it/s, D Loss=1.3682, G Loss=1.3715, Rec Loss=0.0660]\n"
     ]
    },
    {
     "name": "stdout",
     "output_type": "stream",
     "text": [
      "Checkpoint saved at epoch 350\n"
     ]
    },
    {
     "name": "stderr",
     "output_type": "stream",
     "text": [
      "Epoch 351/1000: 100%|████████████████████████████████████████████████████████████████████████████████████████████████████████████| 88/88 [00:32<00:00,  2.71it/s, D Loss=1.0849, G Loss=1.9840, Rec Loss=0.0613]\n"
     ]
    },
    {
     "name": "stdout",
     "output_type": "stream",
     "text": [
      "Checkpoint saved at epoch 351\n"
     ]
    },
    {
     "name": "stderr",
     "output_type": "stream",
     "text": [
      "Epoch 352/1000: 100%|████████████████████████████████████████████████████████████████████████████████████████████████████████████| 88/88 [00:30<00:00,  2.92it/s, D Loss=1.1489, G Loss=1.9223, Rec Loss=0.0636]\n"
     ]
    },
    {
     "name": "stdout",
     "output_type": "stream",
     "text": [
      "Checkpoint saved at epoch 352\n"
     ]
    },
    {
     "name": "stderr",
     "output_type": "stream",
     "text": [
      "Epoch 353/1000: 100%|████████████████████████████████████████████████████████████████████████████████████████████████████████████| 88/88 [00:32<00:00,  2.67it/s, D Loss=1.0420, G Loss=2.0836, Rec Loss=0.0788]\n"
     ]
    },
    {
     "name": "stdout",
     "output_type": "stream",
     "text": [
      "Checkpoint saved at epoch 353\n"
     ]
    },
    {
     "name": "stderr",
     "output_type": "stream",
     "text": [
      "Epoch 354/1000: 100%|████████████████████████████████████████████████████████████████████████████████████████████████████████████| 88/88 [00:33<00:00,  2.60it/s, D Loss=1.1096, G Loss=2.1195, Rec Loss=0.0617]\n"
     ]
    },
    {
     "name": "stdout",
     "output_type": "stream",
     "text": [
      "Checkpoint saved at epoch 354\n"
     ]
    },
    {
     "name": "stderr",
     "output_type": "stream",
     "text": [
      "Epoch 355/1000: 100%|████████████████████████████████████████████████████████████████████████████████████████████████████████████| 88/88 [00:32<00:00,  2.69it/s, D Loss=1.3027, G Loss=1.8484, Rec Loss=0.0594]\n"
     ]
    },
    {
     "name": "stdout",
     "output_type": "stream",
     "text": [
      "Checkpoint saved at epoch 355\n"
     ]
    },
    {
     "name": "stderr",
     "output_type": "stream",
     "text": [
      "Epoch 356/1000: 100%|████████████████████████████████████████████████████████████████████████████████████████████████████████████| 88/88 [00:31<00:00,  2.82it/s, D Loss=1.1319, G Loss=2.2686, Rec Loss=0.0860]\n"
     ]
    },
    {
     "name": "stdout",
     "output_type": "stream",
     "text": [
      "Checkpoint saved at epoch 356\n"
     ]
    },
    {
     "name": "stderr",
     "output_type": "stream",
     "text": [
      "Epoch 357/1000: 100%|████████████████████████████████████████████████████████████████████████████████████████████████████████████| 88/88 [00:31<00:00,  2.84it/s, D Loss=1.1658, G Loss=2.7279, Rec Loss=0.0746]\n"
     ]
    },
    {
     "name": "stdout",
     "output_type": "stream",
     "text": [
      "Checkpoint saved at epoch 357\n"
     ]
    },
    {
     "name": "stderr",
     "output_type": "stream",
     "text": [
      "Epoch 358/1000: 100%|████████████████████████████████████████████████████████████████████████████████████████████████████████████| 88/88 [00:32<00:00,  2.69it/s, D Loss=1.0987, G Loss=2.1563, Rec Loss=0.0754]\n"
     ]
    },
    {
     "name": "stdout",
     "output_type": "stream",
     "text": [
      "Checkpoint saved at epoch 358\n"
     ]
    },
    {
     "name": "stderr",
     "output_type": "stream",
     "text": [
      "Epoch 359/1000: 100%|████████████████████████████████████████████████████████████████████████████████████████████████████████████| 88/88 [00:31<00:00,  2.79it/s, D Loss=1.1558, G Loss=3.1398, Rec Loss=0.0659]\n"
     ]
    },
    {
     "name": "stdout",
     "output_type": "stream",
     "text": [
      "Checkpoint saved at epoch 359\n"
     ]
    },
    {
     "name": "stderr",
     "output_type": "stream",
     "text": [
      "Epoch 360/1000: 100%|████████████████████████████████████████████████████████████████████████████████████████████████████████████| 88/88 [00:31<00:00,  2.79it/s, D Loss=1.0179, G Loss=1.9539, Rec Loss=0.0702]\n"
     ]
    },
    {
     "name": "stdout",
     "output_type": "stream",
     "text": [
      "Additional checkpoint saved at checkpoints/DisasterGAN_epoch360.pth\n",
      "Checkpoint saved at epoch 360\n"
     ]
    },
    {
     "name": "stderr",
     "output_type": "stream",
     "text": [
      "Epoch 361/1000: 100%|████████████████████████████████████████████████████████████████████████████████████████████████████████████| 88/88 [00:31<00:00,  2.76it/s, D Loss=1.1626, G Loss=1.6513, Rec Loss=0.0627]\n"
     ]
    },
    {
     "name": "stdout",
     "output_type": "stream",
     "text": [
      "Checkpoint saved at epoch 361\n"
     ]
    },
    {
     "name": "stderr",
     "output_type": "stream",
     "text": [
      "Epoch 362/1000: 100%|████████████████████████████████████████████████████████████████████████████████████████████████████████████| 88/88 [00:34<00:00,  2.57it/s, D Loss=1.0362, G Loss=1.8589, Rec Loss=0.0609]\n"
     ]
    },
    {
     "name": "stdout",
     "output_type": "stream",
     "text": [
      "Checkpoint saved at epoch 362\n"
     ]
    },
    {
     "name": "stderr",
     "output_type": "stream",
     "text": [
      "Epoch 363/1000: 100%|████████████████████████████████████████████████████████████████████████████████████████████████████████████| 88/88 [00:32<00:00,  2.69it/s, D Loss=1.1194, G Loss=2.0910, Rec Loss=0.0625]\n"
     ]
    },
    {
     "name": "stdout",
     "output_type": "stream",
     "text": [
      "Checkpoint saved at epoch 363\n"
     ]
    },
    {
     "name": "stderr",
     "output_type": "stream",
     "text": [
      "Epoch 364/1000: 100%|████████████████████████████████████████████████████████████████████████████████████████████████████████████| 88/88 [00:32<00:00,  2.74it/s, D Loss=1.1236, G Loss=2.1708, Rec Loss=0.0720]\n"
     ]
    },
    {
     "name": "stdout",
     "output_type": "stream",
     "text": [
      "Checkpoint saved at epoch 364\n"
     ]
    },
    {
     "name": "stderr",
     "output_type": "stream",
     "text": [
      "Epoch 365/1000: 100%|████████████████████████████████████████████████████████████████████████████████████████████████████████████| 88/88 [00:31<00:00,  2.80it/s, D Loss=1.0575, G Loss=2.7920, Rec Loss=0.0636]\n"
     ]
    },
    {
     "name": "stdout",
     "output_type": "stream",
     "text": [
      "Checkpoint saved at epoch 365\n"
     ]
    },
    {
     "name": "stderr",
     "output_type": "stream",
     "text": [
      "Epoch 366/1000: 100%|████████████████████████████████████████████████████████████████████████████████████████████████████████████| 88/88 [00:32<00:00,  2.71it/s, D Loss=1.0623, G Loss=2.0048, Rec Loss=0.0712]\n"
     ]
    },
    {
     "name": "stdout",
     "output_type": "stream",
     "text": [
      "Checkpoint saved at epoch 366\n"
     ]
    },
    {
     "name": "stderr",
     "output_type": "stream",
     "text": [
      "Epoch 367/1000: 100%|████████████████████████████████████████████████████████████████████████████████████████████████████████████| 88/88 [00:31<00:00,  2.76it/s, D Loss=0.9980, G Loss=1.9660, Rec Loss=0.0616]\n"
     ]
    },
    {
     "name": "stdout",
     "output_type": "stream",
     "text": [
      "Checkpoint saved at epoch 367\n"
     ]
    },
    {
     "name": "stderr",
     "output_type": "stream",
     "text": [
      "Epoch 368/1000: 100%|████████████████████████████████████████████████████████████████████████████████████████████████████████████| 88/88 [00:32<00:00,  2.69it/s, D Loss=1.1329, G Loss=2.1341, Rec Loss=0.0655]\n"
     ]
    },
    {
     "name": "stdout",
     "output_type": "stream",
     "text": [
      "Checkpoint saved at epoch 368\n"
     ]
    },
    {
     "name": "stderr",
     "output_type": "stream",
     "text": [
      "Epoch 369/1000: 100%|████████████████████████████████████████████████████████████████████████████████████████████████████████████| 88/88 [00:31<00:00,  2.77it/s, D Loss=0.9489, G Loss=2.4580, Rec Loss=0.0679]\n"
     ]
    },
    {
     "name": "stdout",
     "output_type": "stream",
     "text": [
      "Checkpoint saved at epoch 369\n"
     ]
    },
    {
     "name": "stderr",
     "output_type": "stream",
     "text": [
      "Epoch 370/1000: 100%|████████████████████████████████████████████████████████████████████████████████████████████████████████████| 88/88 [00:30<00:00,  2.88it/s, D Loss=2.8038, G Loss=3.0793, Rec Loss=0.0590]\n"
     ]
    },
    {
     "name": "stdout",
     "output_type": "stream",
     "text": [
      "Checkpoint saved at epoch 370\n"
     ]
    },
    {
     "name": "stderr",
     "output_type": "stream",
     "text": [
      "Epoch 371/1000: 100%|████████████████████████████████████████████████████████████████████████████████████████████████████████████| 88/88 [00:32<00:00,  2.70it/s, D Loss=1.4801, G Loss=2.2219, Rec Loss=0.0663]\n"
     ]
    },
    {
     "name": "stdout",
     "output_type": "stream",
     "text": [
      "Checkpoint saved at epoch 371\n"
     ]
    },
    {
     "name": "stderr",
     "output_type": "stream",
     "text": [
      "Epoch 372/1000: 100%|████████████████████████████████████████████████████████████████████████████████████████████████████████████| 88/88 [00:34<00:00,  2.56it/s, D Loss=1.1134, G Loss=1.8017, Rec Loss=0.0575]\n"
     ]
    },
    {
     "name": "stdout",
     "output_type": "stream",
     "text": [
      "Checkpoint saved at epoch 372\n"
     ]
    },
    {
     "name": "stderr",
     "output_type": "stream",
     "text": [
      "Epoch 373/1000: 100%|████████████████████████████████████████████████████████████████████████████████████████████████████████████| 88/88 [00:31<00:00,  2.78it/s, D Loss=1.0704, G Loss=2.0276, Rec Loss=0.0610]\n"
     ]
    },
    {
     "name": "stdout",
     "output_type": "stream",
     "text": [
      "Checkpoint saved at epoch 373\n"
     ]
    },
    {
     "name": "stderr",
     "output_type": "stream",
     "text": [
      "Epoch 374/1000: 100%|████████████████████████████████████████████████████████████████████████████████████████████████████████████| 88/88 [00:32<00:00,  2.70it/s, D Loss=1.1264, G Loss=1.8009, Rec Loss=0.0596]\n"
     ]
    },
    {
     "name": "stdout",
     "output_type": "stream",
     "text": [
      "Checkpoint saved at epoch 374\n"
     ]
    },
    {
     "name": "stderr",
     "output_type": "stream",
     "text": [
      "Epoch 375/1000: 100%|████████████████████████████████████████████████████████████████████████████████████████████████████████████| 88/88 [00:30<00:00,  2.87it/s, D Loss=1.1981, G Loss=2.0879, Rec Loss=0.0737]\n"
     ]
    },
    {
     "name": "stdout",
     "output_type": "stream",
     "text": [
      "Additional checkpoint saved at checkpoints/DisasterGAN_epoch375.pth\n",
      "Checkpoint saved at epoch 375\n"
     ]
    },
    {
     "name": "stderr",
     "output_type": "stream",
     "text": [
      "Epoch 376/1000: 100%|████████████████████████████████████████████████████████████████████████████████████████████████████████████| 88/88 [00:32<00:00,  2.71it/s, D Loss=1.0871, G Loss=2.1235, Rec Loss=0.0643]\n"
     ]
    },
    {
     "name": "stdout",
     "output_type": "stream",
     "text": [
      "Checkpoint saved at epoch 376\n"
     ]
    },
    {
     "name": "stderr",
     "output_type": "stream",
     "text": [
      "Epoch 377/1000: 100%|████████████████████████████████████████████████████████████████████████████████████████████████████████████| 88/88 [00:32<00:00,  2.72it/s, D Loss=1.0984, G Loss=1.9128, Rec Loss=0.0702]\n"
     ]
    },
    {
     "name": "stdout",
     "output_type": "stream",
     "text": [
      "Checkpoint saved at epoch 377\n"
     ]
    },
    {
     "name": "stderr",
     "output_type": "stream",
     "text": [
      "Epoch 378/1000: 100%|████████████████████████████████████████████████████████████████████████████████████████████████████████████| 88/88 [00:31<00:00,  2.77it/s, D Loss=1.0442, G Loss=2.0914, Rec Loss=0.0648]\n"
     ]
    },
    {
     "name": "stdout",
     "output_type": "stream",
     "text": [
      "Checkpoint saved at epoch 378\n"
     ]
    },
    {
     "name": "stderr",
     "output_type": "stream",
     "text": [
      "Epoch 379/1000: 100%|████████████████████████████████████████████████████████████████████████████████████████████████████████████| 88/88 [00:30<00:00,  2.91it/s, D Loss=1.0869, G Loss=2.2251, Rec Loss=0.0604]\n"
     ]
    },
    {
     "name": "stdout",
     "output_type": "stream",
     "text": [
      "Checkpoint saved at epoch 379\n"
     ]
    },
    {
     "name": "stderr",
     "output_type": "stream",
     "text": [
      "Epoch 380/1000: 100%|████████████████████████████████████████████████████████████████████████████████████████████████████████████| 88/88 [00:32<00:00,  2.68it/s, D Loss=1.0751, G Loss=2.2213, Rec Loss=0.0664]\n"
     ]
    },
    {
     "name": "stdout",
     "output_type": "stream",
     "text": [
      "Checkpoint saved at epoch 380\n"
     ]
    },
    {
     "name": "stderr",
     "output_type": "stream",
     "text": [
      "Epoch 381/1000: 100%|████████████████████████████████████████████████████████████████████████████████████████████████████████████| 88/88 [00:31<00:00,  2.78it/s, D Loss=1.1800, G Loss=1.7300, Rec Loss=0.0595]\n"
     ]
    },
    {
     "name": "stdout",
     "output_type": "stream",
     "text": [
      "Checkpoint saved at epoch 381\n"
     ]
    },
    {
     "name": "stderr",
     "output_type": "stream",
     "text": [
      "Epoch 382/1000: 100%|████████████████████████████████████████████████████████████████████████████████████████████████████████████| 88/88 [00:32<00:00,  2.67it/s, D Loss=1.0423, G Loss=2.0866, Rec Loss=0.0673]\n"
     ]
    },
    {
     "name": "stdout",
     "output_type": "stream",
     "text": [
      "Checkpoint saved at epoch 382\n"
     ]
    },
    {
     "name": "stderr",
     "output_type": "stream",
     "text": [
      "Epoch 383/1000: 100%|████████████████████████████████████████████████████████████████████████████████████████████████████████████| 88/88 [00:33<00:00,  2.63it/s, D Loss=0.9275, G Loss=1.9541, Rec Loss=0.0589]\n"
     ]
    },
    {
     "name": "stdout",
     "output_type": "stream",
     "text": [
      "Checkpoint saved at epoch 383\n"
     ]
    },
    {
     "name": "stderr",
     "output_type": "stream",
     "text": [
      "Epoch 384/1000: 100%|████████████████████████████████████████████████████████████████████████████████████████████████████████████| 88/88 [00:31<00:00,  2.79it/s, D Loss=1.0052, G Loss=2.2202, Rec Loss=0.0707]\n"
     ]
    },
    {
     "name": "stdout",
     "output_type": "stream",
     "text": [
      "Checkpoint saved at epoch 384\n"
     ]
    },
    {
     "name": "stderr",
     "output_type": "stream",
     "text": [
      "Epoch 385/1000: 100%|████████████████████████████████████████████████████████████████████████████████████████████████████████████| 88/88 [00:32<00:00,  2.72it/s, D Loss=1.1141, G Loss=1.9586, Rec Loss=0.0818]\n"
     ]
    },
    {
     "name": "stdout",
     "output_type": "stream",
     "text": [
      "Checkpoint saved at epoch 385\n"
     ]
    },
    {
     "name": "stderr",
     "output_type": "stream",
     "text": [
      "Epoch 386/1000: 100%|████████████████████████████████████████████████████████████████████████████████████████████████████████████| 88/88 [00:33<00:00,  2.66it/s, D Loss=1.0144, G Loss=2.1877, Rec Loss=0.0674]\n"
     ]
    },
    {
     "name": "stdout",
     "output_type": "stream",
     "text": [
      "Checkpoint saved at epoch 386\n"
     ]
    },
    {
     "name": "stderr",
     "output_type": "stream",
     "text": [
      "Epoch 387/1000: 100%|████████████████████████████████████████████████████████████████████████████████████████████████████████████| 88/88 [00:32<00:00,  2.74it/s, D Loss=1.0000, G Loss=2.2290, Rec Loss=0.0600]\n"
     ]
    },
    {
     "name": "stdout",
     "output_type": "stream",
     "text": [
      "Checkpoint saved at epoch 387\n"
     ]
    },
    {
     "name": "stderr",
     "output_type": "stream",
     "text": [
      "Epoch 388/1000: 100%|████████████████████████████████████████████████████████████████████████████████████████████████████████████| 88/88 [00:33<00:00,  2.67it/s, D Loss=1.1624, G Loss=1.7614, Rec Loss=0.0697]\n"
     ]
    },
    {
     "name": "stdout",
     "output_type": "stream",
     "text": [
      "Checkpoint saved at epoch 388\n"
     ]
    },
    {
     "name": "stderr",
     "output_type": "stream",
     "text": [
      "Epoch 389/1000: 100%|████████████████████████████████████████████████████████████████████████████████████████████████████████████| 88/88 [00:31<00:00,  2.76it/s, D Loss=1.0294, G Loss=1.9100, Rec Loss=0.0614]\n"
     ]
    },
    {
     "name": "stdout",
     "output_type": "stream",
     "text": [
      "Checkpoint saved at epoch 389\n"
     ]
    },
    {
     "name": "stderr",
     "output_type": "stream",
     "text": [
      "Epoch 390/1000: 100%|████████████████████████████████████████████████████████████████████████████████████████████████████████████| 88/88 [00:30<00:00,  2.88it/s, D Loss=1.0945, G Loss=2.9226, Rec Loss=0.0669]\n"
     ]
    },
    {
     "name": "stdout",
     "output_type": "stream",
     "text": [
      "Additional checkpoint saved at checkpoints/DisasterGAN_epoch390.pth\n",
      "Checkpoint saved at epoch 390\n"
     ]
    },
    {
     "name": "stderr",
     "output_type": "stream",
     "text": [
      "Epoch 391/1000: 100%|████████████████████████████████████████████████████████████████████████████████████████████████████████████| 88/88 [00:32<00:00,  2.71it/s, D Loss=1.0266, G Loss=2.0587, Rec Loss=0.0612]\n"
     ]
    },
    {
     "name": "stdout",
     "output_type": "stream",
     "text": [
      "Checkpoint saved at epoch 391\n"
     ]
    },
    {
     "name": "stderr",
     "output_type": "stream",
     "text": [
      "Epoch 392/1000: 100%|████████████████████████████████████████████████████████████████████████████████████████████████████████████| 88/88 [00:31<00:00,  2.83it/s, D Loss=1.1383, G Loss=2.4803, Rec Loss=0.0761]\n"
     ]
    },
    {
     "name": "stdout",
     "output_type": "stream",
     "text": [
      "Checkpoint saved at epoch 392\n"
     ]
    },
    {
     "name": "stderr",
     "output_type": "stream",
     "text": [
      "Epoch 393/1000: 100%|████████████████████████████████████████████████████████████████████████████████████████████████████████████| 88/88 [00:30<00:00,  2.90it/s, D Loss=1.0862, G Loss=1.9980, Rec Loss=0.0647]\n"
     ]
    },
    {
     "name": "stdout",
     "output_type": "stream",
     "text": [
      "Checkpoint saved at epoch 393\n"
     ]
    },
    {
     "name": "stderr",
     "output_type": "stream",
     "text": [
      "Epoch 394/1000: 100%|████████████████████████████████████████████████████████████████████████████████████████████████████████████| 88/88 [00:32<00:00,  2.67it/s, D Loss=0.8601, G Loss=3.0937, Rec Loss=0.0631]\n"
     ]
    },
    {
     "name": "stdout",
     "output_type": "stream",
     "text": [
      "Checkpoint saved at epoch 394\n"
     ]
    },
    {
     "name": "stderr",
     "output_type": "stream",
     "text": [
      "Epoch 399/1000: 100%|████████████████████████████████████████████████████████████████████████████████████████████████████████████| 88/88 [00:32<00:00,  2.68it/s, D Loss=0.9619, G Loss=2.1226, Rec Loss=0.0600]\n"
     ]
    },
    {
     "name": "stdout",
     "output_type": "stream",
     "text": [
      "Checkpoint saved at epoch 399\n"
     ]
    },
    {
     "name": "stderr",
     "output_type": "stream",
     "text": [
      "Epoch 400/1000: 100%|████████████████████████████████████████████████████████████████████████████████████████████████████████████| 88/88 [00:30<00:00,  2.85it/s, D Loss=1.1674, G Loss=2.3553, Rec Loss=0.0602]\n"
     ]
    },
    {
     "name": "stdout",
     "output_type": "stream",
     "text": [
      "Checkpoint saved at epoch 400\n"
     ]
    },
    {
     "name": "stderr",
     "output_type": "stream",
     "text": [
      "Epoch 401/1000: 100%|████████████████████████████████████████████████████████████████████████████████████████████████████████████| 88/88 [00:31<00:00,  2.79it/s, D Loss=0.9654, G Loss=2.7053, Rec Loss=0.0728]\n"
     ]
    },
    {
     "name": "stdout",
     "output_type": "stream",
     "text": [
      "Checkpoint saved at epoch 401\n"
     ]
    },
    {
     "name": "stderr",
     "output_type": "stream",
     "text": [
      "Epoch 402/1000: 100%|████████████████████████████████████████████████████████████████████████████████████████████████████████████| 88/88 [00:31<00:00,  2.76it/s, D Loss=1.0497, G Loss=2.2839, Rec Loss=0.0633]\n"
     ]
    },
    {
     "name": "stdout",
     "output_type": "stream",
     "text": [
      "Checkpoint saved at epoch 402\n"
     ]
    },
    {
     "name": "stderr",
     "output_type": "stream",
     "text": [
      "Epoch 403/1000: 100%|████████████████████████████████████████████████████████████████████████████████████████████████████████████| 88/88 [00:33<00:00,  2.65it/s, D Loss=1.0784, G Loss=2.4190, Rec Loss=0.0755]\n"
     ]
    },
    {
     "name": "stdout",
     "output_type": "stream",
     "text": [
      "Checkpoint saved at epoch 403\n"
     ]
    },
    {
     "name": "stderr",
     "output_type": "stream",
     "text": [
      "Epoch 404/1000: 100%|████████████████████████████████████████████████████████████████████████████████████████████████████████████| 88/88 [00:34<00:00,  2.53it/s, D Loss=1.1447, G Loss=2.5100, Rec Loss=0.0690]\n"
     ]
    },
    {
     "name": "stdout",
     "output_type": "stream",
     "text": [
      "Checkpoint saved at epoch 404\n"
     ]
    },
    {
     "name": "stderr",
     "output_type": "stream",
     "text": [
      "Epoch 405/1000: 100%|████████████████████████████████████████████████████████████████████████████████████████████████████████████| 88/88 [00:32<00:00,  2.67it/s, D Loss=0.8881, G Loss=2.2893, Rec Loss=0.0647]\n"
     ]
    },
    {
     "name": "stdout",
     "output_type": "stream",
     "text": [
      "Additional checkpoint saved at checkpoints/DisasterGAN_epoch405.pth\n",
      "Checkpoint saved at epoch 405\n"
     ]
    },
    {
     "name": "stderr",
     "output_type": "stream",
     "text": [
      "Epoch 406/1000: 100%|████████████████████████████████████████████████████████████████████████████████████████████████████████████| 88/88 [00:31<00:00,  2.78it/s, D Loss=0.9278, G Loss=2.2160, Rec Loss=0.0629]\n"
     ]
    },
    {
     "name": "stdout",
     "output_type": "stream",
     "text": [
      "Checkpoint saved at epoch 406\n"
     ]
    },
    {
     "name": "stderr",
     "output_type": "stream",
     "text": [
      "Epoch 407/1000: 100%|████████████████████████████████████████████████████████████████████████████████████████████████████████████| 88/88 [00:30<00:00,  2.93it/s, D Loss=0.8606, G Loss=2.7786, Rec Loss=0.0855]\n"
     ]
    },
    {
     "name": "stdout",
     "output_type": "stream",
     "text": [
      "Checkpoint saved at epoch 407\n"
     ]
    },
    {
     "name": "stderr",
     "output_type": "stream",
     "text": [
      "Epoch 408/1000: 100%|████████████████████████████████████████████████████████████████████████████████████████████████████████████| 88/88 [00:31<00:00,  2.80it/s, D Loss=0.8637, G Loss=2.6319, Rec Loss=0.0717]\n"
     ]
    },
    {
     "name": "stdout",
     "output_type": "stream",
     "text": [
      "Checkpoint saved at epoch 408\n"
     ]
    },
    {
     "name": "stderr",
     "output_type": "stream",
     "text": [
      "Epoch 409/1000: 100%|████████████████████████████████████████████████████████████████████████████████████████████████████████████| 88/88 [00:31<00:00,  2.79it/s, D Loss=1.0931, G Loss=2.0282, Rec Loss=0.0563]\n"
     ]
    },
    {
     "name": "stdout",
     "output_type": "stream",
     "text": [
      "Checkpoint saved at epoch 409\n"
     ]
    },
    {
     "name": "stderr",
     "output_type": "stream",
     "text": [
      "Epoch 410/1000: 100%|████████████████████████████████████████████████████████████████████████████████████████████████████████████| 88/88 [00:33<00:00,  2.62it/s, D Loss=1.0070, G Loss=1.9667, Rec Loss=0.0616]\n"
     ]
    },
    {
     "name": "stdout",
     "output_type": "stream",
     "text": [
      "Checkpoint saved at epoch 410\n"
     ]
    },
    {
     "name": "stderr",
     "output_type": "stream",
     "text": [
      "Epoch 411/1000: 100%|████████████████████████████████████████████████████████████████████████████████████████████████████████████| 88/88 [00:31<00:00,  2.79it/s, D Loss=0.9791, G Loss=1.9346, Rec Loss=0.0681]\n"
     ]
    },
    {
     "name": "stdout",
     "output_type": "stream",
     "text": [
      "Checkpoint saved at epoch 411\n"
     ]
    },
    {
     "name": "stderr",
     "output_type": "stream",
     "text": [
      "Epoch 412/1000: 100%|████████████████████████████████████████████████████████████████████████████████████████████████████████████| 88/88 [00:32<00:00,  2.70it/s, D Loss=1.0736, G Loss=1.9628, Rec Loss=0.0586]\n"
     ]
    },
    {
     "name": "stdout",
     "output_type": "stream",
     "text": [
      "Checkpoint saved at epoch 412\n"
     ]
    },
    {
     "name": "stderr",
     "output_type": "stream",
     "text": [
      "Epoch 413/1000: 100%|████████████████████████████████████████████████████████████████████████████████████████████████████████████| 88/88 [00:31<00:00,  2.80it/s, D Loss=0.9840, G Loss=2.1947, Rec Loss=0.0695]\n"
     ]
    },
    {
     "name": "stdout",
     "output_type": "stream",
     "text": [
      "Checkpoint saved at epoch 413\n"
     ]
    },
    {
     "name": "stderr",
     "output_type": "stream",
     "text": [
      "Epoch 414/1000: 100%|████████████████████████████████████████████████████████████████████████████████████████████████████████████| 88/88 [00:34<00:00,  2.58it/s, D Loss=0.9822, G Loss=2.6695, Rec Loss=0.0751]\n"
     ]
    },
    {
     "name": "stdout",
     "output_type": "stream",
     "text": [
      "Checkpoint saved at epoch 414\n"
     ]
    },
    {
     "name": "stderr",
     "output_type": "stream",
     "text": [
      "Epoch 415/1000: 100%|████████████████████████████████████████████████████████████████████████████████████████████████████████████| 88/88 [00:33<00:00,  2.63it/s, D Loss=1.0536, G Loss=1.8430, Rec Loss=0.0594]\n"
     ]
    },
    {
     "name": "stdout",
     "output_type": "stream",
     "text": [
      "Checkpoint saved at epoch 415\n"
     ]
    },
    {
     "name": "stderr",
     "output_type": "stream",
     "text": [
      "Epoch 416/1000: 100%|████████████████████████████████████████████████████████████████████████████████████████████████████████████| 88/88 [00:31<00:00,  2.77it/s, D Loss=0.9982, G Loss=1.8056, Rec Loss=0.0578]\n"
     ]
    },
    {
     "name": "stdout",
     "output_type": "stream",
     "text": [
      "Checkpoint saved at epoch 416\n"
     ]
    },
    {
     "name": "stderr",
     "output_type": "stream",
     "text": [
      "Epoch 417/1000: 100%|████████████████████████████████████████████████████████████████████████████████████████████████████████████| 88/88 [00:33<00:00,  2.66it/s, D Loss=1.0337, G Loss=2.6752, Rec Loss=0.0627]\n"
     ]
    },
    {
     "name": "stdout",
     "output_type": "stream",
     "text": [
      "Checkpoint saved at epoch 417\n"
     ]
    },
    {
     "name": "stderr",
     "output_type": "stream",
     "text": [
      "Epoch 418/1000: 100%|████████████████████████████████████████████████████████████████████████████████████████████████████████████| 88/88 [00:31<00:00,  2.76it/s, D Loss=1.1400, G Loss=2.4523, Rec Loss=0.0596]\n"
     ]
    },
    {
     "name": "stdout",
     "output_type": "stream",
     "text": [
      "Checkpoint saved at epoch 418\n"
     ]
    },
    {
     "name": "stderr",
     "output_type": "stream",
     "text": [
      "Epoch 419/1000: 100%|████████████████████████████████████████████████████████████████████████████████████████████████████████████| 88/88 [00:30<00:00,  2.85it/s, D Loss=1.0478, G Loss=2.3224, Rec Loss=0.0652]\n"
     ]
    },
    {
     "name": "stdout",
     "output_type": "stream",
     "text": [
      "Checkpoint saved at epoch 419\n"
     ]
    },
    {
     "name": "stderr",
     "output_type": "stream",
     "text": [
      "Epoch 420/1000: 100%|████████████████████████████████████████████████████████████████████████████████████████████████████████████| 88/88 [00:34<00:00,  2.57it/s, D Loss=0.9507, G Loss=1.9222, Rec Loss=0.0578]\n"
     ]
    },
    {
     "name": "stdout",
     "output_type": "stream",
     "text": [
      "Additional checkpoint saved at checkpoints/DisasterGAN_epoch420.pth\n",
      "Checkpoint saved at epoch 420\n"
     ]
    },
    {
     "name": "stderr",
     "output_type": "stream",
     "text": [
      "Epoch 421/1000: 100%|████████████████████████████████████████████████████████████████████████████████████████████████████████████| 88/88 [00:31<00:00,  2.79it/s, D Loss=1.0181, G Loss=2.6851, Rec Loss=0.0599]\n"
     ]
    },
    {
     "name": "stdout",
     "output_type": "stream",
     "text": [
      "Checkpoint saved at epoch 421\n"
     ]
    },
    {
     "name": "stderr",
     "output_type": "stream",
     "text": [
      "Epoch 422/1000: 100%|████████████████████████████████████████████████████████████████████████████████████████████████████████████| 88/88 [00:30<00:00,  2.90it/s, D Loss=0.9980, G Loss=2.4096, Rec Loss=0.0555]\n"
     ]
    },
    {
     "name": "stdout",
     "output_type": "stream",
     "text": [
      "Checkpoint saved at epoch 422\n"
     ]
    },
    {
     "name": "stderr",
     "output_type": "stream",
     "text": [
      "Epoch 423/1000: 100%|████████████████████████████████████████████████████████████████████████████████████████████████████████████| 88/88 [00:30<00:00,  2.88it/s, D Loss=1.0181, G Loss=2.1538, Rec Loss=0.0682]\n"
     ]
    },
    {
     "name": "stdout",
     "output_type": "stream",
     "text": [
      "Checkpoint saved at epoch 423\n"
     ]
    },
    {
     "name": "stderr",
     "output_type": "stream",
     "text": [
      "Epoch 424/1000: 100%|████████████████████████████████████████████████████████████████████████████████████████████████████████████| 88/88 [00:34<00:00,  2.54it/s, D Loss=0.9929, G Loss=1.9731, Rec Loss=0.0593]\n"
     ]
    },
    {
     "name": "stdout",
     "output_type": "stream",
     "text": [
      "Checkpoint saved at epoch 424\n"
     ]
    },
    {
     "name": "stderr",
     "output_type": "stream",
     "text": [
      "Epoch 425/1000: 100%|████████████████████████████████████████████████████████████████████████████████████████████████████████████| 88/88 [00:31<00:00,  2.76it/s, D Loss=1.0691, G Loss=1.9549, Rec Loss=0.0630]\n"
     ]
    },
    {
     "name": "stdout",
     "output_type": "stream",
     "text": [
      "Checkpoint saved at epoch 425\n"
     ]
    },
    {
     "name": "stderr",
     "output_type": "stream",
     "text": [
      "Epoch 426/1000: 100%|████████████████████████████████████████████████████████████████████████████████████████████████████████████| 88/88 [00:32<00:00,  2.73it/s, D Loss=0.9260, G Loss=2.1352, Rec Loss=0.0673]\n"
     ]
    },
    {
     "name": "stdout",
     "output_type": "stream",
     "text": [
      "Checkpoint saved at epoch 426\n"
     ]
    },
    {
     "name": "stderr",
     "output_type": "stream",
     "text": [
      "Epoch 427/1000: 100%|████████████████████████████████████████████████████████████████████████████████████████████████████████████| 88/88 [00:34<00:00,  2.59it/s, D Loss=0.9596, G Loss=2.5874, Rec Loss=0.0694]\n"
     ]
    },
    {
     "name": "stdout",
     "output_type": "stream",
     "text": [
      "Checkpoint saved at epoch 427\n"
     ]
    },
    {
     "name": "stderr",
     "output_type": "stream",
     "text": [
      "Epoch 428/1000: 100%|████████████████████████████████████████████████████████████████████████████████████████████████████████████| 88/88 [00:32<00:00,  2.72it/s, D Loss=1.0803, G Loss=2.2638, Rec Loss=0.0665]\n"
     ]
    },
    {
     "name": "stdout",
     "output_type": "stream",
     "text": [
      "Checkpoint saved at epoch 428\n"
     ]
    },
    {
     "name": "stderr",
     "output_type": "stream",
     "text": [
      "Epoch 429/1000: 100%|████████████████████████████████████████████████████████████████████████████████████████████████████████████| 88/88 [00:33<00:00,  2.63it/s, D Loss=0.9738, G Loss=3.0252, Rec Loss=0.0783]\n"
     ]
    },
    {
     "name": "stdout",
     "output_type": "stream",
     "text": [
      "Checkpoint saved at epoch 429\n"
     ]
    },
    {
     "name": "stderr",
     "output_type": "stream",
     "text": [
      "Epoch 430/1000: 100%|████████████████████████████████████████████████████████████████████████████████████████████████████████████| 88/88 [00:32<00:00,  2.68it/s, D Loss=0.8157, G Loss=2.1812, Rec Loss=0.0583]\n"
     ]
    },
    {
     "name": "stdout",
     "output_type": "stream",
     "text": [
      "Checkpoint saved at epoch 430\n"
     ]
    },
    {
     "name": "stderr",
     "output_type": "stream",
     "text": [
      "Epoch 431/1000: 100%|████████████████████████████████████████████████████████████████████████████████████████████████████████████| 88/88 [00:31<00:00,  2.78it/s, D Loss=1.0173, G Loss=2.5111, Rec Loss=0.0704]\n"
     ]
    },
    {
     "name": "stdout",
     "output_type": "stream",
     "text": [
      "Checkpoint saved at epoch 431\n"
     ]
    },
    {
     "name": "stderr",
     "output_type": "stream",
     "text": [
      "Epoch 432/1000: 100%|████████████████████████████████████████████████████████████████████████████████████████████████████████████| 88/88 [00:32<00:00,  2.74it/s, D Loss=0.8891, G Loss=2.6474, Rec Loss=0.0673]\n"
     ]
    },
    {
     "name": "stdout",
     "output_type": "stream",
     "text": [
      "Checkpoint saved at epoch 432\n"
     ]
    },
    {
     "name": "stderr",
     "output_type": "stream",
     "text": [
      "Epoch 433/1000: 100%|████████████████████████████████████████████████████████████████████████████████████████████████████████████| 88/88 [00:32<00:00,  2.72it/s, D Loss=0.9058, G Loss=2.7211, Rec Loss=0.0656]\n"
     ]
    },
    {
     "name": "stdout",
     "output_type": "stream",
     "text": [
      "Checkpoint saved at epoch 433\n"
     ]
    },
    {
     "name": "stderr",
     "output_type": "stream",
     "text": [
      "Epoch 434/1000: 100%|████████████████████████████████████████████████████████████████████████████████████████████████████████████| 88/88 [00:30<00:00,  2.85it/s, D Loss=1.0013, G Loss=2.0503, Rec Loss=0.0572]\n"
     ]
    },
    {
     "name": "stdout",
     "output_type": "stream",
     "text": [
      "Checkpoint saved at epoch 434\n"
     ]
    },
    {
     "name": "stderr",
     "output_type": "stream",
     "text": [
      "Epoch 435/1000: 100%|████████████████████████████████████████████████████████████████████████████████████████████████████████████| 88/88 [00:31<00:00,  2.76it/s, D Loss=0.8380, G Loss=2.4940, Rec Loss=0.0606]\n"
     ]
    },
    {
     "name": "stdout",
     "output_type": "stream",
     "text": [
      "Additional checkpoint saved at checkpoints/DisasterGAN_epoch435.pth\n",
      "Checkpoint saved at epoch 435\n"
     ]
    },
    {
     "name": "stderr",
     "output_type": "stream",
     "text": [
      "Epoch 436/1000: 100%|████████████████████████████████████████████████████████████████████████████████████████████████████████████| 88/88 [00:32<00:00,  2.72it/s, D Loss=0.8065, G Loss=2.6957, Rec Loss=0.0661]\n"
     ]
    },
    {
     "name": "stdout",
     "output_type": "stream",
     "text": [
      "Checkpoint saved at epoch 436\n"
     ]
    },
    {
     "name": "stderr",
     "output_type": "stream",
     "text": [
      "Epoch 437/1000: 100%|████████████████████████████████████████████████████████████████████████████████████████████████████████████| 88/88 [00:30<00:00,  2.86it/s, D Loss=0.9510, G Loss=2.2663, Rec Loss=0.0553]\n"
     ]
    },
    {
     "name": "stdout",
     "output_type": "stream",
     "text": [
      "Checkpoint saved at epoch 437\n"
     ]
    },
    {
     "name": "stderr",
     "output_type": "stream",
     "text": [
      "Epoch 438/1000: 100%|████████████████████████████████████████████████████████████████████████████████████████████████████████████| 88/88 [00:31<00:00,  2.79it/s, D Loss=0.9024, G Loss=2.4082, Rec Loss=0.0726]\n"
     ]
    },
    {
     "name": "stdout",
     "output_type": "stream",
     "text": [
      "Checkpoint saved at epoch 438\n"
     ]
    },
    {
     "name": "stderr",
     "output_type": "stream",
     "text": [
      "Epoch 439/1000: 100%|████████████████████████████████████████████████████████████████████████████████████████████████████████████| 88/88 [00:32<00:00,  2.70it/s, D Loss=1.3974, G Loss=1.4788, Rec Loss=0.0545]\n"
     ]
    },
    {
     "name": "stdout",
     "output_type": "stream",
     "text": [
      "Checkpoint saved at epoch 439\n"
     ]
    },
    {
     "name": "stderr",
     "output_type": "stream",
     "text": [
      "Epoch 440/1000: 100%|████████████████████████████████████████████████████████████████████████████████████████████████████████████| 88/88 [00:32<00:00,  2.68it/s, D Loss=0.9919, G Loss=1.7419, Rec Loss=0.0693]\n"
     ]
    },
    {
     "name": "stdout",
     "output_type": "stream",
     "text": [
      "Checkpoint saved at epoch 440\n"
     ]
    },
    {
     "name": "stderr",
     "output_type": "stream",
     "text": [
      "Epoch 441/1000: 100%|████████████████████████████████████████████████████████████████████████████████████████████████████████████| 88/88 [00:29<00:00,  2.93it/s, D Loss=0.9930, G Loss=2.0583, Rec Loss=0.0592]\n"
     ]
    },
    {
     "name": "stdout",
     "output_type": "stream",
     "text": [
      "Checkpoint saved at epoch 441\n"
     ]
    },
    {
     "name": "stderr",
     "output_type": "stream",
     "text": [
      "Epoch 442/1000: 100%|████████████████████████████████████████████████████████████████████████████████████████████████████████████| 88/88 [00:32<00:00,  2.69it/s, D Loss=0.7533, G Loss=3.8912, Rec Loss=0.0676]\n"
     ]
    },
    {
     "name": "stdout",
     "output_type": "stream",
     "text": [
      "Checkpoint saved at epoch 442\n"
     ]
    },
    {
     "name": "stderr",
     "output_type": "stream",
     "text": [
      "Epoch 443/1000: 100%|████████████████████████████████████████████████████████████████████████████████████████████████████████████| 88/88 [00:31<00:00,  2.79it/s, D Loss=0.9517, G Loss=2.1985, Rec Loss=0.0542]\n"
     ]
    },
    {
     "name": "stdout",
     "output_type": "stream",
     "text": [
      "Checkpoint saved at epoch 443\n"
     ]
    },
    {
     "name": "stderr",
     "output_type": "stream",
     "text": [
      "Epoch 444/1000: 100%|████████████████████████████████████████████████████████████████████████████████████████████████████████████| 88/88 [00:31<00:00,  2.84it/s, D Loss=0.8883, G Loss=2.4239, Rec Loss=0.0649]\n"
     ]
    },
    {
     "name": "stdout",
     "output_type": "stream",
     "text": [
      "Checkpoint saved at epoch 444\n"
     ]
    },
    {
     "name": "stderr",
     "output_type": "stream",
     "text": [
      "Epoch 445/1000: 100%|████████████████████████████████████████████████████████████████████████████████████████████████████████████| 88/88 [00:32<00:00,  2.71it/s, D Loss=0.9209, G Loss=2.5709, Rec Loss=0.0652]\n"
     ]
    },
    {
     "name": "stdout",
     "output_type": "stream",
     "text": [
      "Checkpoint saved at epoch 445\n"
     ]
    },
    {
     "name": "stderr",
     "output_type": "stream",
     "text": [
      "Epoch 446/1000: 100%|████████████████████████████████████████████████████████████████████████████████████████████████████████████| 88/88 [00:31<00:00,  2.82it/s, D Loss=1.1303, G Loss=3.6002, Rec Loss=0.0731]\n"
     ]
    },
    {
     "name": "stdout",
     "output_type": "stream",
     "text": [
      "Checkpoint saved at epoch 446\n"
     ]
    },
    {
     "name": "stderr",
     "output_type": "stream",
     "text": [
      "Epoch 447/1000: 100%|████████████████████████████████████████████████████████████████████████████████████████████████████████████| 88/88 [00:32<00:00,  2.73it/s, D Loss=1.0406, G Loss=2.4413, Rec Loss=0.0607]\n"
     ]
    },
    {
     "name": "stdout",
     "output_type": "stream",
     "text": [
      "Checkpoint saved at epoch 447\n"
     ]
    },
    {
     "name": "stderr",
     "output_type": "stream",
     "text": [
      "Epoch 448/1000: 100%|████████████████████████████████████████████████████████████████████████████████████████████████████████████| 88/88 [00:33<00:00,  2.60it/s, D Loss=0.8936, G Loss=2.1416, Rec Loss=0.0602]\n"
     ]
    },
    {
     "name": "stdout",
     "output_type": "stream",
     "text": [
      "Checkpoint saved at epoch 448\n"
     ]
    },
    {
     "name": "stderr",
     "output_type": "stream",
     "text": [
      "Epoch 449/1000: 100%|████████████████████████████████████████████████████████████████████████████████████████████████████████████| 88/88 [00:30<00:00,  2.84it/s, D Loss=0.8077, G Loss=2.5601, Rec Loss=0.0673]\n"
     ]
    },
    {
     "name": "stdout",
     "output_type": "stream",
     "text": [
      "Checkpoint saved at epoch 449\n"
     ]
    },
    {
     "name": "stderr",
     "output_type": "stream",
     "text": [
      "Epoch 450/1000: 100%|████████████████████████████████████████████████████████████████████████████████████████████████████████████| 88/88 [00:32<00:00,  2.69it/s, D Loss=0.8506, G Loss=2.6699, Rec Loss=0.0717]\n"
     ]
    },
    {
     "name": "stdout",
     "output_type": "stream",
     "text": [
      "Additional checkpoint saved at checkpoints/DisasterGAN_epoch450.pth\n",
      "Checkpoint saved at epoch 450\n"
     ]
    },
    {
     "name": "stderr",
     "output_type": "stream",
     "text": [
      "Epoch 451/1000: 100%|████████████████████████████████████████████████████████████████████████████████████████████████████████████| 88/88 [00:31<00:00,  2.78it/s, D Loss=0.9266, G Loss=2.5388, Rec Loss=0.0608]\n"
     ]
    },
    {
     "name": "stdout",
     "output_type": "stream",
     "text": [
      "Checkpoint saved at epoch 451\n"
     ]
    },
    {
     "name": "stderr",
     "output_type": "stream",
     "text": [
      "Epoch 452/1000: 100%|████████████████████████████████████████████████████████████████████████████████████████████████████████████| 88/88 [00:31<00:00,  2.79it/s, D Loss=0.8954, G Loss=2.5845, Rec Loss=0.0725]\n"
     ]
    },
    {
     "name": "stdout",
     "output_type": "stream",
     "text": [
      "Checkpoint saved at epoch 452\n"
     ]
    },
    {
     "name": "stderr",
     "output_type": "stream",
     "text": [
      "Epoch 453/1000: 100%|████████████████████████████████████████████████████████████████████████████████████████████████████████████| 88/88 [00:29<00:00,  2.94it/s, D Loss=0.8894, G Loss=2.5831, Rec Loss=0.0649]\n"
     ]
    },
    {
     "name": "stdout",
     "output_type": "stream",
     "text": [
      "Checkpoint saved at epoch 453\n"
     ]
    },
    {
     "name": "stderr",
     "output_type": "stream",
     "text": [
      "Epoch 454/1000: 100%|████████████████████████████████████████████████████████████████████████████████████████████████████████████| 88/88 [00:34<00:00,  2.56it/s, D Loss=0.9497, G Loss=2.6102, Rec Loss=0.0825]\n"
     ]
    },
    {
     "name": "stdout",
     "output_type": "stream",
     "text": [
      "Checkpoint saved at epoch 454\n"
     ]
    },
    {
     "name": "stderr",
     "output_type": "stream",
     "text": [
      "Epoch 455/1000: 100%|████████████████████████████████████████████████████████████████████████████████████████████████████████████| 88/88 [00:32<00:00,  2.69it/s, D Loss=0.7498, G Loss=2.8188, Rec Loss=0.0663]\n"
     ]
    },
    {
     "name": "stdout",
     "output_type": "stream",
     "text": [
      "Checkpoint saved at epoch 455\n"
     ]
    },
    {
     "name": "stderr",
     "output_type": "stream",
     "text": [
      "Epoch 456/1000: 100%|████████████████████████████████████████████████████████████████████████████████████████████████████████████| 88/88 [00:32<00:00,  2.73it/s, D Loss=0.9981, G Loss=1.9874, Rec Loss=0.0494]\n"
     ]
    },
    {
     "name": "stdout",
     "output_type": "stream",
     "text": [
      "Checkpoint saved at epoch 456\n"
     ]
    },
    {
     "name": "stderr",
     "output_type": "stream",
     "text": [
      "Epoch 457/1000: 100%|████████████████████████████████████████████████████████████████████████████████████████████████████████████| 88/88 [00:31<00:00,  2.84it/s, D Loss=0.8221, G Loss=2.2900, Rec Loss=0.0765]\n"
     ]
    },
    {
     "name": "stdout",
     "output_type": "stream",
     "text": [
      "Checkpoint saved at epoch 457\n"
     ]
    },
    {
     "name": "stderr",
     "output_type": "stream",
     "text": [
      "Epoch 458/1000: 100%|████████████████████████████████████████████████████████████████████████████████████████████████████████████| 88/88 [00:30<00:00,  2.90it/s, D Loss=0.9643, G Loss=2.4823, Rec Loss=0.0615]\n"
     ]
    },
    {
     "name": "stdout",
     "output_type": "stream",
     "text": [
      "Checkpoint saved at epoch 458\n"
     ]
    },
    {
     "name": "stderr",
     "output_type": "stream",
     "text": [
      "Epoch 459/1000: 100%|████████████████████████████████████████████████████████████████████████████████████████████████████████████| 88/88 [00:30<00:00,  2.84it/s, D Loss=0.8782, G Loss=2.5674, Rec Loss=0.0736]\n"
     ]
    },
    {
     "name": "stdout",
     "output_type": "stream",
     "text": [
      "Checkpoint saved at epoch 459\n"
     ]
    },
    {
     "name": "stderr",
     "output_type": "stream",
     "text": [
      "Epoch 460/1000: 100%|████████████████████████████████████████████████████████████████████████████████████████████████████████████| 88/88 [00:29<00:00,  3.00it/s, D Loss=0.8712, G Loss=2.2123, Rec Loss=0.0516]\n"
     ]
    },
    {
     "name": "stdout",
     "output_type": "stream",
     "text": [
      "Checkpoint saved at epoch 460\n"
     ]
    },
    {
     "name": "stderr",
     "output_type": "stream",
     "text": [
      "Epoch 461/1000: 100%|████████████████████████████████████████████████████████████████████████████████████████████████████████████| 88/88 [00:31<00:00,  2.84it/s, D Loss=0.9145, G Loss=2.0746, Rec Loss=0.0611]\n"
     ]
    },
    {
     "name": "stdout",
     "output_type": "stream",
     "text": [
      "Checkpoint saved at epoch 461\n"
     ]
    },
    {
     "name": "stderr",
     "output_type": "stream",
     "text": [
      "Epoch 462/1000: 100%|████████████████████████████████████████████████████████████████████████████████████████████████████████████| 88/88 [00:30<00:00,  2.88it/s, D Loss=0.8665, G Loss=1.9246, Rec Loss=0.0532]\n"
     ]
    },
    {
     "name": "stdout",
     "output_type": "stream",
     "text": [
      "Checkpoint saved at epoch 462\n"
     ]
    },
    {
     "name": "stderr",
     "output_type": "stream",
     "text": [
      "Epoch 463/1000: 100%|████████████████████████████████████████████████████████████████████████████████████████████████████████████| 88/88 [00:32<00:00,  2.73it/s, D Loss=0.8438, G Loss=2.0044, Rec Loss=0.0687]\n"
     ]
    },
    {
     "name": "stdout",
     "output_type": "stream",
     "text": [
      "Checkpoint saved at epoch 463\n"
     ]
    },
    {
     "name": "stderr",
     "output_type": "stream",
     "text": [
      "Epoch 464/1000: 100%|████████████████████████████████████████████████████████████████████████████████████████████████████████████| 88/88 [00:31<00:00,  2.83it/s, D Loss=0.8410, G Loss=2.3713, Rec Loss=0.0670]\n"
     ]
    },
    {
     "name": "stdout",
     "output_type": "stream",
     "text": [
      "Checkpoint saved at epoch 464\n"
     ]
    },
    {
     "name": "stderr",
     "output_type": "stream",
     "text": [
      "Epoch 465/1000: 100%|████████████████████████████████████████████████████████████████████████████████████████████████████████████| 88/88 [00:30<00:00,  2.86it/s, D Loss=1.0083, G Loss=2.7652, Rec Loss=0.0648]\n"
     ]
    },
    {
     "name": "stdout",
     "output_type": "stream",
     "text": [
      "Additional checkpoint saved at checkpoints/DisasterGAN_epoch465.pth\n",
      "Checkpoint saved at epoch 465\n"
     ]
    },
    {
     "name": "stderr",
     "output_type": "stream",
     "text": [
      "Epoch 466/1000: 100%|████████████████████████████████████████████████████████████████████████████████████████████████████████████| 88/88 [00:32<00:00,  2.74it/s, D Loss=1.0219, G Loss=2.0820, Rec Loss=0.0582]\n"
     ]
    },
    {
     "name": "stdout",
     "output_type": "stream",
     "text": [
      "Checkpoint saved at epoch 466\n"
     ]
    },
    {
     "name": "stderr",
     "output_type": "stream",
     "text": [
      "Epoch 467/1000: 100%|████████████████████████████████████████████████████████████████████████████████████████████████████████████| 88/88 [00:31<00:00,  2.78it/s, D Loss=0.8550, G Loss=2.3312, Rec Loss=0.0641]\n"
     ]
    },
    {
     "name": "stdout",
     "output_type": "stream",
     "text": [
      "Checkpoint saved at epoch 467\n"
     ]
    },
    {
     "name": "stderr",
     "output_type": "stream",
     "text": [
      "Epoch 468/1000: 100%|████████████████████████████████████████████████████████████████████████████████████████████████████████████| 88/88 [00:32<00:00,  2.71it/s, D Loss=0.9880, G Loss=2.3811, Rec Loss=0.0614]\n"
     ]
    },
    {
     "name": "stdout",
     "output_type": "stream",
     "text": [
      "Checkpoint saved at epoch 468\n"
     ]
    },
    {
     "name": "stderr",
     "output_type": "stream",
     "text": [
      "Epoch 469/1000: 100%|████████████████████████████████████████████████████████████████████████████████████████████████████████████| 88/88 [00:31<00:00,  2.82it/s, D Loss=0.9934, G Loss=2.1978, Rec Loss=0.0562]\n"
     ]
    },
    {
     "name": "stdout",
     "output_type": "stream",
     "text": [
      "Checkpoint saved at epoch 469\n"
     ]
    },
    {
     "name": "stderr",
     "output_type": "stream",
     "text": [
      "Epoch 470/1000: 100%|████████████████████████████████████████████████████████████████████████████████████████████████████████████| 88/88 [00:33<00:00,  2.59it/s, D Loss=0.8019, G Loss=2.8763, Rec Loss=0.0639]\n"
     ]
    },
    {
     "name": "stdout",
     "output_type": "stream",
     "text": [
      "Checkpoint saved at epoch 470\n"
     ]
    },
    {
     "name": "stderr",
     "output_type": "stream",
     "text": [
      "Epoch 471/1000: 100%|████████████████████████████████████████████████████████████████████████████████████████████████████████████| 88/88 [00:31<00:00,  2.80it/s, D Loss=0.8804, G Loss=2.9728, Rec Loss=0.0637]\n"
     ]
    },
    {
     "name": "stdout",
     "output_type": "stream",
     "text": [
      "Checkpoint saved at epoch 471\n"
     ]
    },
    {
     "name": "stderr",
     "output_type": "stream",
     "text": [
      "Epoch 472/1000: 100%|████████████████████████████████████████████████████████████████████████████████████████████████████████████| 88/88 [00:30<00:00,  2.84it/s, D Loss=1.0465, G Loss=2.3958, Rec Loss=0.0611]\n"
     ]
    },
    {
     "name": "stdout",
     "output_type": "stream",
     "text": [
      "Checkpoint saved at epoch 472\n"
     ]
    },
    {
     "name": "stderr",
     "output_type": "stream",
     "text": [
      "Epoch 473/1000: 100%|████████████████████████████████████████████████████████████████████████████████████████████████████████████| 88/88 [00:33<00:00,  2.66it/s, D Loss=0.9612, G Loss=2.9567, Rec Loss=0.0590]\n"
     ]
    },
    {
     "name": "stdout",
     "output_type": "stream",
     "text": [
      "Checkpoint saved at epoch 473\n"
     ]
    },
    {
     "name": "stderr",
     "output_type": "stream",
     "text": [
      "Epoch 474/1000: 100%|████████████████████████████████████████████████████████████████████████████████████████████████████████████| 88/88 [00:33<00:00,  2.62it/s, D Loss=0.8517, G Loss=2.3475, Rec Loss=0.0613]\n"
     ]
    },
    {
     "name": "stdout",
     "output_type": "stream",
     "text": [
      "Checkpoint saved at epoch 474\n"
     ]
    },
    {
     "name": "stderr",
     "output_type": "stream",
     "text": [
      "Epoch 475/1000: 100%|████████████████████████████████████████████████████████████████████████████████████████████████████████████| 88/88 [00:32<00:00,  2.73it/s, D Loss=0.9014, G Loss=2.0660, Rec Loss=0.0593]\n"
     ]
    },
    {
     "name": "stdout",
     "output_type": "stream",
     "text": [
      "Checkpoint saved at epoch 475\n"
     ]
    },
    {
     "name": "stderr",
     "output_type": "stream",
     "text": [
      "Epoch 476/1000: 100%|████████████████████████████████████████████████████████████████████████████████████████████████████████████| 88/88 [00:32<00:00,  2.69it/s, D Loss=1.3204, G Loss=3.1254, Rec Loss=0.0767]\n"
     ]
    },
    {
     "name": "stdout",
     "output_type": "stream",
     "text": [
      "Checkpoint saved at epoch 476\n"
     ]
    },
    {
     "name": "stderr",
     "output_type": "stream",
     "text": [
      "Epoch 477/1000: 100%|████████████████████████████████████████████████████████████████████████████████████████████████████████████| 88/88 [00:30<00:00,  2.88it/s, D Loss=1.0279, G Loss=2.3643, Rec Loss=0.0778]\n"
     ]
    },
    {
     "name": "stdout",
     "output_type": "stream",
     "text": [
      "Checkpoint saved at epoch 477\n"
     ]
    },
    {
     "name": "stderr",
     "output_type": "stream",
     "text": [
      "Epoch 478/1000: 100%|████████████████████████████████████████████████████████████████████████████████████████████████████████████| 88/88 [00:32<00:00,  2.67it/s, D Loss=0.8512, G Loss=2.4691, Rec Loss=0.0656]\n"
     ]
    },
    {
     "name": "stdout",
     "output_type": "stream",
     "text": [
      "Checkpoint saved at epoch 478\n"
     ]
    },
    {
     "name": "stderr",
     "output_type": "stream",
     "text": [
      "Epoch 479/1000: 100%|████████████████████████████████████████████████████████████████████████████████████████████████████████████| 88/88 [00:33<00:00,  2.62it/s, D Loss=0.8406, G Loss=2.2980, Rec Loss=0.0668]\n"
     ]
    },
    {
     "name": "stdout",
     "output_type": "stream",
     "text": [
      "Checkpoint saved at epoch 479\n"
     ]
    },
    {
     "name": "stderr",
     "output_type": "stream",
     "text": [
      "Epoch 480/1000: 100%|████████████████████████████████████████████████████████████████████████████████████████████████████████████| 88/88 [00:33<00:00,  2.66it/s, D Loss=0.7651, G Loss=3.9477, Rec Loss=0.0706]\n"
     ]
    },
    {
     "name": "stdout",
     "output_type": "stream",
     "text": [
      "Additional checkpoint saved at checkpoints/DisasterGAN_epoch480.pth\n",
      "Checkpoint saved at epoch 480\n"
     ]
    },
    {
     "name": "stderr",
     "output_type": "stream",
     "text": [
      "Epoch 481/1000: 100%|████████████████████████████████████████████████████████████████████████████████████████████████████████████| 88/88 [00:33<00:00,  2.62it/s, D Loss=0.9579, G Loss=2.9852, Rec Loss=0.0560]\n"
     ]
    },
    {
     "name": "stdout",
     "output_type": "stream",
     "text": [
      "Checkpoint saved at epoch 481\n"
     ]
    },
    {
     "name": "stderr",
     "output_type": "stream",
     "text": [
      "Epoch 482/1000: 100%|████████████████████████████████████████████████████████████████████████████████████████████████████████████| 88/88 [00:30<00:00,  2.88it/s, D Loss=0.7885, G Loss=3.6090, Rec Loss=0.0701]\n"
     ]
    },
    {
     "name": "stdout",
     "output_type": "stream",
     "text": [
      "Checkpoint saved at epoch 482\n"
     ]
    },
    {
     "name": "stderr",
     "output_type": "stream",
     "text": [
      "Epoch 483/1000: 100%|████████████████████████████████████████████████████████████████████████████████████████████████████████████| 88/88 [00:33<00:00,  2.64it/s, D Loss=1.5507, G Loss=1.3914, Rec Loss=0.0780]\n"
     ]
    },
    {
     "name": "stdout",
     "output_type": "stream",
     "text": [
      "Checkpoint saved at epoch 483\n"
     ]
    },
    {
     "name": "stderr",
     "output_type": "stream",
     "text": [
      "Epoch 484/1000: 100%|████████████████████████████████████████████████████████████████████████████████████████████████████████████| 88/88 [00:31<00:00,  2.78it/s, D Loss=0.8734, G Loss=2.3134, Rec Loss=0.0706]\n"
     ]
    },
    {
     "name": "stdout",
     "output_type": "stream",
     "text": [
      "Checkpoint saved at epoch 484\n"
     ]
    },
    {
     "name": "stderr",
     "output_type": "stream",
     "text": [
      "Epoch 485/1000: 100%|████████████████████████████████████████████████████████████████████████████████████████████████████████████| 88/88 [00:32<00:00,  2.73it/s, D Loss=0.8424, G Loss=3.3428, Rec Loss=0.0620]\n"
     ]
    },
    {
     "name": "stdout",
     "output_type": "stream",
     "text": [
      "Checkpoint saved at epoch 485\n"
     ]
    },
    {
     "name": "stderr",
     "output_type": "stream",
     "text": [
      "Epoch 486/1000: 100%|████████████████████████████████████████████████████████████████████████████████████████████████████████████| 88/88 [00:30<00:00,  2.91it/s, D Loss=0.8207, G Loss=2.7154, Rec Loss=0.0600]\n"
     ]
    },
    {
     "name": "stdout",
     "output_type": "stream",
     "text": [
      "Checkpoint saved at epoch 486\n"
     ]
    },
    {
     "name": "stderr",
     "output_type": "stream",
     "text": [
      "Epoch 487/1000: 100%|████████████████████████████████████████████████████████████████████████████████████████████████████████████| 88/88 [00:30<00:00,  2.85it/s, D Loss=0.7480, G Loss=2.7282, Rec Loss=0.0709]\n"
     ]
    },
    {
     "name": "stdout",
     "output_type": "stream",
     "text": [
      "Checkpoint saved at epoch 487\n"
     ]
    },
    {
     "name": "stderr",
     "output_type": "stream",
     "text": [
      "Epoch 488/1000: 100%|████████████████████████████████████████████████████████████████████████████████████████████████████████████| 88/88 [00:30<00:00,  2.86it/s, D Loss=0.9897, G Loss=3.0912, Rec Loss=0.0590]\n"
     ]
    },
    {
     "name": "stdout",
     "output_type": "stream",
     "text": [
      "Checkpoint saved at epoch 488\n"
     ]
    },
    {
     "name": "stderr",
     "output_type": "stream",
     "text": [
      "Epoch 489/1000: 100%|████████████████████████████████████████████████████████████████████████████████████████████████████████████| 88/88 [00:33<00:00,  2.66it/s, D Loss=0.8618, G Loss=2.5113, Rec Loss=0.0688]\n"
     ]
    },
    {
     "name": "stdout",
     "output_type": "stream",
     "text": [
      "Checkpoint saved at epoch 489\n"
     ]
    },
    {
     "name": "stderr",
     "output_type": "stream",
     "text": [
      "Epoch 490/1000: 100%|████████████████████████████████████████████████████████████████████████████████████████████████████████████| 88/88 [00:33<00:00,  2.66it/s, D Loss=0.8154, G Loss=2.8703, Rec Loss=0.0685]\n"
     ]
    },
    {
     "name": "stdout",
     "output_type": "stream",
     "text": [
      "Checkpoint saved at epoch 490\n"
     ]
    },
    {
     "name": "stderr",
     "output_type": "stream",
     "text": [
      "Epoch 491/1000: 100%|████████████████████████████████████████████████████████████████████████████████████████████████████████████| 88/88 [00:31<00:00,  2.77it/s, D Loss=0.8537, G Loss=2.2740, Rec Loss=0.0572]\n"
     ]
    },
    {
     "name": "stdout",
     "output_type": "stream",
     "text": [
      "Checkpoint saved at epoch 491\n"
     ]
    },
    {
     "name": "stderr",
     "output_type": "stream",
     "text": [
      "Epoch 492/1000: 100%|████████████████████████████████████████████████████████████████████████████████████████████████████████████| 88/88 [00:31<00:00,  2.81it/s, D Loss=0.8954, G Loss=2.4539, Rec Loss=0.0643]\n"
     ]
    },
    {
     "name": "stdout",
     "output_type": "stream",
     "text": [
      "Checkpoint saved at epoch 492\n"
     ]
    },
    {
     "name": "stderr",
     "output_type": "stream",
     "text": [
      "Epoch 493/1000: 100%|████████████████████████████████████████████████████████████████████████████████████████████████████████████| 88/88 [00:32<00:00,  2.71it/s, D Loss=1.0083, G Loss=2.3044, Rec Loss=0.0598]\n"
     ]
    },
    {
     "name": "stdout",
     "output_type": "stream",
     "text": [
      "Checkpoint saved at epoch 493\n"
     ]
    },
    {
     "name": "stderr",
     "output_type": "stream",
     "text": [
      "Epoch 494/1000: 100%|████████████████████████████████████████████████████████████████████████████████████████████████████████████| 88/88 [00:31<00:00,  2.84it/s, D Loss=0.9648, G Loss=2.6079, Rec Loss=0.0656]\n"
     ]
    },
    {
     "name": "stdout",
     "output_type": "stream",
     "text": [
      "Checkpoint saved at epoch 494\n"
     ]
    },
    {
     "name": "stderr",
     "output_type": "stream",
     "text": [
      "Epoch 495/1000: 100%|████████████████████████████████████████████████████████████████████████████████████████████████████████████| 88/88 [00:30<00:00,  2.87it/s, D Loss=0.8887, G Loss=2.5426, Rec Loss=0.0656]\n"
     ]
    },
    {
     "name": "stdout",
     "output_type": "stream",
     "text": [
      "Additional checkpoint saved at checkpoints/DisasterGAN_epoch495.pth\n",
      "Checkpoint saved at epoch 495\n"
     ]
    },
    {
     "name": "stderr",
     "output_type": "stream",
     "text": [
      "Epoch 496/1000: 100%|████████████████████████████████████████████████████████████████████████████████████████████████████████████| 88/88 [00:31<00:00,  2.77it/s, D Loss=0.9179, G Loss=2.2754, Rec Loss=0.0588]\n"
     ]
    },
    {
     "name": "stdout",
     "output_type": "stream",
     "text": [
      "Checkpoint saved at epoch 496\n"
     ]
    },
    {
     "name": "stderr",
     "output_type": "stream",
     "text": [
      "Epoch 497/1000: 100%|████████████████████████████████████████████████████████████████████████████████████████████████████████████| 88/88 [00:32<00:00,  2.70it/s, D Loss=0.9639, G Loss=2.6267, Rec Loss=0.0656]\n"
     ]
    },
    {
     "name": "stdout",
     "output_type": "stream",
     "text": [
      "Checkpoint saved at epoch 497\n"
     ]
    },
    {
     "name": "stderr",
     "output_type": "stream",
     "text": [
      "Epoch 498/1000: 100%|████████████████████████████████████████████████████████████████████████████████████████████████████████████| 88/88 [00:31<00:00,  2.81it/s, D Loss=0.8367, G Loss=2.4289, Rec Loss=0.0575]\n"
     ]
    },
    {
     "name": "stdout",
     "output_type": "stream",
     "text": [
      "Checkpoint saved at epoch 498\n"
     ]
    },
    {
     "name": "stderr",
     "output_type": "stream",
     "text": [
      "Epoch 499/1000: 100%|████████████████████████████████████████████████████████████████████████████████████████████████████████████| 88/88 [00:31<00:00,  2.82it/s, D Loss=0.9299, G Loss=2.9567, Rec Loss=0.0709]\n"
     ]
    },
    {
     "name": "stdout",
     "output_type": "stream",
     "text": [
      "Checkpoint saved at epoch 499\n"
     ]
    },
    {
     "name": "stderr",
     "output_type": "stream",
     "text": [
      "Epoch 500/1000: 100%|████████████████████████████████████████████████████████████████████████████████████████████████████████████| 88/88 [00:31<00:00,  2.84it/s, D Loss=0.9329, G Loss=2.1692, Rec Loss=0.0659]\n"
     ]
    },
    {
     "name": "stdout",
     "output_type": "stream",
     "text": [
      "Checkpoint saved at epoch 500\n"
     ]
    },
    {
     "name": "stderr",
     "output_type": "stream",
     "text": [
      "Epoch 501/1000: 100%|████████████████████████████████████████████████████████████████████████████████████████████████████████████| 88/88 [00:30<00:00,  2.84it/s, D Loss=0.8554, G Loss=2.7405, Rec Loss=0.0817]\n"
     ]
    },
    {
     "name": "stdout",
     "output_type": "stream",
     "text": [
      "Checkpoint saved at epoch 501\n"
     ]
    },
    {
     "name": "stderr",
     "output_type": "stream",
     "text": [
      "Epoch 502/1000: 100%|████████████████████████████████████████████████████████████████████████████████████████████████████████████| 88/88 [00:33<00:00,  2.63it/s, D Loss=0.8405, G Loss=2.9887, Rec Loss=0.0634]\n"
     ]
    },
    {
     "name": "stdout",
     "output_type": "stream",
     "text": [
      "Checkpoint saved at epoch 502\n"
     ]
    },
    {
     "name": "stderr",
     "output_type": "stream",
     "text": [
      "Epoch 503/1000: 100%|████████████████████████████████████████████████████████████████████████████████████████████████████████████| 88/88 [00:31<00:00,  2.79it/s, D Loss=0.7834, G Loss=2.3947, Rec Loss=0.0592]\n"
     ]
    },
    {
     "name": "stdout",
     "output_type": "stream",
     "text": [
      "Checkpoint saved at epoch 503\n"
     ]
    },
    {
     "name": "stderr",
     "output_type": "stream",
     "text": [
      "Epoch 504/1000: 100%|████████████████████████████████████████████████████████████████████████████████████████████████████████████| 88/88 [00:31<00:00,  2.79it/s, D Loss=0.9495, G Loss=2.0373, Rec Loss=0.0600]\n"
     ]
    },
    {
     "name": "stdout",
     "output_type": "stream",
     "text": [
      "Checkpoint saved at epoch 504\n"
     ]
    },
    {
     "name": "stderr",
     "output_type": "stream",
     "text": [
      "Epoch 505/1000: 100%|████████████████████████████████████████████████████████████████████████████████████████████████████████████| 88/88 [00:31<00:00,  2.82it/s, D Loss=0.7164, G Loss=2.8705, Rec Loss=0.0660]\n"
     ]
    },
    {
     "name": "stdout",
     "output_type": "stream",
     "text": [
      "Checkpoint saved at epoch 505\n"
     ]
    },
    {
     "name": "stderr",
     "output_type": "stream",
     "text": [
      "Epoch 506/1000: 100%|████████████████████████████████████████████████████████████████████████████████████████████████████████████| 88/88 [00:31<00:00,  2.81it/s, D Loss=0.8743, G Loss=2.8020, Rec Loss=0.0622]\n"
     ]
    },
    {
     "name": "stdout",
     "output_type": "stream",
     "text": [
      "Checkpoint saved at epoch 506\n"
     ]
    },
    {
     "name": "stderr",
     "output_type": "stream",
     "text": [
      "Epoch 507/1000: 100%|████████████████████████████████████████████████████████████████████████████████████████████████████████████| 88/88 [00:31<00:00,  2.79it/s, D Loss=0.5914, G Loss=4.1947, Rec Loss=0.0914]\n"
     ]
    },
    {
     "name": "stdout",
     "output_type": "stream",
     "text": [
      "Checkpoint saved at epoch 507\n"
     ]
    },
    {
     "name": "stderr",
     "output_type": "stream",
     "text": [
      "Epoch 508/1000: 100%|████████████████████████████████████████████████████████████████████████████████████████████████████████████| 88/88 [00:36<00:00,  2.44it/s, D Loss=0.7232, G Loss=2.4235, Rec Loss=0.0584]\n"
     ]
    },
    {
     "name": "stdout",
     "output_type": "stream",
     "text": [
      "Checkpoint saved at epoch 508\n"
     ]
    },
    {
     "name": "stderr",
     "output_type": "stream",
     "text": [
      "Epoch 509/1000: 100%|████████████████████████████████████████████████████████████████████████████████████████████████████████████| 88/88 [00:33<00:00,  2.63it/s, D Loss=0.7903, G Loss=2.5164, Rec Loss=0.0759]\n"
     ]
    },
    {
     "name": "stdout",
     "output_type": "stream",
     "text": [
      "Checkpoint saved at epoch 509\n"
     ]
    },
    {
     "name": "stderr",
     "output_type": "stream",
     "text": [
      "Epoch 510/1000: 100%|████████████████████████████████████████████████████████████████████████████████████████████████████████████| 88/88 [00:31<00:00,  2.83it/s, D Loss=0.7846, G Loss=2.7382, Rec Loss=0.0741]\n"
     ]
    },
    {
     "name": "stdout",
     "output_type": "stream",
     "text": [
      "Additional checkpoint saved at checkpoints/DisasterGAN_epoch510.pth\n",
      "Checkpoint saved at epoch 510\n"
     ]
    },
    {
     "name": "stderr",
     "output_type": "stream",
     "text": [
      "Epoch 511/1000: 100%|████████████████████████████████████████████████████████████████████████████████████████████████████████████| 88/88 [00:31<00:00,  2.83it/s, D Loss=0.7542, G Loss=2.5005, Rec Loss=0.0671]\n"
     ]
    },
    {
     "name": "stdout",
     "output_type": "stream",
     "text": [
      "Checkpoint saved at epoch 511\n"
     ]
    },
    {
     "name": "stderr",
     "output_type": "stream",
     "text": [
      "Epoch 512/1000: 100%|████████████████████████████████████████████████████████████████████████████████████████████████████████████| 88/88 [00:31<00:00,  2.81it/s, D Loss=0.8590, G Loss=2.8228, Rec Loss=0.0628]\n"
     ]
    },
    {
     "name": "stdout",
     "output_type": "stream",
     "text": [
      "Checkpoint saved at epoch 512\n"
     ]
    },
    {
     "name": "stderr",
     "output_type": "stream",
     "text": [
      "Epoch 513/1000: 100%|████████████████████████████████████████████████████████████████████████████████████████████████████████████| 88/88 [00:30<00:00,  2.87it/s, D Loss=0.7015, G Loss=3.2018, Rec Loss=0.0758]\n"
     ]
    },
    {
     "name": "stdout",
     "output_type": "stream",
     "text": [
      "Checkpoint saved at epoch 513\n"
     ]
    },
    {
     "name": "stderr",
     "output_type": "stream",
     "text": [
      "Epoch 514/1000: 100%|████████████████████████████████████████████████████████████████████████████████████████████████████████████| 88/88 [00:32<00:00,  2.73it/s, D Loss=0.7934, G Loss=2.5499, Rec Loss=0.0791]\n"
     ]
    },
    {
     "name": "stdout",
     "output_type": "stream",
     "text": [
      "Checkpoint saved at epoch 514\n"
     ]
    },
    {
     "name": "stderr",
     "output_type": "stream",
     "text": [
      "Epoch 515/1000: 100%|████████████████████████████████████████████████████████████████████████████████████████████████████████████| 88/88 [00:31<00:00,  2.82it/s, D Loss=0.8502, G Loss=2.4388, Rec Loss=0.0603]\n"
     ]
    },
    {
     "name": "stdout",
     "output_type": "stream",
     "text": [
      "Checkpoint saved at epoch 515\n"
     ]
    },
    {
     "name": "stderr",
     "output_type": "stream",
     "text": [
      "Epoch 516/1000: 100%|████████████████████████████████████████████████████████████████████████████████████████████████████████████| 88/88 [00:31<00:00,  2.75it/s, D Loss=0.9053, G Loss=3.0511, Rec Loss=0.0625]\n"
     ]
    },
    {
     "name": "stdout",
     "output_type": "stream",
     "text": [
      "Checkpoint saved at epoch 516\n"
     ]
    },
    {
     "name": "stderr",
     "output_type": "stream",
     "text": [
      "Epoch 517/1000: 100%|████████████████████████████████████████████████████████████████████████████████████████████████████████████| 88/88 [00:33<00:00,  2.63it/s, D Loss=0.8006, G Loss=2.5621, Rec Loss=0.0666]\n"
     ]
    },
    {
     "name": "stdout",
     "output_type": "stream",
     "text": [
      "Checkpoint saved at epoch 517\n"
     ]
    },
    {
     "name": "stderr",
     "output_type": "stream",
     "text": [
      "Epoch 518/1000: 100%|████████████████████████████████████████████████████████████████████████████████████████████████████████████| 88/88 [00:32<00:00,  2.67it/s, D Loss=1.0030, G Loss=2.0802, Rec Loss=0.0660]\n"
     ]
    },
    {
     "name": "stdout",
     "output_type": "stream",
     "text": [
      "Checkpoint saved at epoch 518\n"
     ]
    },
    {
     "name": "stderr",
     "output_type": "stream",
     "text": [
      "Epoch 519/1000: 100%|████████████████████████████████████████████████████████████████████████████████████████████████████████████| 88/88 [00:32<00:00,  2.72it/s, D Loss=0.7996, G Loss=2.6375, Rec Loss=0.0762]\n"
     ]
    },
    {
     "name": "stdout",
     "output_type": "stream",
     "text": [
      "Checkpoint saved at epoch 519\n"
     ]
    },
    {
     "name": "stderr",
     "output_type": "stream",
     "text": [
      "Epoch 520/1000: 100%|████████████████████████████████████████████████████████████████████████████████████████████████████████████| 88/88 [00:30<00:00,  2.88it/s, D Loss=0.8247, G Loss=2.4159, Rec Loss=0.0623]\n"
     ]
    },
    {
     "name": "stdout",
     "output_type": "stream",
     "text": [
      "Checkpoint saved at epoch 520\n"
     ]
    },
    {
     "name": "stderr",
     "output_type": "stream",
     "text": [
      "Epoch 521/1000: 100%|████████████████████████████████████████████████████████████████████████████████████████████████████████████| 88/88 [00:31<00:00,  2.80it/s, D Loss=0.8199, G Loss=2.8065, Rec Loss=0.0672]\n"
     ]
    },
    {
     "name": "stdout",
     "output_type": "stream",
     "text": [
      "Checkpoint saved at epoch 521\n"
     ]
    },
    {
     "name": "stderr",
     "output_type": "stream",
     "text": [
      "Epoch 522/1000: 100%|████████████████████████████████████████████████████████████████████████████████████████████████████████████| 88/88 [00:30<00:00,  2.87it/s, D Loss=0.7560, G Loss=3.6863, Rec Loss=0.0854]\n"
     ]
    },
    {
     "name": "stdout",
     "output_type": "stream",
     "text": [
      "Checkpoint saved at epoch 522\n"
     ]
    },
    {
     "name": "stderr",
     "output_type": "stream",
     "text": [
      "Epoch 523/1000: 100%|████████████████████████████████████████████████████████████████████████████████████████████████████████████| 88/88 [00:31<00:00,  2.79it/s, D Loss=0.8087, G Loss=2.5616, Rec Loss=0.0664]\n"
     ]
    },
    {
     "name": "stdout",
     "output_type": "stream",
     "text": [
      "Checkpoint saved at epoch 523\n"
     ]
    },
    {
     "name": "stderr",
     "output_type": "stream",
     "text": [
      "Epoch 524/1000: 100%|████████████████████████████████████████████████████████████████████████████████████████████████████████████| 88/88 [00:31<00:00,  2.82it/s, D Loss=0.8311, G Loss=2.7927, Rec Loss=0.0605]\n"
     ]
    },
    {
     "name": "stdout",
     "output_type": "stream",
     "text": [
      "Checkpoint saved at epoch 524\n"
     ]
    },
    {
     "name": "stderr",
     "output_type": "stream",
     "text": [
      "Epoch 525/1000: 100%|████████████████████████████████████████████████████████████████████████████████████████████████████████████| 88/88 [00:30<00:00,  2.87it/s, D Loss=0.8267, G Loss=2.8997, Rec Loss=0.0586]\n"
     ]
    },
    {
     "name": "stdout",
     "output_type": "stream",
     "text": [
      "Additional checkpoint saved at checkpoints/DisasterGAN_epoch525.pth\n",
      "Checkpoint saved at epoch 525\n"
     ]
    },
    {
     "name": "stderr",
     "output_type": "stream",
     "text": [
      "Epoch 526/1000: 100%|████████████████████████████████████████████████████████████████████████████████████████████████████████████| 88/88 [00:30<00:00,  2.84it/s, D Loss=0.7816, G Loss=3.2459, Rec Loss=0.0651]\n"
     ]
    },
    {
     "name": "stdout",
     "output_type": "stream",
     "text": [
      "Checkpoint saved at epoch 526\n"
     ]
    },
    {
     "name": "stderr",
     "output_type": "stream",
     "text": [
      "Epoch 527/1000: 100%|████████████████████████████████████████████████████████████████████████████████████████████████████████████| 88/88 [00:32<00:00,  2.73it/s, D Loss=1.1828, G Loss=3.7263, Rec Loss=0.0604]\n"
     ]
    },
    {
     "name": "stdout",
     "output_type": "stream",
     "text": [
      "Checkpoint saved at epoch 527\n"
     ]
    },
    {
     "name": "stderr",
     "output_type": "stream",
     "text": [
      "Epoch 528/1000: 100%|████████████████████████████████████████████████████████████████████████████████████████████████████████████| 88/88 [00:32<00:00,  2.73it/s, D Loss=0.8650, G Loss=2.8073, Rec Loss=0.0612]\n"
     ]
    },
    {
     "name": "stdout",
     "output_type": "stream",
     "text": [
      "Checkpoint saved at epoch 528\n"
     ]
    },
    {
     "name": "stderr",
     "output_type": "stream",
     "text": [
      "Epoch 529/1000: 100%|████████████████████████████████████████████████████████████████████████████████████████████████████████████| 88/88 [00:29<00:00,  2.94it/s, D Loss=0.8099, G Loss=3.0493, Rec Loss=0.0739]\n"
     ]
    },
    {
     "name": "stdout",
     "output_type": "stream",
     "text": [
      "Checkpoint saved at epoch 529\n"
     ]
    },
    {
     "name": "stderr",
     "output_type": "stream",
     "text": [
      "Epoch 530/1000: 100%|████████████████████████████████████████████████████████████████████████████████████████████████████████████| 88/88 [00:33<00:00,  2.65it/s, D Loss=0.7889, G Loss=3.4406, Rec Loss=0.0623]\n"
     ]
    },
    {
     "name": "stdout",
     "output_type": "stream",
     "text": [
      "Checkpoint saved at epoch 530\n"
     ]
    },
    {
     "name": "stderr",
     "output_type": "stream",
     "text": [
      "Epoch 531/1000: 100%|████████████████████████████████████████████████████████████████████████████████████████████████████████████| 88/88 [00:30<00:00,  2.90it/s, D Loss=0.7973, G Loss=2.5391, Rec Loss=0.0553]\n"
     ]
    },
    {
     "name": "stdout",
     "output_type": "stream",
     "text": [
      "Checkpoint saved at epoch 531\n"
     ]
    },
    {
     "name": "stderr",
     "output_type": "stream",
     "text": [
      "Epoch 532/1000: 100%|████████████████████████████████████████████████████████████████████████████████████████████████████████████| 88/88 [00:31<00:00,  2.80it/s, D Loss=0.7883, G Loss=2.7154, Rec Loss=0.0696]\n"
     ]
    },
    {
     "name": "stdout",
     "output_type": "stream",
     "text": [
      "Checkpoint saved at epoch 532\n"
     ]
    },
    {
     "name": "stderr",
     "output_type": "stream",
     "text": [
      "Epoch 533/1000: 100%|████████████████████████████████████████████████████████████████████████████████████████████████████████████| 88/88 [00:31<00:00,  2.79it/s, D Loss=0.7643, G Loss=2.8358, Rec Loss=0.0698]\n"
     ]
    },
    {
     "name": "stdout",
     "output_type": "stream",
     "text": [
      "Checkpoint saved at epoch 533\n"
     ]
    },
    {
     "name": "stderr",
     "output_type": "stream",
     "text": [
      "Epoch 534/1000: 100%|████████████████████████████████████████████████████████████████████████████████████████████████████████████| 88/88 [00:30<00:00,  2.88it/s, D Loss=0.8621, G Loss=2.8114, Rec Loss=0.0585]\n"
     ]
    },
    {
     "name": "stdout",
     "output_type": "stream",
     "text": [
      "Checkpoint saved at epoch 534\n"
     ]
    },
    {
     "name": "stderr",
     "output_type": "stream",
     "text": [
      "Epoch 535/1000: 100%|████████████████████████████████████████████████████████████████████████████████████████████████████████████| 88/88 [00:32<00:00,  2.72it/s, D Loss=0.7683, G Loss=2.8001, Rec Loss=0.0721]\n"
     ]
    },
    {
     "name": "stdout",
     "output_type": "stream",
     "text": [
      "Checkpoint saved at epoch 535\n"
     ]
    },
    {
     "name": "stderr",
     "output_type": "stream",
     "text": [
      "Epoch 536/1000: 100%|████████████████████████████████████████████████████████████████████████████████████████████████████████████| 88/88 [00:36<00:00,  2.42it/s, D Loss=0.8385, G Loss=4.1890, Rec Loss=0.0628]\n"
     ]
    },
    {
     "name": "stdout",
     "output_type": "stream",
     "text": [
      "Checkpoint saved at epoch 536\n"
     ]
    },
    {
     "name": "stderr",
     "output_type": "stream",
     "text": [
      "Epoch 537/1000: 100%|████████████████████████████████████████████████████████████████████████████████████████████████████████████| 88/88 [00:31<00:00,  2.82it/s, D Loss=0.9254, G Loss=2.3688, Rec Loss=0.0601]\n"
     ]
    },
    {
     "name": "stdout",
     "output_type": "stream",
     "text": [
      "Checkpoint saved at epoch 537\n"
     ]
    },
    {
     "name": "stderr",
     "output_type": "stream",
     "text": [
      "Epoch 538/1000: 100%|████████████████████████████████████████████████████████████████████████████████████████████████████████████| 88/88 [00:31<00:00,  2.82it/s, D Loss=0.9620, G Loss=3.0832, Rec Loss=0.0652]\n"
     ]
    },
    {
     "name": "stdout",
     "output_type": "stream",
     "text": [
      "Checkpoint saved at epoch 538\n"
     ]
    },
    {
     "name": "stderr",
     "output_type": "stream",
     "text": [
      "Epoch 539/1000: 100%|████████████████████████████████████████████████████████████████████████████████████████████████████████████| 88/88 [00:32<00:00,  2.73it/s, D Loss=0.7200, G Loss=3.6418, Rec Loss=0.0702]\n"
     ]
    },
    {
     "name": "stdout",
     "output_type": "stream",
     "text": [
      "Checkpoint saved at epoch 539\n"
     ]
    },
    {
     "name": "stderr",
     "output_type": "stream",
     "text": [
      "Epoch 540/1000: 100%|████████████████████████████████████████████████████████████████████████████████████████████████████████████| 88/88 [00:31<00:00,  2.81it/s, D Loss=0.8410, G Loss=2.3532, Rec Loss=0.0592]\n"
     ]
    },
    {
     "name": "stdout",
     "output_type": "stream",
     "text": [
      "Additional checkpoint saved at checkpoints/DisasterGAN_epoch540.pth\n",
      "Checkpoint saved at epoch 540\n"
     ]
    },
    {
     "name": "stderr",
     "output_type": "stream",
     "text": [
      "Epoch 541/1000: 100%|████████████████████████████████████████████████████████████████████████████████████████████████████████████| 88/88 [00:30<00:00,  2.86it/s, D Loss=1.0007, G Loss=4.1186, Rec Loss=0.0664]\n"
     ]
    },
    {
     "name": "stdout",
     "output_type": "stream",
     "text": [
      "Checkpoint saved at epoch 541\n"
     ]
    },
    {
     "name": "stderr",
     "output_type": "stream",
     "text": [
      "Epoch 542/1000: 100%|████████████████████████████████████████████████████████████████████████████████████████████████████████████| 88/88 [00:34<00:00,  2.57it/s, D Loss=0.8540, G Loss=2.4732, Rec Loss=0.0612]\n"
     ]
    },
    {
     "name": "stdout",
     "output_type": "stream",
     "text": [
      "Checkpoint saved at epoch 542\n"
     ]
    },
    {
     "name": "stderr",
     "output_type": "stream",
     "text": [
      "Epoch 543/1000: 100%|████████████████████████████████████████████████████████████████████████████████████████████████████████████| 88/88 [00:35<00:00,  2.51it/s, D Loss=0.7503, G Loss=2.3522, Rec Loss=0.0632]\n"
     ]
    },
    {
     "name": "stdout",
     "output_type": "stream",
     "text": [
      "Checkpoint saved at epoch 543\n"
     ]
    },
    {
     "name": "stderr",
     "output_type": "stream",
     "text": [
      "Epoch 544/1000: 100%|████████████████████████████████████████████████████████████████████████████████████████████████████████████| 88/88 [00:30<00:00,  2.85it/s, D Loss=0.6711, G Loss=2.4746, Rec Loss=0.0639]\n"
     ]
    },
    {
     "name": "stdout",
     "output_type": "stream",
     "text": [
      "Checkpoint saved at epoch 544\n"
     ]
    },
    {
     "name": "stderr",
     "output_type": "stream",
     "text": [
      "Epoch 545/1000: 100%|████████████████████████████████████████████████████████████████████████████████████████████████████████████| 88/88 [00:31<00:00,  2.81it/s, D Loss=0.9189, G Loss=2.7499, Rec Loss=0.0668]\n"
     ]
    },
    {
     "name": "stdout",
     "output_type": "stream",
     "text": [
      "Checkpoint saved at epoch 545\n"
     ]
    },
    {
     "name": "stderr",
     "output_type": "stream",
     "text": [
      "Epoch 546/1000: 100%|████████████████████████████████████████████████████████████████████████████████████████████████████████████| 88/88 [00:34<00:00,  2.57it/s, D Loss=0.8734, G Loss=1.9636, Rec Loss=0.0636]\n"
     ]
    },
    {
     "name": "stdout",
     "output_type": "stream",
     "text": [
      "Checkpoint saved at epoch 546\n"
     ]
    },
    {
     "name": "stderr",
     "output_type": "stream",
     "text": [
      "Epoch 547/1000: 100%|████████████████████████████████████████████████████████████████████████████████████████████████████████████| 88/88 [00:32<00:00,  2.72it/s, D Loss=0.8836, G Loss=2.6107, Rec Loss=0.0687]\n"
     ]
    },
    {
     "name": "stdout",
     "output_type": "stream",
     "text": [
      "Checkpoint saved at epoch 547\n"
     ]
    },
    {
     "name": "stderr",
     "output_type": "stream",
     "text": [
      "Epoch 548/1000: 100%|████████████████████████████████████████████████████████████████████████████████████████████████████████████| 88/88 [00:32<00:00,  2.72it/s, D Loss=0.8828, G Loss=2.2653, Rec Loss=0.0508]\n"
     ]
    },
    {
     "name": "stdout",
     "output_type": "stream",
     "text": [
      "Checkpoint saved at epoch 548\n"
     ]
    },
    {
     "name": "stderr",
     "output_type": "stream",
     "text": [
      "Epoch 549/1000: 100%|████████████████████████████████████████████████████████████████████████████████████████████████████████████| 88/88 [00:32<00:00,  2.72it/s, D Loss=0.8212, G Loss=3.2075, Rec Loss=0.0732]\n"
     ]
    },
    {
     "name": "stdout",
     "output_type": "stream",
     "text": [
      "Checkpoint saved at epoch 549\n"
     ]
    },
    {
     "name": "stderr",
     "output_type": "stream",
     "text": [
      "Epoch 550/1000: 100%|████████████████████████████████████████████████████████████████████████████████████████████████████████████| 88/88 [00:36<00:00,  2.40it/s, D Loss=0.8037, G Loss=2.7026, Rec Loss=0.0564]\n"
     ]
    },
    {
     "name": "stdout",
     "output_type": "stream",
     "text": [
      "Checkpoint saved at epoch 550\n"
     ]
    },
    {
     "name": "stderr",
     "output_type": "stream",
     "text": [
      "Epoch 551/1000: 100%|████████████████████████████████████████████████████████████████████████████████████████████████████████████| 88/88 [00:32<00:00,  2.72it/s, D Loss=0.8900, G Loss=2.1412, Rec Loss=0.0595]\n"
     ]
    },
    {
     "name": "stdout",
     "output_type": "stream",
     "text": [
      "Checkpoint saved at epoch 551\n"
     ]
    },
    {
     "name": "stderr",
     "output_type": "stream",
     "text": [
      "Epoch 552/1000: 100%|████████████████████████████████████████████████████████████████████████████████████████████████████████████| 88/88 [00:33<00:00,  2.65it/s, D Loss=0.7384, G Loss=4.2037, Rec Loss=0.0853]\n"
     ]
    },
    {
     "name": "stdout",
     "output_type": "stream",
     "text": [
      "Checkpoint saved at epoch 552\n"
     ]
    },
    {
     "name": "stderr",
     "output_type": "stream",
     "text": [
      "Epoch 553/1000: 100%|████████████████████████████████████████████████████████████████████████████████████████████████████████████| 88/88 [00:32<00:00,  2.69it/s, D Loss=0.7734, G Loss=3.1734, Rec Loss=0.0558]\n"
     ]
    },
    {
     "name": "stdout",
     "output_type": "stream",
     "text": [
      "Checkpoint saved at epoch 553\n"
     ]
    },
    {
     "name": "stderr",
     "output_type": "stream",
     "text": [
      "Epoch 554/1000: 100%|████████████████████████████████████████████████████████████████████████████████████████████████████████████| 88/88 [00:30<00:00,  2.85it/s, D Loss=0.7720, G Loss=4.2565, Rec Loss=0.0753]\n"
     ]
    },
    {
     "name": "stdout",
     "output_type": "stream",
     "text": [
      "Checkpoint saved at epoch 554\n"
     ]
    },
    {
     "name": "stderr",
     "output_type": "stream",
     "text": [
      "Epoch 555/1000: 100%|████████████████████████████████████████████████████████████████████████████████████████████████████████████| 88/88 [00:31<00:00,  2.82it/s, D Loss=0.7070, G Loss=3.0925, Rec Loss=0.0697]\n"
     ]
    },
    {
     "name": "stdout",
     "output_type": "stream",
     "text": [
      "Additional checkpoint saved at checkpoints/DisasterGAN_epoch555.pth\n",
      "Checkpoint saved at epoch 555\n"
     ]
    },
    {
     "name": "stderr",
     "output_type": "stream",
     "text": [
      "Epoch 556/1000: 100%|████████████████████████████████████████████████████████████████████████████████████████████████████████████| 88/88 [00:32<00:00,  2.70it/s, D Loss=0.8830, G Loss=3.6482, Rec Loss=0.0577]\n"
     ]
    },
    {
     "name": "stdout",
     "output_type": "stream",
     "text": [
      "Checkpoint saved at epoch 556\n"
     ]
    },
    {
     "name": "stderr",
     "output_type": "stream",
     "text": [
      "Epoch 557/1000: 100%|████████████████████████████████████████████████████████████████████████████████████████████████████████████| 88/88 [00:30<00:00,  2.86it/s, D Loss=0.7739, G Loss=1.9207, Rec Loss=0.0625]\n"
     ]
    },
    {
     "name": "stdout",
     "output_type": "stream",
     "text": [
      "Checkpoint saved at epoch 557\n"
     ]
    },
    {
     "name": "stderr",
     "output_type": "stream",
     "text": [
      "Epoch 558/1000: 100%|████████████████████████████████████████████████████████████████████████████████████████████████████████████| 88/88 [00:30<00:00,  2.87it/s, D Loss=0.9356, G Loss=4.4257, Rec Loss=0.0654]\n"
     ]
    },
    {
     "name": "stdout",
     "output_type": "stream",
     "text": [
      "Checkpoint saved at epoch 558\n"
     ]
    },
    {
     "name": "stderr",
     "output_type": "stream",
     "text": [
      "Epoch 559/1000: 100%|████████████████████████████████████████████████████████████████████████████████████████████████████████████| 88/88 [00:31<00:00,  2.78it/s, D Loss=0.8237, G Loss=2.5682, Rec Loss=0.0678]\n"
     ]
    },
    {
     "name": "stdout",
     "output_type": "stream",
     "text": [
      "Checkpoint saved at epoch 559\n"
     ]
    },
    {
     "name": "stderr",
     "output_type": "stream",
     "text": [
      "Epoch 560/1000: 100%|████████████████████████████████████████████████████████████████████████████████████████████████████████████| 88/88 [00:33<00:00,  2.65it/s, D Loss=0.7604, G Loss=2.6455, Rec Loss=0.0746]\n"
     ]
    },
    {
     "name": "stdout",
     "output_type": "stream",
     "text": [
      "Checkpoint saved at epoch 560\n"
     ]
    },
    {
     "name": "stderr",
     "output_type": "stream",
     "text": [
      "Epoch 561/1000: 100%|████████████████████████████████████████████████████████████████████████████████████████████████████████████| 88/88 [00:32<00:00,  2.73it/s, D Loss=0.8045, G Loss=2.5686, Rec Loss=0.0591]\n"
     ]
    },
    {
     "name": "stdout",
     "output_type": "stream",
     "text": [
      "Checkpoint saved at epoch 561\n"
     ]
    },
    {
     "name": "stderr",
     "output_type": "stream",
     "text": [
      "Epoch 562/1000: 100%|████████████████████████████████████████████████████████████████████████████████████████████████████████████| 88/88 [00:31<00:00,  2.77it/s, D Loss=0.8217, G Loss=2.5369, Rec Loss=0.0476]\n"
     ]
    },
    {
     "name": "stdout",
     "output_type": "stream",
     "text": [
      "Checkpoint saved at epoch 562\n"
     ]
    },
    {
     "name": "stderr",
     "output_type": "stream",
     "text": [
      "Epoch 563/1000: 100%|████████████████████████████████████████████████████████████████████████████████████████████████████████████| 88/88 [00:32<00:00,  2.67it/s, D Loss=0.7097, G Loss=2.6657, Rec Loss=0.0616]\n"
     ]
    },
    {
     "name": "stdout",
     "output_type": "stream",
     "text": [
      "Checkpoint saved at epoch 563\n"
     ]
    },
    {
     "name": "stderr",
     "output_type": "stream",
     "text": [
      "Epoch 564/1000: 100%|████████████████████████████████████████████████████████████████████████████████████████████████████████████| 88/88 [00:31<00:00,  2.83it/s, D Loss=0.8576, G Loss=3.2026, Rec Loss=0.0637]\n"
     ]
    },
    {
     "name": "stdout",
     "output_type": "stream",
     "text": [
      "Checkpoint saved at epoch 564\n"
     ]
    },
    {
     "name": "stderr",
     "output_type": "stream",
     "text": [
      "Epoch 565/1000: 100%|████████████████████████████████████████████████████████████████████████████████████████████████████████████| 88/88 [00:33<00:00,  2.60it/s, D Loss=0.8451, G Loss=3.2641, Rec Loss=0.0601]\n"
     ]
    },
    {
     "name": "stdout",
     "output_type": "stream",
     "text": [
      "Checkpoint saved at epoch 565\n"
     ]
    },
    {
     "name": "stderr",
     "output_type": "stream",
     "text": [
      "Epoch 566/1000: 100%|████████████████████████████████████████████████████████████████████████████████████████████████████████████| 88/88 [00:32<00:00,  2.74it/s, D Loss=0.6946, G Loss=3.1131, Rec Loss=0.0620]\n"
     ]
    },
    {
     "name": "stdout",
     "output_type": "stream",
     "text": [
      "Checkpoint saved at epoch 566\n"
     ]
    },
    {
     "name": "stderr",
     "output_type": "stream",
     "text": [
      "Epoch 567/1000: 100%|████████████████████████████████████████████████████████████████████████████████████████████████████████████| 88/88 [00:31<00:00,  2.75it/s, D Loss=0.7766, G Loss=2.6267, Rec Loss=0.0636]\n"
     ]
    },
    {
     "name": "stdout",
     "output_type": "stream",
     "text": [
      "Checkpoint saved at epoch 567\n"
     ]
    },
    {
     "name": "stderr",
     "output_type": "stream",
     "text": [
      "Epoch 568/1000: 100%|████████████████████████████████████████████████████████████████████████████████████████████████████████████| 88/88 [00:31<00:00,  2.79it/s, D Loss=0.8122, G Loss=3.0930, Rec Loss=0.0648]\n"
     ]
    },
    {
     "name": "stdout",
     "output_type": "stream",
     "text": [
      "Checkpoint saved at epoch 568\n"
     ]
    },
    {
     "name": "stderr",
     "output_type": "stream",
     "text": [
      "Epoch 569/1000: 100%|████████████████████████████████████████████████████████████████████████████████████████████████████████████| 88/88 [00:31<00:00,  2.79it/s, D Loss=0.6832, G Loss=3.1026, Rec Loss=0.0609]\n"
     ]
    },
    {
     "name": "stdout",
     "output_type": "stream",
     "text": [
      "Checkpoint saved at epoch 569\n"
     ]
    },
    {
     "name": "stderr",
     "output_type": "stream",
     "text": [
      "Epoch 570/1000: 100%|████████████████████████████████████████████████████████████████████████████████████████████████████████████| 88/88 [00:35<00:00,  2.47it/s, D Loss=0.7862, G Loss=3.1575, Rec Loss=0.0695]\n"
     ]
    },
    {
     "name": "stdout",
     "output_type": "stream",
     "text": [
      "Additional checkpoint saved at checkpoints/DisasterGAN_epoch570.pth\n",
      "Checkpoint saved at epoch 570\n"
     ]
    },
    {
     "name": "stderr",
     "output_type": "stream",
     "text": [
      "Epoch 571/1000: 100%|████████████████████████████████████████████████████████████████████████████████████████████████████████████| 88/88 [00:31<00:00,  2.80it/s, D Loss=0.8887, G Loss=2.2874, Rec Loss=0.0651]\n"
     ]
    },
    {
     "name": "stdout",
     "output_type": "stream",
     "text": [
      "Checkpoint saved at epoch 571\n"
     ]
    },
    {
     "name": "stderr",
     "output_type": "stream",
     "text": [
      "Epoch 572/1000: 100%|████████████████████████████████████████████████████████████████████████████████████████████████████████████| 88/88 [00:31<00:00,  2.83it/s, D Loss=0.8007, G Loss=2.1793, Rec Loss=0.0641]\n"
     ]
    },
    {
     "name": "stdout",
     "output_type": "stream",
     "text": [
      "Checkpoint saved at epoch 572\n"
     ]
    },
    {
     "name": "stderr",
     "output_type": "stream",
     "text": [
      "Epoch 573/1000: 100%|████████████████████████████████████████████████████████████████████████████████████████████████████████████| 88/88 [00:33<00:00,  2.61it/s, D Loss=0.8476, G Loss=3.8271, Rec Loss=0.0675]\n"
     ]
    },
    {
     "name": "stdout",
     "output_type": "stream",
     "text": [
      "Checkpoint saved at epoch 573\n"
     ]
    },
    {
     "name": "stderr",
     "output_type": "stream",
     "text": [
      "Epoch 574/1000: 100%|████████████████████████████████████████████████████████████████████████████████████████████████████████████| 88/88 [00:36<00:00,  2.42it/s, D Loss=0.6744, G Loss=2.7503, Rec Loss=0.0668]\n"
     ]
    },
    {
     "name": "stdout",
     "output_type": "stream",
     "text": [
      "Checkpoint saved at epoch 574\n"
     ]
    },
    {
     "name": "stderr",
     "output_type": "stream",
     "text": [
      "Epoch 575/1000: 100%|████████████████████████████████████████████████████████████████████████████████████████████████████████████| 88/88 [00:31<00:00,  2.82it/s, D Loss=0.9030, G Loss=2.0939, Rec Loss=0.0555]\n"
     ]
    },
    {
     "name": "stdout",
     "output_type": "stream",
     "text": [
      "Checkpoint saved at epoch 575\n"
     ]
    },
    {
     "name": "stderr",
     "output_type": "stream",
     "text": [
      "Epoch 576/1000: 100%|████████████████████████████████████████████████████████████████████████████████████████████████████████████| 88/88 [00:32<00:00,  2.70it/s, D Loss=0.7458, G Loss=3.0185, Rec Loss=0.0627]\n"
     ]
    },
    {
     "name": "stdout",
     "output_type": "stream",
     "text": [
      "Checkpoint saved at epoch 576\n"
     ]
    },
    {
     "name": "stderr",
     "output_type": "stream",
     "text": [
      "Epoch 577/1000: 100%|████████████████████████████████████████████████████████████████████████████████████████████████████████████| 88/88 [00:31<00:00,  2.78it/s, D Loss=0.8000, G Loss=2.8604, Rec Loss=0.0624]\n"
     ]
    },
    {
     "name": "stdout",
     "output_type": "stream",
     "text": [
      "Checkpoint saved at epoch 577\n"
     ]
    },
    {
     "name": "stderr",
     "output_type": "stream",
     "text": [
      "Epoch 578/1000: 100%|████████████████████████████████████████████████████████████████████████████████████████████████████████████| 88/88 [00:31<00:00,  2.83it/s, D Loss=0.8459, G Loss=2.8122, Rec Loss=0.0605]\n"
     ]
    },
    {
     "name": "stdout",
     "output_type": "stream",
     "text": [
      "Checkpoint saved at epoch 578\n"
     ]
    },
    {
     "name": "stderr",
     "output_type": "stream",
     "text": [
      "Epoch 579/1000: 100%|████████████████████████████████████████████████████████████████████████████████████████████████████████████| 88/88 [00:33<00:00,  2.65it/s, D Loss=0.7556, G Loss=2.6566, Rec Loss=0.0617]\n"
     ]
    },
    {
     "name": "stdout",
     "output_type": "stream",
     "text": [
      "Checkpoint saved at epoch 579\n"
     ]
    },
    {
     "name": "stderr",
     "output_type": "stream",
     "text": [
      "Epoch 580/1000: 100%|████████████████████████████████████████████████████████████████████████████████████████████████████████████| 88/88 [00:33<00:00,  2.64it/s, D Loss=0.9280, G Loss=2.2892, Rec Loss=0.0554]\n"
     ]
    },
    {
     "name": "stdout",
     "output_type": "stream",
     "text": [
      "Checkpoint saved at epoch 580\n"
     ]
    },
    {
     "name": "stderr",
     "output_type": "stream",
     "text": [
      "Epoch 581/1000: 100%|████████████████████████████████████████████████████████████████████████████████████████████████████████████| 88/88 [00:33<00:00,  2.65it/s, D Loss=0.9449, G Loss=3.5459, Rec Loss=0.0662]\n"
     ]
    },
    {
     "name": "stdout",
     "output_type": "stream",
     "text": [
      "Checkpoint saved at epoch 581\n"
     ]
    },
    {
     "name": "stderr",
     "output_type": "stream",
     "text": [
      "Epoch 582/1000: 100%|████████████████████████████████████████████████████████████████████████████████████████████████████████████| 88/88 [00:33<00:00,  2.60it/s, D Loss=0.8923, G Loss=3.4970, Rec Loss=0.0643]\n"
     ]
    },
    {
     "name": "stdout",
     "output_type": "stream",
     "text": [
      "Checkpoint saved at epoch 582\n"
     ]
    },
    {
     "name": "stderr",
     "output_type": "stream",
     "text": [
      "Epoch 583/1000: 100%|████████████████████████████████████████████████████████████████████████████████████████████████████████████| 88/88 [00:31<00:00,  2.75it/s, D Loss=0.9218, G Loss=3.2145, Rec Loss=0.0597]\n"
     ]
    },
    {
     "name": "stdout",
     "output_type": "stream",
     "text": [
      "Checkpoint saved at epoch 583\n"
     ]
    },
    {
     "name": "stderr",
     "output_type": "stream",
     "text": [
      "Epoch 584/1000: 100%|████████████████████████████████████████████████████████████████████████████████████████████████████████████| 88/88 [00:34<00:00,  2.57it/s, D Loss=0.8542, G Loss=3.2555, Rec Loss=0.0519]\n"
     ]
    },
    {
     "name": "stdout",
     "output_type": "stream",
     "text": [
      "Checkpoint saved at epoch 584\n"
     ]
    },
    {
     "name": "stderr",
     "output_type": "stream",
     "text": [
      "Epoch 585/1000: 100%|████████████████████████████████████████████████████████████████████████████████████████████████████████████| 88/88 [00:31<00:00,  2.83it/s, D Loss=0.7538, G Loss=2.8220, Rec Loss=0.0704]\n"
     ]
    },
    {
     "name": "stdout",
     "output_type": "stream",
     "text": [
      "Additional checkpoint saved at checkpoints/DisasterGAN_epoch585.pth\n",
      "Checkpoint saved at epoch 585\n"
     ]
    },
    {
     "name": "stderr",
     "output_type": "stream",
     "text": [
      "Epoch 586/1000: 100%|████████████████████████████████████████████████████████████████████████████████████████████████████████████| 88/88 [00:34<00:00,  2.56it/s, D Loss=0.7594, G Loss=3.4665, Rec Loss=0.0603]\n"
     ]
    },
    {
     "name": "stdout",
     "output_type": "stream",
     "text": [
      "Checkpoint saved at epoch 586\n"
     ]
    },
    {
     "name": "stderr",
     "output_type": "stream",
     "text": [
      "Epoch 587/1000: 100%|████████████████████████████████████████████████████████████████████████████████████████████████████████████| 88/88 [00:31<00:00,  2.83it/s, D Loss=0.8153, G Loss=2.8939, Rec Loss=0.0593]\n"
     ]
    },
    {
     "name": "stdout",
     "output_type": "stream",
     "text": [
      "Checkpoint saved at epoch 587\n"
     ]
    },
    {
     "name": "stderr",
     "output_type": "stream",
     "text": [
      "Epoch 588/1000: 100%|████████████████████████████████████████████████████████████████████████████████████████████████████████████| 88/88 [00:30<00:00,  2.85it/s, D Loss=0.8792, G Loss=2.8946, Rec Loss=0.0627]\n"
     ]
    },
    {
     "name": "stdout",
     "output_type": "stream",
     "text": [
      "Checkpoint saved at epoch 588\n"
     ]
    },
    {
     "name": "stderr",
     "output_type": "stream",
     "text": [
      "Epoch 589/1000: 100%|████████████████████████████████████████████████████████████████████████████████████████████████████████████| 88/88 [00:30<00:00,  2.84it/s, D Loss=0.7486, G Loss=3.0357, Rec Loss=0.0669]\n"
     ]
    },
    {
     "name": "stdout",
     "output_type": "stream",
     "text": [
      "Checkpoint saved at epoch 589\n"
     ]
    },
    {
     "name": "stderr",
     "output_type": "stream",
     "text": [
      "Epoch 590/1000: 100%|████████████████████████████████████████████████████████████████████████████████████████████████████████████| 88/88 [00:31<00:00,  2.82it/s, D Loss=0.7133, G Loss=2.3987, Rec Loss=0.0631]\n"
     ]
    },
    {
     "name": "stdout",
     "output_type": "stream",
     "text": [
      "Checkpoint saved at epoch 590\n"
     ]
    },
    {
     "name": "stderr",
     "output_type": "stream",
     "text": [
      "Epoch 591/1000: 100%|████████████████████████████████████████████████████████████████████████████████████████████████████████████| 88/88 [00:31<00:00,  2.82it/s, D Loss=0.8431, G Loss=2.9828, Rec Loss=0.0626]\n"
     ]
    },
    {
     "name": "stdout",
     "output_type": "stream",
     "text": [
      "Checkpoint saved at epoch 591\n"
     ]
    },
    {
     "name": "stderr",
     "output_type": "stream",
     "text": [
      "Epoch 592/1000: 100%|████████████████████████████████████████████████████████████████████████████████████████████████████████████| 88/88 [00:32<00:00,  2.74it/s, D Loss=0.9637, G Loss=3.7889, Rec Loss=0.0691]\n"
     ]
    },
    {
     "name": "stdout",
     "output_type": "stream",
     "text": [
      "Checkpoint saved at epoch 592\n"
     ]
    },
    {
     "name": "stderr",
     "output_type": "stream",
     "text": [
      "Epoch 593/1000: 100%|████████████████████████████████████████████████████████████████████████████████████████████████████████████| 88/88 [00:31<00:00,  2.82it/s, D Loss=0.9875, G Loss=3.7794, Rec Loss=0.0738]\n"
     ]
    },
    {
     "name": "stdout",
     "output_type": "stream",
     "text": [
      "Checkpoint saved at epoch 593\n"
     ]
    },
    {
     "name": "stderr",
     "output_type": "stream",
     "text": [
      "Epoch 594/1000: 100%|████████████████████████████████████████████████████████████████████████████████████████████████████████████| 88/88 [00:30<00:00,  2.87it/s, D Loss=0.7222, G Loss=3.0449, Rec Loss=0.0616]\n"
     ]
    },
    {
     "name": "stdout",
     "output_type": "stream",
     "text": [
      "Checkpoint saved at epoch 594\n"
     ]
    },
    {
     "name": "stderr",
     "output_type": "stream",
     "text": [
      "Epoch 595/1000: 100%|████████████████████████████████████████████████████████████████████████████████████████████████████████████| 88/88 [00:32<00:00,  2.69it/s, D Loss=0.7857, G Loss=3.4949, Rec Loss=0.0634]\n"
     ]
    },
    {
     "name": "stdout",
     "output_type": "stream",
     "text": [
      "Checkpoint saved at epoch 595\n"
     ]
    },
    {
     "name": "stderr",
     "output_type": "stream",
     "text": [
      "Epoch 596/1000: 100%|████████████████████████████████████████████████████████████████████████████████████████████████████████████| 88/88 [00:34<00:00,  2.56it/s, D Loss=0.6600, G Loss=2.9909, Rec Loss=0.0585]\n"
     ]
    },
    {
     "name": "stdout",
     "output_type": "stream",
     "text": [
      "Checkpoint saved at epoch 596\n"
     ]
    },
    {
     "name": "stderr",
     "output_type": "stream",
     "text": [
      "Epoch 597/1000: 100%|████████████████████████████████████████████████████████████████████████████████████████████████████████████| 88/88 [00:31<00:00,  2.81it/s, D Loss=0.7015, G Loss=3.2003, Rec Loss=0.0677]\n"
     ]
    },
    {
     "name": "stdout",
     "output_type": "stream",
     "text": [
      "Checkpoint saved at epoch 597\n"
     ]
    },
    {
     "name": "stderr",
     "output_type": "stream",
     "text": [
      "Epoch 598/1000: 100%|████████████████████████████████████████████████████████████████████████████████████████████████████████████| 88/88 [00:30<00:00,  2.88it/s, D Loss=0.7758, G Loss=2.8660, Rec Loss=0.0624]\n"
     ]
    },
    {
     "name": "stdout",
     "output_type": "stream",
     "text": [
      "Checkpoint saved at epoch 598\n"
     ]
    },
    {
     "name": "stderr",
     "output_type": "stream",
     "text": [
      "Epoch 599/1000: 100%|████████████████████████████████████████████████████████████████████████████████████████████████████████████| 88/88 [00:30<00:00,  2.87it/s, D Loss=0.8253, G Loss=3.8361, Rec Loss=0.0664]\n"
     ]
    },
    {
     "name": "stdout",
     "output_type": "stream",
     "text": [
      "Checkpoint saved at epoch 599\n"
     ]
    },
    {
     "name": "stderr",
     "output_type": "stream",
     "text": [
      "Epoch 600/1000: 100%|████████████████████████████████████████████████████████████████████████████████████████████████████████████| 88/88 [00:32<00:00,  2.74it/s, D Loss=0.9005, G Loss=2.4889, Rec Loss=0.0577]\n"
     ]
    },
    {
     "name": "stdout",
     "output_type": "stream",
     "text": [
      "Additional checkpoint saved at checkpoints/DisasterGAN_epoch600.pth\n",
      "Checkpoint saved at epoch 600\n"
     ]
    },
    {
     "name": "stderr",
     "output_type": "stream",
     "text": [
      "Epoch 601/1000: 100%|████████████████████████████████████████████████████████████████████████████████████████████████████████████| 88/88 [00:32<00:00,  2.67it/s, D Loss=0.8108, G Loss=3.7831, Rec Loss=0.0609]\n"
     ]
    },
    {
     "name": "stdout",
     "output_type": "stream",
     "text": [
      "Checkpoint saved at epoch 601\n"
     ]
    },
    {
     "name": "stderr",
     "output_type": "stream",
     "text": [
      "Epoch 602/1000: 100%|████████████████████████████████████████████████████████████████████████████████████████████████████████████| 88/88 [00:32<00:00,  2.73it/s, D Loss=0.7662, G Loss=3.2728, Rec Loss=0.0681]\n"
     ]
    },
    {
     "name": "stdout",
     "output_type": "stream",
     "text": [
      "Checkpoint saved at epoch 602\n"
     ]
    },
    {
     "name": "stderr",
     "output_type": "stream",
     "text": [
      "Epoch 603/1000: 100%|████████████████████████████████████████████████████████████████████████████████████████████████████████████| 88/88 [00:33<00:00,  2.60it/s, D Loss=0.8275, G Loss=3.3782, Rec Loss=0.0598]\n"
     ]
    },
    {
     "name": "stdout",
     "output_type": "stream",
     "text": [
      "Checkpoint saved at epoch 603\n"
     ]
    },
    {
     "name": "stderr",
     "output_type": "stream",
     "text": [
      "Epoch 604/1000: 100%|████████████████████████████████████████████████████████████████████████████████████████████████████████████| 88/88 [00:30<00:00,  2.90it/s, D Loss=0.7526, G Loss=3.6758, Rec Loss=0.0658]\n"
     ]
    },
    {
     "name": "stdout",
     "output_type": "stream",
     "text": [
      "Checkpoint saved at epoch 604\n"
     ]
    },
    {
     "name": "stderr",
     "output_type": "stream",
     "text": [
      "Epoch 605/1000: 100%|████████████████████████████████████████████████████████████████████████████████████████████████████████████| 88/88 [00:32<00:00,  2.67it/s, D Loss=0.9386, G Loss=1.9337, Rec Loss=0.0752]\n"
     ]
    },
    {
     "name": "stdout",
     "output_type": "stream",
     "text": [
      "Checkpoint saved at epoch 605\n"
     ]
    },
    {
     "name": "stderr",
     "output_type": "stream",
     "text": [
      "Epoch 606/1000: 100%|████████████████████████████████████████████████████████████████████████████████████████████████████████████| 88/88 [00:32<00:00,  2.74it/s, D Loss=0.8514, G Loss=2.9273, Rec Loss=0.0648]\n"
     ]
    },
    {
     "name": "stdout",
     "output_type": "stream",
     "text": [
      "Checkpoint saved at epoch 606\n"
     ]
    },
    {
     "name": "stderr",
     "output_type": "stream",
     "text": [
      "Epoch 607/1000: 100%|████████████████████████████████████████████████████████████████████████████████████████████████████████████| 88/88 [00:33<00:00,  2.64it/s, D Loss=0.6121, G Loss=3.0961, Rec Loss=0.0678]\n"
     ]
    },
    {
     "name": "stdout",
     "output_type": "stream",
     "text": [
      "Checkpoint saved at epoch 607\n"
     ]
    },
    {
     "name": "stderr",
     "output_type": "stream",
     "text": [
      "Epoch 608/1000: 100%|████████████████████████████████████████████████████████████████████████████████████████████████████████████| 88/88 [00:33<00:00,  2.62it/s, D Loss=0.7666, G Loss=3.0909, Rec Loss=0.0673]\n"
     ]
    },
    {
     "name": "stdout",
     "output_type": "stream",
     "text": [
      "Checkpoint saved at epoch 608\n"
     ]
    },
    {
     "name": "stderr",
     "output_type": "stream",
     "text": [
      "Epoch 609/1000: 100%|████████████████████████████████████████████████████████████████████████████████████████████████████████████| 88/88 [00:34<00:00,  2.57it/s, D Loss=0.7248, G Loss=2.6968, Rec Loss=0.0617]\n"
     ]
    },
    {
     "name": "stdout",
     "output_type": "stream",
     "text": [
      "Checkpoint saved at epoch 609\n"
     ]
    },
    {
     "name": "stderr",
     "output_type": "stream",
     "text": [
      "Epoch 610/1000: 100%|████████████████████████████████████████████████████████████████████████████████████████████████████████████| 88/88 [00:32<00:00,  2.72it/s, D Loss=0.2870, G Loss=5.2710, Rec Loss=0.0929]\n"
     ]
    },
    {
     "name": "stdout",
     "output_type": "stream",
     "text": [
      "Checkpoint saved at epoch 610\n"
     ]
    },
    {
     "name": "stderr",
     "output_type": "stream",
     "text": [
      "Epoch 611/1000: 100%|████████████████████████████████████████████████████████████████████████████████████████████████████████████| 88/88 [00:33<00:00,  2.65it/s, D Loss=0.6659, G Loss=3.5011, Rec Loss=0.0578]\n"
     ]
    },
    {
     "name": "stdout",
     "output_type": "stream",
     "text": [
      "Checkpoint saved at epoch 611\n"
     ]
    },
    {
     "name": "stderr",
     "output_type": "stream",
     "text": [
      "Epoch 612/1000: 100%|████████████████████████████████████████████████████████████████████████████████████████████████████████████| 88/88 [00:32<00:00,  2.74it/s, D Loss=0.7248, G Loss=3.6729, Rec Loss=0.0702]\n"
     ]
    },
    {
     "name": "stdout",
     "output_type": "stream",
     "text": [
      "Checkpoint saved at epoch 612\n"
     ]
    },
    {
     "name": "stderr",
     "output_type": "stream",
     "text": [
      "Epoch 613/1000: 100%|████████████████████████████████████████████████████████████████████████████████████████████████████████████| 88/88 [00:34<00:00,  2.57it/s, D Loss=0.7005, G Loss=3.1268, Rec Loss=0.0635]\n"
     ]
    },
    {
     "name": "stdout",
     "output_type": "stream",
     "text": [
      "Checkpoint saved at epoch 613\n"
     ]
    },
    {
     "name": "stderr",
     "output_type": "stream",
     "text": [
      "Epoch 614/1000: 100%|████████████████████████████████████████████████████████████████████████████████████████████████████████████| 88/88 [00:33<00:00,  2.59it/s, D Loss=0.6894, G Loss=3.6265, Rec Loss=0.0600]\n"
     ]
    },
    {
     "name": "stdout",
     "output_type": "stream",
     "text": [
      "Checkpoint saved at epoch 614\n"
     ]
    },
    {
     "name": "stderr",
     "output_type": "stream",
     "text": [
      "Epoch 615/1000: 100%|████████████████████████████████████████████████████████████████████████████████████████████████████████████| 88/88 [00:31<00:00,  2.76it/s, D Loss=0.7981, G Loss=2.2196, Rec Loss=0.0544]\n"
     ]
    },
    {
     "name": "stdout",
     "output_type": "stream",
     "text": [
      "Additional checkpoint saved at checkpoints/DisasterGAN_epoch615.pth\n",
      "Checkpoint saved at epoch 615\n"
     ]
    },
    {
     "name": "stderr",
     "output_type": "stream",
     "text": [
      "Epoch 616/1000: 100%|████████████████████████████████████████████████████████████████████████████████████████████████████████████| 88/88 [00:32<00:00,  2.70it/s, D Loss=0.5336, G Loss=3.5776, Rec Loss=0.0649]\n"
     ]
    },
    {
     "name": "stdout",
     "output_type": "stream",
     "text": [
      "Checkpoint saved at epoch 616\n"
     ]
    },
    {
     "name": "stderr",
     "output_type": "stream",
     "text": [
      "Epoch 617/1000: 100%|████████████████████████████████████████████████████████████████████████████████████████████████████████████| 88/88 [00:31<00:00,  2.75it/s, D Loss=0.4948, G Loss=3.9540, Rec Loss=0.0627]\n"
     ]
    },
    {
     "name": "stdout",
     "output_type": "stream",
     "text": [
      "Checkpoint saved at epoch 617\n"
     ]
    },
    {
     "name": "stderr",
     "output_type": "stream",
     "text": [
      "Epoch 618/1000: 100%|████████████████████████████████████████████████████████████████████████████████████████████████████████████| 88/88 [00:34<00:00,  2.59it/s, D Loss=0.7680, G Loss=3.5308, Rec Loss=0.0676]\n"
     ]
    },
    {
     "name": "stdout",
     "output_type": "stream",
     "text": [
      "Checkpoint saved at epoch 618\n"
     ]
    },
    {
     "name": "stderr",
     "output_type": "stream",
     "text": [
      "Epoch 619/1000: 100%|████████████████████████████████████████████████████████████████████████████████████████████████████████████| 88/88 [00:34<00:00,  2.59it/s, D Loss=0.6394, G Loss=3.0634, Rec Loss=0.0803]\n"
     ]
    },
    {
     "name": "stdout",
     "output_type": "stream",
     "text": [
      "Checkpoint saved at epoch 619\n"
     ]
    },
    {
     "name": "stderr",
     "output_type": "stream",
     "text": [
      "Epoch 620/1000: 100%|████████████████████████████████████████████████████████████████████████████████████████████████████████████| 88/88 [00:30<00:00,  2.89it/s, D Loss=1.1275, G Loss=4.1038, Rec Loss=0.0664]\n"
     ]
    },
    {
     "name": "stdout",
     "output_type": "stream",
     "text": [
      "Checkpoint saved at epoch 620\n"
     ]
    },
    {
     "name": "stderr",
     "output_type": "stream",
     "text": [
      "Epoch 621/1000: 100%|████████████████████████████████████████████████████████████████████████████████████████████████████████████| 88/88 [00:33<00:00,  2.62it/s, D Loss=0.5601, G Loss=3.0744, Rec Loss=0.0612]\n"
     ]
    },
    {
     "name": "stdout",
     "output_type": "stream",
     "text": [
      "Checkpoint saved at epoch 621\n"
     ]
    },
    {
     "name": "stderr",
     "output_type": "stream",
     "text": [
      "Epoch 622/1000: 100%|████████████████████████████████████████████████████████████████████████████████████████████████████████████| 88/88 [00:33<00:00,  2.66it/s, D Loss=0.8912, G Loss=3.2304, Rec Loss=0.0577]\n"
     ]
    },
    {
     "name": "stdout",
     "output_type": "stream",
     "text": [
      "Checkpoint saved at epoch 622\n"
     ]
    },
    {
     "name": "stderr",
     "output_type": "stream",
     "text": [
      "Epoch 623/1000: 100%|████████████████████████████████████████████████████████████████████████████████████████████████████████████| 88/88 [00:34<00:00,  2.53it/s, D Loss=0.9022, G Loss=3.6522, Rec Loss=0.0647]\n"
     ]
    },
    {
     "name": "stdout",
     "output_type": "stream",
     "text": [
      "Checkpoint saved at epoch 623\n"
     ]
    },
    {
     "name": "stderr",
     "output_type": "stream",
     "text": [
      "Epoch 624/1000: 100%|████████████████████████████████████████████████████████████████████████████████████████████████████████████| 88/88 [00:31<00:00,  2.75it/s, D Loss=0.6201, G Loss=3.6297, Rec Loss=0.0617]\n"
     ]
    },
    {
     "name": "stdout",
     "output_type": "stream",
     "text": [
      "Checkpoint saved at epoch 624\n"
     ]
    },
    {
     "name": "stderr",
     "output_type": "stream",
     "text": [
      "Epoch 625/1000: 100%|████████████████████████████████████████████████████████████████████████████████████████████████████████████| 88/88 [00:32<00:00,  2.73it/s, D Loss=0.8418, G Loss=4.1076, Rec Loss=0.0647]\n"
     ]
    },
    {
     "name": "stdout",
     "output_type": "stream",
     "text": [
      "Checkpoint saved at epoch 625\n"
     ]
    },
    {
     "name": "stderr",
     "output_type": "stream",
     "text": [
      "Epoch 626/1000: 100%|████████████████████████████████████████████████████████████████████████████████████████████████████████████| 88/88 [00:31<00:00,  2.77it/s, D Loss=0.9446, G Loss=2.6734, Rec Loss=0.0577]\n"
     ]
    },
    {
     "name": "stdout",
     "output_type": "stream",
     "text": [
      "Checkpoint saved at epoch 626\n"
     ]
    },
    {
     "name": "stderr",
     "output_type": "stream",
     "text": [
      "Epoch 627/1000: 100%|████████████████████████████████████████████████████████████████████████████████████████████████████████████| 88/88 [00:32<00:00,  2.69it/s, D Loss=0.5870, G Loss=3.3558, Rec Loss=0.0619]\n"
     ]
    },
    {
     "name": "stdout",
     "output_type": "stream",
     "text": [
      "Checkpoint saved at epoch 627\n"
     ]
    },
    {
     "name": "stderr",
     "output_type": "stream",
     "text": [
      "Epoch 628/1000: 100%|████████████████████████████████████████████████████████████████████████████████████████████████████████████| 88/88 [00:31<00:00,  2.80it/s, D Loss=0.6820, G Loss=3.5288, Rec Loss=0.0589]\n"
     ]
    },
    {
     "name": "stdout",
     "output_type": "stream",
     "text": [
      "Checkpoint saved at epoch 628\n"
     ]
    },
    {
     "name": "stderr",
     "output_type": "stream",
     "text": [
      "Epoch 629/1000: 100%|████████████████████████████████████████████████████████████████████████████████████████████████████████████| 88/88 [00:33<00:00,  2.66it/s, D Loss=0.7193, G Loss=4.0326, Rec Loss=0.0652]\n"
     ]
    },
    {
     "name": "stdout",
     "output_type": "stream",
     "text": [
      "Checkpoint saved at epoch 629\n"
     ]
    },
    {
     "name": "stderr",
     "output_type": "stream",
     "text": [
      "Epoch 630/1000: 100%|████████████████████████████████████████████████████████████████████████████████████████████████████████████| 88/88 [00:32<00:00,  2.73it/s, D Loss=1.0618, G Loss=3.9223, Rec Loss=0.0535]\n"
     ]
    },
    {
     "name": "stdout",
     "output_type": "stream",
     "text": [
      "Additional checkpoint saved at checkpoints/DisasterGAN_epoch630.pth\n",
      "Checkpoint saved at epoch 630\n"
     ]
    },
    {
     "name": "stderr",
     "output_type": "stream",
     "text": [
      "Epoch 631/1000: 100%|████████████████████████████████████████████████████████████████████████████████████████████████████████████| 88/88 [00:33<00:00,  2.66it/s, D Loss=0.9501, G Loss=1.9251, Rec Loss=0.0608]\n"
     ]
    },
    {
     "name": "stdout",
     "output_type": "stream",
     "text": [
      "Checkpoint saved at epoch 631\n"
     ]
    },
    {
     "name": "stderr",
     "output_type": "stream",
     "text": [
      "Epoch 632/1000: 100%|████████████████████████████████████████████████████████████████████████████████████████████████████████████| 88/88 [00:31<00:00,  2.79it/s, D Loss=0.7617, G Loss=2.9865, Rec Loss=0.0664]\n"
     ]
    },
    {
     "name": "stdout",
     "output_type": "stream",
     "text": [
      "Checkpoint saved at epoch 632\n"
     ]
    },
    {
     "name": "stderr",
     "output_type": "stream",
     "text": [
      "Epoch 633/1000: 100%|████████████████████████████████████████████████████████████████████████████████████████████████████████████| 88/88 [00:31<00:00,  2.76it/s, D Loss=0.6112, G Loss=3.5381, Rec Loss=0.0579]\n"
     ]
    },
    {
     "name": "stdout",
     "output_type": "stream",
     "text": [
      "Checkpoint saved at epoch 633\n"
     ]
    },
    {
     "name": "stderr",
     "output_type": "stream",
     "text": [
      "Epoch 634/1000: 100%|████████████████████████████████████████████████████████████████████████████████████████████████████████████| 88/88 [00:31<00:00,  2.81it/s, D Loss=0.7949, G Loss=3.6462, Rec Loss=0.0575]\n"
     ]
    },
    {
     "name": "stdout",
     "output_type": "stream",
     "text": [
      "Checkpoint saved at epoch 634\n"
     ]
    },
    {
     "name": "stderr",
     "output_type": "stream",
     "text": [
      "Epoch 635/1000: 100%|████████████████████████████████████████████████████████████████████████████████████████████████████████████| 88/88 [00:31<00:00,  2.81it/s, D Loss=0.7445, G Loss=4.0114, Rec Loss=0.0667]\n"
     ]
    },
    {
     "name": "stdout",
     "output_type": "stream",
     "text": [
      "Checkpoint saved at epoch 635\n"
     ]
    },
    {
     "name": "stderr",
     "output_type": "stream",
     "text": [
      "Epoch 636/1000: 100%|████████████████████████████████████████████████████████████████████████████████████████████████████████████| 88/88 [00:33<00:00,  2.66it/s, D Loss=0.8492, G Loss=3.1839, Rec Loss=0.0583]\n"
     ]
    },
    {
     "name": "stdout",
     "output_type": "stream",
     "text": [
      "Checkpoint saved at epoch 636\n"
     ]
    },
    {
     "name": "stderr",
     "output_type": "stream",
     "text": [
      "Epoch 637/1000: 100%|████████████████████████████████████████████████████████████████████████████████████████████████████████████| 88/88 [00:32<00:00,  2.73it/s, D Loss=0.8958, G Loss=4.3063, Rec Loss=0.0643]\n"
     ]
    },
    {
     "name": "stdout",
     "output_type": "stream",
     "text": [
      "Checkpoint saved at epoch 637\n"
     ]
    },
    {
     "name": "stderr",
     "output_type": "stream",
     "text": [
      "Epoch 638/1000: 100%|████████████████████████████████████████████████████████████████████████████████████████████████████████████| 88/88 [00:31<00:00,  2.80it/s, D Loss=0.6977, G Loss=3.4998, Rec Loss=0.0681]\n"
     ]
    },
    {
     "name": "stdout",
     "output_type": "stream",
     "text": [
      "Checkpoint saved at epoch 638\n"
     ]
    },
    {
     "name": "stderr",
     "output_type": "stream",
     "text": [
      "Epoch 639/1000: 100%|████████████████████████████████████████████████████████████████████████████████████████████████████████████| 88/88 [00:31<00:00,  2.81it/s, D Loss=0.7417, G Loss=2.3283, Rec Loss=0.0592]\n"
     ]
    },
    {
     "name": "stdout",
     "output_type": "stream",
     "text": [
      "Checkpoint saved at epoch 639\n"
     ]
    },
    {
     "name": "stderr",
     "output_type": "stream",
     "text": [
      "Epoch 640/1000: 100%|████████████████████████████████████████████████████████████████████████████████████████████████████████████| 88/88 [00:30<00:00,  2.89it/s, D Loss=0.8216, G Loss=4.8547, Rec Loss=0.0562]\n"
     ]
    },
    {
     "name": "stdout",
     "output_type": "stream",
     "text": [
      "Checkpoint saved at epoch 640\n"
     ]
    },
    {
     "name": "stderr",
     "output_type": "stream",
     "text": [
      "Epoch 641/1000: 100%|████████████████████████████████████████████████████████████████████████████████████████████████████████████| 88/88 [00:35<00:00,  2.51it/s, D Loss=0.7692, G Loss=2.7894, Rec Loss=0.0637]\n"
     ]
    },
    {
     "name": "stdout",
     "output_type": "stream",
     "text": [
      "Checkpoint saved at epoch 641\n"
     ]
    },
    {
     "name": "stderr",
     "output_type": "stream",
     "text": [
      "Epoch 642/1000: 100%|██████████████████████████████████████████████████████████████████████████████████████████████████████████| 88/88 [00:33<00:00,  2.64it/s, D Loss=14.5086, G Loss=16.6084, Rec Loss=0.1603]\n"
     ]
    },
    {
     "name": "stdout",
     "output_type": "stream",
     "text": [
      "Checkpoint saved at epoch 642\n"
     ]
    },
    {
     "name": "stderr",
     "output_type": "stream",
     "text": [
      "Epoch 643/1000: 100%|████████████████████████████████████████████████████████████████████████████████████████████████████████████| 88/88 [00:30<00:00,  2.85it/s, D Loss=0.6782, G Loss=4.1066, Rec Loss=0.0704]\n"
     ]
    },
    {
     "name": "stdout",
     "output_type": "stream",
     "text": [
      "Checkpoint saved at epoch 643\n"
     ]
    },
    {
     "name": "stderr",
     "output_type": "stream",
     "text": [
      "Epoch 644/1000: 100%|████████████████████████████████████████████████████████████████████████████████████████████████████████████| 88/88 [00:31<00:00,  2.78it/s, D Loss=0.6769, G Loss=2.7306, Rec Loss=0.0629]\n"
     ]
    },
    {
     "name": "stdout",
     "output_type": "stream",
     "text": [
      "Checkpoint saved at epoch 644\n"
     ]
    },
    {
     "name": "stderr",
     "output_type": "stream",
     "text": [
      "Epoch 645/1000: 100%|████████████████████████████████████████████████████████████████████████████████████████████████████████████| 88/88 [00:33<00:00,  2.65it/s, D Loss=0.6588, G Loss=3.0101, Rec Loss=0.0822]\n"
     ]
    },
    {
     "name": "stdout",
     "output_type": "stream",
     "text": [
      "Additional checkpoint saved at checkpoints/DisasterGAN_epoch645.pth\n",
      "Checkpoint saved at epoch 645\n"
     ]
    },
    {
     "name": "stderr",
     "output_type": "stream",
     "text": [
      "Epoch 646/1000: 100%|████████████████████████████████████████████████████████████████████████████████████████████████████████████| 88/88 [00:33<00:00,  2.62it/s, D Loss=0.6363, G Loss=3.0392, Rec Loss=0.0628]\n"
     ]
    },
    {
     "name": "stdout",
     "output_type": "stream",
     "text": [
      "Checkpoint saved at epoch 646\n"
     ]
    },
    {
     "name": "stderr",
     "output_type": "stream",
     "text": [
      "Epoch 647/1000: 100%|████████████████████████████████████████████████████████████████████████████████████████████████████████████| 88/88 [00:34<00:00,  2.57it/s, D Loss=0.6227, G Loss=2.8655, Rec Loss=0.0602]\n"
     ]
    },
    {
     "name": "stdout",
     "output_type": "stream",
     "text": [
      "Checkpoint saved at epoch 647\n"
     ]
    },
    {
     "name": "stderr",
     "output_type": "stream",
     "text": [
      "Epoch 648/1000: 100%|████████████████████████████████████████████████████████████████████████████████████████████████████████████| 88/88 [00:32<00:00,  2.71it/s, D Loss=0.6561, G Loss=2.8919, Rec Loss=0.0580]\n"
     ]
    },
    {
     "name": "stdout",
     "output_type": "stream",
     "text": [
      "Checkpoint saved at epoch 648\n"
     ]
    },
    {
     "name": "stderr",
     "output_type": "stream",
     "text": [
      "Epoch 649/1000: 100%|████████████████████████████████████████████████████████████████████████████████████████████████████████████| 88/88 [00:31<00:00,  2.75it/s, D Loss=0.8902, G Loss=3.0480, Rec Loss=0.0634]\n"
     ]
    },
    {
     "name": "stdout",
     "output_type": "stream",
     "text": [
      "Checkpoint saved at epoch 649\n"
     ]
    },
    {
     "name": "stderr",
     "output_type": "stream",
     "text": [
      "Epoch 650/1000: 100%|████████████████████████████████████████████████████████████████████████████████████████████████████████████| 88/88 [00:34<00:00,  2.54it/s, D Loss=0.6655, G Loss=2.9507, Rec Loss=0.0574]\n"
     ]
    },
    {
     "name": "stdout",
     "output_type": "stream",
     "text": [
      "Checkpoint saved at epoch 650\n"
     ]
    },
    {
     "name": "stderr",
     "output_type": "stream",
     "text": [
      "Epoch 651/1000: 100%|████████████████████████████████████████████████████████████████████████████████████████████████████████████| 88/88 [00:31<00:00,  2.75it/s, D Loss=0.8204, G Loss=2.6818, Rec Loss=0.0662]\n"
     ]
    },
    {
     "name": "stdout",
     "output_type": "stream",
     "text": [
      "Checkpoint saved at epoch 651\n"
     ]
    },
    {
     "name": "stderr",
     "output_type": "stream",
     "text": [
      "Epoch 652/1000: 100%|████████████████████████████████████████████████████████████████████████████████████████████████████████████| 88/88 [00:33<00:00,  2.59it/s, D Loss=0.8545, G Loss=3.3730, Rec Loss=0.0776]\n"
     ]
    },
    {
     "name": "stdout",
     "output_type": "stream",
     "text": [
      "Checkpoint saved at epoch 652\n"
     ]
    },
    {
     "name": "stderr",
     "output_type": "stream",
     "text": [
      "Epoch 653/1000: 100%|████████████████████████████████████████████████████████████████████████████████████████████████████████████| 88/88 [00:31<00:00,  2.81it/s, D Loss=0.7541, G Loss=3.2986, Rec Loss=0.0629]\n"
     ]
    },
    {
     "name": "stdout",
     "output_type": "stream",
     "text": [
      "Checkpoint saved at epoch 653\n"
     ]
    },
    {
     "name": "stderr",
     "output_type": "stream",
     "text": [
      "Epoch 654/1000: 100%|████████████████████████████████████████████████████████████████████████████████████████████████████████████| 88/88 [00:32<00:00,  2.69it/s, D Loss=0.8118, G Loss=3.1780, Rec Loss=0.0690]\n"
     ]
    },
    {
     "name": "stdout",
     "output_type": "stream",
     "text": [
      "Checkpoint saved at epoch 654\n"
     ]
    },
    {
     "name": "stderr",
     "output_type": "stream",
     "text": [
      "Epoch 655/1000: 100%|████████████████████████████████████████████████████████████████████████████████████████████████████████████| 88/88 [00:31<00:00,  2.83it/s, D Loss=0.6835, G Loss=2.9775, Rec Loss=0.0618]\n"
     ]
    },
    {
     "name": "stdout",
     "output_type": "stream",
     "text": [
      "Checkpoint saved at epoch 655\n"
     ]
    },
    {
     "name": "stderr",
     "output_type": "stream",
     "text": [
      "Epoch 656/1000: 100%|████████████████████████████████████████████████████████████████████████████████████████████████████████████| 88/88 [00:32<00:00,  2.72it/s, D Loss=0.8301, G Loss=2.6358, Rec Loss=0.0535]\n"
     ]
    },
    {
     "name": "stdout",
     "output_type": "stream",
     "text": [
      "Checkpoint saved at epoch 656\n"
     ]
    },
    {
     "name": "stderr",
     "output_type": "stream",
     "text": [
      "Epoch 657/1000: 100%|████████████████████████████████████████████████████████████████████████████████████████████████████████████| 88/88 [00:31<00:00,  2.82it/s, D Loss=0.6570, G Loss=3.2811, Rec Loss=0.0625]\n"
     ]
    },
    {
     "name": "stdout",
     "output_type": "stream",
     "text": [
      "Checkpoint saved at epoch 657\n"
     ]
    },
    {
     "name": "stderr",
     "output_type": "stream",
     "text": [
      "Epoch 658/1000: 100%|████████████████████████████████████████████████████████████████████████████████████████████████████████████| 88/88 [00:35<00:00,  2.49it/s, D Loss=0.8721, G Loss=2.4339, Rec Loss=0.0572]\n"
     ]
    },
    {
     "name": "stdout",
     "output_type": "stream",
     "text": [
      "Checkpoint saved at epoch 658\n"
     ]
    },
    {
     "name": "stderr",
     "output_type": "stream",
     "text": [
      "Epoch 659/1000: 100%|████████████████████████████████████████████████████████████████████████████████████████████████████████████| 88/88 [00:32<00:00,  2.74it/s, D Loss=0.9654, G Loss=2.6502, Rec Loss=0.0619]\n"
     ]
    },
    {
     "name": "stdout",
     "output_type": "stream",
     "text": [
      "Checkpoint saved at epoch 659\n"
     ]
    },
    {
     "name": "stderr",
     "output_type": "stream",
     "text": [
      "Epoch 660/1000: 100%|████████████████████████████████████████████████████████████████████████████████████████████████████████████| 88/88 [00:33<00:00,  2.66it/s, D Loss=0.8544, G Loss=2.5932, Rec Loss=0.0510]\n"
     ]
    },
    {
     "name": "stdout",
     "output_type": "stream",
     "text": [
      "Additional checkpoint saved at checkpoints/DisasterGAN_epoch660.pth\n",
      "Checkpoint saved at epoch 660\n"
     ]
    },
    {
     "name": "stderr",
     "output_type": "stream",
     "text": [
      "Epoch 661/1000: 100%|████████████████████████████████████████████████████████████████████████████████████████████████████████████| 88/88 [00:31<00:00,  2.83it/s, D Loss=0.8812, G Loss=2.2787, Rec Loss=0.0707]\n"
     ]
    },
    {
     "name": "stdout",
     "output_type": "stream",
     "text": [
      "Checkpoint saved at epoch 661\n"
     ]
    },
    {
     "name": "stderr",
     "output_type": "stream",
     "text": [
      "Epoch 662/1000: 100%|████████████████████████████████████████████████████████████████████████████████████████████████████████████| 88/88 [00:31<00:00,  2.76it/s, D Loss=0.7255, G Loss=3.3218, Rec Loss=0.0641]\n"
     ]
    },
    {
     "name": "stdout",
     "output_type": "stream",
     "text": [
      "Checkpoint saved at epoch 662\n"
     ]
    },
    {
     "name": "stderr",
     "output_type": "stream",
     "text": [
      "Epoch 663/1000: 100%|████████████████████████████████████████████████████████████████████████████████████████████████████████████| 88/88 [00:33<00:00,  2.61it/s, D Loss=0.7849, G Loss=2.5518, Rec Loss=0.0699]\n"
     ]
    },
    {
     "name": "stdout",
     "output_type": "stream",
     "text": [
      "Checkpoint saved at epoch 663\n"
     ]
    },
    {
     "name": "stderr",
     "output_type": "stream",
     "text": [
      "Epoch 664/1000: 100%|████████████████████████████████████████████████████████████████████████████████████████████████████████████| 88/88 [00:31<00:00,  2.75it/s, D Loss=1.0058, G Loss=3.5973, Rec Loss=0.0568]\n"
     ]
    },
    {
     "name": "stdout",
     "output_type": "stream",
     "text": [
      "Checkpoint saved at epoch 664\n"
     ]
    },
    {
     "name": "stderr",
     "output_type": "stream",
     "text": [
      "Epoch 665/1000: 100%|████████████████████████████████████████████████████████████████████████████████████████████████████████████| 88/88 [00:32<00:00,  2.73it/s, D Loss=0.9123, G Loss=3.3436, Rec Loss=0.0529]\n"
     ]
    },
    {
     "name": "stdout",
     "output_type": "stream",
     "text": [
      "Checkpoint saved at epoch 665\n"
     ]
    },
    {
     "name": "stderr",
     "output_type": "stream",
     "text": [
      "Epoch 666/1000: 100%|████████████████████████████████████████████████████████████████████████████████████████████████████████████| 88/88 [00:36<00:00,  2.42it/s, D Loss=1.0141, G Loss=2.1721, Rec Loss=0.0573]\n"
     ]
    },
    {
     "name": "stdout",
     "output_type": "stream",
     "text": [
      "Checkpoint saved at epoch 666\n"
     ]
    },
    {
     "name": "stderr",
     "output_type": "stream",
     "text": [
      "Epoch 667/1000: 100%|████████████████████████████████████████████████████████████████████████████████████████████████████████████| 88/88 [00:33<00:00,  2.66it/s, D Loss=0.6773, G Loss=3.0515, Rec Loss=0.0659]\n"
     ]
    },
    {
     "name": "stdout",
     "output_type": "stream",
     "text": [
      "Checkpoint saved at epoch 667\n"
     ]
    },
    {
     "name": "stderr",
     "output_type": "stream",
     "text": [
      "Epoch 668/1000: 100%|████████████████████████████████████████████████████████████████████████████████████████████████████████████| 88/88 [00:33<00:00,  2.62it/s, D Loss=0.9615, G Loss=3.3047, Rec Loss=0.0542]\n"
     ]
    },
    {
     "name": "stdout",
     "output_type": "stream",
     "text": [
      "Checkpoint saved at epoch 668\n"
     ]
    },
    {
     "name": "stderr",
     "output_type": "stream",
     "text": [
      "Epoch 669/1000: 100%|████████████████████████████████████████████████████████████████████████████████████████████████████████████| 88/88 [00:31<00:00,  2.81it/s, D Loss=0.9172, G Loss=2.3101, Rec Loss=0.0739]\n"
     ]
    },
    {
     "name": "stdout",
     "output_type": "stream",
     "text": [
      "Checkpoint saved at epoch 669\n"
     ]
    },
    {
     "name": "stderr",
     "output_type": "stream",
     "text": [
      "Epoch 670/1000: 100%|████████████████████████████████████████████████████████████████████████████████████████████████████████████| 88/88 [00:32<00:00,  2.67it/s, D Loss=1.0142, G Loss=3.0076, Rec Loss=0.0599]\n"
     ]
    },
    {
     "name": "stdout",
     "output_type": "stream",
     "text": [
      "Checkpoint saved at epoch 670\n"
     ]
    },
    {
     "name": "stderr",
     "output_type": "stream",
     "text": [
      "Epoch 671/1000: 100%|████████████████████████████████████████████████████████████████████████████████████████████████████████████| 88/88 [00:33<00:00,  2.65it/s, D Loss=1.0619, G Loss=2.4192, Rec Loss=0.0644]\n"
     ]
    },
    {
     "name": "stdout",
     "output_type": "stream",
     "text": [
      "Checkpoint saved at epoch 671\n"
     ]
    },
    {
     "name": "stderr",
     "output_type": "stream",
     "text": [
      "Epoch 672/1000: 100%|████████████████████████████████████████████████████████████████████████████████████████████████████████████| 88/88 [00:31<00:00,  2.80it/s, D Loss=0.8192, G Loss=2.9572, Rec Loss=0.0580]\n"
     ]
    },
    {
     "name": "stdout",
     "output_type": "stream",
     "text": [
      "Checkpoint saved at epoch 672\n"
     ]
    },
    {
     "name": "stderr",
     "output_type": "stream",
     "text": [
      "Epoch 673/1000: 100%|████████████████████████████████████████████████████████████████████████████████████████████████████████████| 88/88 [00:33<00:00,  2.65it/s, D Loss=0.6203, G Loss=3.2609, Rec Loss=0.0674]\n"
     ]
    },
    {
     "name": "stdout",
     "output_type": "stream",
     "text": [
      "Checkpoint saved at epoch 673\n"
     ]
    },
    {
     "name": "stderr",
     "output_type": "stream",
     "text": [
      "Epoch 674/1000: 100%|████████████████████████████████████████████████████████████████████████████████████████████████████████████| 88/88 [00:31<00:00,  2.77it/s, D Loss=0.9315, G Loss=3.4024, Rec Loss=0.0603]\n"
     ]
    },
    {
     "name": "stdout",
     "output_type": "stream",
     "text": [
      "Checkpoint saved at epoch 674\n"
     ]
    },
    {
     "name": "stderr",
     "output_type": "stream",
     "text": [
      "Epoch 675/1000: 100%|████████████████████████████████████████████████████████████████████████████████████████████████████████████| 88/88 [00:31<00:00,  2.84it/s, D Loss=0.8016, G Loss=2.4681, Rec Loss=0.0572]\n"
     ]
    },
    {
     "name": "stdout",
     "output_type": "stream",
     "text": [
      "Additional checkpoint saved at checkpoints/DisasterGAN_epoch675.pth\n",
      "Checkpoint saved at epoch 675\n"
     ]
    },
    {
     "name": "stderr",
     "output_type": "stream",
     "text": [
      "Epoch 676/1000: 100%|████████████████████████████████████████████████████████████████████████████████████████████████████████████| 88/88 [00:33<00:00,  2.62it/s, D Loss=0.9109, G Loss=2.2241, Rec Loss=0.0616]\n"
     ]
    },
    {
     "name": "stdout",
     "output_type": "stream",
     "text": [
      "Checkpoint saved at epoch 676\n"
     ]
    },
    {
     "name": "stderr",
     "output_type": "stream",
     "text": [
      "Epoch 677/1000: 100%|████████████████████████████████████████████████████████████████████████████████████████████████████████████| 88/88 [00:31<00:00,  2.81it/s, D Loss=0.6984, G Loss=2.5740, Rec Loss=0.0627]\n"
     ]
    },
    {
     "name": "stdout",
     "output_type": "stream",
     "text": [
      "Checkpoint saved at epoch 677\n"
     ]
    },
    {
     "name": "stderr",
     "output_type": "stream",
     "text": [
      "Epoch 678/1000: 100%|████████████████████████████████████████████████████████████████████████████████████████████████████████████| 88/88 [00:29<00:00,  2.97it/s, D Loss=0.5859, G Loss=3.5177, Rec Loss=0.0656]\n"
     ]
    },
    {
     "name": "stdout",
     "output_type": "stream",
     "text": [
      "Checkpoint saved at epoch 678\n"
     ]
    },
    {
     "name": "stderr",
     "output_type": "stream",
     "text": [
      "Epoch 679/1000: 100%|████████████████████████████████████████████████████████████████████████████████████████████████████████████| 88/88 [00:31<00:00,  2.82it/s, D Loss=0.7328, G Loss=2.6937, Rec Loss=0.0574]\n"
     ]
    },
    {
     "name": "stdout",
     "output_type": "stream",
     "text": [
      "Checkpoint saved at epoch 679\n"
     ]
    },
    {
     "name": "stderr",
     "output_type": "stream",
     "text": [
      "Epoch 680/1000: 100%|████████████████████████████████████████████████████████████████████████████████████████████████████████████| 88/88 [00:31<00:00,  2.76it/s, D Loss=0.6514, G Loss=3.3365, Rec Loss=0.0615]\n"
     ]
    },
    {
     "name": "stdout",
     "output_type": "stream",
     "text": [
      "Checkpoint saved at epoch 680\n"
     ]
    },
    {
     "name": "stderr",
     "output_type": "stream",
     "text": [
      "Epoch 681/1000: 100%|████████████████████████████████████████████████████████████████████████████████████████████████████████████| 88/88 [00:30<00:00,  2.85it/s, D Loss=0.8445, G Loss=3.9530, Rec Loss=0.0597]\n"
     ]
    },
    {
     "name": "stdout",
     "output_type": "stream",
     "text": [
      "Checkpoint saved at epoch 681\n"
     ]
    },
    {
     "name": "stderr",
     "output_type": "stream",
     "text": [
      "Epoch 682/1000: 100%|████████████████████████████████████████████████████████████████████████████████████████████████████████████| 88/88 [00:32<00:00,  2.68it/s, D Loss=1.0117, G Loss=1.7579, Rec Loss=0.0615]\n"
     ]
    },
    {
     "name": "stdout",
     "output_type": "stream",
     "text": [
      "Checkpoint saved at epoch 682\n"
     ]
    },
    {
     "name": "stderr",
     "output_type": "stream",
     "text": [
      "Epoch 683/1000: 100%|████████████████████████████████████████████████████████████████████████████████████████████████████████████| 88/88 [00:31<00:00,  2.77it/s, D Loss=0.6682, G Loss=3.6402, Rec Loss=0.0667]\n"
     ]
    },
    {
     "name": "stdout",
     "output_type": "stream",
     "text": [
      "Checkpoint saved at epoch 683\n"
     ]
    },
    {
     "name": "stderr",
     "output_type": "stream",
     "text": [
      "Epoch 684/1000: 100%|████████████████████████████████████████████████████████████████████████████████████████████████████████████| 88/88 [00:32<00:00,  2.68it/s, D Loss=0.6266, G Loss=4.0243, Rec Loss=0.0813]\n"
     ]
    },
    {
     "name": "stdout",
     "output_type": "stream",
     "text": [
      "Checkpoint saved at epoch 684\n"
     ]
    },
    {
     "name": "stderr",
     "output_type": "stream",
     "text": [
      "Epoch 685/1000: 100%|████████████████████████████████████████████████████████████████████████████████████████████████████████████| 88/88 [00:33<00:00,  2.59it/s, D Loss=0.7645, G Loss=2.9617, Rec Loss=0.0573]\n"
     ]
    },
    {
     "name": "stdout",
     "output_type": "stream",
     "text": [
      "Checkpoint saved at epoch 685\n"
     ]
    },
    {
     "name": "stderr",
     "output_type": "stream",
     "text": [
      "Epoch 686/1000: 100%|████████████████████████████████████████████████████████████████████████████████████████████████████████████| 88/88 [00:32<00:00,  2.74it/s, D Loss=0.7356, G Loss=3.6799, Rec Loss=0.0629]\n"
     ]
    },
    {
     "name": "stdout",
     "output_type": "stream",
     "text": [
      "Checkpoint saved at epoch 686\n"
     ]
    },
    {
     "name": "stderr",
     "output_type": "stream",
     "text": [
      "Epoch 687/1000: 100%|████████████████████████████████████████████████████████████████████████████████████████████████████████████| 88/88 [00:31<00:00,  2.83it/s, D Loss=0.8149, G Loss=2.5246, Rec Loss=0.0689]\n"
     ]
    },
    {
     "name": "stdout",
     "output_type": "stream",
     "text": [
      "Checkpoint saved at epoch 687\n"
     ]
    },
    {
     "name": "stderr",
     "output_type": "stream",
     "text": [
      "Epoch 688/1000: 100%|████████████████████████████████████████████████████████████████████████████████████████████████████████████| 88/88 [00:30<00:00,  2.86it/s, D Loss=0.9006, G Loss=2.1005, Rec Loss=0.0508]\n"
     ]
    },
    {
     "name": "stdout",
     "output_type": "stream",
     "text": [
      "Checkpoint saved at epoch 688\n"
     ]
    },
    {
     "name": "stderr",
     "output_type": "stream",
     "text": [
      "Epoch 689/1000: 100%|████████████████████████████████████████████████████████████████████████████████████████████████████████████| 88/88 [00:32<00:00,  2.73it/s, D Loss=0.7763, G Loss=4.0629, Rec Loss=0.0698]\n"
     ]
    },
    {
     "name": "stdout",
     "output_type": "stream",
     "text": [
      "Checkpoint saved at epoch 689\n"
     ]
    },
    {
     "name": "stderr",
     "output_type": "stream",
     "text": [
      "Epoch 690/1000: 100%|████████████████████████████████████████████████████████████████████████████████████████████████████████████| 88/88 [00:30<00:00,  2.86it/s, D Loss=0.8619, G Loss=3.3610, Rec Loss=0.0681]\n"
     ]
    },
    {
     "name": "stdout",
     "output_type": "stream",
     "text": [
      "Additional checkpoint saved at checkpoints/DisasterGAN_epoch690.pth\n",
      "Checkpoint saved at epoch 690\n"
     ]
    },
    {
     "name": "stderr",
     "output_type": "stream",
     "text": [
      "Epoch 691/1000: 100%|████████████████████████████████████████████████████████████████████████████████████████████████████████████| 88/88 [00:30<00:00,  2.87it/s, D Loss=0.4487, G Loss=4.1129, Rec Loss=0.0653]\n"
     ]
    },
    {
     "name": "stdout",
     "output_type": "stream",
     "text": [
      "Checkpoint saved at epoch 691\n"
     ]
    },
    {
     "name": "stderr",
     "output_type": "stream",
     "text": [
      "Epoch 692/1000: 100%|████████████████████████████████████████████████████████████████████████████████████████████████████████████| 88/88 [00:31<00:00,  2.83it/s, D Loss=0.6530, G Loss=3.3170, Rec Loss=0.0652]\n"
     ]
    },
    {
     "name": "stdout",
     "output_type": "stream",
     "text": [
      "Checkpoint saved at epoch 692\n"
     ]
    },
    {
     "name": "stderr",
     "output_type": "stream",
     "text": [
      "Epoch 693/1000: 100%|████████████████████████████████████████████████████████████████████████████████████████████████████████████| 88/88 [00:31<00:00,  2.82it/s, D Loss=0.8030, G Loss=2.9954, Rec Loss=0.0552]\n"
     ]
    },
    {
     "name": "stdout",
     "output_type": "stream",
     "text": [
      "Checkpoint saved at epoch 693\n"
     ]
    },
    {
     "name": "stderr",
     "output_type": "stream",
     "text": [
      "Epoch 694/1000: 100%|████████████████████████████████████████████████████████████████████████████████████████████████████████████| 88/88 [00:31<00:00,  2.83it/s, D Loss=0.6679, G Loss=2.7293, Rec Loss=0.0735]\n"
     ]
    },
    {
     "name": "stdout",
     "output_type": "stream",
     "text": [
      "Checkpoint saved at epoch 694\n"
     ]
    },
    {
     "name": "stderr",
     "output_type": "stream",
     "text": [
      "Epoch 695/1000: 100%|████████████████████████████████████████████████████████████████████████████████████████████████████████████| 88/88 [00:33<00:00,  2.65it/s, D Loss=0.7202, G Loss=3.4282, Rec Loss=0.0653]\n"
     ]
    },
    {
     "name": "stdout",
     "output_type": "stream",
     "text": [
      "Checkpoint saved at epoch 695\n"
     ]
    },
    {
     "name": "stderr",
     "output_type": "stream",
     "text": [
      "Epoch 696/1000: 100%|████████████████████████████████████████████████████████████████████████████████████████████████████████████| 88/88 [00:32<00:00,  2.73it/s, D Loss=0.7228, G Loss=3.6365, Rec Loss=0.0692]\n"
     ]
    },
    {
     "name": "stdout",
     "output_type": "stream",
     "text": [
      "Checkpoint saved at epoch 696\n"
     ]
    },
    {
     "name": "stderr",
     "output_type": "stream",
     "text": [
      "Epoch 697/1000: 100%|████████████████████████████████████████████████████████████████████████████████████████████████████████████| 88/88 [00:30<00:00,  2.86it/s, D Loss=0.7307, G Loss=2.9665, Rec Loss=0.0618]\n"
     ]
    },
    {
     "name": "stdout",
     "output_type": "stream",
     "text": [
      "Checkpoint saved at epoch 697\n"
     ]
    },
    {
     "name": "stderr",
     "output_type": "stream",
     "text": [
      "Epoch 698/1000: 100%|████████████████████████████████████████████████████████████████████████████████████████████████████████████| 88/88 [00:31<00:00,  2.80it/s, D Loss=0.6446, G Loss=3.3171, Rec Loss=0.0588]\n"
     ]
    },
    {
     "name": "stdout",
     "output_type": "stream",
     "text": [
      "Checkpoint saved at epoch 698\n"
     ]
    },
    {
     "name": "stderr",
     "output_type": "stream",
     "text": [
      "Epoch 699/1000: 100%|████████████████████████████████████████████████████████████████████████████████████████████████████████████| 88/88 [00:31<00:00,  2.76it/s, D Loss=0.7992, G Loss=2.5028, Rec Loss=0.0613]\n"
     ]
    },
    {
     "name": "stdout",
     "output_type": "stream",
     "text": [
      "Checkpoint saved at epoch 699\n"
     ]
    },
    {
     "name": "stderr",
     "output_type": "stream",
     "text": [
      "Epoch 700/1000: 100%|████████████████████████████████████████████████████████████████████████████████████████████████████████████| 88/88 [00:32<00:00,  2.74it/s, D Loss=0.7622, G Loss=2.3207, Rec Loss=0.0580]\n"
     ]
    },
    {
     "name": "stdout",
     "output_type": "stream",
     "text": [
      "Checkpoint saved at epoch 700\n"
     ]
    },
    {
     "name": "stderr",
     "output_type": "stream",
     "text": [
      "Epoch 701/1000: 100%|████████████████████████████████████████████████████████████████████████████████████████████████████████████| 88/88 [00:32<00:00,  2.70it/s, D Loss=0.8010, G Loss=2.7519, Rec Loss=0.0697]\n"
     ]
    },
    {
     "name": "stdout",
     "output_type": "stream",
     "text": [
      "Checkpoint saved at epoch 701\n"
     ]
    },
    {
     "name": "stderr",
     "output_type": "stream",
     "text": [
      "Epoch 702/1000: 100%|████████████████████████████████████████████████████████████████████████████████████████████████████████████| 88/88 [00:31<00:00,  2.78it/s, D Loss=0.6818, G Loss=2.9459, Rec Loss=0.0638]\n"
     ]
    },
    {
     "name": "stdout",
     "output_type": "stream",
     "text": [
      "Checkpoint saved at epoch 702\n"
     ]
    },
    {
     "name": "stderr",
     "output_type": "stream",
     "text": [
      "Epoch 703/1000: 100%|████████████████████████████████████████████████████████████████████████████████████████████████████████████| 88/88 [00:32<00:00,  2.68it/s, D Loss=0.8451, G Loss=2.2123, Rec Loss=0.0592]\n"
     ]
    },
    {
     "name": "stdout",
     "output_type": "stream",
     "text": [
      "Checkpoint saved at epoch 703\n"
     ]
    },
    {
     "name": "stderr",
     "output_type": "stream",
     "text": [
      "Epoch 704/1000: 100%|████████████████████████████████████████████████████████████████████████████████████████████████████████████| 88/88 [00:31<00:00,  2.78it/s, D Loss=0.8584, G Loss=2.1774, Rec Loss=0.0560]\n"
     ]
    },
    {
     "name": "stdout",
     "output_type": "stream",
     "text": [
      "Checkpoint saved at epoch 704\n"
     ]
    },
    {
     "name": "stderr",
     "output_type": "stream",
     "text": [
      "Epoch 705/1000: 100%|████████████████████████████████████████████████████████████████████████████████████████████████████████████| 88/88 [00:31<00:00,  2.76it/s, D Loss=0.7849, G Loss=2.7789, Rec Loss=0.0644]\n"
     ]
    },
    {
     "name": "stdout",
     "output_type": "stream",
     "text": [
      "Additional checkpoint saved at checkpoints/DisasterGAN_epoch705.pth\n",
      "Checkpoint saved at epoch 705\n"
     ]
    },
    {
     "name": "stderr",
     "output_type": "stream",
     "text": [
      "Epoch 706/1000: 100%|████████████████████████████████████████████████████████████████████████████████████████████████████████████| 88/88 [00:30<00:00,  2.86it/s, D Loss=0.7657, G Loss=3.4365, Rec Loss=0.0841]\n"
     ]
    },
    {
     "name": "stdout",
     "output_type": "stream",
     "text": [
      "Checkpoint saved at epoch 706\n"
     ]
    },
    {
     "name": "stderr",
     "output_type": "stream",
     "text": [
      "Epoch 707/1000: 100%|████████████████████████████████████████████████████████████████████████████████████████████████████████████| 88/88 [00:31<00:00,  2.79it/s, D Loss=1.0107, G Loss=2.9430, Rec Loss=0.0669]\n"
     ]
    },
    {
     "name": "stdout",
     "output_type": "stream",
     "text": [
      "Checkpoint saved at epoch 707\n"
     ]
    },
    {
     "name": "stderr",
     "output_type": "stream",
     "text": [
      "Epoch 708/1000: 100%|████████████████████████████████████████████████████████████████████████████████████████████████████████████| 88/88 [00:32<00:00,  2.72it/s, D Loss=0.8527, G Loss=3.1990, Rec Loss=0.0678]\n"
     ]
    },
    {
     "name": "stdout",
     "output_type": "stream",
     "text": [
      "Checkpoint saved at epoch 708\n"
     ]
    },
    {
     "name": "stderr",
     "output_type": "stream",
     "text": [
      "Epoch 709/1000: 100%|████████████████████████████████████████████████████████████████████████████████████████████████████████████| 88/88 [00:30<00:00,  2.84it/s, D Loss=0.9853, G Loss=2.2708, Rec Loss=0.0576]\n"
     ]
    },
    {
     "name": "stdout",
     "output_type": "stream",
     "text": [
      "Checkpoint saved at epoch 709\n"
     ]
    },
    {
     "name": "stderr",
     "output_type": "stream",
     "text": [
      "Epoch 710/1000: 100%|████████████████████████████████████████████████████████████████████████████████████████████████████████████| 88/88 [00:30<00:00,  2.84it/s, D Loss=0.8538, G Loss=3.2377, Rec Loss=0.0646]\n"
     ]
    },
    {
     "name": "stdout",
     "output_type": "stream",
     "text": [
      "Checkpoint saved at epoch 710\n"
     ]
    },
    {
     "name": "stderr",
     "output_type": "stream",
     "text": [
      "Epoch 711/1000: 100%|████████████████████████████████████████████████████████████████████████████████████████████████████████████| 88/88 [00:32<00:00,  2.74it/s, D Loss=0.7231, G Loss=3.2064, Rec Loss=0.0704]\n"
     ]
    },
    {
     "name": "stdout",
     "output_type": "stream",
     "text": [
      "Checkpoint saved at epoch 711\n"
     ]
    },
    {
     "name": "stderr",
     "output_type": "stream",
     "text": [
      "Epoch 712/1000: 100%|████████████████████████████████████████████████████████████████████████████████████████████████████████████| 88/88 [00:31<00:00,  2.81it/s, D Loss=1.1185, G Loss=3.0319, Rec Loss=0.0496]\n"
     ]
    },
    {
     "name": "stdout",
     "output_type": "stream",
     "text": [
      "Checkpoint saved at epoch 712\n"
     ]
    },
    {
     "name": "stderr",
     "output_type": "stream",
     "text": [
      "Epoch 713/1000: 100%|████████████████████████████████████████████████████████████████████████████████████████████████████████████| 88/88 [00:31<00:00,  2.82it/s, D Loss=0.4023, G Loss=4.7779, Rec Loss=0.0704]\n"
     ]
    },
    {
     "name": "stdout",
     "output_type": "stream",
     "text": [
      "Checkpoint saved at epoch 713\n"
     ]
    },
    {
     "name": "stderr",
     "output_type": "stream",
     "text": [
      "Epoch 714/1000: 100%|████████████████████████████████████████████████████████████████████████████████████████████████████████████| 88/88 [00:30<00:00,  2.88it/s, D Loss=0.6727, G Loss=2.9915, Rec Loss=0.0633]\n"
     ]
    },
    {
     "name": "stdout",
     "output_type": "stream",
     "text": [
      "Checkpoint saved at epoch 714\n"
     ]
    },
    {
     "name": "stderr",
     "output_type": "stream",
     "text": [
      "Epoch 715/1000: 100%|████████████████████████████████████████████████████████████████████████████████████████████████████████████| 88/88 [00:31<00:00,  2.78it/s, D Loss=0.5579, G Loss=3.4620, Rec Loss=0.0686]\n"
     ]
    },
    {
     "name": "stdout",
     "output_type": "stream",
     "text": [
      "Checkpoint saved at epoch 715\n"
     ]
    },
    {
     "name": "stderr",
     "output_type": "stream",
     "text": [
      "Epoch 716/1000: 100%|████████████████████████████████████████████████████████████████████████████████████████████████████████████| 88/88 [00:33<00:00,  2.66it/s, D Loss=0.8903, G Loss=1.9290, Rec Loss=0.0633]\n"
     ]
    },
    {
     "name": "stdout",
     "output_type": "stream",
     "text": [
      "Checkpoint saved at epoch 716\n"
     ]
    },
    {
     "name": "stderr",
     "output_type": "stream",
     "text": [
      "Epoch 717/1000: 100%|████████████████████████████████████████████████████████████████████████████████████████████████████████████| 88/88 [00:31<00:00,  2.77it/s, D Loss=0.7484, G Loss=3.9906, Rec Loss=0.0691]\n"
     ]
    },
    {
     "name": "stdout",
     "output_type": "stream",
     "text": [
      "Checkpoint saved at epoch 717\n"
     ]
    },
    {
     "name": "stderr",
     "output_type": "stream",
     "text": [
      "Epoch 718/1000: 100%|████████████████████████████████████████████████████████████████████████████████████████████████████████████| 88/88 [00:30<00:00,  2.84it/s, D Loss=1.0600, G Loss=3.6344, Rec Loss=0.0579]\n"
     ]
    },
    {
     "name": "stdout",
     "output_type": "stream",
     "text": [
      "Checkpoint saved at epoch 718\n"
     ]
    },
    {
     "name": "stderr",
     "output_type": "stream",
     "text": [
      "Epoch 719/1000: 100%|████████████████████████████████████████████████████████████████████████████████████████████████████████████| 88/88 [00:32<00:00,  2.74it/s, D Loss=0.8347, G Loss=2.7582, Rec Loss=0.0674]\n"
     ]
    },
    {
     "name": "stdout",
     "output_type": "stream",
     "text": [
      "Checkpoint saved at epoch 719\n"
     ]
    },
    {
     "name": "stderr",
     "output_type": "stream",
     "text": [
      "Epoch 720/1000: 100%|████████████████████████████████████████████████████████████████████████████████████████████████████████████| 88/88 [00:31<00:00,  2.76it/s, D Loss=0.9238, G Loss=2.5697, Rec Loss=0.0578]\n"
     ]
    },
    {
     "name": "stdout",
     "output_type": "stream",
     "text": [
      "Additional checkpoint saved at checkpoints/DisasterGAN_epoch720.pth\n",
      "Checkpoint saved at epoch 720\n"
     ]
    },
    {
     "name": "stderr",
     "output_type": "stream",
     "text": [
      "Epoch 721/1000: 100%|████████████████████████████████████████████████████████████████████████████████████████████████████████████| 88/88 [00:31<00:00,  2.82it/s, D Loss=0.7943, G Loss=2.7155, Rec Loss=0.0577]\n"
     ]
    },
    {
     "name": "stdout",
     "output_type": "stream",
     "text": [
      "Checkpoint saved at epoch 721\n"
     ]
    },
    {
     "name": "stderr",
     "output_type": "stream",
     "text": [
      "Epoch 722/1000: 100%|████████████████████████████████████████████████████████████████████████████████████████████████████████████| 88/88 [00:32<00:00,  2.73it/s, D Loss=1.0514, G Loss=2.7544, Rec Loss=0.0597]\n"
     ]
    },
    {
     "name": "stdout",
     "output_type": "stream",
     "text": [
      "Checkpoint saved at epoch 722\n"
     ]
    },
    {
     "name": "stderr",
     "output_type": "stream",
     "text": [
      "Epoch 723/1000: 100%|████████████████████████████████████████████████████████████████████████████████████████████████████████████| 88/88 [00:31<00:00,  2.80it/s, D Loss=1.1669, G Loss=2.9073, Rec Loss=0.0551]\n"
     ]
    },
    {
     "name": "stdout",
     "output_type": "stream",
     "text": [
      "Checkpoint saved at epoch 723\n"
     ]
    },
    {
     "name": "stderr",
     "output_type": "stream",
     "text": [
      "Epoch 724/1000: 100%|████████████████████████████████████████████████████████████████████████████████████████████████████████████| 88/88 [00:31<00:00,  2.75it/s, D Loss=0.7220, G Loss=3.2263, Rec Loss=0.0601]\n"
     ]
    },
    {
     "name": "stdout",
     "output_type": "stream",
     "text": [
      "Checkpoint saved at epoch 724\n"
     ]
    },
    {
     "name": "stderr",
     "output_type": "stream",
     "text": [
      "Epoch 725/1000: 100%|████████████████████████████████████████████████████████████████████████████████████████████████████████████| 88/88 [00:31<00:00,  2.78it/s, D Loss=0.9356, G Loss=3.0302, Rec Loss=0.0568]\n"
     ]
    },
    {
     "name": "stdout",
     "output_type": "stream",
     "text": [
      "Checkpoint saved at epoch 725\n"
     ]
    },
    {
     "name": "stderr",
     "output_type": "stream",
     "text": [
      "Epoch 726/1000: 100%|████████████████████████████████████████████████████████████████████████████████████████████████████████████| 88/88 [00:32<00:00,  2.74it/s, D Loss=1.0598, G Loss=3.1725, Rec Loss=0.0666]\n"
     ]
    },
    {
     "name": "stdout",
     "output_type": "stream",
     "text": [
      "Checkpoint saved at epoch 726\n"
     ]
    },
    {
     "name": "stderr",
     "output_type": "stream",
     "text": [
      "Epoch 727/1000: 100%|████████████████████████████████████████████████████████████████████████████████████████████████████████████| 88/88 [00:31<00:00,  2.80it/s, D Loss=0.8090, G Loss=3.1536, Rec Loss=0.0582]\n"
     ]
    },
    {
     "name": "stdout",
     "output_type": "stream",
     "text": [
      "Checkpoint saved at epoch 727\n"
     ]
    },
    {
     "name": "stderr",
     "output_type": "stream",
     "text": [
      "Epoch 728/1000: 100%|████████████████████████████████████████████████████████████████████████████████████████████████████████████| 88/88 [00:32<00:00,  2.74it/s, D Loss=0.8800, G Loss=3.0806, Rec Loss=0.0669]\n"
     ]
    },
    {
     "name": "stdout",
     "output_type": "stream",
     "text": [
      "Checkpoint saved at epoch 728\n"
     ]
    },
    {
     "name": "stderr",
     "output_type": "stream",
     "text": [
      "Epoch 729/1000: 100%|████████████████████████████████████████████████████████████████████████████████████████████████████████████| 88/88 [00:32<00:00,  2.75it/s, D Loss=0.7488, G Loss=2.6844, Rec Loss=0.0612]\n"
     ]
    },
    {
     "name": "stdout",
     "output_type": "stream",
     "text": [
      "Checkpoint saved at epoch 729\n"
     ]
    },
    {
     "name": "stderr",
     "output_type": "stream",
     "text": [
      "Epoch 730/1000: 100%|████████████████████████████████████████████████████████████████████████████████████████████████████████████| 88/88 [00:33<00:00,  2.63it/s, D Loss=0.9902, G Loss=2.8961, Rec Loss=0.0576]\n"
     ]
    },
    {
     "name": "stdout",
     "output_type": "stream",
     "text": [
      "Checkpoint saved at epoch 730\n"
     ]
    },
    {
     "name": "stderr",
     "output_type": "stream",
     "text": [
      "Epoch 731/1000: 100%|████████████████████████████████████████████████████████████████████████████████████████████████████████████| 88/88 [00:31<00:00,  2.80it/s, D Loss=0.9835, G Loss=3.0013, Rec Loss=0.0562]\n"
     ]
    },
    {
     "name": "stdout",
     "output_type": "stream",
     "text": [
      "Checkpoint saved at epoch 731\n"
     ]
    },
    {
     "name": "stderr",
     "output_type": "stream",
     "text": [
      "Epoch 732/1000: 100%|████████████████████████████████████████████████████████████████████████████████████████████████████████████| 88/88 [00:33<00:00,  2.66it/s, D Loss=0.5824, G Loss=4.2734, Rec Loss=0.0633]\n"
     ]
    },
    {
     "name": "stdout",
     "output_type": "stream",
     "text": [
      "Checkpoint saved at epoch 732\n"
     ]
    },
    {
     "name": "stderr",
     "output_type": "stream",
     "text": [
      "Epoch 733/1000: 100%|████████████████████████████████████████████████████████████████████████████████████████████████████████████| 88/88 [00:30<00:00,  2.93it/s, D Loss=0.7131, G Loss=2.7798, Rec Loss=0.0682]\n"
     ]
    },
    {
     "name": "stdout",
     "output_type": "stream",
     "text": [
      "Checkpoint saved at epoch 733\n"
     ]
    },
    {
     "name": "stderr",
     "output_type": "stream",
     "text": [
      "Epoch 734/1000: 100%|████████████████████████████████████████████████████████████████████████████████████████████████████████████| 88/88 [00:30<00:00,  2.89it/s, D Loss=0.8713, G Loss=3.7085, Rec Loss=0.0621]\n"
     ]
    },
    {
     "name": "stdout",
     "output_type": "stream",
     "text": [
      "Checkpoint saved at epoch 734\n"
     ]
    },
    {
     "name": "stderr",
     "output_type": "stream",
     "text": [
      "Epoch 735/1000: 100%|████████████████████████████████████████████████████████████████████████████████████████████████████████████| 88/88 [00:30<00:00,  2.88it/s, D Loss=0.9049, G Loss=2.8995, Rec Loss=0.0688]\n"
     ]
    },
    {
     "name": "stdout",
     "output_type": "stream",
     "text": [
      "Additional checkpoint saved at checkpoints/DisasterGAN_epoch735.pth\n",
      "Checkpoint saved at epoch 735\n"
     ]
    },
    {
     "name": "stderr",
     "output_type": "stream",
     "text": [
      "Epoch 736/1000: 100%|████████████████████████████████████████████████████████████████████████████████████████████████████████████| 88/88 [00:33<00:00,  2.63it/s, D Loss=0.9035, G Loss=3.1163, Rec Loss=0.0547]\n"
     ]
    },
    {
     "name": "stdout",
     "output_type": "stream",
     "text": [
      "Checkpoint saved at epoch 736\n"
     ]
    },
    {
     "name": "stderr",
     "output_type": "stream",
     "text": [
      "Epoch 737/1000: 100%|████████████████████████████████████████████████████████████████████████████████████████████████████████████| 88/88 [00:33<00:00,  2.59it/s, D Loss=0.8147, G Loss=2.7020, Rec Loss=0.0609]\n"
     ]
    },
    {
     "name": "stdout",
     "output_type": "stream",
     "text": [
      "Checkpoint saved at epoch 737\n"
     ]
    },
    {
     "name": "stderr",
     "output_type": "stream",
     "text": [
      "Epoch 738/1000: 100%|████████████████████████████████████████████████████████████████████████████████████████████████████████████| 88/88 [00:33<00:00,  2.64it/s, D Loss=0.9030, G Loss=2.2082, Rec Loss=0.0547]\n"
     ]
    },
    {
     "name": "stdout",
     "output_type": "stream",
     "text": [
      "Checkpoint saved at epoch 738\n"
     ]
    },
    {
     "name": "stderr",
     "output_type": "stream",
     "text": [
      "Epoch 739/1000: 100%|████████████████████████████████████████████████████████████████████████████████████████████████████████████| 88/88 [00:31<00:00,  2.80it/s, D Loss=0.9694, G Loss=4.3956, Rec Loss=0.0616]\n"
     ]
    },
    {
     "name": "stdout",
     "output_type": "stream",
     "text": [
      "Checkpoint saved at epoch 739\n"
     ]
    },
    {
     "name": "stderr",
     "output_type": "stream",
     "text": [
      "Epoch 740/1000: 100%|████████████████████████████████████████████████████████████████████████████████████████████████████████████| 88/88 [00:31<00:00,  2.80it/s, D Loss=0.8179, G Loss=2.5834, Rec Loss=0.0547]\n"
     ]
    },
    {
     "name": "stdout",
     "output_type": "stream",
     "text": [
      "Checkpoint saved at epoch 740\n"
     ]
    },
    {
     "name": "stderr",
     "output_type": "stream",
     "text": [
      "Epoch 741/1000: 100%|████████████████████████████████████████████████████████████████████████████████████████████████████████████| 88/88 [00:33<00:00,  2.62it/s, D Loss=0.9035, G Loss=2.7412, Rec Loss=0.0622]\n"
     ]
    },
    {
     "name": "stdout",
     "output_type": "stream",
     "text": [
      "Checkpoint saved at epoch 741\n"
     ]
    },
    {
     "name": "stderr",
     "output_type": "stream",
     "text": [
      "Epoch 742/1000: 100%|████████████████████████████████████████████████████████████████████████████████████████████████████████████| 88/88 [00:31<00:00,  2.80it/s, D Loss=0.9277, G Loss=9.2500, Rec Loss=0.0624]\n"
     ]
    },
    {
     "name": "stdout",
     "output_type": "stream",
     "text": [
      "Checkpoint saved at epoch 742\n"
     ]
    },
    {
     "name": "stderr",
     "output_type": "stream",
     "text": [
      "Epoch 743/1000: 100%|████████████████████████████████████████████████████████████████████████████████████████████████████████████| 88/88 [00:30<00:00,  2.91it/s, D Loss=0.3680, G Loss=3.7584, Rec Loss=0.0696]\n"
     ]
    },
    {
     "name": "stdout",
     "output_type": "stream",
     "text": [
      "Checkpoint saved at epoch 743\n"
     ]
    },
    {
     "name": "stderr",
     "output_type": "stream",
     "text": [
      "Epoch 744/1000: 100%|████████████████████████████████████████████████████████████████████████████████████████████████████████████| 88/88 [00:30<00:00,  2.87it/s, D Loss=0.4964, G Loss=4.1228, Rec Loss=0.0696]\n"
     ]
    },
    {
     "name": "stdout",
     "output_type": "stream",
     "text": [
      "Checkpoint saved at epoch 744\n"
     ]
    },
    {
     "name": "stderr",
     "output_type": "stream",
     "text": [
      "Epoch 745/1000: 100%|████████████████████████████████████████████████████████████████████████████████████████████████████████████| 88/88 [00:33<00:00,  2.66it/s, D Loss=0.7044, G Loss=2.5957, Rec Loss=0.0562]\n"
     ]
    },
    {
     "name": "stdout",
     "output_type": "stream",
     "text": [
      "Checkpoint saved at epoch 745\n"
     ]
    },
    {
     "name": "stderr",
     "output_type": "stream",
     "text": [
      "Epoch 746/1000: 100%|████████████████████████████████████████████████████████████████████████████████████████████████████████████| 88/88 [00:33<00:00,  2.66it/s, D Loss=0.6880, G Loss=3.6670, Rec Loss=0.0704]\n"
     ]
    },
    {
     "name": "stdout",
     "output_type": "stream",
     "text": [
      "Checkpoint saved at epoch 746\n"
     ]
    },
    {
     "name": "stderr",
     "output_type": "stream",
     "text": [
      "Epoch 747/1000: 100%|████████████████████████████████████████████████████████████████████████████████████████████████████████████| 88/88 [00:31<00:00,  2.81it/s, D Loss=0.8056, G Loss=3.4164, Rec Loss=0.0620]\n"
     ]
    },
    {
     "name": "stdout",
     "output_type": "stream",
     "text": [
      "Checkpoint saved at epoch 747\n"
     ]
    },
    {
     "name": "stderr",
     "output_type": "stream",
     "text": [
      "Epoch 748/1000: 100%|████████████████████████████████████████████████████████████████████████████████████████████████████████████| 88/88 [00:30<00:00,  2.89it/s, D Loss=1.0947, G Loss=3.3539, Rec Loss=0.0797]\n"
     ]
    },
    {
     "name": "stdout",
     "output_type": "stream",
     "text": [
      "Checkpoint saved at epoch 748\n"
     ]
    },
    {
     "name": "stderr",
     "output_type": "stream",
     "text": [
      "Epoch 749/1000: 100%|████████████████████████████████████████████████████████████████████████████████████████████████████████████| 88/88 [00:30<00:00,  2.90it/s, D Loss=0.7492, G Loss=2.4937, Rec Loss=0.0559]\n"
     ]
    },
    {
     "name": "stdout",
     "output_type": "stream",
     "text": [
      "Checkpoint saved at epoch 749\n"
     ]
    },
    {
     "name": "stderr",
     "output_type": "stream",
     "text": [
      "Epoch 750/1000: 100%|████████████████████████████████████████████████████████████████████████████████████████████████████████████| 88/88 [00:30<00:00,  2.90it/s, D Loss=0.7043, G Loss=2.6456, Rec Loss=0.0750]\n"
     ]
    },
    {
     "name": "stdout",
     "output_type": "stream",
     "text": [
      "Additional checkpoint saved at checkpoints/DisasterGAN_epoch750.pth\n",
      "Checkpoint saved at epoch 750\n"
     ]
    },
    {
     "name": "stderr",
     "output_type": "stream",
     "text": [
      "Epoch 751/1000: 100%|████████████████████████████████████████████████████████████████████████████████████████████████████████████| 88/88 [00:29<00:00,  2.96it/s, D Loss=0.7304, G Loss=2.5423, Rec Loss=0.0544]\n"
     ]
    },
    {
     "name": "stdout",
     "output_type": "stream",
     "text": [
      "Checkpoint saved at epoch 751\n"
     ]
    },
    {
     "name": "stderr",
     "output_type": "stream",
     "text": [
      "Epoch 752/1000: 100%|████████████████████████████████████████████████████████████████████████████████████████████████████████████| 88/88 [00:34<00:00,  2.56it/s, D Loss=0.7988, G Loss=2.8755, Rec Loss=0.0711]\n"
     ]
    },
    {
     "name": "stdout",
     "output_type": "stream",
     "text": [
      "Checkpoint saved at epoch 752\n"
     ]
    },
    {
     "name": "stderr",
     "output_type": "stream",
     "text": [
      "Epoch 753/1000: 100%|████████████████████████████████████████████████████████████████████████████████████████████████████████████| 88/88 [00:31<00:00,  2.81it/s, D Loss=0.8389, G Loss=2.1345, Rec Loss=0.0541]\n"
     ]
    },
    {
     "name": "stdout",
     "output_type": "stream",
     "text": [
      "Checkpoint saved at epoch 753\n"
     ]
    },
    {
     "name": "stderr",
     "output_type": "stream",
     "text": [
      "Epoch 754/1000: 100%|████████████████████████████████████████████████████████████████████████████████████████████████████████████| 88/88 [00:31<00:00,  2.77it/s, D Loss=0.8572, G Loss=2.3484, Rec Loss=0.0675]\n"
     ]
    },
    {
     "name": "stdout",
     "output_type": "stream",
     "text": [
      "Checkpoint saved at epoch 754\n"
     ]
    },
    {
     "name": "stderr",
     "output_type": "stream",
     "text": [
      "Epoch 755/1000: 100%|████████████████████████████████████████████████████████████████████████████████████████████████████████████| 88/88 [00:32<00:00,  2.72it/s, D Loss=0.7323, G Loss=2.4461, Rec Loss=0.0671]\n"
     ]
    },
    {
     "name": "stdout",
     "output_type": "stream",
     "text": [
      "Checkpoint saved at epoch 755\n"
     ]
    },
    {
     "name": "stderr",
     "output_type": "stream",
     "text": [
      "Epoch 756/1000: 100%|████████████████████████████████████████████████████████████████████████████████████████████████████████████| 88/88 [00:30<00:00,  2.86it/s, D Loss=0.9386, G Loss=2.2351, Rec Loss=0.0537]\n"
     ]
    },
    {
     "name": "stdout",
     "output_type": "stream",
     "text": [
      "Checkpoint saved at epoch 756\n"
     ]
    },
    {
     "name": "stderr",
     "output_type": "stream",
     "text": [
      "Epoch 757/1000: 100%|████████████████████████████████████████████████████████████████████████████████████████████████████████████| 88/88 [00:31<00:00,  2.81it/s, D Loss=0.9871, G Loss=2.7830, Rec Loss=0.0659]\n"
     ]
    },
    {
     "name": "stdout",
     "output_type": "stream",
     "text": [
      "Checkpoint saved at epoch 757\n"
     ]
    },
    {
     "name": "stderr",
     "output_type": "stream",
     "text": [
      "Epoch 758/1000: 100%|████████████████████████████████████████████████████████████████████████████████████████████████████████████| 88/88 [00:31<00:00,  2.76it/s, D Loss=0.9684, G Loss=3.2311, Rec Loss=0.0767]\n"
     ]
    },
    {
     "name": "stdout",
     "output_type": "stream",
     "text": [
      "Checkpoint saved at epoch 758\n"
     ]
    },
    {
     "name": "stderr",
     "output_type": "stream",
     "text": [
      "Epoch 759/1000: 100%|████████████████████████████████████████████████████████████████████████████████████████████████████████████| 88/88 [00:35<00:00,  2.47it/s, D Loss=0.8077, G Loss=2.8140, Rec Loss=0.0519]\n"
     ]
    },
    {
     "name": "stdout",
     "output_type": "stream",
     "text": [
      "Checkpoint saved at epoch 759\n"
     ]
    },
    {
     "name": "stderr",
     "output_type": "stream",
     "text": [
      "Epoch 760/1000: 100%|████████████████████████████████████████████████████████████████████████████████████████████████████████████| 88/88 [00:33<00:00,  2.64it/s, D Loss=0.8425, G Loss=2.2015, Rec Loss=0.0588]\n"
     ]
    },
    {
     "name": "stdout",
     "output_type": "stream",
     "text": [
      "Checkpoint saved at epoch 760\n"
     ]
    },
    {
     "name": "stderr",
     "output_type": "stream",
     "text": [
      "Epoch 761/1000: 100%|████████████████████████████████████████████████████████████████████████████████████████████████████████████| 88/88 [00:31<00:00,  2.83it/s, D Loss=0.9104, G Loss=3.2190, Rec Loss=0.0618]\n"
     ]
    },
    {
     "name": "stdout",
     "output_type": "stream",
     "text": [
      "Checkpoint saved at epoch 761\n"
     ]
    },
    {
     "name": "stderr",
     "output_type": "stream",
     "text": [
      "Epoch 762/1000: 100%|████████████████████████████████████████████████████████████████████████████████████████████████████████████| 88/88 [00:31<00:00,  2.81it/s, D Loss=1.0989, G Loss=3.5840, Rec Loss=0.0734]\n"
     ]
    },
    {
     "name": "stdout",
     "output_type": "stream",
     "text": [
      "Checkpoint saved at epoch 762\n"
     ]
    },
    {
     "name": "stderr",
     "output_type": "stream",
     "text": [
      "Epoch 763/1000: 100%|████████████████████████████████████████████████████████████████████████████████████████████████████████████| 88/88 [00:30<00:00,  2.89it/s, D Loss=0.9096, G Loss=2.6777, Rec Loss=0.0603]\n"
     ]
    },
    {
     "name": "stdout",
     "output_type": "stream",
     "text": [
      "Checkpoint saved at epoch 763\n"
     ]
    },
    {
     "name": "stderr",
     "output_type": "stream",
     "text": [
      "Epoch 764/1000: 100%|████████████████████████████████████████████████████████████████████████████████████████████████████████████| 88/88 [00:30<00:00,  2.92it/s, D Loss=1.0116, G Loss=2.5907, Rec Loss=0.0556]\n"
     ]
    },
    {
     "name": "stdout",
     "output_type": "stream",
     "text": [
      "Checkpoint saved at epoch 764\n"
     ]
    },
    {
     "name": "stderr",
     "output_type": "stream",
     "text": [
      "Epoch 765/1000: 100%|████████████████████████████████████████████████████████████████████████████████████████████████████████████| 88/88 [00:34<00:00,  2.59it/s, D Loss=1.0119, G Loss=3.7633, Rec Loss=0.0593]\n"
     ]
    },
    {
     "name": "stdout",
     "output_type": "stream",
     "text": [
      "Additional checkpoint saved at checkpoints/DisasterGAN_epoch765.pth\n",
      "Checkpoint saved at epoch 765\n"
     ]
    },
    {
     "name": "stderr",
     "output_type": "stream",
     "text": [
      "Epoch 766/1000: 100%|████████████████████████████████████████████████████████████████████████████████████████████████████████████| 88/88 [00:33<00:00,  2.64it/s, D Loss=0.8546, G Loss=2.5773, Rec Loss=0.0571]\n"
     ]
    },
    {
     "name": "stdout",
     "output_type": "stream",
     "text": [
      "Checkpoint saved at epoch 766\n"
     ]
    },
    {
     "name": "stderr",
     "output_type": "stream",
     "text": [
      "Epoch 767/1000: 100%|████████████████████████████████████████████████████████████████████████████████████████████████████████████| 88/88 [00:31<00:00,  2.78it/s, D Loss=0.9252, G Loss=2.5620, Rec Loss=0.0661]\n"
     ]
    },
    {
     "name": "stdout",
     "output_type": "stream",
     "text": [
      "Checkpoint saved at epoch 767\n"
     ]
    },
    {
     "name": "stderr",
     "output_type": "stream",
     "text": [
      "Epoch 768/1000: 100%|████████████████████████████████████████████████████████████████████████████████████████████████████████████| 88/88 [00:32<00:00,  2.68it/s, D Loss=0.7685, G Loss=2.4316, Rec Loss=0.0488]\n"
     ]
    },
    {
     "name": "stdout",
     "output_type": "stream",
     "text": [
      "Checkpoint saved at epoch 768\n"
     ]
    },
    {
     "name": "stderr",
     "output_type": "stream",
     "text": [
      "Epoch 769/1000: 100%|████████████████████████████████████████████████████████████████████████████████████████████████████████████| 88/88 [00:30<00:00,  2.85it/s, D Loss=0.5269, G Loss=3.5167, Rec Loss=0.0764]\n"
     ]
    },
    {
     "name": "stdout",
     "output_type": "stream",
     "text": [
      "Checkpoint saved at epoch 769\n"
     ]
    },
    {
     "name": "stderr",
     "output_type": "stream",
     "text": [
      "Epoch 770/1000: 100%|████████████████████████████████████████████████████████████████████████████████████████████████████████████| 88/88 [00:30<00:00,  2.93it/s, D Loss=0.8558, G Loss=2.5629, Rec Loss=0.0581]\n"
     ]
    },
    {
     "name": "stdout",
     "output_type": "stream",
     "text": [
      "Checkpoint saved at epoch 770\n"
     ]
    },
    {
     "name": "stderr",
     "output_type": "stream",
     "text": [
      "Epoch 771/1000: 100%|████████████████████████████████████████████████████████████████████████████████████████████████████████████| 88/88 [00:33<00:00,  2.65it/s, D Loss=0.8993, G Loss=2.1238, Rec Loss=0.0503]\n"
     ]
    },
    {
     "name": "stdout",
     "output_type": "stream",
     "text": [
      "Checkpoint saved at epoch 771\n"
     ]
    },
    {
     "name": "stderr",
     "output_type": "stream",
     "text": [
      "Epoch 772/1000: 100%|████████████████████████████████████████████████████████████████████████████████████████████████████████████| 88/88 [00:32<00:00,  2.73it/s, D Loss=0.8335, G Loss=2.6871, Rec Loss=0.0618]\n"
     ]
    },
    {
     "name": "stdout",
     "output_type": "stream",
     "text": [
      "Checkpoint saved at epoch 772\n"
     ]
    },
    {
     "name": "stderr",
     "output_type": "stream",
     "text": [
      "Epoch 773/1000: 100%|████████████████████████████████████████████████████████████████████████████████████████████████████████████| 88/88 [00:34<00:00,  2.56it/s, D Loss=1.0211, G Loss=4.5990, Rec Loss=0.0746]\n"
     ]
    },
    {
     "name": "stdout",
     "output_type": "stream",
     "text": [
      "Checkpoint saved at epoch 773\n"
     ]
    },
    {
     "name": "stderr",
     "output_type": "stream",
     "text": [
      "Epoch 774/1000: 100%|████████████████████████████████████████████████████████████████████████████████████████████████████████████| 88/88 [00:31<00:00,  2.77it/s, D Loss=0.9143, G Loss=2.5971, Rec Loss=0.0580]\n"
     ]
    },
    {
     "name": "stdout",
     "output_type": "stream",
     "text": [
      "Checkpoint saved at epoch 774\n"
     ]
    },
    {
     "name": "stderr",
     "output_type": "stream",
     "text": [
      "Epoch 775/1000: 100%|████████████████████████████████████████████████████████████████████████████████████████████████████████████| 88/88 [00:32<00:00,  2.74it/s, D Loss=0.8475, G Loss=3.1081, Rec Loss=0.0597]\n"
     ]
    },
    {
     "name": "stdout",
     "output_type": "stream",
     "text": [
      "Checkpoint saved at epoch 775\n"
     ]
    },
    {
     "name": "stderr",
     "output_type": "stream",
     "text": [
      "Epoch 776/1000: 100%|████████████████████████████████████████████████████████████████████████████████████████████████████████████| 88/88 [00:33<00:00,  2.62it/s, D Loss=0.7876, G Loss=3.0095, Rec Loss=0.0579]\n"
     ]
    },
    {
     "name": "stdout",
     "output_type": "stream",
     "text": [
      "Checkpoint saved at epoch 776\n"
     ]
    },
    {
     "name": "stderr",
     "output_type": "stream",
     "text": [
      "Epoch 777/1000: 100%|████████████████████████████████████████████████████████████████████████████████████████████████████████████| 88/88 [00:34<00:00,  2.53it/s, D Loss=0.7337, G Loss=3.1987, Rec Loss=0.0573]\n"
     ]
    },
    {
     "name": "stdout",
     "output_type": "stream",
     "text": [
      "Checkpoint saved at epoch 777\n"
     ]
    },
    {
     "name": "stderr",
     "output_type": "stream",
     "text": [
      "Epoch 778/1000: 100%|████████████████████████████████████████████████████████████████████████████████████████████████████████████| 88/88 [00:30<00:00,  2.85it/s, D Loss=0.8421, G Loss=2.7687, Rec Loss=0.0636]\n"
     ]
    },
    {
     "name": "stdout",
     "output_type": "stream",
     "text": [
      "Checkpoint saved at epoch 778\n"
     ]
    },
    {
     "name": "stderr",
     "output_type": "stream",
     "text": [
      "Epoch 779/1000: 100%|████████████████████████████████████████████████████████████████████████████████████████████████████████████| 88/88 [00:31<00:00,  2.82it/s, D Loss=0.8449, G Loss=2.4773, Rec Loss=0.0609]\n"
     ]
    },
    {
     "name": "stdout",
     "output_type": "stream",
     "text": [
      "Checkpoint saved at epoch 779\n"
     ]
    },
    {
     "name": "stderr",
     "output_type": "stream",
     "text": [
      "Epoch 780/1000: 100%|████████████████████████████████████████████████████████████████████████████████████████████████████████████| 88/88 [00:31<00:00,  2.77it/s, D Loss=0.7833, G Loss=2.9036, Rec Loss=0.0648]\n"
     ]
    },
    {
     "name": "stdout",
     "output_type": "stream",
     "text": [
      "Additional checkpoint saved at checkpoints/DisasterGAN_epoch780.pth\n",
      "Checkpoint saved at epoch 780\n"
     ]
    },
    {
     "name": "stderr",
     "output_type": "stream",
     "text": [
      "Epoch 781/1000: 100%|████████████████████████████████████████████████████████████████████████████████████████████████████████████| 88/88 [00:31<00:00,  2.79it/s, D Loss=0.6026, G Loss=3.5650, Rec Loss=0.0623]\n"
     ]
    },
    {
     "name": "stdout",
     "output_type": "stream",
     "text": [
      "Checkpoint saved at epoch 781\n"
     ]
    },
    {
     "name": "stderr",
     "output_type": "stream",
     "text": [
      "Epoch 782/1000: 100%|████████████████████████████████████████████████████████████████████████████████████████████████████████████| 88/88 [00:31<00:00,  2.76it/s, D Loss=0.8500, G Loss=3.3833, Rec Loss=0.0577]\n"
     ]
    },
    {
     "name": "stdout",
     "output_type": "stream",
     "text": [
      "Checkpoint saved at epoch 782\n"
     ]
    },
    {
     "name": "stderr",
     "output_type": "stream",
     "text": [
      "Epoch 783/1000: 100%|████████████████████████████████████████████████████████████████████████████████████████████████████████████| 88/88 [00:32<00:00,  2.71it/s, D Loss=0.7620, G Loss=3.1783, Rec Loss=0.0627]\n"
     ]
    },
    {
     "name": "stdout",
     "output_type": "stream",
     "text": [
      "Checkpoint saved at epoch 783\n"
     ]
    },
    {
     "name": "stderr",
     "output_type": "stream",
     "text": [
      "Epoch 784/1000: 100%|████████████████████████████████████████████████████████████████████████████████████████████████████████████| 88/88 [00:33<00:00,  2.63it/s, D Loss=0.7978, G Loss=2.7569, Rec Loss=0.0567]\n"
     ]
    },
    {
     "name": "stdout",
     "output_type": "stream",
     "text": [
      "Checkpoint saved at epoch 784\n"
     ]
    },
    {
     "name": "stderr",
     "output_type": "stream",
     "text": [
      "Epoch 785/1000: 100%|████████████████████████████████████████████████████████████████████████████████████████████████████████████| 88/88 [00:30<00:00,  2.92it/s, D Loss=0.8392, G Loss=2.9361, Rec Loss=0.0597]\n"
     ]
    },
    {
     "name": "stdout",
     "output_type": "stream",
     "text": [
      "Checkpoint saved at epoch 785\n"
     ]
    },
    {
     "name": "stderr",
     "output_type": "stream",
     "text": [
      "Epoch 786/1000: 100%|████████████████████████████████████████████████████████████████████████████████████████████████████████████| 88/88 [00:31<00:00,  2.83it/s, D Loss=0.6078, G Loss=3.4866, Rec Loss=0.0662]\n"
     ]
    },
    {
     "name": "stdout",
     "output_type": "stream",
     "text": [
      "Checkpoint saved at epoch 786\n"
     ]
    },
    {
     "name": "stderr",
     "output_type": "stream",
     "text": [
      "Epoch 787/1000: 100%|████████████████████████████████████████████████████████████████████████████████████████████████████████████| 88/88 [00:32<00:00,  2.74it/s, D Loss=0.7984, G Loss=4.2624, Rec Loss=0.0622]\n"
     ]
    },
    {
     "name": "stdout",
     "output_type": "stream",
     "text": [
      "Checkpoint saved at epoch 787\n"
     ]
    },
    {
     "name": "stderr",
     "output_type": "stream",
     "text": [
      "Epoch 788/1000: 100%|████████████████████████████████████████████████████████████████████████████████████████████████████████████| 88/88 [00:33<00:00,  2.66it/s, D Loss=0.7269, G Loss=3.2911, Rec Loss=0.0658]\n"
     ]
    },
    {
     "name": "stdout",
     "output_type": "stream",
     "text": [
      "Checkpoint saved at epoch 788\n"
     ]
    },
    {
     "name": "stderr",
     "output_type": "stream",
     "text": [
      "Epoch 789/1000: 100%|████████████████████████████████████████████████████████████████████████████████████████████████████████████| 88/88 [00:31<00:00,  2.81it/s, D Loss=0.7790, G Loss=2.8099, Rec Loss=0.0559]\n"
     ]
    },
    {
     "name": "stdout",
     "output_type": "stream",
     "text": [
      "Checkpoint saved at epoch 789\n"
     ]
    },
    {
     "name": "stderr",
     "output_type": "stream",
     "text": [
      "Epoch 790/1000: 100%|████████████████████████████████████████████████████████████████████████████████████████████████████████████| 88/88 [00:31<00:00,  2.81it/s, D Loss=0.8553, G Loss=2.6232, Rec Loss=0.0643]\n"
     ]
    },
    {
     "name": "stdout",
     "output_type": "stream",
     "text": [
      "Checkpoint saved at epoch 790\n"
     ]
    },
    {
     "name": "stderr",
     "output_type": "stream",
     "text": [
      "Epoch 791/1000: 100%|████████████████████████████████████████████████████████████████████████████████████████████████████████████| 88/88 [00:32<00:00,  2.74it/s, D Loss=0.7743, G Loss=2.5486, Rec Loss=0.0700]\n"
     ]
    },
    {
     "name": "stdout",
     "output_type": "stream",
     "text": [
      "Checkpoint saved at epoch 791\n"
     ]
    },
    {
     "name": "stderr",
     "output_type": "stream",
     "text": [
      "Epoch 792/1000: 100%|████████████████████████████████████████████████████████████████████████████████████████████████████████████| 88/88 [00:31<00:00,  2.79it/s, D Loss=0.8989, G Loss=2.3903, Rec Loss=0.0619]\n"
     ]
    },
    {
     "name": "stdout",
     "output_type": "stream",
     "text": [
      "Checkpoint saved at epoch 792\n"
     ]
    },
    {
     "name": "stderr",
     "output_type": "stream",
     "text": [
      "Epoch 793/1000: 100%|████████████████████████████████████████████████████████████████████████████████████████████████████████████| 88/88 [00:31<00:00,  2.80it/s, D Loss=1.0263, G Loss=3.6272, Rec Loss=0.0668]\n"
     ]
    },
    {
     "name": "stdout",
     "output_type": "stream",
     "text": [
      "Checkpoint saved at epoch 793\n"
     ]
    },
    {
     "name": "stderr",
     "output_type": "stream",
     "text": [
      "Epoch 794/1000: 100%|████████████████████████████████████████████████████████████████████████████████████████████████████████████| 88/88 [00:33<00:00,  2.65it/s, D Loss=0.9952, G Loss=2.8320, Rec Loss=0.0589]\n"
     ]
    },
    {
     "name": "stdout",
     "output_type": "stream",
     "text": [
      "Checkpoint saved at epoch 794\n"
     ]
    },
    {
     "name": "stderr",
     "output_type": "stream",
     "text": [
      "Epoch 795/1000: 100%|████████████████████████████████████████████████████████████████████████████████████████████████████████████| 88/88 [00:30<00:00,  2.86it/s, D Loss=0.8213, G Loss=2.9292, Rec Loss=0.0613]\n"
     ]
    },
    {
     "name": "stdout",
     "output_type": "stream",
     "text": [
      "Additional checkpoint saved at checkpoints/DisasterGAN_epoch795.pth\n",
      "Checkpoint saved at epoch 795\n"
     ]
    },
    {
     "name": "stderr",
     "output_type": "stream",
     "text": [
      "Epoch 796/1000: 100%|████████████████████████████████████████████████████████████████████████████████████████████████████████████| 88/88 [00:30<00:00,  2.90it/s, D Loss=0.8191, G Loss=2.5562, Rec Loss=0.0618]\n"
     ]
    },
    {
     "name": "stdout",
     "output_type": "stream",
     "text": [
      "Checkpoint saved at epoch 796\n"
     ]
    },
    {
     "name": "stderr",
     "output_type": "stream",
     "text": [
      "Epoch 797/1000: 100%|████████████████████████████████████████████████████████████████████████████████████████████████████████████| 88/88 [00:30<00:00,  2.85it/s, D Loss=0.5250, G Loss=4.2412, Rec Loss=0.0778]\n"
     ]
    },
    {
     "name": "stdout",
     "output_type": "stream",
     "text": [
      "Checkpoint saved at epoch 797\n"
     ]
    },
    {
     "name": "stderr",
     "output_type": "stream",
     "text": [
      "Epoch 798/1000: 100%|████████████████████████████████████████████████████████████████████████████████████████████████████████████| 88/88 [00:31<00:00,  2.83it/s, D Loss=0.6856, G Loss=3.8650, Rec Loss=0.0654]\n"
     ]
    },
    {
     "name": "stdout",
     "output_type": "stream",
     "text": [
      "Checkpoint saved at epoch 798\n"
     ]
    },
    {
     "name": "stderr",
     "output_type": "stream",
     "text": [
      "Epoch 799/1000: 100%|████████████████████████████████████████████████████████████████████████████████████████████████████████████| 88/88 [00:31<00:00,  2.82it/s, D Loss=0.7757, G Loss=2.8381, Rec Loss=0.0519]\n"
     ]
    },
    {
     "name": "stdout",
     "output_type": "stream",
     "text": [
      "Checkpoint saved at epoch 799\n"
     ]
    },
    {
     "name": "stderr",
     "output_type": "stream",
     "text": [
      "Epoch 800/1000: 100%|████████████████████████████████████████████████████████████████████████████████████████████████████████████| 88/88 [00:31<00:00,  2.83it/s, D Loss=0.7775, G Loss=3.0366, Rec Loss=0.0580]\n"
     ]
    },
    {
     "name": "stdout",
     "output_type": "stream",
     "text": [
      "Checkpoint saved at epoch 800\n"
     ]
    },
    {
     "name": "stderr",
     "output_type": "stream",
     "text": [
      "Epoch 801/1000: 100%|████████████████████████████████████████████████████████████████████████████████████████████████████████████| 88/88 [00:33<00:00,  2.65it/s, D Loss=0.9197, G Loss=1.9125, Rec Loss=0.0625]\n"
     ]
    },
    {
     "name": "stdout",
     "output_type": "stream",
     "text": [
      "Checkpoint saved at epoch 801\n"
     ]
    },
    {
     "name": "stderr",
     "output_type": "stream",
     "text": [
      "Epoch 802/1000: 100%|████████████████████████████████████████████████████████████████████████████████████████████████████████████| 88/88 [00:32<00:00,  2.68it/s, D Loss=0.9188, G Loss=3.9664, Rec Loss=0.0599]\n"
     ]
    },
    {
     "name": "stdout",
     "output_type": "stream",
     "text": [
      "Checkpoint saved at epoch 802\n"
     ]
    },
    {
     "name": "stderr",
     "output_type": "stream",
     "text": [
      "Epoch 803/1000: 100%|████████████████████████████████████████████████████████████████████████████████████████████████████████████| 88/88 [00:30<00:00,  2.88it/s, D Loss=0.9034, G Loss=2.3775, Rec Loss=0.0614]\n"
     ]
    },
    {
     "name": "stdout",
     "output_type": "stream",
     "text": [
      "Checkpoint saved at epoch 803\n"
     ]
    },
    {
     "name": "stderr",
     "output_type": "stream",
     "text": [
      "Epoch 804/1000: 100%|████████████████████████████████████████████████████████████████████████████████████████████████████████████| 88/88 [00:31<00:00,  2.82it/s, D Loss=0.8882, G Loss=3.3115, Rec Loss=0.0770]\n"
     ]
    },
    {
     "name": "stdout",
     "output_type": "stream",
     "text": [
      "Checkpoint saved at epoch 804\n"
     ]
    },
    {
     "name": "stderr",
     "output_type": "stream",
     "text": [
      "Epoch 805/1000: 100%|████████████████████████████████████████████████████████████████████████████████████████████████████████████| 88/88 [00:31<00:00,  2.81it/s, D Loss=0.9033, G Loss=3.0151, Rec Loss=0.0626]\n"
     ]
    },
    {
     "name": "stdout",
     "output_type": "stream",
     "text": [
      "Checkpoint saved at epoch 805\n"
     ]
    },
    {
     "name": "stderr",
     "output_type": "stream",
     "text": [
      "Epoch 806/1000: 100%|████████████████████████████████████████████████████████████████████████████████████████████████████████████| 88/88 [00:31<00:00,  2.78it/s, D Loss=1.1547, G Loss=2.8575, Rec Loss=0.0569]\n"
     ]
    },
    {
     "name": "stdout",
     "output_type": "stream",
     "text": [
      "Checkpoint saved at epoch 806\n"
     ]
    },
    {
     "name": "stderr",
     "output_type": "stream",
     "text": [
      "Epoch 807/1000: 100%|████████████████████████████████████████████████████████████████████████████████████████████████████████████| 88/88 [00:30<00:00,  2.86it/s, D Loss=0.9174, G Loss=3.4542, Rec Loss=0.0530]\n"
     ]
    },
    {
     "name": "stdout",
     "output_type": "stream",
     "text": [
      "Checkpoint saved at epoch 807\n"
     ]
    },
    {
     "name": "stderr",
     "output_type": "stream",
     "text": [
      "Epoch 808/1000: 100%|████████████████████████████████████████████████████████████████████████████████████████████████████████████| 88/88 [00:32<00:00,  2.70it/s, D Loss=0.9589, G Loss=2.2412, Rec Loss=0.0621]\n"
     ]
    },
    {
     "name": "stdout",
     "output_type": "stream",
     "text": [
      "Checkpoint saved at epoch 808\n"
     ]
    },
    {
     "name": "stderr",
     "output_type": "stream",
     "text": [
      "Epoch 809/1000: 100%|████████████████████████████████████████████████████████████████████████████████████████████████████████████| 88/88 [00:33<00:00,  2.60it/s, D Loss=0.9653, G Loss=2.6137, Rec Loss=0.0534]\n"
     ]
    },
    {
     "name": "stdout",
     "output_type": "stream",
     "text": [
      "Checkpoint saved at epoch 809\n"
     ]
    },
    {
     "name": "stderr",
     "output_type": "stream",
     "text": [
      "Epoch 810/1000: 100%|████████████████████████████████████████████████████████████████████████████████████████████████████████████| 88/88 [00:33<00:00,  2.61it/s, D Loss=0.6297, G Loss=3.2365, Rec Loss=0.0740]\n"
     ]
    },
    {
     "name": "stdout",
     "output_type": "stream",
     "text": [
      "Additional checkpoint saved at checkpoints/DisasterGAN_epoch810.pth\n",
      "Checkpoint saved at epoch 810\n"
     ]
    },
    {
     "name": "stderr",
     "output_type": "stream",
     "text": [
      "Epoch 811/1000: 100%|████████████████████████████████████████████████████████████████████████████████████████████████████████████| 88/88 [00:31<00:00,  2.75it/s, D Loss=0.6121, G Loss=3.9658, Rec Loss=0.0693]\n"
     ]
    },
    {
     "name": "stdout",
     "output_type": "stream",
     "text": [
      "Checkpoint saved at epoch 811\n"
     ]
    },
    {
     "name": "stderr",
     "output_type": "stream",
     "text": [
      "Epoch 812/1000: 100%|████████████████████████████████████████████████████████████████████████████████████████████████████████████| 88/88 [00:31<00:00,  2.79it/s, D Loss=0.8474, G Loss=3.0242, Rec Loss=0.0580]\n"
     ]
    },
    {
     "name": "stdout",
     "output_type": "stream",
     "text": [
      "Checkpoint saved at epoch 812\n"
     ]
    },
    {
     "name": "stderr",
     "output_type": "stream",
     "text": [
      "Epoch 813/1000: 100%|████████████████████████████████████████████████████████████████████████████████████████████████████████████| 88/88 [00:31<00:00,  2.82it/s, D Loss=0.5505, G Loss=3.3488, Rec Loss=0.0693]\n"
     ]
    },
    {
     "name": "stdout",
     "output_type": "stream",
     "text": [
      "Checkpoint saved at epoch 813\n"
     ]
    },
    {
     "name": "stderr",
     "output_type": "stream",
     "text": [
      "Epoch 814/1000: 100%|████████████████████████████████████████████████████████████████████████████████████████████████████████████| 88/88 [00:30<00:00,  2.88it/s, D Loss=0.8158, G Loss=2.8596, Rec Loss=0.0594]\n"
     ]
    },
    {
     "name": "stdout",
     "output_type": "stream",
     "text": [
      "Checkpoint saved at epoch 814\n"
     ]
    },
    {
     "name": "stderr",
     "output_type": "stream",
     "text": [
      "Epoch 815/1000: 100%|████████████████████████████████████████████████████████████████████████████████████████████████████████████| 88/88 [00:31<00:00,  2.82it/s, D Loss=0.6370, G Loss=3.6224, Rec Loss=0.0557]\n"
     ]
    },
    {
     "name": "stdout",
     "output_type": "stream",
     "text": [
      "Checkpoint saved at epoch 815\n"
     ]
    },
    {
     "name": "stderr",
     "output_type": "stream",
     "text": [
      "Epoch 816/1000: 100%|████████████████████████████████████████████████████████████████████████████████████████████████████████████| 88/88 [00:30<00:00,  2.87it/s, D Loss=0.7806, G Loss=3.3656, Rec Loss=0.0901]\n"
     ]
    },
    {
     "name": "stdout",
     "output_type": "stream",
     "text": [
      "Checkpoint saved at epoch 816\n"
     ]
    },
    {
     "name": "stderr",
     "output_type": "stream",
     "text": [
      "Epoch 817/1000: 100%|████████████████████████████████████████████████████████████████████████████████████████████████████████████| 88/88 [00:31<00:00,  2.82it/s, D Loss=0.9072, G Loss=2.7967, Rec Loss=0.0596]\n"
     ]
    },
    {
     "name": "stdout",
     "output_type": "stream",
     "text": [
      "Checkpoint saved at epoch 817\n"
     ]
    },
    {
     "name": "stderr",
     "output_type": "stream",
     "text": [
      "Epoch 818/1000: 100%|████████████████████████████████████████████████████████████████████████████████████████████████████████████| 88/88 [00:31<00:00,  2.79it/s, D Loss=0.8841, G Loss=3.5584, Rec Loss=0.0676]\n"
     ]
    },
    {
     "name": "stdout",
     "output_type": "stream",
     "text": [
      "Checkpoint saved at epoch 818\n"
     ]
    },
    {
     "name": "stderr",
     "output_type": "stream",
     "text": [
      "Epoch 819/1000: 100%|████████████████████████████████████████████████████████████████████████████████████████████████████████████| 88/88 [00:31<00:00,  2.79it/s, D Loss=0.8768, G Loss=3.1897, Rec Loss=0.0607]\n"
     ]
    },
    {
     "name": "stdout",
     "output_type": "stream",
     "text": [
      "Checkpoint saved at epoch 819\n"
     ]
    },
    {
     "name": "stderr",
     "output_type": "stream",
     "text": [
      "Epoch 820/1000: 100%|████████████████████████████████████████████████████████████████████████████████████████████████████████████| 88/88 [00:31<00:00,  2.76it/s, D Loss=0.7736, G Loss=2.3671, Rec Loss=0.0560]\n"
     ]
    },
    {
     "name": "stdout",
     "output_type": "stream",
     "text": [
      "Checkpoint saved at epoch 820\n"
     ]
    },
    {
     "name": "stderr",
     "output_type": "stream",
     "text": [
      "Epoch 821/1000: 100%|████████████████████████████████████████████████████████████████████████████████████████████████████████████| 88/88 [00:30<00:00,  2.85it/s, D Loss=0.9273, G Loss=2.5432, Rec Loss=0.0525]\n"
     ]
    },
    {
     "name": "stdout",
     "output_type": "stream",
     "text": [
      "Checkpoint saved at epoch 821\n"
     ]
    },
    {
     "name": "stderr",
     "output_type": "stream",
     "text": [
      "Epoch 822/1000: 100%|████████████████████████████████████████████████████████████████████████████████████████████████████████████| 88/88 [00:31<00:00,  2.84it/s, D Loss=0.6719, G Loss=3.0263, Rec Loss=0.0619]\n"
     ]
    },
    {
     "name": "stdout",
     "output_type": "stream",
     "text": [
      "Checkpoint saved at epoch 822\n"
     ]
    },
    {
     "name": "stderr",
     "output_type": "stream",
     "text": [
      "Epoch 823/1000: 100%|████████████████████████████████████████████████████████████████████████████████████████████████████████████| 88/88 [00:35<00:00,  2.46it/s, D Loss=0.7461, G Loss=3.1384, Rec Loss=0.0723]\n"
     ]
    },
    {
     "name": "stdout",
     "output_type": "stream",
     "text": [
      "Checkpoint saved at epoch 823\n"
     ]
    },
    {
     "name": "stderr",
     "output_type": "stream",
     "text": [
      "Epoch 824/1000: 100%|████████████████████████████████████████████████████████████████████████████████████████████████████████████| 88/88 [00:32<00:00,  2.75it/s, D Loss=0.6858, G Loss=2.6102, Rec Loss=0.0584]\n"
     ]
    },
    {
     "name": "stdout",
     "output_type": "stream",
     "text": [
      "Checkpoint saved at epoch 824\n"
     ]
    },
    {
     "name": "stderr",
     "output_type": "stream",
     "text": [
      "Epoch 825/1000: 100%|████████████████████████████████████████████████████████████████████████████████████████████████████████████| 88/88 [00:30<00:00,  2.91it/s, D Loss=0.6946, G Loss=2.6650, Rec Loss=0.0620]\n"
     ]
    },
    {
     "name": "stdout",
     "output_type": "stream",
     "text": [
      "Additional checkpoint saved at checkpoints/DisasterGAN_epoch825.pth\n",
      "Checkpoint saved at epoch 825\n"
     ]
    },
    {
     "name": "stderr",
     "output_type": "stream",
     "text": [
      "Epoch 826/1000: 100%|████████████████████████████████████████████████████████████████████████████████████████████████████████████| 88/88 [00:32<00:00,  2.71it/s, D Loss=0.9221, G Loss=2.8153, Rec Loss=0.0600]\n"
     ]
    },
    {
     "name": "stdout",
     "output_type": "stream",
     "text": [
      "Checkpoint saved at epoch 826\n"
     ]
    },
    {
     "name": "stderr",
     "output_type": "stream",
     "text": [
      "Epoch 827/1000: 100%|████████████████████████████████████████████████████████████████████████████████████████████████████████████| 88/88 [00:30<00:00,  2.88it/s, D Loss=0.6197, G Loss=3.1913, Rec Loss=0.0594]\n"
     ]
    },
    {
     "name": "stdout",
     "output_type": "stream",
     "text": [
      "Checkpoint saved at epoch 827\n"
     ]
    },
    {
     "name": "stderr",
     "output_type": "stream",
     "text": [
      "Epoch 828/1000: 100%|████████████████████████████████████████████████████████████████████████████████████████████████████████████| 88/88 [00:33<00:00,  2.65it/s, D Loss=0.7944, G Loss=2.3244, Rec Loss=0.0482]\n"
     ]
    },
    {
     "name": "stdout",
     "output_type": "stream",
     "text": [
      "Checkpoint saved at epoch 828\n"
     ]
    },
    {
     "name": "stderr",
     "output_type": "stream",
     "text": [
      "Epoch 829/1000: 100%|████████████████████████████████████████████████████████████████████████████████████████████████████████████| 88/88 [00:30<00:00,  2.85it/s, D Loss=1.0831, G Loss=4.8841, Rec Loss=0.0655]\n"
     ]
    },
    {
     "name": "stdout",
     "output_type": "stream",
     "text": [
      "Checkpoint saved at epoch 829\n"
     ]
    },
    {
     "name": "stderr",
     "output_type": "stream",
     "text": [
      "Epoch 830/1000: 100%|████████████████████████████████████████████████████████████████████████████████████████████████████████████| 88/88 [00:30<00:00,  2.91it/s, D Loss=0.8321, G Loss=3.1983, Rec Loss=0.0633]\n"
     ]
    },
    {
     "name": "stdout",
     "output_type": "stream",
     "text": [
      "Checkpoint saved at epoch 830\n"
     ]
    },
    {
     "name": "stderr",
     "output_type": "stream",
     "text": [
      "Epoch 831/1000: 100%|████████████████████████████████████████████████████████████████████████████████████████████████████████████| 88/88 [00:30<00:00,  2.90it/s, D Loss=0.9622, G Loss=2.8920, Rec Loss=0.0534]\n"
     ]
    },
    {
     "name": "stdout",
     "output_type": "stream",
     "text": [
      "Checkpoint saved at epoch 831\n"
     ]
    },
    {
     "name": "stderr",
     "output_type": "stream",
     "text": [
      "Epoch 832/1000: 100%|████████████████████████████████████████████████████████████████████████████████████████████████████████████| 88/88 [00:30<00:00,  2.87it/s, D Loss=0.8022, G Loss=3.3742, Rec Loss=0.0621]\n"
     ]
    },
    {
     "name": "stdout",
     "output_type": "stream",
     "text": [
      "Checkpoint saved at epoch 832\n"
     ]
    },
    {
     "name": "stderr",
     "output_type": "stream",
     "text": [
      "Epoch 833/1000: 100%|████████████████████████████████████████████████████████████████████████████████████████████████████████████| 88/88 [00:31<00:00,  2.79it/s, D Loss=0.6045, G Loss=3.2511, Rec Loss=0.0664]\n"
     ]
    },
    {
     "name": "stdout",
     "output_type": "stream",
     "text": [
      "Checkpoint saved at epoch 833\n"
     ]
    },
    {
     "name": "stderr",
     "output_type": "stream",
     "text": [
      "Epoch 834/1000: 100%|████████████████████████████████████████████████████████████████████████████████████████████████████████████| 88/88 [00:29<00:00,  2.95it/s, D Loss=0.4661, G Loss=4.3517, Rec Loss=0.0794]\n"
     ]
    },
    {
     "name": "stdout",
     "output_type": "stream",
     "text": [
      "Checkpoint saved at epoch 834\n"
     ]
    },
    {
     "name": "stderr",
     "output_type": "stream",
     "text": [
      "Epoch 835/1000: 100%|████████████████████████████████████████████████████████████████████████████████████████████████████████████| 88/88 [00:32<00:00,  2.70it/s, D Loss=0.6902, G Loss=3.4587, Rec Loss=0.0670]\n"
     ]
    },
    {
     "name": "stdout",
     "output_type": "stream",
     "text": [
      "Checkpoint saved at epoch 835\n"
     ]
    },
    {
     "name": "stderr",
     "output_type": "stream",
     "text": [
      "Epoch 836/1000: 100%|████████████████████████████████████████████████████████████████████████████████████████████████████████████| 88/88 [00:30<00:00,  2.87it/s, D Loss=0.8484, G Loss=3.4339, Rec Loss=0.0579]\n"
     ]
    },
    {
     "name": "stdout",
     "output_type": "stream",
     "text": [
      "Checkpoint saved at epoch 836\n"
     ]
    },
    {
     "name": "stderr",
     "output_type": "stream",
     "text": [
      "Epoch 837/1000: 100%|████████████████████████████████████████████████████████████████████████████████████████████████████████████| 88/88 [00:32<00:00,  2.72it/s, D Loss=0.7563, G Loss=2.8105, Rec Loss=0.0646]\n"
     ]
    },
    {
     "name": "stdout",
     "output_type": "stream",
     "text": [
      "Checkpoint saved at epoch 837\n"
     ]
    },
    {
     "name": "stderr",
     "output_type": "stream",
     "text": [
      "Epoch 838/1000: 100%|████████████████████████████████████████████████████████████████████████████████████████████████████████████| 88/88 [00:30<00:00,  2.88it/s, D Loss=0.8445, G Loss=3.2928, Rec Loss=0.0629]\n"
     ]
    },
    {
     "name": "stdout",
     "output_type": "stream",
     "text": [
      "Checkpoint saved at epoch 838\n"
     ]
    },
    {
     "name": "stderr",
     "output_type": "stream",
     "text": [
      "Epoch 839/1000: 100%|████████████████████████████████████████████████████████████████████████████████████████████████████████████| 88/88 [00:31<00:00,  2.80it/s, D Loss=0.8036, G Loss=3.5071, Rec Loss=0.0549]\n"
     ]
    },
    {
     "name": "stdout",
     "output_type": "stream",
     "text": [
      "Checkpoint saved at epoch 839\n"
     ]
    },
    {
     "name": "stderr",
     "output_type": "stream",
     "text": [
      "Epoch 840/1000: 100%|████████████████████████████████████████████████████████████████████████████████████████████████████████████| 88/88 [00:31<00:00,  2.80it/s, D Loss=1.3950, G Loss=1.3334, Rec Loss=0.0629]\n"
     ]
    },
    {
     "name": "stdout",
     "output_type": "stream",
     "text": [
      "Additional checkpoint saved at checkpoints/DisasterGAN_epoch840.pth\n",
      "Checkpoint saved at epoch 840\n"
     ]
    },
    {
     "name": "stderr",
     "output_type": "stream",
     "text": [
      "Epoch 841/1000: 100%|████████████████████████████████████████████████████████████████████████████████████████████████████████████| 88/88 [00:31<00:00,  2.80it/s, D Loss=0.8543, G Loss=2.7253, Rec Loss=0.0530]\n"
     ]
    },
    {
     "name": "stdout",
     "output_type": "stream",
     "text": [
      "Checkpoint saved at epoch 841\n"
     ]
    },
    {
     "name": "stderr",
     "output_type": "stream",
     "text": [
      "Epoch 842/1000: 100%|████████████████████████████████████████████████████████████████████████████████████████████████████████████| 88/88 [00:33<00:00,  2.65it/s, D Loss=0.8648, G Loss=2.3600, Rec Loss=0.0606]\n"
     ]
    },
    {
     "name": "stdout",
     "output_type": "stream",
     "text": [
      "Checkpoint saved at epoch 842\n"
     ]
    },
    {
     "name": "stderr",
     "output_type": "stream",
     "text": [
      "Epoch 843/1000: 100%|████████████████████████████████████████████████████████████████████████████████████████████████████████████| 88/88 [00:30<00:00,  2.89it/s, D Loss=0.8294, G Loss=2.5494, Rec Loss=0.0572]\n"
     ]
    },
    {
     "name": "stdout",
     "output_type": "stream",
     "text": [
      "Checkpoint saved at epoch 843\n"
     ]
    },
    {
     "name": "stderr",
     "output_type": "stream",
     "text": [
      "Epoch 844/1000: 100%|████████████████████████████████████████████████████████████████████████████████████████████████████████████| 88/88 [00:32<00:00,  2.70it/s, D Loss=1.0763, G Loss=2.2957, Rec Loss=0.0558]\n"
     ]
    },
    {
     "name": "stdout",
     "output_type": "stream",
     "text": [
      "Checkpoint saved at epoch 844\n"
     ]
    },
    {
     "name": "stderr",
     "output_type": "stream",
     "text": [
      "Epoch 845/1000: 100%|████████████████████████████████████████████████████████████████████████████████████████████████████████████| 88/88 [00:31<00:00,  2.78it/s, D Loss=0.8828, G Loss=2.9359, Rec Loss=0.0608]\n"
     ]
    },
    {
     "name": "stdout",
     "output_type": "stream",
     "text": [
      "Checkpoint saved at epoch 845\n"
     ]
    },
    {
     "name": "stderr",
     "output_type": "stream",
     "text": [
      "Epoch 846/1000: 100%|████████████████████████████████████████████████████████████████████████████████████████████████████████████| 88/88 [00:30<00:00,  2.93it/s, D Loss=0.8154, G Loss=2.9745, Rec Loss=0.0690]\n"
     ]
    },
    {
     "name": "stdout",
     "output_type": "stream",
     "text": [
      "Checkpoint saved at epoch 846\n"
     ]
    },
    {
     "name": "stderr",
     "output_type": "stream",
     "text": [
      "Epoch 847/1000: 100%|████████████████████████████████████████████████████████████████████████████████████████████████████████████| 88/88 [00:31<00:00,  2.81it/s, D Loss=0.9278, G Loss=3.3954, Rec Loss=0.0646]\n"
     ]
    },
    {
     "name": "stdout",
     "output_type": "stream",
     "text": [
      "Checkpoint saved at epoch 847\n"
     ]
    },
    {
     "name": "stderr",
     "output_type": "stream",
     "text": [
      "Epoch 848/1000: 100%|████████████████████████████████████████████████████████████████████████████████████████████████████████████| 88/88 [00:31<00:00,  2.83it/s, D Loss=0.5327, G Loss=4.9000, Rec Loss=0.0727]\n"
     ]
    },
    {
     "name": "stdout",
     "output_type": "stream",
     "text": [
      "Checkpoint saved at epoch 848\n"
     ]
    },
    {
     "name": "stderr",
     "output_type": "stream",
     "text": [
      "Epoch 849/1000: 100%|████████████████████████████████████████████████████████████████████████████████████████████████████████████| 88/88 [00:30<00:00,  2.88it/s, D Loss=0.8981, G Loss=2.8541, Rec Loss=0.0657]\n"
     ]
    },
    {
     "name": "stdout",
     "output_type": "stream",
     "text": [
      "Checkpoint saved at epoch 849\n"
     ]
    },
    {
     "name": "stderr",
     "output_type": "stream",
     "text": [
      "Epoch 850/1000: 100%|████████████████████████████████████████████████████████████████████████████████████████████████████████████| 88/88 [00:32<00:00,  2.74it/s, D Loss=0.8656, G Loss=3.4873, Rec Loss=0.0562]\n"
     ]
    },
    {
     "name": "stdout",
     "output_type": "stream",
     "text": [
      "Checkpoint saved at epoch 850\n"
     ]
    },
    {
     "name": "stderr",
     "output_type": "stream",
     "text": [
      "Epoch 851/1000: 100%|████████████████████████████████████████████████████████████████████████████████████████████████████████████| 88/88 [00:32<00:00,  2.71it/s, D Loss=1.0084, G Loss=3.0165, Rec Loss=0.0680]\n"
     ]
    },
    {
     "name": "stdout",
     "output_type": "stream",
     "text": [
      "Checkpoint saved at epoch 851\n"
     ]
    },
    {
     "name": "stderr",
     "output_type": "stream",
     "text": [
      "Epoch 852/1000: 100%|████████████████████████████████████████████████████████████████████████████████████████████████████████████| 88/88 [00:30<00:00,  2.92it/s, D Loss=0.8875, G Loss=2.8054, Rec Loss=0.0481]\n"
     ]
    },
    {
     "name": "stdout",
     "output_type": "stream",
     "text": [
      "Checkpoint saved at epoch 852\n"
     ]
    },
    {
     "name": "stderr",
     "output_type": "stream",
     "text": [
      "Epoch 853/1000: 100%|████████████████████████████████████████████████████████████████████████████████████████████████████████████| 88/88 [00:31<00:00,  2.81it/s, D Loss=0.8052, G Loss=2.4218, Rec Loss=0.0606]\n"
     ]
    },
    {
     "name": "stdout",
     "output_type": "stream",
     "text": [
      "Checkpoint saved at epoch 853\n"
     ]
    },
    {
     "name": "stderr",
     "output_type": "stream",
     "text": [
      "Epoch 854/1000: 100%|████████████████████████████████████████████████████████████████████████████████████████████████████████████| 88/88 [00:31<00:00,  2.78it/s, D Loss=0.8547, G Loss=2.5080, Rec Loss=0.0551]\n"
     ]
    },
    {
     "name": "stdout",
     "output_type": "stream",
     "text": [
      "Checkpoint saved at epoch 854\n"
     ]
    },
    {
     "name": "stderr",
     "output_type": "stream",
     "text": [
      "Epoch 855/1000: 100%|████████████████████████████████████████████████████████████████████████████████████████████████████████████| 88/88 [00:30<00:00,  2.85it/s, D Loss=0.9676, G Loss=2.1576, Rec Loss=0.0581]\n"
     ]
    },
    {
     "name": "stdout",
     "output_type": "stream",
     "text": [
      "Additional checkpoint saved at checkpoints/DisasterGAN_epoch855.pth\n",
      "Checkpoint saved at epoch 855\n"
     ]
    },
    {
     "name": "stderr",
     "output_type": "stream",
     "text": [
      "Epoch 856/1000: 100%|████████████████████████████████████████████████████████████████████████████████████████████████████████████| 88/88 [00:30<00:00,  2.91it/s, D Loss=1.0585, G Loss=2.7404, Rec Loss=0.0680]\n"
     ]
    },
    {
     "name": "stdout",
     "output_type": "stream",
     "text": [
      "Checkpoint saved at epoch 856\n"
     ]
    },
    {
     "name": "stderr",
     "output_type": "stream",
     "text": [
      "Epoch 857/1000: 100%|████████████████████████████████████████████████████████████████████████████████████████████████████████████| 88/88 [00:31<00:00,  2.83it/s, D Loss=0.8571, G Loss=3.3717, Rec Loss=0.0572]\n"
     ]
    },
    {
     "name": "stdout",
     "output_type": "stream",
     "text": [
      "Checkpoint saved at epoch 857\n"
     ]
    },
    {
     "name": "stderr",
     "output_type": "stream",
     "text": [
      "Epoch 858/1000: 100%|████████████████████████████████████████████████████████████████████████████████████████████████████████████| 88/88 [00:30<00:00,  2.86it/s, D Loss=0.7766, G Loss=3.2475, Rec Loss=0.0586]\n"
     ]
    },
    {
     "name": "stdout",
     "output_type": "stream",
     "text": [
      "Checkpoint saved at epoch 858\n"
     ]
    },
    {
     "name": "stderr",
     "output_type": "stream",
     "text": [
      "Epoch 859/1000: 100%|████████████████████████████████████████████████████████████████████████████████████████████████████████████| 88/88 [00:31<00:00,  2.82it/s, D Loss=0.8831, G Loss=3.1058, Rec Loss=0.0651]\n"
     ]
    },
    {
     "name": "stdout",
     "output_type": "stream",
     "text": [
      "Checkpoint saved at epoch 859\n"
     ]
    },
    {
     "name": "stderr",
     "output_type": "stream",
     "text": [
      "Epoch 860/1000: 100%|████████████████████████████████████████████████████████████████████████████████████████████████████████████| 88/88 [00:30<00:00,  2.88it/s, D Loss=0.9564, G Loss=2.4745, Rec Loss=0.0597]\n"
     ]
    },
    {
     "name": "stdout",
     "output_type": "stream",
     "text": [
      "Checkpoint saved at epoch 860\n"
     ]
    },
    {
     "name": "stderr",
     "output_type": "stream",
     "text": [
      "Epoch 861/1000: 100%|████████████████████████████████████████████████████████████████████████████████████████████████████████████| 88/88 [00:32<00:00,  2.74it/s, D Loss=1.1253, G Loss=2.1571, Rec Loss=0.0531]\n"
     ]
    },
    {
     "name": "stdout",
     "output_type": "stream",
     "text": [
      "Checkpoint saved at epoch 861\n"
     ]
    },
    {
     "name": "stderr",
     "output_type": "stream",
     "text": [
      "Epoch 862/1000: 100%|████████████████████████████████████████████████████████████████████████████████████████████████████████████| 88/88 [00:32<00:00,  2.72it/s, D Loss=0.7625, G Loss=2.4292, Rec Loss=0.0620]\n"
     ]
    },
    {
     "name": "stdout",
     "output_type": "stream",
     "text": [
      "Checkpoint saved at epoch 862\n"
     ]
    },
    {
     "name": "stderr",
     "output_type": "stream",
     "text": [
      "Epoch 863/1000: 100%|████████████████████████████████████████████████████████████████████████████████████████████████████████████| 88/88 [00:32<00:00,  2.73it/s, D Loss=0.8765, G Loss=3.2426, Rec Loss=0.0662]\n"
     ]
    },
    {
     "name": "stdout",
     "output_type": "stream",
     "text": [
      "Checkpoint saved at epoch 863\n"
     ]
    },
    {
     "name": "stderr",
     "output_type": "stream",
     "text": [
      "Epoch 864/1000: 100%|████████████████████████████████████████████████████████████████████████████████████████████████████████████| 88/88 [00:30<00:00,  2.90it/s, D Loss=1.0725, G Loss=2.7385, Rec Loss=0.0661]\n"
     ]
    },
    {
     "name": "stdout",
     "output_type": "stream",
     "text": [
      "Checkpoint saved at epoch 864\n"
     ]
    },
    {
     "name": "stderr",
     "output_type": "stream",
     "text": [
      "Epoch 865/1000: 100%|████████████████████████████████████████████████████████████████████████████████████████████████████████████| 88/88 [00:30<00:00,  2.89it/s, D Loss=0.8125, G Loss=3.3262, Rec Loss=0.0735]\n"
     ]
    },
    {
     "name": "stdout",
     "output_type": "stream",
     "text": [
      "Checkpoint saved at epoch 865\n"
     ]
    },
    {
     "name": "stderr",
     "output_type": "stream",
     "text": [
      "Epoch 866/1000: 100%|████████████████████████████████████████████████████████████████████████████████████████████████████████████| 88/88 [00:33<00:00,  2.65it/s, D Loss=1.0530, G Loss=3.4275, Rec Loss=0.0602]\n"
     ]
    },
    {
     "name": "stdout",
     "output_type": "stream",
     "text": [
      "Checkpoint saved at epoch 866\n"
     ]
    },
    {
     "name": "stderr",
     "output_type": "stream",
     "text": [
      "Epoch 867/1000: 100%|████████████████████████████████████████████████████████████████████████████████████████████████████████████| 88/88 [00:31<00:00,  2.78it/s, D Loss=0.8884, G Loss=2.6385, Rec Loss=0.0644]\n"
     ]
    },
    {
     "name": "stdout",
     "output_type": "stream",
     "text": [
      "Checkpoint saved at epoch 867\n"
     ]
    },
    {
     "name": "stderr",
     "output_type": "stream",
     "text": [
      "Epoch 868/1000: 100%|████████████████████████████████████████████████████████████████████████████████████████████████████████████| 88/88 [00:31<00:00,  2.78it/s, D Loss=0.5132, G Loss=3.6730, Rec Loss=0.0682]\n"
     ]
    },
    {
     "name": "stdout",
     "output_type": "stream",
     "text": [
      "Checkpoint saved at epoch 868\n"
     ]
    },
    {
     "name": "stderr",
     "output_type": "stream",
     "text": [
      "Epoch 869/1000: 100%|████████████████████████████████████████████████████████████████████████████████████████████████████████████| 88/88 [00:31<00:00,  2.80it/s, D Loss=1.0697, G Loss=2.7766, Rec Loss=0.0553]\n"
     ]
    },
    {
     "name": "stdout",
     "output_type": "stream",
     "text": [
      "Checkpoint saved at epoch 869\n"
     ]
    },
    {
     "name": "stderr",
     "output_type": "stream",
     "text": [
      "Epoch 870/1000: 100%|████████████████████████████████████████████████████████████████████████████████████████████████████████████| 88/88 [00:31<00:00,  2.81it/s, D Loss=0.8530, G Loss=3.1726, Rec Loss=0.0609]\n"
     ]
    },
    {
     "name": "stdout",
     "output_type": "stream",
     "text": [
      "Additional checkpoint saved at checkpoints/DisasterGAN_epoch870.pth\n",
      "Checkpoint saved at epoch 870\n"
     ]
    },
    {
     "name": "stderr",
     "output_type": "stream",
     "text": [
      "Epoch 871/1000: 100%|████████████████████████████████████████████████████████████████████████████████████████████████████████████| 88/88 [00:31<00:00,  2.80it/s, D Loss=0.8602, G Loss=2.3977, Rec Loss=0.0579]\n"
     ]
    },
    {
     "name": "stdout",
     "output_type": "stream",
     "text": [
      "Checkpoint saved at epoch 871\n"
     ]
    },
    {
     "name": "stderr",
     "output_type": "stream",
     "text": [
      "Epoch 872/1000: 100%|████████████████████████████████████████████████████████████████████████████████████████████████████████████| 88/88 [00:32<00:00,  2.73it/s, D Loss=0.9252, G Loss=2.9992, Rec Loss=0.0608]\n"
     ]
    },
    {
     "name": "stdout",
     "output_type": "stream",
     "text": [
      "Checkpoint saved at epoch 872\n"
     ]
    },
    {
     "name": "stderr",
     "output_type": "stream",
     "text": [
      "Epoch 873/1000: 100%|████████████████████████████████████████████████████████████████████████████████████████████████████████████| 88/88 [00:33<00:00,  2.62it/s, D Loss=1.0212, G Loss=2.8233, Rec Loss=0.0556]\n"
     ]
    },
    {
     "name": "stdout",
     "output_type": "stream",
     "text": [
      "Checkpoint saved at epoch 873\n"
     ]
    },
    {
     "name": "stderr",
     "output_type": "stream",
     "text": [
      "Epoch 874/1000: 100%|████████████████████████████████████████████████████████████████████████████████████████████████████████████| 88/88 [00:33<00:00,  2.61it/s, D Loss=0.8590, G Loss=2.7756, Rec Loss=0.0653]\n"
     ]
    },
    {
     "name": "stdout",
     "output_type": "stream",
     "text": [
      "Checkpoint saved at epoch 874\n"
     ]
    },
    {
     "name": "stderr",
     "output_type": "stream",
     "text": [
      "Epoch 875/1000: 100%|████████████████████████████████████████████████████████████████████████████████████████████████████████████| 88/88 [00:31<00:00,  2.77it/s, D Loss=0.7680, G Loss=2.8809, Rec Loss=0.0631]\n"
     ]
    },
    {
     "name": "stdout",
     "output_type": "stream",
     "text": [
      "Checkpoint saved at epoch 875\n"
     ]
    },
    {
     "name": "stderr",
     "output_type": "stream",
     "text": [
      "Epoch 876/1000: 100%|████████████████████████████████████████████████████████████████████████████████████████████████████████████| 88/88 [00:32<00:00,  2.70it/s, D Loss=0.8668, G Loss=2.9998, Rec Loss=0.0659]\n"
     ]
    },
    {
     "name": "stdout",
     "output_type": "stream",
     "text": [
      "Checkpoint saved at epoch 876\n"
     ]
    },
    {
     "name": "stderr",
     "output_type": "stream",
     "text": [
      "Epoch 877/1000: 100%|████████████████████████████████████████████████████████████████████████████████████████████████████████████| 88/88 [00:32<00:00,  2.72it/s, D Loss=0.8946, G Loss=2.9000, Rec Loss=0.0566]\n"
     ]
    },
    {
     "name": "stdout",
     "output_type": "stream",
     "text": [
      "Checkpoint saved at epoch 877\n"
     ]
    },
    {
     "name": "stderr",
     "output_type": "stream",
     "text": [
      "Epoch 878/1000: 100%|████████████████████████████████████████████████████████████████████████████████████████████████████████████| 88/88 [00:31<00:00,  2.78it/s, D Loss=0.8902, G Loss=2.1210, Rec Loss=0.0697]\n"
     ]
    },
    {
     "name": "stdout",
     "output_type": "stream",
     "text": [
      "Checkpoint saved at epoch 878\n"
     ]
    },
    {
     "name": "stderr",
     "output_type": "stream",
     "text": [
      "Epoch 879/1000: 100%|████████████████████████████████████████████████████████████████████████████████████████████████████████████| 88/88 [00:31<00:00,  2.80it/s, D Loss=0.8716, G Loss=2.4936, Rec Loss=0.0539]\n"
     ]
    },
    {
     "name": "stdout",
     "output_type": "stream",
     "text": [
      "Checkpoint saved at epoch 879\n"
     ]
    },
    {
     "name": "stderr",
     "output_type": "stream",
     "text": [
      "Epoch 880/1000: 100%|████████████████████████████████████████████████████████████████████████████████████████████████████████████| 88/88 [00:31<00:00,  2.80it/s, D Loss=0.9108, G Loss=2.7266, Rec Loss=0.0626]\n"
     ]
    },
    {
     "name": "stdout",
     "output_type": "stream",
     "text": [
      "Checkpoint saved at epoch 880\n"
     ]
    },
    {
     "name": "stderr",
     "output_type": "stream",
     "text": [
      "Epoch 881/1000: 100%|████████████████████████████████████████████████████████████████████████████████████████████████████████████| 88/88 [00:31<00:00,  2.82it/s, D Loss=0.7268, G Loss=3.1252, Rec Loss=0.0626]\n"
     ]
    },
    {
     "name": "stdout",
     "output_type": "stream",
     "text": [
      "Checkpoint saved at epoch 881\n"
     ]
    },
    {
     "name": "stderr",
     "output_type": "stream",
     "text": [
      "Epoch 882/1000: 100%|████████████████████████████████████████████████████████████████████████████████████████████████████████████| 88/88 [00:33<00:00,  2.61it/s, D Loss=0.8113, G Loss=2.6309, Rec Loss=0.0574]\n"
     ]
    },
    {
     "name": "stdout",
     "output_type": "stream",
     "text": [
      "Checkpoint saved at epoch 882\n"
     ]
    },
    {
     "name": "stderr",
     "output_type": "stream",
     "text": [
      "Epoch 883/1000: 100%|████████████████████████████████████████████████████████████████████████████████████████████████████████████| 88/88 [00:31<00:00,  2.79it/s, D Loss=0.9103, G Loss=2.6707, Rec Loss=0.0675]\n"
     ]
    },
    {
     "name": "stdout",
     "output_type": "stream",
     "text": [
      "Checkpoint saved at epoch 883\n"
     ]
    },
    {
     "name": "stderr",
     "output_type": "stream",
     "text": [
      "Epoch 884/1000: 100%|████████████████████████████████████████████████████████████████████████████████████████████████████████████| 88/88 [00:31<00:00,  2.84it/s, D Loss=1.0048, G Loss=2.6415, Rec Loss=0.0620]\n"
     ]
    },
    {
     "name": "stdout",
     "output_type": "stream",
     "text": [
      "Checkpoint saved at epoch 884\n"
     ]
    },
    {
     "name": "stderr",
     "output_type": "stream",
     "text": [
      "Epoch 885/1000: 100%|████████████████████████████████████████████████████████████████████████████████████████████████████████████| 88/88 [00:33<00:00,  2.63it/s, D Loss=1.0822, G Loss=1.6640, Rec Loss=0.0537]\n"
     ]
    },
    {
     "name": "stdout",
     "output_type": "stream",
     "text": [
      "Additional checkpoint saved at checkpoints/DisasterGAN_epoch885.pth\n",
      "Checkpoint saved at epoch 885\n"
     ]
    },
    {
     "name": "stderr",
     "output_type": "stream",
     "text": [
      "Epoch 886/1000: 100%|████████████████████████████████████████████████████████████████████████████████████████████████████████████| 88/88 [00:32<00:00,  2.74it/s, D Loss=0.4585, G Loss=3.8758, Rec Loss=0.0697]\n"
     ]
    },
    {
     "name": "stdout",
     "output_type": "stream",
     "text": [
      "Checkpoint saved at epoch 886\n"
     ]
    },
    {
     "name": "stderr",
     "output_type": "stream",
     "text": [
      "Epoch 887/1000: 100%|████████████████████████████████████████████████████████████████████████████████████████████████████████████| 88/88 [00:32<00:00,  2.72it/s, D Loss=0.7580, G Loss=3.3701, Rec Loss=0.0660]\n"
     ]
    },
    {
     "name": "stdout",
     "output_type": "stream",
     "text": [
      "Checkpoint saved at epoch 887\n"
     ]
    },
    {
     "name": "stderr",
     "output_type": "stream",
     "text": [
      "Epoch 888/1000: 100%|████████████████████████████████████████████████████████████████████████████████████████████████████████████| 88/88 [00:32<00:00,  2.67it/s, D Loss=0.7248, G Loss=3.1105, Rec Loss=0.0578]\n"
     ]
    },
    {
     "name": "stdout",
     "output_type": "stream",
     "text": [
      "Checkpoint saved at epoch 888\n"
     ]
    },
    {
     "name": "stderr",
     "output_type": "stream",
     "text": [
      "Epoch 889/1000: 100%|████████████████████████████████████████████████████████████████████████████████████████████████████████████| 88/88 [00:34<00:00,  2.58it/s, D Loss=0.8779, G Loss=2.5471, Rec Loss=0.0552]\n"
     ]
    },
    {
     "name": "stdout",
     "output_type": "stream",
     "text": [
      "Checkpoint saved at epoch 889\n"
     ]
    },
    {
     "name": "stderr",
     "output_type": "stream",
     "text": [
      "Epoch 890/1000: 100%|████████████████████████████████████████████████████████████████████████████████████████████████████████████| 88/88 [00:31<00:00,  2.82it/s, D Loss=0.9018, G Loss=2.8170, Rec Loss=0.0651]\n"
     ]
    },
    {
     "name": "stdout",
     "output_type": "stream",
     "text": [
      "Checkpoint saved at epoch 890\n"
     ]
    },
    {
     "name": "stderr",
     "output_type": "stream",
     "text": [
      "Epoch 891/1000: 100%|████████████████████████████████████████████████████████████████████████████████████████████████████████████| 88/88 [00:32<00:00,  2.68it/s, D Loss=0.8398, G Loss=2.5426, Rec Loss=0.0533]\n"
     ]
    },
    {
     "name": "stdout",
     "output_type": "stream",
     "text": [
      "Checkpoint saved at epoch 891\n"
     ]
    },
    {
     "name": "stderr",
     "output_type": "stream",
     "text": [
      "Epoch 892/1000: 100%|████████████████████████████████████████████████████████████████████████████████████████████████████████████| 88/88 [00:33<00:00,  2.61it/s, D Loss=1.0825, G Loss=3.6188, Rec Loss=0.0669]\n"
     ]
    },
    {
     "name": "stdout",
     "output_type": "stream",
     "text": [
      "Checkpoint saved at epoch 892\n"
     ]
    },
    {
     "name": "stderr",
     "output_type": "stream",
     "text": [
      "Epoch 893/1000: 100%|████████████████████████████████████████████████████████████████████████████████████████████████████████████| 88/88 [00:32<00:00,  2.68it/s, D Loss=1.1138, G Loss=2.8977, Rec Loss=0.0571]\n"
     ]
    },
    {
     "name": "stdout",
     "output_type": "stream",
     "text": [
      "Checkpoint saved at epoch 893\n"
     ]
    },
    {
     "name": "stderr",
     "output_type": "stream",
     "text": [
      "Epoch 894/1000: 100%|████████████████████████████████████████████████████████████████████████████████████████████████████████████| 88/88 [00:31<00:00,  2.76it/s, D Loss=1.1026, G Loss=2.2829, Rec Loss=0.0661]\n"
     ]
    },
    {
     "name": "stdout",
     "output_type": "stream",
     "text": [
      "Checkpoint saved at epoch 894\n"
     ]
    },
    {
     "name": "stderr",
     "output_type": "stream",
     "text": [
      "Epoch 895/1000: 100%|████████████████████████████████████████████████████████████████████████████████████████████████████████████| 88/88 [00:32<00:00,  2.73it/s, D Loss=0.6904, G Loss=2.9177, Rec Loss=0.0680]\n"
     ]
    },
    {
     "name": "stdout",
     "output_type": "stream",
     "text": [
      "Checkpoint saved at epoch 895\n"
     ]
    },
    {
     "name": "stderr",
     "output_type": "stream",
     "text": [
      "Epoch 896/1000: 100%|████████████████████████████████████████████████████████████████████████████████████████████████████████████| 88/88 [00:32<00:00,  2.74it/s, D Loss=0.6755, G Loss=3.8838, Rec Loss=0.0789]\n"
     ]
    },
    {
     "name": "stdout",
     "output_type": "stream",
     "text": [
      "Checkpoint saved at epoch 896\n"
     ]
    },
    {
     "name": "stderr",
     "output_type": "stream",
     "text": [
      "Epoch 897/1000: 100%|████████████████████████████████████████████████████████████████████████████████████████████████████████████| 88/88 [00:34<00:00,  2.58it/s, D Loss=1.0711, G Loss=4.4339, Rec Loss=0.0620]\n"
     ]
    },
    {
     "name": "stdout",
     "output_type": "stream",
     "text": [
      "Checkpoint saved at epoch 897\n"
     ]
    },
    {
     "name": "stderr",
     "output_type": "stream",
     "text": [
      "Epoch 898/1000: 100%|████████████████████████████████████████████████████████████████████████████████████████████████████████████| 88/88 [00:32<00:00,  2.73it/s, D Loss=1.1322, G Loss=2.2427, Rec Loss=0.0623]\n"
     ]
    },
    {
     "name": "stdout",
     "output_type": "stream",
     "text": [
      "Checkpoint saved at epoch 898\n"
     ]
    },
    {
     "name": "stderr",
     "output_type": "stream",
     "text": [
      "Epoch 899/1000: 100%|████████████████████████████████████████████████████████████████████████████████████████████████████████████| 88/88 [00:33<00:00,  2.64it/s, D Loss=0.6741, G Loss=2.8787, Rec Loss=0.0562]\n"
     ]
    },
    {
     "name": "stdout",
     "output_type": "stream",
     "text": [
      "Checkpoint saved at epoch 899\n"
     ]
    },
    {
     "name": "stderr",
     "output_type": "stream",
     "text": [
      "Epoch 900/1000: 100%|████████████████████████████████████████████████████████████████████████████████████████████████████████████| 88/88 [00:31<00:00,  2.81it/s, D Loss=0.9279, G Loss=2.1652, Rec Loss=0.0664]\n"
     ]
    },
    {
     "name": "stdout",
     "output_type": "stream",
     "text": [
      "Additional checkpoint saved at checkpoints/DisasterGAN_epoch900.pth\n",
      "Checkpoint saved at epoch 900\n"
     ]
    },
    {
     "name": "stderr",
     "output_type": "stream",
     "text": [
      "Epoch 901/1000: 100%|████████████████████████████████████████████████████████████████████████████████████████████████████████████| 88/88 [00:30<00:00,  2.91it/s, D Loss=0.7590, G Loss=2.7221, Rec Loss=0.0685]\n"
     ]
    },
    {
     "name": "stdout",
     "output_type": "stream",
     "text": [
      "Checkpoint saved at epoch 901\n"
     ]
    },
    {
     "name": "stderr",
     "output_type": "stream",
     "text": [
      "Epoch 902/1000: 100%|████████████████████████████████████████████████████████████████████████████████████████████████████████████| 88/88 [00:32<00:00,  2.71it/s, D Loss=1.0147, G Loss=3.0306, Rec Loss=0.0591]\n"
     ]
    },
    {
     "name": "stdout",
     "output_type": "stream",
     "text": [
      "Checkpoint saved at epoch 902\n"
     ]
    },
    {
     "name": "stderr",
     "output_type": "stream",
     "text": [
      "Epoch 903/1000: 100%|████████████████████████████████████████████████████████████████████████████████████████████████████████████| 88/88 [00:32<00:00,  2.68it/s, D Loss=0.8351, G Loss=2.5067, Rec Loss=0.0612]\n"
     ]
    },
    {
     "name": "stdout",
     "output_type": "stream",
     "text": [
      "Checkpoint saved at epoch 903\n"
     ]
    },
    {
     "name": "stderr",
     "output_type": "stream",
     "text": [
      "Epoch 904/1000: 100%|████████████████████████████████████████████████████████████████████████████████████████████████████████████| 88/88 [00:32<00:00,  2.69it/s, D Loss=0.8978, G Loss=2.5155, Rec Loss=0.0568]\n"
     ]
    },
    {
     "name": "stdout",
     "output_type": "stream",
     "text": [
      "Checkpoint saved at epoch 904\n"
     ]
    },
    {
     "name": "stderr",
     "output_type": "stream",
     "text": [
      "Epoch 905/1000: 100%|████████████████████████████████████████████████████████████████████████████████████████████████████████████| 88/88 [00:31<00:00,  2.80it/s, D Loss=0.5606, G Loss=3.4673, Rec Loss=0.0613]\n"
     ]
    },
    {
     "name": "stdout",
     "output_type": "stream",
     "text": [
      "Checkpoint saved at epoch 905\n"
     ]
    },
    {
     "name": "stderr",
     "output_type": "stream",
     "text": [
      "Epoch 906/1000: 100%|████████████████████████████████████████████████████████████████████████████████████████████████████████████| 88/88 [00:33<00:00,  2.62it/s, D Loss=1.1357, G Loss=3.0748, Rec Loss=0.0485]\n"
     ]
    },
    {
     "name": "stdout",
     "output_type": "stream",
     "text": [
      "Checkpoint saved at epoch 906\n"
     ]
    },
    {
     "name": "stderr",
     "output_type": "stream",
     "text": [
      "Epoch 907/1000: 100%|████████████████████████████████████████████████████████████████████████████████████████████████████████████| 88/88 [00:32<00:00,  2.70it/s, D Loss=0.9563, G Loss=3.1096, Rec Loss=0.0743]\n"
     ]
    },
    {
     "name": "stdout",
     "output_type": "stream",
     "text": [
      "Checkpoint saved at epoch 907\n"
     ]
    },
    {
     "name": "stderr",
     "output_type": "stream",
     "text": [
      "Epoch 908/1000: 100%|████████████████████████████████████████████████████████████████████████████████████████████████████████████| 88/88 [00:30<00:00,  2.86it/s, D Loss=1.0236, G Loss=3.6684, Rec Loss=0.0649]\n"
     ]
    },
    {
     "name": "stdout",
     "output_type": "stream",
     "text": [
      "Checkpoint saved at epoch 908\n"
     ]
    },
    {
     "name": "stderr",
     "output_type": "stream",
     "text": [
      "Epoch 909/1000: 100%|████████████████████████████████████████████████████████████████████████████████████████████████████████████| 88/88 [00:31<00:00,  2.77it/s, D Loss=0.9240, G Loss=2.4017, Rec Loss=0.0703]\n"
     ]
    },
    {
     "name": "stdout",
     "output_type": "stream",
     "text": [
      "Checkpoint saved at epoch 909\n"
     ]
    },
    {
     "name": "stderr",
     "output_type": "stream",
     "text": [
      "Epoch 910/1000: 100%|████████████████████████████████████████████████████████████████████████████████████████████████████████████| 88/88 [00:30<00:00,  2.86it/s, D Loss=0.6849, G Loss=2.7275, Rec Loss=0.0664]\n"
     ]
    },
    {
     "name": "stdout",
     "output_type": "stream",
     "text": [
      "Checkpoint saved at epoch 910\n"
     ]
    },
    {
     "name": "stderr",
     "output_type": "stream",
     "text": [
      "Epoch 911/1000: 100%|████████████████████████████████████████████████████████████████████████████████████████████████████████████| 88/88 [00:31<00:00,  2.82it/s, D Loss=0.8343, G Loss=2.8709, Rec Loss=0.0570]\n"
     ]
    },
    {
     "name": "stdout",
     "output_type": "stream",
     "text": [
      "Checkpoint saved at epoch 911\n"
     ]
    },
    {
     "name": "stderr",
     "output_type": "stream",
     "text": [
      "Epoch 912/1000: 100%|████████████████████████████████████████████████████████████████████████████████████████████████████████████| 88/88 [00:32<00:00,  2.75it/s, D Loss=0.2876, G Loss=5.3013, Rec Loss=0.0651]\n"
     ]
    },
    {
     "name": "stdout",
     "output_type": "stream",
     "text": [
      "Checkpoint saved at epoch 912\n"
     ]
    },
    {
     "name": "stderr",
     "output_type": "stream",
     "text": [
      "Epoch 913/1000: 100%|████████████████████████████████████████████████████████████████████████████████████████████████████████████| 88/88 [00:31<00:00,  2.81it/s, D Loss=0.5653, G Loss=4.5843, Rec Loss=0.0682]\n"
     ]
    },
    {
     "name": "stdout",
     "output_type": "stream",
     "text": [
      "Checkpoint saved at epoch 913\n"
     ]
    },
    {
     "name": "stderr",
     "output_type": "stream",
     "text": [
      "Epoch 914/1000: 100%|████████████████████████████████████████████████████████████████████████████████████████████████████████████| 88/88 [00:31<00:00,  2.79it/s, D Loss=0.7072, G Loss=3.0828, Rec Loss=0.0768]\n"
     ]
    },
    {
     "name": "stdout",
     "output_type": "stream",
     "text": [
      "Checkpoint saved at epoch 914\n"
     ]
    },
    {
     "name": "stderr",
     "output_type": "stream",
     "text": [
      "Epoch 915/1000: 100%|████████████████████████████████████████████████████████████████████████████████████████████████████████████| 88/88 [00:34<00:00,  2.57it/s, D Loss=1.0844, G Loss=2.8709, Rec Loss=0.0589]\n"
     ]
    },
    {
     "name": "stdout",
     "output_type": "stream",
     "text": [
      "Additional checkpoint saved at checkpoints/DisasterGAN_epoch915.pth\n",
      "Checkpoint saved at epoch 915\n"
     ]
    },
    {
     "name": "stderr",
     "output_type": "stream",
     "text": [
      "Epoch 916/1000: 100%|████████████████████████████████████████████████████████████████████████████████████████████████████████████| 88/88 [00:32<00:00,  2.70it/s, D Loss=0.9542, G Loss=3.2631, Rec Loss=0.0837]\n"
     ]
    },
    {
     "name": "stdout",
     "output_type": "stream",
     "text": [
      "Checkpoint saved at epoch 916\n"
     ]
    },
    {
     "name": "stderr",
     "output_type": "stream",
     "text": [
      "Epoch 917/1000: 100%|████████████████████████████████████████████████████████████████████████████████████████████████████████████| 88/88 [00:31<00:00,  2.75it/s, D Loss=0.7808, G Loss=2.2527, Rec Loss=0.0606]\n"
     ]
    },
    {
     "name": "stdout",
     "output_type": "stream",
     "text": [
      "Checkpoint saved at epoch 917\n"
     ]
    },
    {
     "name": "stderr",
     "output_type": "stream",
     "text": [
      "Epoch 918/1000: 100%|████████████████████████████████████████████████████████████████████████████████████████████████████████████| 88/88 [00:30<00:00,  2.86it/s, D Loss=0.7752, G Loss=2.9562, Rec Loss=0.0609]\n"
     ]
    },
    {
     "name": "stdout",
     "output_type": "stream",
     "text": [
      "Checkpoint saved at epoch 918\n"
     ]
    },
    {
     "name": "stderr",
     "output_type": "stream",
     "text": [
      "Epoch 919/1000: 100%|████████████████████████████████████████████████████████████████████████████████████████████████████████████| 88/88 [00:31<00:00,  2.79it/s, D Loss=0.8458, G Loss=3.0073, Rec Loss=0.0693]\n"
     ]
    },
    {
     "name": "stdout",
     "output_type": "stream",
     "text": [
      "Checkpoint saved at epoch 919\n"
     ]
    },
    {
     "name": "stderr",
     "output_type": "stream",
     "text": [
      "Epoch 920/1000: 100%|████████████████████████████████████████████████████████████████████████████████████████████████████████████| 88/88 [00:31<00:00,  2.83it/s, D Loss=0.5035, G Loss=3.8522, Rec Loss=0.0774]\n"
     ]
    },
    {
     "name": "stdout",
     "output_type": "stream",
     "text": [
      "Checkpoint saved at epoch 920\n"
     ]
    },
    {
     "name": "stderr",
     "output_type": "stream",
     "text": [
      "Epoch 921/1000: 100%|████████████████████████████████████████████████████████████████████████████████████████████████████████████| 88/88 [00:32<00:00,  2.71it/s, D Loss=0.6711, G Loss=3.3315, Rec Loss=0.0789]\n"
     ]
    },
    {
     "name": "stdout",
     "output_type": "stream",
     "text": [
      "Checkpoint saved at epoch 921\n"
     ]
    },
    {
     "name": "stderr",
     "output_type": "stream",
     "text": [
      "Epoch 922/1000: 100%|████████████████████████████████████████████████████████████████████████████████████████████████████████████| 88/88 [00:31<00:00,  2.80it/s, D Loss=0.8842, G Loss=2.2824, Rec Loss=0.0523]\n"
     ]
    },
    {
     "name": "stdout",
     "output_type": "stream",
     "text": [
      "Checkpoint saved at epoch 922\n"
     ]
    },
    {
     "name": "stderr",
     "output_type": "stream",
     "text": [
      "Epoch 923/1000: 100%|████████████████████████████████████████████████████████████████████████████████████████████████████████████| 88/88 [00:31<00:00,  2.83it/s, D Loss=0.7998, G Loss=2.8061, Rec Loss=0.0655]\n"
     ]
    },
    {
     "name": "stdout",
     "output_type": "stream",
     "text": [
      "Checkpoint saved at epoch 923\n"
     ]
    },
    {
     "name": "stderr",
     "output_type": "stream",
     "text": [
      "Epoch 924/1000: 100%|████████████████████████████████████████████████████████████████████████████████████████████████████████████| 88/88 [00:30<00:00,  2.86it/s, D Loss=0.7475, G Loss=2.5710, Rec Loss=0.0567]\n"
     ]
    },
    {
     "name": "stdout",
     "output_type": "stream",
     "text": [
      "Checkpoint saved at epoch 924\n"
     ]
    },
    {
     "name": "stderr",
     "output_type": "stream",
     "text": [
      "Epoch 925/1000: 100%|████████████████████████████████████████████████████████████████████████████████████████████████████████████| 88/88 [00:30<00:00,  2.88it/s, D Loss=0.6706, G Loss=3.1568, Rec Loss=0.0621]\n"
     ]
    },
    {
     "name": "stdout",
     "output_type": "stream",
     "text": [
      "Checkpoint saved at epoch 925\n"
     ]
    },
    {
     "name": "stderr",
     "output_type": "stream",
     "text": [
      "Epoch 926/1000: 100%|████████████████████████████████████████████████████████████████████████████████████████████████████████████| 88/88 [00:29<00:00,  2.96it/s, D Loss=0.8745, G Loss=2.8194, Rec Loss=0.0678]\n"
     ]
    },
    {
     "name": "stdout",
     "output_type": "stream",
     "text": [
      "Checkpoint saved at epoch 926\n"
     ]
    },
    {
     "name": "stderr",
     "output_type": "stream",
     "text": [
      "Epoch 927/1000: 100%|████████████████████████████████████████████████████████████████████████████████████████████████████████████| 88/88 [00:30<00:00,  2.86it/s, D Loss=0.9086, G Loss=2.4482, Rec Loss=0.0606]\n"
     ]
    },
    {
     "name": "stdout",
     "output_type": "stream",
     "text": [
      "Checkpoint saved at epoch 927\n"
     ]
    },
    {
     "name": "stderr",
     "output_type": "stream",
     "text": [
      "Epoch 928/1000: 100%|████████████████████████████████████████████████████████████████████████████████████████████████████████████| 88/88 [00:32<00:00,  2.70it/s, D Loss=0.8417, G Loss=2.6993, Rec Loss=0.0547]\n"
     ]
    },
    {
     "name": "stdout",
     "output_type": "stream",
     "text": [
      "Checkpoint saved at epoch 928\n"
     ]
    },
    {
     "name": "stderr",
     "output_type": "stream",
     "text": [
      "Epoch 929/1000: 100%|████████████████████████████████████████████████████████████████████████████████████████████████████████████| 88/88 [00:31<00:00,  2.80it/s, D Loss=0.8868, G Loss=2.1696, Rec Loss=0.0562]\n"
     ]
    },
    {
     "name": "stdout",
     "output_type": "stream",
     "text": [
      "Checkpoint saved at epoch 929\n"
     ]
    },
    {
     "name": "stderr",
     "output_type": "stream",
     "text": [
      "Epoch 930/1000: 100%|████████████████████████████████████████████████████████████████████████████████████████████████████████████| 88/88 [00:33<00:00,  2.64it/s, D Loss=0.9655, G Loss=2.6142, Rec Loss=0.0589]\n"
     ]
    },
    {
     "name": "stdout",
     "output_type": "stream",
     "text": [
      "Additional checkpoint saved at checkpoints/DisasterGAN_epoch930.pth\n",
      "Checkpoint saved at epoch 930\n"
     ]
    },
    {
     "name": "stderr",
     "output_type": "stream",
     "text": [
      "Epoch 931/1000: 100%|████████████████████████████████████████████████████████████████████████████████████████████████████████████| 88/88 [00:34<00:00,  2.55it/s, D Loss=0.5499, G Loss=4.1163, Rec Loss=0.0563]\n"
     ]
    },
    {
     "name": "stdout",
     "output_type": "stream",
     "text": [
      "Checkpoint saved at epoch 931\n"
     ]
    },
    {
     "name": "stderr",
     "output_type": "stream",
     "text": [
      "Epoch 932/1000: 100%|████████████████████████████████████████████████████████████████████████████████████████████████████████████| 88/88 [00:31<00:00,  2.83it/s, D Loss=0.8364, G Loss=3.2225, Rec Loss=0.0574]\n"
     ]
    },
    {
     "name": "stdout",
     "output_type": "stream",
     "text": [
      "Checkpoint saved at epoch 932\n"
     ]
    },
    {
     "name": "stderr",
     "output_type": "stream",
     "text": [
      "Epoch 933/1000: 100%|████████████████████████████████████████████████████████████████████████████████████████████████████████████| 88/88 [00:33<00:00,  2.59it/s, D Loss=0.8619, G Loss=2.7867, Rec Loss=0.0678]\n"
     ]
    },
    {
     "name": "stdout",
     "output_type": "stream",
     "text": [
      "Checkpoint saved at epoch 933\n"
     ]
    },
    {
     "name": "stderr",
     "output_type": "stream",
     "text": [
      "Epoch 934/1000: 100%|████████████████████████████████████████████████████████████████████████████████████████████████████████████| 88/88 [00:31<00:00,  2.79it/s, D Loss=0.8464, G Loss=2.8340, Rec Loss=0.0604]\n"
     ]
    },
    {
     "name": "stdout",
     "output_type": "stream",
     "text": [
      "Checkpoint saved at epoch 934\n"
     ]
    },
    {
     "name": "stderr",
     "output_type": "stream",
     "text": [
      "Epoch 935/1000: 100%|████████████████████████████████████████████████████████████████████████████████████████████████████████████| 88/88 [00:30<00:00,  2.91it/s, D Loss=0.9142, G Loss=3.6881, Rec Loss=0.0636]\n"
     ]
    },
    {
     "name": "stdout",
     "output_type": "stream",
     "text": [
      "Checkpoint saved at epoch 935\n"
     ]
    },
    {
     "name": "stderr",
     "output_type": "stream",
     "text": [
      "Epoch 936/1000: 100%|████████████████████████████████████████████████████████████████████████████████████████████████████████████| 88/88 [00:30<00:00,  2.85it/s, D Loss=1.0691, G Loss=3.4861, Rec Loss=0.0646]\n"
     ]
    },
    {
     "name": "stdout",
     "output_type": "stream",
     "text": [
      "Checkpoint saved at epoch 936\n"
     ]
    },
    {
     "name": "stderr",
     "output_type": "stream",
     "text": [
      "Epoch 937/1000: 100%|████████████████████████████████████████████████████████████████████████████████████████████████████████████| 88/88 [00:32<00:00,  2.75it/s, D Loss=0.9317, G Loss=2.6690, Rec Loss=0.0663]\n"
     ]
    },
    {
     "name": "stdout",
     "output_type": "stream",
     "text": [
      "Checkpoint saved at epoch 937\n"
     ]
    },
    {
     "name": "stderr",
     "output_type": "stream",
     "text": [
      "Epoch 938/1000: 100%|████████████████████████████████████████████████████████████████████████████████████████████████████████████| 88/88 [00:29<00:00,  2.96it/s, D Loss=0.8931, G Loss=3.0970, Rec Loss=0.0610]\n"
     ]
    },
    {
     "name": "stdout",
     "output_type": "stream",
     "text": [
      "Checkpoint saved at epoch 938\n"
     ]
    },
    {
     "name": "stderr",
     "output_type": "stream",
     "text": [
      "Epoch 939/1000: 100%|████████████████████████████████████████████████████████████████████████████████████████████████████████████| 88/88 [00:34<00:00,  2.57it/s, D Loss=0.9226, G Loss=2.4648, Rec Loss=0.0680]\n"
     ]
    },
    {
     "name": "stdout",
     "output_type": "stream",
     "text": [
      "Checkpoint saved at epoch 939\n"
     ]
    },
    {
     "name": "stderr",
     "output_type": "stream",
     "text": [
      "Epoch 940/1000: 100%|████████████████████████████████████████████████████████████████████████████████████████████████████████████| 88/88 [00:30<00:00,  2.86it/s, D Loss=0.4217, G Loss=4.8869, Rec Loss=0.0721]\n"
     ]
    },
    {
     "name": "stdout",
     "output_type": "stream",
     "text": [
      "Checkpoint saved at epoch 940\n"
     ]
    },
    {
     "name": "stderr",
     "output_type": "stream",
     "text": [
      "Epoch 941/1000: 100%|████████████████████████████████████████████████████████████████████████████████████████████████████████████| 88/88 [00:30<00:00,  2.84it/s, D Loss=0.7083, G Loss=3.2324, Rec Loss=0.0582]\n"
     ]
    },
    {
     "name": "stdout",
     "output_type": "stream",
     "text": [
      "Checkpoint saved at epoch 941\n"
     ]
    },
    {
     "name": "stderr",
     "output_type": "stream",
     "text": [
      "Epoch 942/1000: 100%|████████████████████████████████████████████████████████████████████████████████████████████████████████████| 88/88 [00:29<00:00,  2.96it/s, D Loss=0.8191, G Loss=2.8626, Rec Loss=0.0642]\n"
     ]
    },
    {
     "name": "stdout",
     "output_type": "stream",
     "text": [
      "Checkpoint saved at epoch 942\n"
     ]
    },
    {
     "name": "stderr",
     "output_type": "stream",
     "text": [
      "Epoch 943/1000: 100%|████████████████████████████████████████████████████████████████████████████████████████████████████████████| 88/88 [00:32<00:00,  2.73it/s, D Loss=0.8551, G Loss=2.8656, Rec Loss=0.0547]\n"
     ]
    },
    {
     "name": "stdout",
     "output_type": "stream",
     "text": [
      "Checkpoint saved at epoch 943\n"
     ]
    },
    {
     "name": "stderr",
     "output_type": "stream",
     "text": [
      "Epoch 944/1000: 100%|████████████████████████████████████████████████████████████████████████████████████████████████████████████| 88/88 [00:31<00:00,  2.79it/s, D Loss=0.9860, G Loss=2.8448, Rec Loss=0.0643]\n"
     ]
    },
    {
     "name": "stdout",
     "output_type": "stream",
     "text": [
      "Checkpoint saved at epoch 944\n"
     ]
    },
    {
     "name": "stderr",
     "output_type": "stream",
     "text": [
      "Epoch 945/1000: 100%|████████████████████████████████████████████████████████████████████████████████████████████████████████████| 88/88 [00:31<00:00,  2.81it/s, D Loss=0.9607, G Loss=2.0623, Rec Loss=0.0565]\n"
     ]
    },
    {
     "name": "stdout",
     "output_type": "stream",
     "text": [
      "Additional checkpoint saved at checkpoints/DisasterGAN_epoch945.pth\n",
      "Checkpoint saved at epoch 945\n"
     ]
    },
    {
     "name": "stderr",
     "output_type": "stream",
     "text": [
      "Epoch 946/1000: 100%|████████████████████████████████████████████████████████████████████████████████████████████████████████████| 88/88 [00:30<00:00,  2.86it/s, D Loss=0.7849, G Loss=2.6541, Rec Loss=0.0571]\n"
     ]
    },
    {
     "name": "stdout",
     "output_type": "stream",
     "text": [
      "Checkpoint saved at epoch 946\n"
     ]
    },
    {
     "name": "stderr",
     "output_type": "stream",
     "text": [
      "Epoch 947/1000: 100%|████████████████████████████████████████████████████████████████████████████████████████████████████████████| 88/88 [00:32<00:00,  2.71it/s, D Loss=0.8879, G Loss=2.7186, Rec Loss=0.0579]\n"
     ]
    },
    {
     "name": "stdout",
     "output_type": "stream",
     "text": [
      "Checkpoint saved at epoch 947\n"
     ]
    },
    {
     "name": "stderr",
     "output_type": "stream",
     "text": [
      "Epoch 948/1000: 100%|████████████████████████████████████████████████████████████████████████████████████████████████████████████| 88/88 [00:33<00:00,  2.65it/s, D Loss=0.8962, G Loss=2.8362, Rec Loss=0.0617]\n"
     ]
    },
    {
     "name": "stdout",
     "output_type": "stream",
     "text": [
      "Checkpoint saved at epoch 948\n"
     ]
    },
    {
     "name": "stderr",
     "output_type": "stream",
     "text": [
      "Epoch 949/1000: 100%|████████████████████████████████████████████████████████████████████████████████████████████████████████████| 88/88 [00:34<00:00,  2.58it/s, D Loss=1.0071, G Loss=2.0354, Rec Loss=0.0566]\n"
     ]
    },
    {
     "name": "stdout",
     "output_type": "stream",
     "text": [
      "Checkpoint saved at epoch 949\n"
     ]
    },
    {
     "name": "stderr",
     "output_type": "stream",
     "text": [
      "Epoch 950/1000: 100%|████████████████████████████████████████████████████████████████████████████████████████████████████████████| 88/88 [00:33<00:00,  2.66it/s, D Loss=1.0626, G Loss=2.2122, Rec Loss=0.0605]\n"
     ]
    },
    {
     "name": "stdout",
     "output_type": "stream",
     "text": [
      "Checkpoint saved at epoch 950\n"
     ]
    },
    {
     "name": "stderr",
     "output_type": "stream",
     "text": [
      "Epoch 951/1000: 100%|████████████████████████████████████████████████████████████████████████████████████████████████████████████| 88/88 [00:32<00:00,  2.73it/s, D Loss=1.0476, G Loss=3.0088, Rec Loss=0.0632]\n"
     ]
    },
    {
     "name": "stdout",
     "output_type": "stream",
     "text": [
      "Checkpoint saved at epoch 951\n"
     ]
    },
    {
     "name": "stderr",
     "output_type": "stream",
     "text": [
      "Epoch 952/1000: 100%|████████████████████████████████████████████████████████████████████████████████████████████████████████████| 88/88 [00:32<00:00,  2.72it/s, D Loss=0.3973, G Loss=4.0466, Rec Loss=0.0757]\n"
     ]
    },
    {
     "name": "stdout",
     "output_type": "stream",
     "text": [
      "Checkpoint saved at epoch 952\n"
     ]
    },
    {
     "name": "stderr",
     "output_type": "stream",
     "text": [
      "Epoch 953/1000: 100%|████████████████████████████████████████████████████████████████████████████████████████████████████████████| 88/88 [00:34<00:00,  2.58it/s, D Loss=0.5673, G Loss=3.5090, Rec Loss=0.0726]\n"
     ]
    },
    {
     "name": "stdout",
     "output_type": "stream",
     "text": [
      "Checkpoint saved at epoch 953\n"
     ]
    },
    {
     "name": "stderr",
     "output_type": "stream",
     "text": [
      "Epoch 954/1000: 100%|████████████████████████████████████████████████████████████████████████████████████████████████████████████| 88/88 [00:32<00:00,  2.68it/s, D Loss=0.3064, G Loss=4.6950, Rec Loss=0.0657]\n"
     ]
    },
    {
     "name": "stdout",
     "output_type": "stream",
     "text": [
      "Checkpoint saved at epoch 954\n"
     ]
    },
    {
     "name": "stderr",
     "output_type": "stream",
     "text": [
      "Epoch 955/1000: 100%|████████████████████████████████████████████████████████████████████████████████████████████████████████████| 88/88 [00:33<00:00,  2.63it/s, D Loss=0.5215, G Loss=3.0091, Rec Loss=0.0629]\n"
     ]
    },
    {
     "name": "stdout",
     "output_type": "stream",
     "text": [
      "Checkpoint saved at epoch 955\n"
     ]
    },
    {
     "name": "stderr",
     "output_type": "stream",
     "text": [
      "Epoch 956/1000: 100%|████████████████████████████████████████████████████████████████████████████████████████████████████████████| 88/88 [00:32<00:00,  2.74it/s, D Loss=0.5810, G Loss=3.6475, Rec Loss=0.0582]\n"
     ]
    },
    {
     "name": "stdout",
     "output_type": "stream",
     "text": [
      "Checkpoint saved at epoch 956\n"
     ]
    },
    {
     "name": "stderr",
     "output_type": "stream",
     "text": [
      "Epoch 957/1000: 100%|████████████████████████████████████████████████████████████████████████████████████████████████████████████| 88/88 [00:34<00:00,  2.53it/s, D Loss=2.1799, G Loss=3.1361, Rec Loss=0.0694]\n"
     ]
    },
    {
     "name": "stdout",
     "output_type": "stream",
     "text": [
      "Checkpoint saved at epoch 957\n"
     ]
    },
    {
     "name": "stderr",
     "output_type": "stream",
     "text": [
      "Epoch 958/1000: 100%|████████████████████████████████████████████████████████████████████████████████████████████████████████████| 88/88 [00:31<00:00,  2.83it/s, D Loss=0.9534, G Loss=2.7690, Rec Loss=0.0634]\n"
     ]
    },
    {
     "name": "stdout",
     "output_type": "stream",
     "text": [
      "Checkpoint saved at epoch 958\n"
     ]
    },
    {
     "name": "stderr",
     "output_type": "stream",
     "text": [
      "Epoch 959/1000: 100%|████████████████████████████████████████████████████████████████████████████████████████████████████████████| 88/88 [00:32<00:00,  2.74it/s, D Loss=0.8528, G Loss=2.8345, Rec Loss=0.0682]\n"
     ]
    },
    {
     "name": "stdout",
     "output_type": "stream",
     "text": [
      "Checkpoint saved at epoch 959\n"
     ]
    },
    {
     "name": "stderr",
     "output_type": "stream",
     "text": [
      "Epoch 960/1000: 100%|████████████████████████████████████████████████████████████████████████████████████████████████████████████| 88/88 [00:32<00:00,  2.74it/s, D Loss=0.6348, G Loss=3.5885, Rec Loss=0.0666]\n"
     ]
    },
    {
     "name": "stdout",
     "output_type": "stream",
     "text": [
      "Additional checkpoint saved at checkpoints/DisasterGAN_epoch960.pth\n",
      "Checkpoint saved at epoch 960\n"
     ]
    },
    {
     "name": "stderr",
     "output_type": "stream",
     "text": [
      "Epoch 961/1000: 100%|████████████████████████████████████████████████████████████████████████████████████████████████████████████| 88/88 [00:34<00:00,  2.56it/s, D Loss=0.7900, G Loss=2.8420, Rec Loss=0.0679]\n"
     ]
    },
    {
     "name": "stdout",
     "output_type": "stream",
     "text": [
      "Checkpoint saved at epoch 961\n"
     ]
    },
    {
     "name": "stderr",
     "output_type": "stream",
     "text": [
      "Epoch 962/1000: 100%|████████████████████████████████████████████████████████████████████████████████████████████████████████████| 88/88 [00:31<00:00,  2.77it/s, D Loss=0.7540, G Loss=2.9240, Rec Loss=0.0555]\n"
     ]
    },
    {
     "name": "stdout",
     "output_type": "stream",
     "text": [
      "Checkpoint saved at epoch 962\n"
     ]
    },
    {
     "name": "stderr",
     "output_type": "stream",
     "text": [
      "Epoch 963/1000: 100%|████████████████████████████████████████████████████████████████████████████████████████████████████████████| 88/88 [00:31<00:00,  2.79it/s, D Loss=0.9114, G Loss=2.1449, Rec Loss=0.0608]\n"
     ]
    },
    {
     "name": "stdout",
     "output_type": "stream",
     "text": [
      "Checkpoint saved at epoch 963\n"
     ]
    },
    {
     "name": "stderr",
     "output_type": "stream",
     "text": [
      "Epoch 964/1000: 100%|████████████████████████████████████████████████████████████████████████████████████████████████████████████| 88/88 [00:32<00:00,  2.70it/s, D Loss=0.8437, G Loss=2.7639, Rec Loss=0.0610]\n"
     ]
    },
    {
     "name": "stdout",
     "output_type": "stream",
     "text": [
      "Checkpoint saved at epoch 964\n"
     ]
    },
    {
     "name": "stderr",
     "output_type": "stream",
     "text": [
      "Epoch 965/1000: 100%|████████████████████████████████████████████████████████████████████████████████████████████████████████████| 88/88 [00:32<00:00,  2.74it/s, D Loss=0.9530, G Loss=2.8987, Rec Loss=0.0649]\n"
     ]
    },
    {
     "name": "stdout",
     "output_type": "stream",
     "text": [
      "Checkpoint saved at epoch 965\n"
     ]
    },
    {
     "name": "stderr",
     "output_type": "stream",
     "text": [
      "Epoch 966/1000: 100%|████████████████████████████████████████████████████████████████████████████████████████████████████████████| 88/88 [00:31<00:00,  2.80it/s, D Loss=0.9690, G Loss=2.3466, Rec Loss=0.0588]\n"
     ]
    },
    {
     "name": "stdout",
     "output_type": "stream",
     "text": [
      "Checkpoint saved at epoch 966\n"
     ]
    },
    {
     "name": "stderr",
     "output_type": "stream",
     "text": [
      "Epoch 967/1000: 100%|████████████████████████████████████████████████████████████████████████████████████████████████████████████| 88/88 [00:31<00:00,  2.76it/s, D Loss=0.8556, G Loss=2.1826, Rec Loss=0.0489]\n"
     ]
    },
    {
     "name": "stdout",
     "output_type": "stream",
     "text": [
      "Checkpoint saved at epoch 967\n"
     ]
    },
    {
     "name": "stderr",
     "output_type": "stream",
     "text": [
      "Epoch 968/1000: 100%|████████████████████████████████████████████████████████████████████████████████████████████████████████████| 88/88 [00:31<00:00,  2.82it/s, D Loss=0.8904, G Loss=2.8490, Rec Loss=0.0529]\n"
     ]
    },
    {
     "name": "stdout",
     "output_type": "stream",
     "text": [
      "Checkpoint saved at epoch 968\n"
     ]
    },
    {
     "name": "stderr",
     "output_type": "stream",
     "text": [
      "Epoch 969/1000: 100%|████████████████████████████████████████████████████████████████████████████████████████████████████████████| 88/88 [00:35<00:00,  2.48it/s, D Loss=0.8595, G Loss=2.4392, Rec Loss=0.0463]\n"
     ]
    },
    {
     "name": "stdout",
     "output_type": "stream",
     "text": [
      "Checkpoint saved at epoch 969\n"
     ]
    },
    {
     "name": "stderr",
     "output_type": "stream",
     "text": [
      "Epoch 970/1000: 100%|████████████████████████████████████████████████████████████████████████████████████████████████████████████| 88/88 [00:35<00:00,  2.51it/s, D Loss=0.9132, G Loss=2.4368, Rec Loss=0.0563]\n"
     ]
    },
    {
     "name": "stdout",
     "output_type": "stream",
     "text": [
      "Checkpoint saved at epoch 970\n"
     ]
    },
    {
     "name": "stderr",
     "output_type": "stream",
     "text": [
      "Epoch 971/1000: 100%|████████████████████████████████████████████████████████████████████████████████████████████████████████████| 88/88 [00:33<00:00,  2.60it/s, D Loss=1.0145, G Loss=2.7668, Rec Loss=0.0533]\n"
     ]
    },
    {
     "name": "stdout",
     "output_type": "stream",
     "text": [
      "Checkpoint saved at epoch 971\n"
     ]
    },
    {
     "name": "stderr",
     "output_type": "stream",
     "text": [
      "Epoch 972/1000: 100%|████████████████████████████████████████████████████████████████████████████████████████████████████████████| 88/88 [00:31<00:00,  2.76it/s, D Loss=0.8447, G Loss=2.6542, Rec Loss=0.0615]\n"
     ]
    },
    {
     "name": "stdout",
     "output_type": "stream",
     "text": [
      "Checkpoint saved at epoch 972\n"
     ]
    },
    {
     "name": "stderr",
     "output_type": "stream",
     "text": [
      "Epoch 973/1000: 100%|████████████████████████████████████████████████████████████████████████████████████████████████████████████| 88/88 [00:32<00:00,  2.73it/s, D Loss=0.8583, G Loss=2.8617, Rec Loss=0.0590]\n"
     ]
    },
    {
     "name": "stdout",
     "output_type": "stream",
     "text": [
      "Checkpoint saved at epoch 973\n"
     ]
    },
    {
     "name": "stderr",
     "output_type": "stream",
     "text": [
      "Epoch 974/1000: 100%|████████████████████████████████████████████████████████████████████████████████████████████████████████████| 88/88 [00:34<00:00,  2.57it/s, D Loss=0.9989, G Loss=2.9311, Rec Loss=0.0540]\n"
     ]
    },
    {
     "name": "stdout",
     "output_type": "stream",
     "text": [
      "Checkpoint saved at epoch 974\n"
     ]
    },
    {
     "name": "stderr",
     "output_type": "stream",
     "text": [
      "Epoch 975/1000: 100%|████████████████████████████████████████████████████████████████████████████████████████████████████████████| 88/88 [00:32<00:00,  2.67it/s, D Loss=0.9635, G Loss=2.8563, Rec Loss=0.0565]\n"
     ]
    },
    {
     "name": "stdout",
     "output_type": "stream",
     "text": [
      "Additional checkpoint saved at checkpoints/DisasterGAN_epoch975.pth\n",
      "Checkpoint saved at epoch 975\n"
     ]
    },
    {
     "name": "stderr",
     "output_type": "stream",
     "text": [
      "Epoch 976/1000: 100%|████████████████████████████████████████████████████████████████████████████████████████████████████████████| 88/88 [00:33<00:00,  2.66it/s, D Loss=0.8213, G Loss=2.6054, Rec Loss=0.0547]\n"
     ]
    },
    {
     "name": "stdout",
     "output_type": "stream",
     "text": [
      "Checkpoint saved at epoch 976\n"
     ]
    },
    {
     "name": "stderr",
     "output_type": "stream",
     "text": [
      "Epoch 977/1000: 100%|████████████████████████████████████████████████████████████████████████████████████████████████████████████| 88/88 [00:32<00:00,  2.70it/s, D Loss=0.9849, G Loss=3.7578, Rec Loss=0.0650]\n"
     ]
    },
    {
     "name": "stdout",
     "output_type": "stream",
     "text": [
      "Checkpoint saved at epoch 977\n"
     ]
    },
    {
     "name": "stderr",
     "output_type": "stream",
     "text": [
      "Epoch 978/1000: 100%|████████████████████████████████████████████████████████████████████████████████████████████████████████████| 88/88 [00:32<00:00,  2.67it/s, D Loss=0.9817, G Loss=3.1970, Rec Loss=0.0570]\n"
     ]
    },
    {
     "name": "stdout",
     "output_type": "stream",
     "text": [
      "Checkpoint saved at epoch 978\n"
     ]
    },
    {
     "name": "stderr",
     "output_type": "stream",
     "text": [
      "Epoch 979/1000: 100%|████████████████████████████████████████████████████████████████████████████████████████████████████████████| 88/88 [00:32<00:00,  2.73it/s, D Loss=1.0202, G Loss=2.3492, Rec Loss=0.0595]\n"
     ]
    },
    {
     "name": "stdout",
     "output_type": "stream",
     "text": [
      "Checkpoint saved at epoch 979\n"
     ]
    },
    {
     "name": "stderr",
     "output_type": "stream",
     "text": [
      "Epoch 980/1000: 100%|████████████████████████████████████████████████████████████████████████████████████████████████████████████| 88/88 [00:31<00:00,  2.81it/s, D Loss=1.1103, G Loss=3.5124, Rec Loss=0.0631]\n"
     ]
    },
    {
     "name": "stdout",
     "output_type": "stream",
     "text": [
      "Checkpoint saved at epoch 980\n"
     ]
    },
    {
     "name": "stderr",
     "output_type": "stream",
     "text": [
      "Epoch 981/1000: 100%|████████████████████████████████████████████████████████████████████████████████████████████████████████████| 88/88 [00:32<00:00,  2.72it/s, D Loss=0.5430, G Loss=4.5656, Rec Loss=0.0851]\n"
     ]
    },
    {
     "name": "stdout",
     "output_type": "stream",
     "text": [
      "Checkpoint saved at epoch 981\n"
     ]
    },
    {
     "name": "stderr",
     "output_type": "stream",
     "text": [
      "Epoch 982/1000: 100%|████████████████████████████████████████████████████████████████████████████████████████████████████████████| 88/88 [00:33<00:00,  2.64it/s, D Loss=0.4444, G Loss=3.9428, Rec Loss=0.0643]\n"
     ]
    },
    {
     "name": "stdout",
     "output_type": "stream",
     "text": [
      "Checkpoint saved at epoch 982\n"
     ]
    },
    {
     "name": "stderr",
     "output_type": "stream",
     "text": [
      "Epoch 983/1000: 100%|████████████████████████████████████████████████████████████████████████████████████████████████████████████| 88/88 [00:34<00:00,  2.59it/s, D Loss=0.5572, G Loss=3.3728, Rec Loss=0.0729]\n"
     ]
    },
    {
     "name": "stdout",
     "output_type": "stream",
     "text": [
      "Checkpoint saved at epoch 983\n"
     ]
    },
    {
     "name": "stderr",
     "output_type": "stream",
     "text": [
      "Epoch 984/1000: 100%|████████████████████████████████████████████████████████████████████████████████████████████████████████████| 88/88 [00:31<00:00,  2.81it/s, D Loss=0.5297, G Loss=3.6178, Rec Loss=0.0767]\n"
     ]
    },
    {
     "name": "stdout",
     "output_type": "stream",
     "text": [
      "Checkpoint saved at epoch 984\n"
     ]
    },
    {
     "name": "stderr",
     "output_type": "stream",
     "text": [
      "Epoch 985/1000: 100%|████████████████████████████████████████████████████████████████████████████████████████████████████████████| 88/88 [00:32<00:00,  2.71it/s, D Loss=0.6204, G Loss=3.3057, Rec Loss=0.0617]\n"
     ]
    },
    {
     "name": "stdout",
     "output_type": "stream",
     "text": [
      "Checkpoint saved at epoch 985\n"
     ]
    },
    {
     "name": "stderr",
     "output_type": "stream",
     "text": [
      "Epoch 986/1000: 100%|████████████████████████████████████████████████████████████████████████████████████████████████████████████| 88/88 [00:31<00:00,  2.82it/s, D Loss=0.8624, G Loss=3.2268, Rec Loss=0.0672]\n"
     ]
    },
    {
     "name": "stdout",
     "output_type": "stream",
     "text": [
      "Checkpoint saved at epoch 986\n"
     ]
    },
    {
     "name": "stderr",
     "output_type": "stream",
     "text": [
      "Epoch 987/1000: 100%|████████████████████████████████████████████████████████████████████████████████████████████████████████████| 88/88 [00:31<00:00,  2.78it/s, D Loss=0.7536, G Loss=3.5381, Rec Loss=0.0688]\n"
     ]
    },
    {
     "name": "stdout",
     "output_type": "stream",
     "text": [
      "Checkpoint saved at epoch 987\n"
     ]
    },
    {
     "name": "stderr",
     "output_type": "stream",
     "text": [
      "Epoch 988/1000: 100%|████████████████████████████████████████████████████████████████████████████████████████████████████████████| 88/88 [00:33<00:00,  2.64it/s, D Loss=0.9489, G Loss=2.4096, Rec Loss=0.0521]\n"
     ]
    },
    {
     "name": "stdout",
     "output_type": "stream",
     "text": [
      "Checkpoint saved at epoch 988\n"
     ]
    },
    {
     "name": "stderr",
     "output_type": "stream",
     "text": [
      "Epoch 989/1000: 100%|████████████████████████████████████████████████████████████████████████████████████████████████████████████| 88/88 [00:34<00:00,  2.56it/s, D Loss=1.3432, G Loss=4.4150, Rec Loss=0.0565]\n"
     ]
    },
    {
     "name": "stdout",
     "output_type": "stream",
     "text": [
      "Checkpoint saved at epoch 989\n"
     ]
    },
    {
     "name": "stderr",
     "output_type": "stream",
     "text": [
      "Epoch 990/1000: 100%|████████████████████████████████████████████████████████████████████████████████████████████████████████████| 88/88 [00:32<00:00,  2.71it/s, D Loss=0.9763, G Loss=3.0786, Rec Loss=0.0554]\n"
     ]
    },
    {
     "name": "stdout",
     "output_type": "stream",
     "text": [
      "Additional checkpoint saved at checkpoints/DisasterGAN_epoch990.pth\n",
      "Checkpoint saved at epoch 990\n"
     ]
    },
    {
     "name": "stderr",
     "output_type": "stream",
     "text": [
      "Epoch 991/1000: 100%|████████████████████████████████████████████████████████████████████████████████████████████████████████████| 88/88 [00:32<00:00,  2.73it/s, D Loss=0.9676, G Loss=2.6764, Rec Loss=0.0584]\n"
     ]
    },
    {
     "name": "stdout",
     "output_type": "stream",
     "text": [
      "Checkpoint saved at epoch 991\n"
     ]
    },
    {
     "name": "stderr",
     "output_type": "stream",
     "text": [
      "Epoch 992/1000: 100%|████████████████████████████████████████████████████████████████████████████████████████████████████████████| 88/88 [00:32<00:00,  2.73it/s, D Loss=0.8841, G Loss=2.9401, Rec Loss=0.0673]\n"
     ]
    },
    {
     "name": "stdout",
     "output_type": "stream",
     "text": [
      "Checkpoint saved at epoch 992\n"
     ]
    },
    {
     "name": "stderr",
     "output_type": "stream",
     "text": [
      "Epoch 993/1000: 100%|████████████████████████████████████████████████████████████████████████████████████████████████████████████| 88/88 [00:32<00:00,  2.68it/s, D Loss=0.8974, G Loss=3.0124, Rec Loss=0.0590]\n"
     ]
    },
    {
     "name": "stdout",
     "output_type": "stream",
     "text": [
      "Checkpoint saved at epoch 993\n"
     ]
    },
    {
     "name": "stderr",
     "output_type": "stream",
     "text": [
      "Epoch 994/1000: 100%|████████████████████████████████████████████████████████████████████████████████████████████████████████████| 88/88 [00:34<00:00,  2.58it/s, D Loss=0.8684, G Loss=3.2592, Rec Loss=0.0498]\n"
     ]
    },
    {
     "name": "stdout",
     "output_type": "stream",
     "text": [
      "Checkpoint saved at epoch 994\n"
     ]
    },
    {
     "name": "stderr",
     "output_type": "stream",
     "text": [
      "Epoch 995/1000: 100%|████████████████████████████████████████████████████████████████████████████████████████████████████████████| 88/88 [00:32<00:00,  2.68it/s, D Loss=0.8698, G Loss=2.8412, Rec Loss=0.0583]\n"
     ]
    },
    {
     "name": "stdout",
     "output_type": "stream",
     "text": [
      "Checkpoint saved at epoch 995\n"
     ]
    },
    {
     "name": "stderr",
     "output_type": "stream",
     "text": [
      "Epoch 996/1000: 100%|████████████████████████████████████████████████████████████████████████████████████████████████████████████| 88/88 [00:30<00:00,  2.90it/s, D Loss=0.9730, G Loss=2.4673, Rec Loss=0.0623]\n"
     ]
    },
    {
     "name": "stdout",
     "output_type": "stream",
     "text": [
      "Checkpoint saved at epoch 996\n"
     ]
    },
    {
     "name": "stderr",
     "output_type": "stream",
     "text": [
      "Epoch 997/1000: 100%|████████████████████████████████████████████████████████████████████████████████████████████████████████████| 88/88 [00:32<00:00,  2.67it/s, D Loss=0.4936, G Loss=4.9642, Rec Loss=0.0786]\n"
     ]
    },
    {
     "name": "stdout",
     "output_type": "stream",
     "text": [
      "Checkpoint saved at epoch 997\n"
     ]
    },
    {
     "name": "stderr",
     "output_type": "stream",
     "text": [
      "Epoch 998/1000: 100%|████████████████████████████████████████████████████████████████████████████████████████████████████████████| 88/88 [00:31<00:00,  2.79it/s, D Loss=0.7517, G Loss=3.2389, Rec Loss=0.0620]\n"
     ]
    },
    {
     "name": "stdout",
     "output_type": "stream",
     "text": [
      "Checkpoint saved at epoch 998\n"
     ]
    },
    {
     "name": "stderr",
     "output_type": "stream",
     "text": [
      "Epoch 999/1000: 100%|████████████████████████████████████████████████████████████████████████████████████████████████████████████| 88/88 [00:32<00:00,  2.67it/s, D Loss=0.7759, G Loss=3.2789, Rec Loss=0.0627]\n"
     ]
    },
    {
     "name": "stdout",
     "output_type": "stream",
     "text": [
      "Checkpoint saved at epoch 999\n"
     ]
    },
    {
     "name": "stderr",
     "output_type": "stream",
     "text": [
      "Epoch 1000/1000: 100%|███████████████████████████████████████████████████████████████████████████████████████████████████████████| 88/88 [00:33<00:00,  2.65it/s, D Loss=0.5574, G Loss=3.5045, Rec Loss=0.0671]\n"
     ]
    },
    {
     "name": "stdout",
     "output_type": "stream",
     "text": [
      "Checkpoint saved at epoch 1000\n"
     ]
    }
   ],
   "source": [
    "args = SimpleNamespace(\n",
    "        csv_file='./hold_metadata.csv',\n",
    "        img_dir='./tier1/images/',\n",
    "        epochs=1000,\n",
    "        batch_size=32,\n",
    "        lr=0.0002,\n",
    "    )\n",
    "train(args)"
   ]
  },
  {
   "cell_type": "code",
   "execution_count": null,
   "id": "843a183c-6d7c-49dc-b8db-595a864ca09b",
   "metadata": {},
   "outputs": [],
   "source": []
  }
 ],
 "metadata": {
  "kernelspec": {
   "display_name": "My Custom Env",
   "language": "python",
   "name": "pytorch_env"
  },
  "language_info": {
   "codemirror_mode": {
    "name": "ipython",
    "version": 3
   },
   "file_extension": ".py",
   "mimetype": "text/x-python",
   "name": "python",
   "nbconvert_exporter": "python",
   "pygments_lexer": "ipython3",
   "version": "3.12.9"
  }
 },
 "nbformat": 4,
 "nbformat_minor": 5
}
