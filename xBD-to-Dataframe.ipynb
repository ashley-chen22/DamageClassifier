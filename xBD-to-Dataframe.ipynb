{
 "cells": [
  {
   "cell_type": "code",
   "execution_count": 1,
   "metadata": {},
   "outputs": [
    {
     "name": "stderr",
     "output_type": "stream",
     "text": [
      "2025-04-15 20:36:44.277124: I tensorflow/core/platform/cpu_feature_guard.cc:210] This TensorFlow binary is optimized to use available CPU instructions in performance-critical operations.\n",
      "To enable the following instructions: AVX2 FMA, in other operations, rebuild TensorFlow with the appropriate compiler flags.\n"
     ]
    }
   ],
   "source": [
    "import tensorflow as tf\n",
    "import numpy as np\n",
    "import torch\n",
    "import torch.nn as nn\n",
    "import os\n",
    "from torch.utils.data import Dataset, DataLoader\n",
    "from PIL import Image, ImageDraw\n",
    "import torchvision.transforms as transforms\n",
    "import tifffile\n",
    "import json\n",
    "from shapely import wkt\n",
    "import pandas as pd\n",
    "import torch.nn.functional as F"
   ]
  },
  {
   "cell_type": "code",
   "execution_count": 2,
   "metadata": {},
   "outputs": [],
   "source": [
    "image_dir = '/Users/ashleychen/Downloads/geotiffs/hold/images'\n",
    "label_dir = '/Users/ashleychen/Downloads/geotiffs/hold/labels'"
   ]
  },
  {
   "cell_type": "code",
   "execution_count": 7,
   "metadata": {},
   "outputs": [],
   "source": [
    "\n",
    "def extract_metadata(image_dir, label_dir, output_csv=\"full_metadata.csv\"):\n",
    "    image_filenames = sorted(os.listdir(image_dir))\n",
    "    label_filenames = sorted(os.listdir(label_dir))\n",
    "\n",
    "    data = []\n",
    "\n",
    "    for img_name, label_name in zip(image_filenames, label_filenames):\n",
    "        base_name = img_name.replace(\".tif\", \"\")\n",
    "        parts = base_name.split(\"_\")\n",
    "\n",
    "        if len(parts) >= 4:\n",
    "            first = parts[0]\n",
    "            first_split = first.split(\"-\")\n",
    "            if first_split[0] == \"hurricane\":\n",
    "                disaster_type = \"hurricane\"\n",
    "            else:\n",
    "                disaster_type = first_split[-1]\n",
    "            stage = parts[2]\n",
    "        else:\n",
    "            disaster_type = \"\"\n",
    "            stage = \"\"\n",
    "\n",
    "        label_path = os.path.join(label_dir, label_name)\n",
    "        with open(label_path, 'r') as f:\n",
    "            label_data = json.load(f)\n",
    "\n",
    "        features = label_data.get(\"features\", {}).get(\"lng_lat\", [])\n",
    "        for feature in features:\n",
    "            props = feature.get(\"properties\", {})\n",
    "            feature_type = props.get(\"feature_type\", \"\")\n",
    "            subtype = props.get(\"subtype\", \"\")\n",
    "            uid = props.get(\"uid\", \"\")\n",
    "            wkt_str = feature.get(\"wkt\", \"\")\n",
    "            try:\n",
    "                polygon = wkt.loads(wkt_str)\n",
    "                bbox = polygon.bounds  # (minx, miny, maxx, maxy)\n",
    "                centroid = polygon.centroid.coords[0]\n",
    "            except:\n",
    "                bbox = (None, None, None, None)\n",
    "                centroid = (None, None)\n",
    "\n",
    "            data.append({\n",
    "                \"image_filename\": img_name,\n",
    "                \"label_filename\": label_name,\n",
    "                \"stage\": stage,\n",
    "                \"disaster_type\": disaster_type,\n",
    "                \"feature_type\": feature_type,\n",
    "                \"subtype\": subtype,\n",
    "                \"uid\": uid,\n",
    "                \"wkt\": wkt_str,\n",
    "                \"bbox_minx\": bbox[0],\n",
    "                \"bbox_miny\": bbox[1],\n",
    "                \"bbox_maxx\": bbox[2],\n",
    "                \"bbox_maxy\": bbox[3],\n",
    "                \"centroid_x\": centroid[0],\n",
    "                \"centroid_y\": centroid[1]\n",
    "            })\n",
    "    df = pd.DataFrame(data)\n",
    "    return df"
   ]
  },
  {
   "cell_type": "code",
   "execution_count": 8,
   "metadata": {},
   "outputs": [
    {
     "name": "stdout",
     "output_type": "stream",
     "text": [
      "                                 image_filename  \\\n",
      "0  guatemala-volcano_00000004_post_disaster.tif   \n",
      "1  guatemala-volcano_00000004_post_disaster.tif   \n",
      "2  guatemala-volcano_00000004_post_disaster.tif   \n",
      "3  guatemala-volcano_00000004_post_disaster.tif   \n",
      "4  guatemala-volcano_00000004_post_disaster.tif   \n",
      "\n",
      "                                  label_filename stage disaster_type  \\\n",
      "0  guatemala-volcano_00000004_post_disaster.json  post       volcano   \n",
      "1  guatemala-volcano_00000004_post_disaster.json  post       volcano   \n",
      "2  guatemala-volcano_00000004_post_disaster.json  post       volcano   \n",
      "3  guatemala-volcano_00000004_post_disaster.json  post       volcano   \n",
      "4  guatemala-volcano_00000004_post_disaster.json  post       volcano   \n",
      "\n",
      "  feature_type       subtype                                   uid  \\\n",
      "0     building  major-damage  104d384e-412b-4a72-8361-3c6c75cafdf0   \n",
      "1     building  major-damage  9badd81e-16bf-4406-b8ad-9cb50a208011   \n",
      "2     building  major-damage  ea0cde31-1b8c-4951-ad5c-8f7bdd5b23e5   \n",
      "3     building  major-damage  bb2e4a7e-01d2-4224-b47a-5ac5e0ab43b1   \n",
      "4     building  major-damage  b5c70ab4-9560-44b6-9109-1510c809d7ab   \n",
      "\n",
      "                                                 wkt  bbox_minx  bbox_miny  \\\n",
      "0  POLYGON ((-90.832067814151 14.42973661152615, ... -90.832245  14.429587   \n",
      "1  POLYGON ((-90.83252997708334 14.42954147154196... -90.832530  14.429412   \n",
      "2  POLYGON ((-90.83271668377375 14.42913614244135... -90.833045  14.428228   \n",
      "3  POLYGON ((-90.83257627161643 14.42910496831328... -90.832576  14.429015   \n",
      "4  POLYGON ((-90.83235446609405 14.4287720935799,... -90.832355  14.428769   \n",
      "\n",
      "   bbox_maxx  bbox_maxy  centroid_x  centroid_y  \n",
      "0 -90.831981  14.429738  -90.832110   14.429674  \n",
      "1 -90.832309  14.429623  -90.832425   14.429517  \n",
      "2 -90.832534  14.429168  -90.832833   14.428702  \n",
      "3 -90.832383  14.429196  -90.832481   14.429106  \n",
      "4 -90.832273  14.428838  -90.832314   14.428804  \n"
     ]
    }
   ],
   "source": [
    "df = extract_metadata(image_dir, label_dir)\n",
    "print(df.head())\n",
    "\n",
    "df.to_csv(\"hold_metadata.csv\", index=False)"
   ]
  }
 ],
 "metadata": {
  "kernelspec": {
   "display_name": "base",
   "language": "python",
   "name": "python3"
  },
  "language_info": {
   "codemirror_mode": {
    "name": "ipython",
    "version": 3
   },
   "file_extension": ".py",
   "mimetype": "text/x-python",
   "name": "python",
   "nbconvert_exporter": "python",
   "pygments_lexer": "ipython3",
   "version": "3.11.5 (main, Sep 11 2023, 08:19:27) [Clang 14.0.6 ]"
  },
  "orig_nbformat": 4,
  "vscode": {
   "interpreter": {
    "hash": "6b606232894312858dfedcbddaaa9a588838a8d3d5566ee72dff526b5f24a253"
   }
  }
 },
 "nbformat": 4,
 "nbformat_minor": 2
}
