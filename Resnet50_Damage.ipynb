{
 "cells": [
  {
   "cell_type": "code",
   "execution_count": 2,
   "id": "15d7fde1-e06d-4027-a8af-9828cef8a908",
   "metadata": {},
   "outputs": [],
   "source": [
    "import os\n",
    "import pandas as pd\n",
    "import numpy as np\n",
    "from PIL import Image\n",
    "from sklearn.model_selection import train_test_split\n",
    "import torch\n",
    "import torch.nn as nn\n",
    "import torch.optim as optim\n",
    "from torch.utils.data import Dataset, DataLoader\n",
    "from torchvision import transforms, models\n",
    "from tqdm.auto import tqdm\n",
    "from sklearn.metrics import confusion_matrix\n",
    "import seaborn as sns"
   ]
  },
  {
   "cell_type": "code",
   "execution_count": 3,
   "id": "5e44ec6e-84b3-453b-be33-f1461b8735c7",
   "metadata": {},
   "outputs": [],
   "source": [
    "subtype_labels = {\n",
    "    'no-damage': 0,\n",
    "    'minor-damage': 1,\n",
    "    'major-damage': 2,\n",
    "    'destroyed': 3\n",
    "}\n"
   ]
  },
  {
   "cell_type": "code",
   "execution_count": 4,
   "id": "dc78b036-f326-48d9-9e19-d969959e6790",
   "metadata": {},
   "outputs": [
    {
     "name": "stdout",
     "output_type": "stream",
     "text": [
      "Total images with subtype: 115417\n",
      "subtype\n",
      "no-damage       83824\n",
      "minor-damage    11543\n",
      "major-damage    10071\n",
      "destroyed        9979\n",
      "Name: count, dtype: int64\n"
     ]
    }
   ],
   "source": [
    "# Load CSV metadata\n",
    "metadata_df = pd.read_csv('building_polygons_metadata.csv')\n",
    "\n",
    "# Filter for post-disaster images with a valid subtype\n",
    "post_disaster_df = metadata_df.loc[\n",
    "    (metadata_df['stage'] == 'post') & \n",
    "    (metadata_df['subtype'].isin(subtype_labels))\n",
    "].copy()\n",
    "\n",
    "# Assign integer label for subtype\n",
    "post_disaster_df['subtype_label'] = post_disaster_df['subtype'].map(subtype_labels)\n",
    "\n",
    "# Build image path\n",
    "image_dir = 'cropped_square_buildings'\n",
    "post_disaster_df['image_path'] = post_disaster_df.apply(\n",
    "    lambda row: os.path.join(image_dir, f\"{row['uid']}_{row['stage']}.png\"), axis=1\n",
    ")\n",
    "\n",
    "# Keep only rows where the image file exists\n",
    "post_disaster_df = post_disaster_df[post_disaster_df['image_path'].apply(os.path.isfile)]\n",
    "\n",
    "print(f\"Total images with subtype: {len(post_disaster_df)}\")\n",
    "print(post_disaster_df['subtype'].value_counts())\n"
   ]
  },
  {
   "cell_type": "code",
   "execution_count": 5,
   "id": "982dc92b-3ee8-4698-a92b-cf4772aab2a9",
   "metadata": {},
   "outputs": [
    {
     "name": "stdout",
     "output_type": "stream",
     "text": [
      "Train: 80791, Val: 17313, Test: 17313\n"
     ]
    }
   ],
   "source": [
    "train_df, temp_df = train_test_split(\n",
    "    post_disaster_df, test_size=0.3, random_state=42, stratify=post_disaster_df['subtype_label']\n",
    ")\n",
    "val_df, test_df = train_test_split(\n",
    "    temp_df, test_size=0.5, random_state=42, stratify=temp_df['subtype_label']\n",
    ")\n",
    "print(f\"Train: {len(train_df)}, Val: {len(val_df)}, Test: {len(test_df)}\")\n"
   ]
  },
  {
   "cell_type": "code",
   "execution_count": 6,
   "id": "a4f23533-4479-4bb2-8b43-eea2755cdfd6",
   "metadata": {},
   "outputs": [],
   "source": [
    "class SubtypeImageDataset(Dataset):\n",
    "    def __init__(self, dataframe, transform=None):\n",
    "        self.dataframe = dataframe.reset_index(drop=True)\n",
    "        self.transform = transform\n",
    "        \n",
    "    def __len__(self):\n",
    "        return len(self.dataframe)\n",
    "    \n",
    "    def __getitem__(self, idx):\n",
    "        row = self.dataframe.iloc[idx]\n",
    "        image = Image.open(row['image_path']).convert('RGB')\n",
    "        label = row['subtype_label']\n",
    "        if self.transform:\n",
    "            image = self.transform(image)\n",
    "        return image, label\n"
   ]
  },
  {
   "cell_type": "code",
   "execution_count": 7,
   "id": "15483797-3dc9-44ec-8248-d89c45f0ce3f",
   "metadata": {},
   "outputs": [],
   "source": [
    "img_size = 224\n",
    "train_transform = transforms.Compose([\n",
    "    transforms.Resize((img_size, img_size)),\n",
    "    transforms.RandomHorizontalFlip(),\n",
    "    transforms.RandomRotation(10),\n",
    "    transforms.ToTensor(),\n",
    "    transforms.Normalize([0.485, 0.456, 0.406], [0.229, 0.224, 0.225])\n",
    "])\n",
    "val_test_transform = transforms.Compose([\n",
    "    transforms.Resize((img_size, img_size)),\n",
    "    transforms.ToTensor(),\n",
    "    transforms.Normalize([0.485, 0.456, 0.406], [0.229, 0.224, 0.225])\n",
    "])\n",
    "\n",
    "train_dataset = SubtypeImageDataset(train_df, transform=train_transform)\n",
    "val_dataset = SubtypeImageDataset(val_df, transform=val_test_transform)\n",
    "test_dataset = SubtypeImageDataset(test_df, transform=val_test_transform)\n",
    "\n",
    "train_loader = DataLoader(train_dataset, batch_size=32, shuffle=True, num_workers=4, pin_memory=True)\n",
    "val_loader = DataLoader(val_dataset, batch_size=32, shuffle=False, num_workers=4, pin_memory=True)\n",
    "test_loader = DataLoader(test_dataset, batch_size=32, shuffle=False, num_workers=4, pin_memory=True)\n"
   ]
  },
  {
   "cell_type": "code",
   "execution_count": 8,
   "id": "9d3a4dd3-0a2d-4b1b-8a65-8e9368870ec1",
   "metadata": {},
   "outputs": [
    {
     "name": "stdout",
     "output_type": "stream",
     "text": [
      "Using device: cuda\n"
     ]
    }
   ],
   "source": [
    "device = torch.device('cuda' if torch.cuda.is_available() else 'cpu')\n",
    "print(f\"Using device: {device}\")\n",
    "\n",
    "model = models.resnet50(weights='IMAGENET1K_V1')\n",
    "num_ftrs = model.fc.in_features\n",
    "model.fc = nn.Linear(num_ftrs, 4)  # 4 subtypes\n",
    "model = model.to(device)\n"
   ]
  },
  {
   "cell_type": "code",
   "execution_count": 9,
   "id": "75c72404-58c7-4f91-90b1-4e1328f7483d",
   "metadata": {},
   "outputs": [],
   "source": [
    "criterion = nn.CrossEntropyLoss()\n",
    "optimizer = optim.Adam(model.parameters(), lr=1e-3)\n"
   ]
  },
  {
   "cell_type": "code",
   "execution_count": null,
   "id": "d5784fc3-4c9a-4678-b50e-d982b09706de",
   "metadata": {},
   "outputs": [],
   "source": [
    "def train_model(model, train_loader, val_loader, criterion, optimizer, num_epochs=10, save_path='best_subtype_model.pth'):\n",
    "    best_val_acc = 0.0\n",
    "    history = {'train_loss': [], 'train_acc': [], 'val_loss': [], 'val_acc': []}\n",
    "    epoch_pbar = tqdm(range(num_epochs), desc=\"Training Progress\", unit=\"epoch\", leave=True)\n",
    "\n",
    "    for epoch in epoch_pbar:\n",
    "        model.train()\n",
    "        running_loss = 0.0\n",
    "        running_corrects = 0\n",
    "        batch_pbar = tqdm(train_loader, desc=f'Epoch {epoch+1}/{num_epochs} [Training]', leave=False, unit=\"batch\")\n",
    "        for inputs, labels in batch_pbar:\n",
    "            inputs = inputs.to(device)\n",
    "            labels = labels.to(device)\n",
    "            optimizer.zero_grad()\n",
    "            outputs = model(inputs)\n",
    "            _, preds = torch.max(outputs, 1)\n",
    "            loss = criterion(outputs, labels)\n",
    "            loss.backward()\n",
    "            optimizer.step()\n",
    "            running_loss += loss.item() * inputs.size(0)\n",
    "            running_corrects += torch.sum(preds == labels.data)\n",
    "            batch_pbar.set_postfix({\n",
    "                'loss': f\"{loss.item():.4f}\",\n",
    "                'acc': f\"{torch.sum(preds == labels.data).item()/inputs.size(0):.2%}\"\n",
    "            })\n",
    "        epoch_loss = running_loss / len(train_loader.dataset)\n",
    "        epoch_acc = running_corrects.double() / len(train_loader.dataset)\n",
    "        history['train_loss'].append(epoch_loss)\n",
    "        history['train_acc'].append(epoch_acc.item())\n",
    "\n",
    "        # Validation\n",
    "        model.eval()\n",
    "        val_running_loss = 0.0\n",
    "        val_running_corrects = 0\n",
    "        with torch.no_grad():\n",
    "            for inputs, labels in val_loader:\n",
    "                inputs = inputs.to(device)\n",
    "                labels = labels.to(device)\n",
    "                outputs = model(inputs)\n",
    "                _, preds = torch.max(outputs, 1)\n",
    "                loss = criterion(outputs, labels)\n",
    "                val_running_loss += loss.item() * inputs.size(0)\n",
    "                val_running_corrects += torch.sum(preds == labels.data)\n",
    "        val_epoch_loss = val_running_loss / len(val_loader.dataset)\n",
    "        val_epoch_acc = val_running_corrects.double() / len(val_loader.dataset)\n",
    "        history['val_loss'].append(val_epoch_loss)\n",
    "        history['val_acc'].append(val_epoch_acc.item())\n",
    "        epoch_pbar.set_postfix({\n",
    "            'train_loss': f\"{epoch_loss:.4f}\",\n",
    "            'train_acc': f\"{epoch_acc:.2%}\",\n",
    "            'val_loss': f\"{val_epoch_loss:.4f}\",\n",
    "            'val_acc': f\"{val_epoch_acc:.2%}\"\n",
    "        })\n",
    "        if val_epoch_acc > best_val_acc:\n",
    "            best_val_acc = val_epoch_acc\n",
    "            try:\n",
    "                torch.save(model.state_dict(), save_path)\n",
    "                tqdm.write(f\"Model saved to {save_path} at epoch {epoch+1}\")\n",
    "            except Exception as e:\n",
    "                tqdm.write(f\"Warning: Could not save model at epoch {epoch+1}: {e}\")\n",
    "\n",
    "    tqdm.write(\"Training complete.\")\n",
    "    return model, history\n",
    "\n",
    "# Train\n",
    "model, history = train_model(model, train_loader, val_loader, criterion, optimizer, num_epochs=15)\n"
   ]
  },
  {
   "cell_type": "code",
   "execution_count": null,
   "id": "a1518af0-6875-447f-b32a-a993b81f1f19",
   "metadata": {},
   "outputs": [],
   "source": [
    "# Load best model\n",
    "model.load_state_dict(torch.load('best_subtype_model.pth'))\n",
    "\n",
    "def evaluate_model(model, test_loader):\n",
    "    model.eval()\n",
    "    test_corrects = 0\n",
    "    all_preds = []\n",
    "    all_labels = []\n",
    "    with torch.no_grad():\n",
    "        for inputs, labels in tqdm(test_loader, desc=\"Evaluating on test set\", unit=\"batch\"):\n",
    "            inputs = inputs.to(device)\n",
    "            labels = labels.to(device)\n",
    "            outputs = model(inputs)\n",
    "            _, preds = torch.max(outputs, 1)\n",
    "            test_corrects += torch.sum(preds == labels.data)\n",
    "            all_preds.extend(preds.cpu().numpy())\n",
    "            all_labels.extend(labels.cpu().numpy())\n",
    "    test_acc = test_corrects.double() / len(test_loader.dataset)\n",
    "    print(f'Test Accuracy: {test_acc:.4f}')\n",
    "    return test_acc, all_preds, all_labels\n",
    "\n",
    "test_accuracy, predictions, true_labels = evaluate_model(model, test_loader)\n"
   ]
  },
  {
   "cell_type": "code",
   "execution_count": null,
   "id": "08e2c40c-82bc-40ac-98b5-65af87436062",
   "metadata": {},
   "outputs": [],
   "source": [
    "# Plot training history\n",
    "plt.figure(figsize=(12, 4))\n",
    "plt.subplot(1, 2, 1)\n",
    "plt.plot(history['train_loss'], label='Train')\n",
    "plt.plot(history['val_loss'], label='Validation')\n",
    "plt.title('Loss')\n",
    "plt.legend()\n",
    "\n",
    "plt.subplot(1, 2, 2)\n",
    "plt.plot(history['train_acc'], label='Train')\n",
    "plt.plot(history['val_acc'], label='Validation')\n",
    "plt.title('Accuracy')\n",
    "plt.legend()\n"
   ]
  },
  {
   "cell_type": "code",
   "execution_count": null,
   "id": "1d3b4b24-819e-40b7-b0a4-5bd4647ab40b",
   "metadata": {},
   "outputs": [],
   "source": [
    "from sklearn.metrics import confusion_matrix\n",
    "import seaborn as sns\n",
    "import matplotlib.pyplot as plt\n",
    "\n",
    "class_names = list(subtype_labels.keys())\n",
    "cm = confusion_matrix(true_labels, predictions)\n",
    "plt.figure(figsize=(8, 6))\n",
    "sns.heatmap(cm, annot=True, fmt='d', cmap='Blues', xticklabels=class_names, yticklabels=class_names)\n",
    "plt.xlabel('Predicted')\n",
    "plt.ylabel('True')\n",
    "plt.title('Confusion Matrix')\n",
    "plt.show()\n"
   ]
  },
  {
   "cell_type": "code",
   "execution_count": null,
   "id": "9895bead-5b46-469f-a6fe-5a8dba9d89d0",
   "metadata": {},
   "outputs": [],
   "source": []
  }
 ],
 "metadata": {
  "kernelspec": {
   "display_name": "resnet_env",
   "language": "python",
   "name": "resnet_env"
  },
  "language_info": {
   "codemirror_mode": {
    "name": "ipython",
    "version": 3
   },
   "file_extension": ".py",
   "mimetype": "text/x-python",
   "name": "python",
   "nbconvert_exporter": "python",
   "pygments_lexer": "ipython3",
   "version": "3.12.9"
  }
 },
 "nbformat": 4,
 "nbformat_minor": 5
}
